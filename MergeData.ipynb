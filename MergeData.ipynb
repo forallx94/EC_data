{
 "metadata": {
  "language_info": {
   "codemirror_mode": {
    "name": "ipython",
    "version": 3
   },
   "file_extension": ".py",
   "mimetype": "text/x-python",
   "name": "python",
   "nbconvert_exporter": "python",
   "pygments_lexer": "ipython3",
   "version": "3.8.10"
  },
  "orig_nbformat": 2,
  "kernelspec": {
   "name": "python3810jvsc74a57bd06a20dc269b0a46d455aeec36556a714d68506684ae704a395dd325f9d89220b5",
   "display_name": "Python 3.8.10 64-bit ('chat': conda)"
  }
 },
 "nbformat": 4,
 "nbformat_minor": 2,
 "cells": [
  {
   "cell_type": "code",
   "execution_count": 1,
   "metadata": {},
   "outputs": [],
   "source": [
    "import pandas as pd\n",
    "import numpy as np\n",
    "import matplotlib.pyplot as plt"
   ]
  },
  {
   "cell_type": "code",
   "execution_count": 2,
   "metadata": {},
   "outputs": [],
   "source": [
    "df1 = pd.read_excel('./한국어_단발성_대화_데이터셋.xlsx')[['Sentence','Emotion']]"
   ]
  },
  {
   "cell_type": "code",
   "execution_count": 3,
   "metadata": {},
   "outputs": [],
   "source": [
    "df2 = pd.read_excel('./한국어_연속적_대화_데이터셋.xlsx')[['Unnamed: 0','Unnamed: 1','Unnamed: 2']]\n",
    "df2.columns = df2.iloc[0]\n",
    "df2 = df2.drop([0])\n",
    "df2['dialog #'] = df2['dialog #'].fillna(0)\n",
    "df2 = df2.dropna()./Data\n",
    "df2 = df2[['발화','감정']]\n",
    "df2.columns = ['Sentence',\t'Emotion']"
   ]
  },
  {
   "cell_type": "code",
   "execution_count": 4,
   "metadata": {},
   "outputs": [],
   "source": [
    "df4 = pd.read_csv('./감정_분류를_위한_대화_음성_데이터셋_4차.csv',encoding='CP949')\n",
    "\n",
    "emo_loc = {key:val for val,key in enumerate(df4['1번 감정'].unique())}\n",
    "loc_emo = {val:key for val,key in enumerate(df4['1번 감정'].unique())}\n",
    "\n",
    "emo_score = np.zeros((len(df4),7))\n",
    "emo = df4['1번 감정\t1번 감정세기\t2번 감정\t2번 감정세기\t3번 감정\t3번 감정세기\t4번 감정\t4번감정세기\t5번 감정\t5번 감정세기'.split('\t')]\n",
    "for num,i in emo.iterrows():\n",
    "    emo_score[num,emo_loc[i[0]]] += 1\n",
    "    emo_score[num,emo_loc[i[2]]] += 1\n",
    "    emo_score[num,emo_loc[i[4]]] += 1\n",
    "    emo_score[num,emo_loc[i[6]]] += 1\n",
    "    emo_score[num,emo_loc[i[8]]] += 1\n",
    "\n",
    "df4 = pd.DataFrame(df4[['발화문']])\n",
    "df4 ['emotion'] = [loc_emo[i] for i in emo_score.argmax(axis=1)]\n",
    "df4.columns = ['Sentence',\t'Emotion']"
   ]
  },
  {
   "cell_type": "code",
   "execution_count": 5,
   "metadata": {},
   "outputs": [],
   "source": [
    "df5 = pd.read_csv('./감정_분류를_위한_대화_음성_데이터셋_5차.csv',encoding='CP949')\n",
    "\n",
    "emo_loc = {key:val for val,key in enumerate(df5['1번 감정'].unique())}\n",
    "loc_emo = {val:key for val,key in enumerate(df5['1번 감정'].unique())}\n",
    "\n",
    "emo_score = np.zeros((len(df5),7))\n",
    "emo = df5['1번 감정\t1번 감정세기\t2번 감정\t2번 감정세기\t3번 감정\t3번 감정세기\t4번 감정\t4번감정세기\t5번 감정\t5번 감정세기'.split('\t')]\n",
    "for num,i in emo.iterrows():\n",
    "    emo_score[num,emo_loc[i[0]]] += 1\n",
    "    emo_score[num,emo_loc[i[2]]] += 1\n",
    "    emo_score[num,emo_loc[i[4]]] += 1\n",
    "    emo_score[num,emo_loc[i[6]]] += 1\n",
    "    emo_score[num,emo_loc[i[8]]] += 1\n",
    "\n",
    "df5 = pd.DataFrame(df5[['발화문']])\n",
    "df5 ['emotion'] = [loc_emo[i] for i in emo_score.argmax(axis=1)]\n",
    "df5.columns = ['Sentence',\t'Emotion']"
   ]
  },
  {
   "cell_type": "code",
   "execution_count": 6,
   "metadata": {},
   "outputs": [],
   "source": [
    "# 라벨 저장\n",
    "emo_trans = {\n",
    "    '분노':'Angry',\n",
    "    '혐오':'Disgust',\n",
    "    '중립':'Neutral',\n",
    "    '놀람':'Surprise',\n",
    "    '행복':'Happiness',\n",
    "    '공포':'Fear',\n",
    "    '슬픔':'Sadness'\n",
    "}"
   ]
  },
  {
   "cell_type": "code",
   "execution_count": 7,
   "metadata": {},
   "outputs": [
    {
     "output_type": "execute_result",
     "data": {
      "text/plain": [
       "array(['분노', '혐오', '중립', '놀람', '행복', '공포', '슬픔', 'ㅈ중립', '분ㄴ', '중림', 'ㅍ',\n",
       "       'ㄴ중립', '분', '줄'], dtype=object)"
      ]
     },
     "metadata": {},
     "execution_count": 7
    }
   ],
   "source": [
    "# df2 오류 라벨 제거 \n",
    "df2.Emotion.unique()"
   ]
  },
  {
   "cell_type": "code",
   "execution_count": 8,
   "metadata": {},
   "outputs": [
    {
     "output_type": "execute_result",
     "data": {
      "text/plain": [
       "(55621, 2)"
      ]
     },
     "metadata": {},
     "execution_count": 8
    }
   ],
   "source": [
    "df2.shape"
   ]
  },
  {
   "cell_type": "code",
   "execution_count": 9,
   "metadata": {},
   "outputs": [],
   "source": [
    "df2 = df2[[i in emo_trans.keys() for i in df2.Emotion]]"
   ]
  },
  {
   "cell_type": "code",
   "execution_count": 10,
   "metadata": {},
   "outputs": [
    {
     "output_type": "execute_result",
     "data": {
      "text/plain": [
       "(55600, 2)"
      ]
     },
     "metadata": {},
     "execution_count": 10
    }
   ],
   "source": [
    "df2.shape"
   ]
  },
  {
   "cell_type": "code",
   "execution_count": 11,
   "metadata": {},
   "outputs": [],
   "source": [
    "# 단발성, 연속성 라벨링 영문으로 변경\n",
    "df1.Emotion = [emo_trans[i] for i in df1.Emotion]\n",
    "df2.Emotion = [emo_trans[i] for i in df2.Emotion]"
   ]
  },
  {
   "cell_type": "code",
   "execution_count": 12,
   "metadata": {},
   "outputs": [
    {
     "output_type": "execute_result",
     "data": {
      "text/plain": [
       "                   Sentence Emotion\n",
       "0  언니 동생으로 부르는게 맞는 일인가요..??    Fear\n",
       "1              그냥 내 느낌일뿐겠지?    Fear\n",
       "2            아직너무초기라서 그런거죠?    Fear\n",
       "3             유치원버스 사고 낫다던데    Fear\n",
       "4               근데 원래이런거맞나요    Fear"
      ],
      "text/html": "<div>\n<style scoped>\n    .dataframe tbody tr th:only-of-type {\n        vertical-align: middle;\n    }\n\n    .dataframe tbody tr th {\n        vertical-align: top;\n    }\n\n    .dataframe thead th {\n        text-align: right;\n    }\n</style>\n<table border=\"1\" class=\"dataframe\">\n  <thead>\n    <tr style=\"text-align: right;\">\n      <th></th>\n      <th>Sentence</th>\n      <th>Emotion</th>\n    </tr>\n  </thead>\n  <tbody>\n    <tr>\n      <th>0</th>\n      <td>언니 동생으로 부르는게 맞는 일인가요..??</td>\n      <td>Fear</td>\n    </tr>\n    <tr>\n      <th>1</th>\n      <td>그냥 내 느낌일뿐겠지?</td>\n      <td>Fear</td>\n    </tr>\n    <tr>\n      <th>2</th>\n      <td>아직너무초기라서 그런거죠?</td>\n      <td>Fear</td>\n    </tr>\n    <tr>\n      <th>3</th>\n      <td>유치원버스 사고 낫다던데</td>\n      <td>Fear</td>\n    </tr>\n    <tr>\n      <th>4</th>\n      <td>근데 원래이런거맞나요</td>\n      <td>Fear</td>\n    </tr>\n  </tbody>\n</table>\n</div>"
     },
     "metadata": {},
     "execution_count": 12
    }
   ],
   "source": [
    "df1.head()"
   ]
  },
  {
   "cell_type": "code",
   "execution_count": 13,
   "metadata": {},
   "outputs": [
    {
     "output_type": "execute_result",
     "data": {
      "text/plain": [
       "                                       Sentence  Emotion\n",
       "1          아 진짜! 사무실에서 피지 말라니깐! 간접흡연이 얼마나 안좋은데!    Angry\n",
       "2  그럼 직접흡연하는 난 얼마나 안좋겠니? 안그래? 보면 꼭... 지 생각만 하고.  Disgust\n",
       "3                                       손님 왔어요.  Neutral\n",
       "4                                       손님? 누구?  Neutral\n",
       "5                                몰라요. 팀장님 친구래요.  Neutral"
      ],
      "text/html": "<div>\n<style scoped>\n    .dataframe tbody tr th:only-of-type {\n        vertical-align: middle;\n    }\n\n    .dataframe tbody tr th {\n        vertical-align: top;\n    }\n\n    .dataframe thead th {\n        text-align: right;\n    }\n</style>\n<table border=\"1\" class=\"dataframe\">\n  <thead>\n    <tr style=\"text-align: right;\">\n      <th></th>\n      <th>Sentence</th>\n      <th>Emotion</th>\n    </tr>\n  </thead>\n  <tbody>\n    <tr>\n      <th>1</th>\n      <td>아 진짜! 사무실에서 피지 말라니깐! 간접흡연이 얼마나 안좋은데!</td>\n      <td>Angry</td>\n    </tr>\n    <tr>\n      <th>2</th>\n      <td>그럼 직접흡연하는 난 얼마나 안좋겠니? 안그래? 보면 꼭... 지 생각만 하고.</td>\n      <td>Disgust</td>\n    </tr>\n    <tr>\n      <th>3</th>\n      <td>손님 왔어요.</td>\n      <td>Neutral</td>\n    </tr>\n    <tr>\n      <th>4</th>\n      <td>손님? 누구?</td>\n      <td>Neutral</td>\n    </tr>\n    <tr>\n      <th>5</th>\n      <td>몰라요. 팀장님 친구래요.</td>\n      <td>Neutral</td>\n    </tr>\n  </tbody>\n</table>\n</div>"
     },
     "metadata": {},
     "execution_count": 13
    }
   ],
   "source": [
    "df2.head()"
   ]
  },
  {
   "source": [
    "# 1. 전체 통합"
   ],
   "cell_type": "markdown",
   "metadata": {}
  },
  {
   "cell_type": "code",
   "execution_count": 14,
   "metadata": {},
   "outputs": [],
   "source": [
    "# 통합 진행\n",
    "df = pd.concat([df1,df2,df4,df5])\n",
    "df = df.sample(frac=1,random_state=42)"
   ]
  },
  {
   "cell_type": "code",
   "execution_count": 15,
   "metadata": {},
   "outputs": [
    {
     "output_type": "execute_result",
     "data": {
      "text/plain": [
       "                                                Sentence    Emotion\n",
       "25045                                              내가 왜?      Angry\n",
       "1875   헉, 너무하잖아! 하지만 뭐, 괜찮아. 나도 내내 책 읽었으니까. 너는 패션 쪽에 ...    Neutral\n",
       "15351                                                뭐?     Neutral\n",
       "3168                                                 네…!  Happiness\n",
       "7752                                              아아아...    Neutral"
      ],
      "text/html": "<div>\n<style scoped>\n    .dataframe tbody tr th:only-of-type {\n        vertical-align: middle;\n    }\n\n    .dataframe tbody tr th {\n        vertical-align: top;\n    }\n\n    .dataframe thead th {\n        text-align: right;\n    }\n</style>\n<table border=\"1\" class=\"dataframe\">\n  <thead>\n    <tr style=\"text-align: right;\">\n      <th></th>\n      <th>Sentence</th>\n      <th>Emotion</th>\n    </tr>\n  </thead>\n  <tbody>\n    <tr>\n      <th>25045</th>\n      <td>내가 왜?</td>\n      <td>Angry</td>\n    </tr>\n    <tr>\n      <th>1875</th>\n      <td>헉, 너무하잖아! 하지만 뭐, 괜찮아. 나도 내내 책 읽었으니까. 너는 패션 쪽에 ...</td>\n      <td>Neutral</td>\n    </tr>\n    <tr>\n      <th>15351</th>\n      <td>뭐?</td>\n      <td>Neutral</td>\n    </tr>\n    <tr>\n      <th>3168</th>\n      <td>네…!</td>\n      <td>Happiness</td>\n    </tr>\n    <tr>\n      <th>7752</th>\n      <td>아아아...</td>\n      <td>Neutral</td>\n    </tr>\n  </tbody>\n</table>\n</div>"
     },
     "metadata": {},
     "execution_count": 15
    }
   ],
   "source": [
    "df.head()"
   ]
  },
  {
   "cell_type": "code",
   "execution_count": 16,
   "metadata": {},
   "outputs": [],
   "source": [
    "# 데이터 저장\n",
    "df.to_excel('./감정_분류_데이터셋(전체).xlsx')"
   ]
  },
  {
   "cell_type": "code",
   "execution_count": 17,
   "metadata": {},
   "outputs": [
    {
     "output_type": "execute_result",
     "data": {
      "text/plain": [
       "(118811, 2)"
      ]
     },
     "metadata": {},
     "execution_count": 17
    }
   ],
   "source": [
    "df.shape"
   ]
  },
  {
   "cell_type": "code",
   "execution_count": 18,
   "metadata": {},
   "outputs": [
    {
     "output_type": "execute_result",
     "data": {
      "text/plain": [
       "                                                Sentence    Emotion\n",
       "25045                                              내가 왜?      Angry\n",
       "1875   헉, 너무하잖아! 하지만 뭐, 괜찮아. 나도 내내 책 읽었으니까. 너는 패션 쪽에 ...    Neutral\n",
       "15351                                                뭐?     Neutral\n",
       "3168                                                 네…!  Happiness\n",
       "7752                                              아아아...    Neutral\n",
       "33040                말씀 드렸잖아요. 우리 엄마 이혼 사건 마무리 될 때 까지요!!      Angry\n",
       "26871                    대선 끝나면 세무조사,성폭력, 명예훼손으로 머리 아프겠네    Neutral\n",
       "37284  그럼요! 대어죠, 대어! 혼자 안될거 같아서 온 집안이 도와주기로 했으니까, 오늘은...      Angry\n",
       "2203                                         병원을 갈라고 했어.    Neutral\n",
       "28932                                             나 돈 줘.    Neutral"
      ],
      "text/html": "<div>\n<style scoped>\n    .dataframe tbody tr th:only-of-type {\n        vertical-align: middle;\n    }\n\n    .dataframe tbody tr th {\n        vertical-align: top;\n    }\n\n    .dataframe thead th {\n        text-align: right;\n    }\n</style>\n<table border=\"1\" class=\"dataframe\">\n  <thead>\n    <tr style=\"text-align: right;\">\n      <th></th>\n      <th>Sentence</th>\n      <th>Emotion</th>\n    </tr>\n  </thead>\n  <tbody>\n    <tr>\n      <th>25045</th>\n      <td>내가 왜?</td>\n      <td>Angry</td>\n    </tr>\n    <tr>\n      <th>1875</th>\n      <td>헉, 너무하잖아! 하지만 뭐, 괜찮아. 나도 내내 책 읽었으니까. 너는 패션 쪽에 ...</td>\n      <td>Neutral</td>\n    </tr>\n    <tr>\n      <th>15351</th>\n      <td>뭐?</td>\n      <td>Neutral</td>\n    </tr>\n    <tr>\n      <th>3168</th>\n      <td>네…!</td>\n      <td>Happiness</td>\n    </tr>\n    <tr>\n      <th>7752</th>\n      <td>아아아...</td>\n      <td>Neutral</td>\n    </tr>\n    <tr>\n      <th>33040</th>\n      <td>말씀 드렸잖아요. 우리 엄마 이혼 사건 마무리 될 때 까지요!!</td>\n      <td>Angry</td>\n    </tr>\n    <tr>\n      <th>26871</th>\n      <td>대선 끝나면 세무조사,성폭력, 명예훼손으로 머리 아프겠네</td>\n      <td>Neutral</td>\n    </tr>\n    <tr>\n      <th>37284</th>\n      <td>그럼요! 대어죠, 대어! 혼자 안될거 같아서 온 집안이 도와주기로 했으니까, 오늘은...</td>\n      <td>Angry</td>\n    </tr>\n    <tr>\n      <th>2203</th>\n      <td>병원을 갈라고 했어.</td>\n      <td>Neutral</td>\n    </tr>\n    <tr>\n      <th>28932</th>\n      <td>나 돈 줘.</td>\n      <td>Neutral</td>\n    </tr>\n  </tbody>\n</table>\n</div>"
     },
     "metadata": {},
     "execution_count": 18
    }
   ],
   "source": [
    "df.head(10)"
   ]
  },
  {
   "cell_type": "code",
   "execution_count": 19,
   "metadata": {},
   "outputs": [
    {
     "output_type": "execute_result",
     "data": {
      "text/plain": [
       "array(['Angry', 'Neutral', 'Happiness', 'Sadness', 'Fear', 'Surprise',\n",
       "       'Disgust'], dtype=object)"
      ]
     },
     "metadata": {},
     "execution_count": 19
    }
   ],
   "source": [
    "# 7개의 감정\n",
    "df.Emotion.unique()"
   ]
  },
  {
   "cell_type": "code",
   "execution_count": 20,
   "metadata": {},
   "outputs": [
    {
     "output_type": "execute_result",
     "data": {
      "text/plain": [
       "Neutral      50673\n",
       "Sadness      20393\n",
       "Angry        15651\n",
       "Surprise     10832\n",
       "Fear          7224\n",
       "Happiness     7198\n",
       "Disgust       6840\n",
       "Name: Emotion, dtype: int64"
      ]
     },
     "metadata": {},
     "execution_count": 20
    }
   ],
   "source": [
    "# 약간의 데이터 불균형 존재\n",
    "df.Emotion.value_counts()"
   ]
  },
  {
   "cell_type": "code",
   "execution_count": 21,
   "metadata": {},
   "outputs": [
    {
     "output_type": "execute_result",
     "data": {
      "text/plain": [
       "<AxesSubplot:>"
      ]
     },
     "metadata": {},
     "execution_count": 21
    },
    {
     "output_type": "display_data",
     "data": {
      "text/plain": "<Figure size 432x288 with 1 Axes>",
      "image/svg+xml": "<?xml version=\"1.0\" encoding=\"utf-8\" standalone=\"no\"?>\r\n<!DOCTYPE svg PUBLIC \"-//W3C//DTD SVG 1.1//EN\"\r\n  \"http://www.w3.org/Graphics/SVG/1.1/DTD/svg11.dtd\">\r\n<svg height=\"290.872812pt\" version=\"1.1\" viewBox=\"0 0 388.0125 290.872812\" width=\"388.0125pt\" xmlns=\"http://www.w3.org/2000/svg\" xmlns:xlink=\"http://www.w3.org/1999/xlink\">\r\n <metadata>\r\n  <rdf:RDF xmlns:cc=\"http://creativecommons.org/ns#\" xmlns:dc=\"http://purl.org/dc/elements/1.1/\" xmlns:rdf=\"http://www.w3.org/1999/02/22-rdf-syntax-ns#\">\r\n   <cc:Work>\r\n    <dc:type rdf:resource=\"http://purl.org/dc/dcmitype/StillImage\"/>\r\n    <dc:date>2021-06-04T13:41:05.376923</dc:date>\r\n    <dc:format>image/svg+xml</dc:format>\r\n    <dc:creator>\r\n     <cc:Agent>\r\n      <dc:title>Matplotlib v3.4.2, https://matplotlib.org/</dc:title>\r\n     </cc:Agent>\r\n    </dc:creator>\r\n   </cc:Work>\r\n  </rdf:RDF>\r\n </metadata>\r\n <defs>\r\n  <style type=\"text/css\">*{stroke-linecap:butt;stroke-linejoin:round;}</style>\r\n </defs>\r\n <g id=\"figure_1\">\r\n  <g id=\"patch_1\">\r\n   <path d=\"M 0 290.872812 \r\nL 388.0125 290.872812 \r\nL 388.0125 0 \r\nL 0 0 \r\nz\r\n\" style=\"fill:none;\"/>\r\n  </g>\r\n  <g id=\"axes_1\">\r\n   <g id=\"patch_2\">\r\n    <path d=\"M 46.0125 224.64 \r\nL 380.8125 224.64 \r\nL 380.8125 7.2 \r\nL 46.0125 7.2 \r\nz\r\n\" style=\"fill:#ffffff;\"/>\r\n   </g>\r\n   <g id=\"patch_3\">\r\n    <path clip-path=\"url(#p93a4e1da1c)\" d=\"M 57.969643 224.64 \r\nL 81.883929 224.64 \r\nL 81.883929 17.554286 \r\nL 57.969643 17.554286 \r\nz\r\n\" style=\"fill:#1f77b4;\"/>\r\n   </g>\r\n   <g id=\"patch_4\">\r\n    <path clip-path=\"url(#p93a4e1da1c)\" d=\"M 105.798214 224.64 \r\nL 129.7125 224.64 \r\nL 129.7125 141.29978 \r\nL 105.798214 141.29978 \r\nz\r\n\" style=\"fill:#1f77b4;\"/>\r\n   </g>\r\n   <g id=\"patch_5\">\r\n    <path clip-path=\"url(#p93a4e1da1c)\" d=\"M 153.626786 224.64 \r\nL 177.541071 224.64 \r\nL 177.541071 160.678946 \r\nL 153.626786 160.678946 \r\nz\r\n\" style=\"fill:#1f77b4;\"/>\r\n   </g>\r\n   <g id=\"patch_6\">\r\n    <path clip-path=\"url(#p93a4e1da1c)\" d=\"M 201.455357 224.64 \r\nL 225.369643 224.64 \r\nL 225.369643 180.372788 \r\nL 201.455357 180.372788 \r\nz\r\n\" style=\"fill:#1f77b4;\"/>\r\n   </g>\r\n   <g id=\"patch_7\">\r\n    <path clip-path=\"url(#p93a4e1da1c)\" d=\"M 249.283929 224.64 \r\nL 273.198214 224.64 \r\nL 273.198214 195.117627 \r\nL 249.283929 195.117627 \r\nz\r\n\" style=\"fill:#1f77b4;\"/>\r\n   </g>\r\n   <g id=\"patch_8\">\r\n    <path clip-path=\"url(#p93a4e1da1c)\" d=\"M 297.1125 224.64 \r\nL 321.026786 224.64 \r\nL 321.026786 195.223882 \r\nL 297.1125 195.223882 \r\nz\r\n\" style=\"fill:#1f77b4;\"/>\r\n   </g>\r\n   <g id=\"patch_9\">\r\n    <path clip-path=\"url(#p93a4e1da1c)\" d=\"M 344.941071 224.64 \r\nL 368.855357 224.64 \r\nL 368.855357 196.686923 \r\nL 344.941071 196.686923 \r\nz\r\n\" style=\"fill:#1f77b4;\"/>\r\n   </g>\r\n   <g id=\"matplotlib.axis_1\">\r\n    <g id=\"xtick_1\">\r\n     <g id=\"line2d_1\">\r\n      <defs>\r\n       <path d=\"M 0 0 \r\nL 0 3.5 \r\n\" id=\"m0567500571\" style=\"stroke:#000000;stroke-width:0.8;\"/>\r\n      </defs>\r\n      <g>\r\n       <use style=\"stroke:#000000;stroke-width:0.8;\" x=\"69.926786\" xlink:href=\"#m0567500571\" y=\"224.64\"/>\r\n      </g>\r\n     </g>\r\n     <g id=\"text_1\">\r\n      <!-- Neutral -->\r\n      <g transform=\"translate(72.686161 268.549375)rotate(-90)scale(0.1 -0.1)\">\r\n       <defs>\r\n        <path d=\"M 628 4666 \r\nL 1478 4666 \r\nL 3547 763 \r\nL 3547 4666 \r\nL 4159 4666 \r\nL 4159 0 \r\nL 3309 0 \r\nL 1241 3903 \r\nL 1241 0 \r\nL 628 0 \r\nL 628 4666 \r\nz\r\n\" id=\"DejaVuSans-4e\" transform=\"scale(0.015625)\"/>\r\n        <path d=\"M 3597 1894 \r\nL 3597 1613 \r\nL 953 1613 \r\nQ 991 1019 1311 708 \r\nQ 1631 397 2203 397 \r\nQ 2534 397 2845 478 \r\nQ 3156 559 3463 722 \r\nL 3463 178 \r\nQ 3153 47 2828 -22 \r\nQ 2503 -91 2169 -91 \r\nQ 1331 -91 842 396 \r\nQ 353 884 353 1716 \r\nQ 353 2575 817 3079 \r\nQ 1281 3584 2069 3584 \r\nQ 2775 3584 3186 3129 \r\nQ 3597 2675 3597 1894 \r\nz\r\nM 3022 2063 \r\nQ 3016 2534 2758 2815 \r\nQ 2500 3097 2075 3097 \r\nQ 1594 3097 1305 2825 \r\nQ 1016 2553 972 2059 \r\nL 3022 2063 \r\nz\r\n\" id=\"DejaVuSans-65\" transform=\"scale(0.015625)\"/>\r\n        <path d=\"M 544 1381 \r\nL 544 3500 \r\nL 1119 3500 \r\nL 1119 1403 \r\nQ 1119 906 1312 657 \r\nQ 1506 409 1894 409 \r\nQ 2359 409 2629 706 \r\nQ 2900 1003 2900 1516 \r\nL 2900 3500 \r\nL 3475 3500 \r\nL 3475 0 \r\nL 2900 0 \r\nL 2900 538 \r\nQ 2691 219 2414 64 \r\nQ 2138 -91 1772 -91 \r\nQ 1169 -91 856 284 \r\nQ 544 659 544 1381 \r\nz\r\nM 1991 3584 \r\nL 1991 3584 \r\nz\r\n\" id=\"DejaVuSans-75\" transform=\"scale(0.015625)\"/>\r\n        <path d=\"M 1172 4494 \r\nL 1172 3500 \r\nL 2356 3500 \r\nL 2356 3053 \r\nL 1172 3053 \r\nL 1172 1153 \r\nQ 1172 725 1289 603 \r\nQ 1406 481 1766 481 \r\nL 2356 481 \r\nL 2356 0 \r\nL 1766 0 \r\nQ 1100 0 847 248 \r\nQ 594 497 594 1153 \r\nL 594 3053 \r\nL 172 3053 \r\nL 172 3500 \r\nL 594 3500 \r\nL 594 4494 \r\nL 1172 4494 \r\nz\r\n\" id=\"DejaVuSans-74\" transform=\"scale(0.015625)\"/>\r\n        <path d=\"M 2631 2963 \r\nQ 2534 3019 2420 3045 \r\nQ 2306 3072 2169 3072 \r\nQ 1681 3072 1420 2755 \r\nQ 1159 2438 1159 1844 \r\nL 1159 0 \r\nL 581 0 \r\nL 581 3500 \r\nL 1159 3500 \r\nL 1159 2956 \r\nQ 1341 3275 1631 3429 \r\nQ 1922 3584 2338 3584 \r\nQ 2397 3584 2469 3576 \r\nQ 2541 3569 2628 3553 \r\nL 2631 2963 \r\nz\r\n\" id=\"DejaVuSans-72\" transform=\"scale(0.015625)\"/>\r\n        <path d=\"M 2194 1759 \r\nQ 1497 1759 1228 1600 \r\nQ 959 1441 959 1056 \r\nQ 959 750 1161 570 \r\nQ 1363 391 1709 391 \r\nQ 2188 391 2477 730 \r\nQ 2766 1069 2766 1631 \r\nL 2766 1759 \r\nL 2194 1759 \r\nz\r\nM 3341 1997 \r\nL 3341 0 \r\nL 2766 0 \r\nL 2766 531 \r\nQ 2569 213 2275 61 \r\nQ 1981 -91 1556 -91 \r\nQ 1019 -91 701 211 \r\nQ 384 513 384 1019 \r\nQ 384 1609 779 1909 \r\nQ 1175 2209 1959 2209 \r\nL 2766 2209 \r\nL 2766 2266 \r\nQ 2766 2663 2505 2880 \r\nQ 2244 3097 1772 3097 \r\nQ 1472 3097 1187 3025 \r\nQ 903 2953 641 2809 \r\nL 641 3341 \r\nQ 956 3463 1253 3523 \r\nQ 1550 3584 1831 3584 \r\nQ 2591 3584 2966 3190 \r\nQ 3341 2797 3341 1997 \r\nz\r\n\" id=\"DejaVuSans-61\" transform=\"scale(0.015625)\"/>\r\n        <path d=\"M 603 4863 \r\nL 1178 4863 \r\nL 1178 0 \r\nL 603 0 \r\nL 603 4863 \r\nz\r\n\" id=\"DejaVuSans-6c\" transform=\"scale(0.015625)\"/>\r\n       </defs>\r\n       <use xlink:href=\"#DejaVuSans-4e\"/>\r\n       <use x=\"74.804688\" xlink:href=\"#DejaVuSans-65\"/>\r\n       <use x=\"136.328125\" xlink:href=\"#DejaVuSans-75\"/>\r\n       <use x=\"199.707031\" xlink:href=\"#DejaVuSans-74\"/>\r\n       <use x=\"238.916016\" xlink:href=\"#DejaVuSans-72\"/>\r\n       <use x=\"280.029297\" xlink:href=\"#DejaVuSans-61\"/>\r\n       <use x=\"341.308594\" xlink:href=\"#DejaVuSans-6c\"/>\r\n      </g>\r\n     </g>\r\n    </g>\r\n    <g id=\"xtick_2\">\r\n     <g id=\"line2d_2\">\r\n      <g>\r\n       <use style=\"stroke:#000000;stroke-width:0.8;\" x=\"117.755357\" xlink:href=\"#m0567500571\" y=\"224.64\"/>\r\n      </g>\r\n     </g>\r\n     <g id=\"text_2\">\r\n      <!-- Sadness -->\r\n      <g transform=\"translate(120.514732 273.374375)rotate(-90)scale(0.1 -0.1)\">\r\n       <defs>\r\n        <path d=\"M 3425 4513 \r\nL 3425 3897 \r\nQ 3066 4069 2747 4153 \r\nQ 2428 4238 2131 4238 \r\nQ 1616 4238 1336 4038 \r\nQ 1056 3838 1056 3469 \r\nQ 1056 3159 1242 3001 \r\nQ 1428 2844 1947 2747 \r\nL 2328 2669 \r\nQ 3034 2534 3370 2195 \r\nQ 3706 1856 3706 1288 \r\nQ 3706 609 3251 259 \r\nQ 2797 -91 1919 -91 \r\nQ 1588 -91 1214 -16 \r\nQ 841 59 441 206 \r\nL 441 856 \r\nQ 825 641 1194 531 \r\nQ 1563 422 1919 422 \r\nQ 2459 422 2753 634 \r\nQ 3047 847 3047 1241 \r\nQ 3047 1584 2836 1778 \r\nQ 2625 1972 2144 2069 \r\nL 1759 2144 \r\nQ 1053 2284 737 2584 \r\nQ 422 2884 422 3419 \r\nQ 422 4038 858 4394 \r\nQ 1294 4750 2059 4750 \r\nQ 2388 4750 2728 4690 \r\nQ 3069 4631 3425 4513 \r\nz\r\n\" id=\"DejaVuSans-53\" transform=\"scale(0.015625)\"/>\r\n        <path d=\"M 2906 2969 \r\nL 2906 4863 \r\nL 3481 4863 \r\nL 3481 0 \r\nL 2906 0 \r\nL 2906 525 \r\nQ 2725 213 2448 61 \r\nQ 2172 -91 1784 -91 \r\nQ 1150 -91 751 415 \r\nQ 353 922 353 1747 \r\nQ 353 2572 751 3078 \r\nQ 1150 3584 1784 3584 \r\nQ 2172 3584 2448 3432 \r\nQ 2725 3281 2906 2969 \r\nz\r\nM 947 1747 \r\nQ 947 1113 1208 752 \r\nQ 1469 391 1925 391 \r\nQ 2381 391 2643 752 \r\nQ 2906 1113 2906 1747 \r\nQ 2906 2381 2643 2742 \r\nQ 2381 3103 1925 3103 \r\nQ 1469 3103 1208 2742 \r\nQ 947 2381 947 1747 \r\nz\r\n\" id=\"DejaVuSans-64\" transform=\"scale(0.015625)\"/>\r\n        <path d=\"M 3513 2113 \r\nL 3513 0 \r\nL 2938 0 \r\nL 2938 2094 \r\nQ 2938 2591 2744 2837 \r\nQ 2550 3084 2163 3084 \r\nQ 1697 3084 1428 2787 \r\nQ 1159 2491 1159 1978 \r\nL 1159 0 \r\nL 581 0 \r\nL 581 3500 \r\nL 1159 3500 \r\nL 1159 2956 \r\nQ 1366 3272 1645 3428 \r\nQ 1925 3584 2291 3584 \r\nQ 2894 3584 3203 3211 \r\nQ 3513 2838 3513 2113 \r\nz\r\n\" id=\"DejaVuSans-6e\" transform=\"scale(0.015625)\"/>\r\n        <path d=\"M 2834 3397 \r\nL 2834 2853 \r\nQ 2591 2978 2328 3040 \r\nQ 2066 3103 1784 3103 \r\nQ 1356 3103 1142 2972 \r\nQ 928 2841 928 2578 \r\nQ 928 2378 1081 2264 \r\nQ 1234 2150 1697 2047 \r\nL 1894 2003 \r\nQ 2506 1872 2764 1633 \r\nQ 3022 1394 3022 966 \r\nQ 3022 478 2636 193 \r\nQ 2250 -91 1575 -91 \r\nQ 1294 -91 989 -36 \r\nQ 684 19 347 128 \r\nL 347 722 \r\nQ 666 556 975 473 \r\nQ 1284 391 1588 391 \r\nQ 1994 391 2212 530 \r\nQ 2431 669 2431 922 \r\nQ 2431 1156 2273 1281 \r\nQ 2116 1406 1581 1522 \r\nL 1381 1569 \r\nQ 847 1681 609 1914 \r\nQ 372 2147 372 2553 \r\nQ 372 3047 722 3315 \r\nQ 1072 3584 1716 3584 \r\nQ 2034 3584 2315 3537 \r\nQ 2597 3491 2834 3397 \r\nz\r\n\" id=\"DejaVuSans-73\" transform=\"scale(0.015625)\"/>\r\n       </defs>\r\n       <use xlink:href=\"#DejaVuSans-53\"/>\r\n       <use x=\"63.476562\" xlink:href=\"#DejaVuSans-61\"/>\r\n       <use x=\"124.755859\" xlink:href=\"#DejaVuSans-64\"/>\r\n       <use x=\"188.232422\" xlink:href=\"#DejaVuSans-6e\"/>\r\n       <use x=\"251.611328\" xlink:href=\"#DejaVuSans-65\"/>\r\n       <use x=\"313.134766\" xlink:href=\"#DejaVuSans-73\"/>\r\n       <use x=\"365.234375\" xlink:href=\"#DejaVuSans-73\"/>\r\n      </g>\r\n     </g>\r\n    </g>\r\n    <g id=\"xtick_3\">\r\n     <g id=\"line2d_3\">\r\n      <g>\r\n       <use style=\"stroke:#000000;stroke-width:0.8;\" x=\"165.583929\" xlink:href=\"#m0567500571\" y=\"224.64\"/>\r\n      </g>\r\n     </g>\r\n     <g id=\"text_3\">\r\n      <!-- Angry -->\r\n      <g transform=\"translate(168.343304 261.19625)rotate(-90)scale(0.1 -0.1)\">\r\n       <defs>\r\n        <path d=\"M 2188 4044 \r\nL 1331 1722 \r\nL 3047 1722 \r\nL 2188 4044 \r\nz\r\nM 1831 4666 \r\nL 2547 4666 \r\nL 4325 0 \r\nL 3669 0 \r\nL 3244 1197 \r\nL 1141 1197 \r\nL 716 0 \r\nL 50 0 \r\nL 1831 4666 \r\nz\r\n\" id=\"DejaVuSans-41\" transform=\"scale(0.015625)\"/>\r\n        <path d=\"M 2906 1791 \r\nQ 2906 2416 2648 2759 \r\nQ 2391 3103 1925 3103 \r\nQ 1463 3103 1205 2759 \r\nQ 947 2416 947 1791 \r\nQ 947 1169 1205 825 \r\nQ 1463 481 1925 481 \r\nQ 2391 481 2648 825 \r\nQ 2906 1169 2906 1791 \r\nz\r\nM 3481 434 \r\nQ 3481 -459 3084 -895 \r\nQ 2688 -1331 1869 -1331 \r\nQ 1566 -1331 1297 -1286 \r\nQ 1028 -1241 775 -1147 \r\nL 775 -588 \r\nQ 1028 -725 1275 -790 \r\nQ 1522 -856 1778 -856 \r\nQ 2344 -856 2625 -561 \r\nQ 2906 -266 2906 331 \r\nL 2906 616 \r\nQ 2728 306 2450 153 \r\nQ 2172 0 1784 0 \r\nQ 1141 0 747 490 \r\nQ 353 981 353 1791 \r\nQ 353 2603 747 3093 \r\nQ 1141 3584 1784 3584 \r\nQ 2172 3584 2450 3431 \r\nQ 2728 3278 2906 2969 \r\nL 2906 3500 \r\nL 3481 3500 \r\nL 3481 434 \r\nz\r\n\" id=\"DejaVuSans-67\" transform=\"scale(0.015625)\"/>\r\n        <path d=\"M 2059 -325 \r\nQ 1816 -950 1584 -1140 \r\nQ 1353 -1331 966 -1331 \r\nL 506 -1331 \r\nL 506 -850 \r\nL 844 -850 \r\nQ 1081 -850 1212 -737 \r\nQ 1344 -625 1503 -206 \r\nL 1606 56 \r\nL 191 3500 \r\nL 800 3500 \r\nL 1894 763 \r\nL 2988 3500 \r\nL 3597 3500 \r\nL 2059 -325 \r\nz\r\n\" id=\"DejaVuSans-79\" transform=\"scale(0.015625)\"/>\r\n       </defs>\r\n       <use xlink:href=\"#DejaVuSans-41\"/>\r\n       <use x=\"68.408203\" xlink:href=\"#DejaVuSans-6e\"/>\r\n       <use x=\"131.787109\" xlink:href=\"#DejaVuSans-67\"/>\r\n       <use x=\"195.263672\" xlink:href=\"#DejaVuSans-72\"/>\r\n       <use x=\"236.376953\" xlink:href=\"#DejaVuSans-79\"/>\r\n      </g>\r\n     </g>\r\n    </g>\r\n    <g id=\"xtick_4\">\r\n     <g id=\"line2d_4\">\r\n      <g>\r\n       <use style=\"stroke:#000000;stroke-width:0.8;\" x=\"213.4125\" xlink:href=\"#m0567500571\" y=\"224.64\"/>\r\n      </g>\r\n     </g>\r\n     <g id=\"text_4\">\r\n      <!-- Surprise -->\r\n      <g transform=\"translate(216.171875 273.036875)rotate(-90)scale(0.1 -0.1)\">\r\n       <defs>\r\n        <path d=\"M 1159 525 \r\nL 1159 -1331 \r\nL 581 -1331 \r\nL 581 3500 \r\nL 1159 3500 \r\nL 1159 2969 \r\nQ 1341 3281 1617 3432 \r\nQ 1894 3584 2278 3584 \r\nQ 2916 3584 3314 3078 \r\nQ 3713 2572 3713 1747 \r\nQ 3713 922 3314 415 \r\nQ 2916 -91 2278 -91 \r\nQ 1894 -91 1617 61 \r\nQ 1341 213 1159 525 \r\nz\r\nM 3116 1747 \r\nQ 3116 2381 2855 2742 \r\nQ 2594 3103 2138 3103 \r\nQ 1681 3103 1420 2742 \r\nQ 1159 2381 1159 1747 \r\nQ 1159 1113 1420 752 \r\nQ 1681 391 2138 391 \r\nQ 2594 391 2855 752 \r\nQ 3116 1113 3116 1747 \r\nz\r\n\" id=\"DejaVuSans-70\" transform=\"scale(0.015625)\"/>\r\n        <path d=\"M 603 3500 \r\nL 1178 3500 \r\nL 1178 0 \r\nL 603 0 \r\nL 603 3500 \r\nz\r\nM 603 4863 \r\nL 1178 4863 \r\nL 1178 4134 \r\nL 603 4134 \r\nL 603 4863 \r\nz\r\n\" id=\"DejaVuSans-69\" transform=\"scale(0.015625)\"/>\r\n       </defs>\r\n       <use xlink:href=\"#DejaVuSans-53\"/>\r\n       <use x=\"63.476562\" xlink:href=\"#DejaVuSans-75\"/>\r\n       <use x=\"126.855469\" xlink:href=\"#DejaVuSans-72\"/>\r\n       <use x=\"167.96875\" xlink:href=\"#DejaVuSans-70\"/>\r\n       <use x=\"231.445312\" xlink:href=\"#DejaVuSans-72\"/>\r\n       <use x=\"272.558594\" xlink:href=\"#DejaVuSans-69\"/>\r\n       <use x=\"300.341797\" xlink:href=\"#DejaVuSans-73\"/>\r\n       <use x=\"352.441406\" xlink:href=\"#DejaVuSans-65\"/>\r\n      </g>\r\n     </g>\r\n    </g>\r\n    <g id=\"xtick_5\">\r\n     <g id=\"line2d_5\">\r\n      <g>\r\n       <use style=\"stroke:#000000;stroke-width:0.8;\" x=\"261.241071\" xlink:href=\"#m0567500571\" y=\"224.64\"/>\r\n      </g>\r\n     </g>\r\n     <g id=\"text_5\">\r\n      <!-- Fear -->\r\n      <g transform=\"translate(264.000446 253.23375)rotate(-90)scale(0.1 -0.1)\">\r\n       <defs>\r\n        <path d=\"M 628 4666 \r\nL 3309 4666 \r\nL 3309 4134 \r\nL 1259 4134 \r\nL 1259 2759 \r\nL 3109 2759 \r\nL 3109 2228 \r\nL 1259 2228 \r\nL 1259 0 \r\nL 628 0 \r\nL 628 4666 \r\nz\r\n\" id=\"DejaVuSans-46\" transform=\"scale(0.015625)\"/>\r\n       </defs>\r\n       <use xlink:href=\"#DejaVuSans-46\"/>\r\n       <use x=\"52.019531\" xlink:href=\"#DejaVuSans-65\"/>\r\n       <use x=\"113.542969\" xlink:href=\"#DejaVuSans-61\"/>\r\n       <use x=\"174.822266\" xlink:href=\"#DejaVuSans-72\"/>\r\n      </g>\r\n     </g>\r\n    </g>\r\n    <g id=\"xtick_6\">\r\n     <g id=\"line2d_6\">\r\n      <g>\r\n       <use style=\"stroke:#000000;stroke-width:0.8;\" x=\"309.069643\" xlink:href=\"#m0567500571\" y=\"224.64\"/>\r\n      </g>\r\n     </g>\r\n     <g id=\"text_6\">\r\n      <!-- Happiness -->\r\n      <g transform=\"translate(311.829018 283.672812)rotate(-90)scale(0.1 -0.1)\">\r\n       <defs>\r\n        <path d=\"M 628 4666 \r\nL 1259 4666 \r\nL 1259 2753 \r\nL 3553 2753 \r\nL 3553 4666 \r\nL 4184 4666 \r\nL 4184 0 \r\nL 3553 0 \r\nL 3553 2222 \r\nL 1259 2222 \r\nL 1259 0 \r\nL 628 0 \r\nL 628 4666 \r\nz\r\n\" id=\"DejaVuSans-48\" transform=\"scale(0.015625)\"/>\r\n       </defs>\r\n       <use xlink:href=\"#DejaVuSans-48\"/>\r\n       <use x=\"75.195312\" xlink:href=\"#DejaVuSans-61\"/>\r\n       <use x=\"136.474609\" xlink:href=\"#DejaVuSans-70\"/>\r\n       <use x=\"199.951172\" xlink:href=\"#DejaVuSans-70\"/>\r\n       <use x=\"263.427734\" xlink:href=\"#DejaVuSans-69\"/>\r\n       <use x=\"291.210938\" xlink:href=\"#DejaVuSans-6e\"/>\r\n       <use x=\"354.589844\" xlink:href=\"#DejaVuSans-65\"/>\r\n       <use x=\"416.113281\" xlink:href=\"#DejaVuSans-73\"/>\r\n       <use x=\"468.212891\" xlink:href=\"#DejaVuSans-73\"/>\r\n      </g>\r\n     </g>\r\n    </g>\r\n    <g id=\"xtick_7\">\r\n     <g id=\"line2d_7\">\r\n      <g>\r\n       <use style=\"stroke:#000000;stroke-width:0.8;\" x=\"356.898214\" xlink:href=\"#m0567500571\" y=\"224.64\"/>\r\n      </g>\r\n     </g>\r\n     <g id=\"text_7\">\r\n      <!-- Disgust -->\r\n      <g transform=\"translate(359.657589 269.143125)rotate(-90)scale(0.1 -0.1)\">\r\n       <defs>\r\n        <path d=\"M 1259 4147 \r\nL 1259 519 \r\nL 2022 519 \r\nQ 2988 519 3436 956 \r\nQ 3884 1394 3884 2338 \r\nQ 3884 3275 3436 3711 \r\nQ 2988 4147 2022 4147 \r\nL 1259 4147 \r\nz\r\nM 628 4666 \r\nL 1925 4666 \r\nQ 3281 4666 3915 4102 \r\nQ 4550 3538 4550 2338 \r\nQ 4550 1131 3912 565 \r\nQ 3275 0 1925 0 \r\nL 628 0 \r\nL 628 4666 \r\nz\r\n\" id=\"DejaVuSans-44\" transform=\"scale(0.015625)\"/>\r\n       </defs>\r\n       <use xlink:href=\"#DejaVuSans-44\"/>\r\n       <use x=\"77.001953\" xlink:href=\"#DejaVuSans-69\"/>\r\n       <use x=\"104.785156\" xlink:href=\"#DejaVuSans-73\"/>\r\n       <use x=\"156.884766\" xlink:href=\"#DejaVuSans-67\"/>\r\n       <use x=\"220.361328\" xlink:href=\"#DejaVuSans-75\"/>\r\n       <use x=\"283.740234\" xlink:href=\"#DejaVuSans-73\"/>\r\n       <use x=\"335.839844\" xlink:href=\"#DejaVuSans-74\"/>\r\n      </g>\r\n     </g>\r\n    </g>\r\n   </g>\r\n   <g id=\"matplotlib.axis_2\">\r\n    <g id=\"ytick_1\">\r\n     <g id=\"line2d_8\">\r\n      <defs>\r\n       <path d=\"M 0 0 \r\nL -3.5 0 \r\n\" id=\"m8807546e55\" style=\"stroke:#000000;stroke-width:0.8;\"/>\r\n      </defs>\r\n      <g>\r\n       <use style=\"stroke:#000000;stroke-width:0.8;\" x=\"46.0125\" xlink:href=\"#m8807546e55\" y=\"224.64\"/>\r\n      </g>\r\n     </g>\r\n     <g id=\"text_8\">\r\n      <!-- 0 -->\r\n      <g transform=\"translate(32.65 228.439219)scale(0.1 -0.1)\">\r\n       <defs>\r\n        <path d=\"M 2034 4250 \r\nQ 1547 4250 1301 3770 \r\nQ 1056 3291 1056 2328 \r\nQ 1056 1369 1301 889 \r\nQ 1547 409 2034 409 \r\nQ 2525 409 2770 889 \r\nQ 3016 1369 3016 2328 \r\nQ 3016 3291 2770 3770 \r\nQ 2525 4250 2034 4250 \r\nz\r\nM 2034 4750 \r\nQ 2819 4750 3233 4129 \r\nQ 3647 3509 3647 2328 \r\nQ 3647 1150 3233 529 \r\nQ 2819 -91 2034 -91 \r\nQ 1250 -91 836 529 \r\nQ 422 1150 422 2328 \r\nQ 422 3509 836 4129 \r\nQ 1250 4750 2034 4750 \r\nz\r\n\" id=\"DejaVuSans-30\" transform=\"scale(0.015625)\"/>\r\n       </defs>\r\n       <use xlink:href=\"#DejaVuSans-30\"/>\r\n      </g>\r\n     </g>\r\n    </g>\r\n    <g id=\"ytick_2\">\r\n     <g id=\"line2d_9\">\r\n      <g>\r\n       <use style=\"stroke:#000000;stroke-width:0.8;\" x=\"46.0125\" xlink:href=\"#m8807546e55\" y=\"183.772928\"/>\r\n      </g>\r\n     </g>\r\n     <g id=\"text_9\">\r\n      <!-- 10000 -->\r\n      <g transform=\"translate(7.2 187.572147)scale(0.1 -0.1)\">\r\n       <defs>\r\n        <path d=\"M 794 531 \r\nL 1825 531 \r\nL 1825 4091 \r\nL 703 3866 \r\nL 703 4441 \r\nL 1819 4666 \r\nL 2450 4666 \r\nL 2450 531 \r\nL 3481 531 \r\nL 3481 0 \r\nL 794 0 \r\nL 794 531 \r\nz\r\n\" id=\"DejaVuSans-31\" transform=\"scale(0.015625)\"/>\r\n       </defs>\r\n       <use xlink:href=\"#DejaVuSans-31\"/>\r\n       <use x=\"63.623047\" xlink:href=\"#DejaVuSans-30\"/>\r\n       <use x=\"127.246094\" xlink:href=\"#DejaVuSans-30\"/>\r\n       <use x=\"190.869141\" xlink:href=\"#DejaVuSans-30\"/>\r\n       <use x=\"254.492188\" xlink:href=\"#DejaVuSans-30\"/>\r\n      </g>\r\n     </g>\r\n    </g>\r\n    <g id=\"ytick_3\">\r\n     <g id=\"line2d_10\">\r\n      <g>\r\n       <use style=\"stroke:#000000;stroke-width:0.8;\" x=\"46.0125\" xlink:href=\"#m8807546e55\" y=\"142.905856\"/>\r\n      </g>\r\n     </g>\r\n     <g id=\"text_10\">\r\n      <!-- 20000 -->\r\n      <g transform=\"translate(7.2 146.705075)scale(0.1 -0.1)\">\r\n       <defs>\r\n        <path d=\"M 1228 531 \r\nL 3431 531 \r\nL 3431 0 \r\nL 469 0 \r\nL 469 531 \r\nQ 828 903 1448 1529 \r\nQ 2069 2156 2228 2338 \r\nQ 2531 2678 2651 2914 \r\nQ 2772 3150 2772 3378 \r\nQ 2772 3750 2511 3984 \r\nQ 2250 4219 1831 4219 \r\nQ 1534 4219 1204 4116 \r\nQ 875 4013 500 3803 \r\nL 500 4441 \r\nQ 881 4594 1212 4672 \r\nQ 1544 4750 1819 4750 \r\nQ 2544 4750 2975 4387 \r\nQ 3406 4025 3406 3419 \r\nQ 3406 3131 3298 2873 \r\nQ 3191 2616 2906 2266 \r\nQ 2828 2175 2409 1742 \r\nQ 1991 1309 1228 531 \r\nz\r\n\" id=\"DejaVuSans-32\" transform=\"scale(0.015625)\"/>\r\n       </defs>\r\n       <use xlink:href=\"#DejaVuSans-32\"/>\r\n       <use x=\"63.623047\" xlink:href=\"#DejaVuSans-30\"/>\r\n       <use x=\"127.246094\" xlink:href=\"#DejaVuSans-30\"/>\r\n       <use x=\"190.869141\" xlink:href=\"#DejaVuSans-30\"/>\r\n       <use x=\"254.492188\" xlink:href=\"#DejaVuSans-30\"/>\r\n      </g>\r\n     </g>\r\n    </g>\r\n    <g id=\"ytick_4\">\r\n     <g id=\"line2d_11\">\r\n      <g>\r\n       <use style=\"stroke:#000000;stroke-width:0.8;\" x=\"46.0125\" xlink:href=\"#m8807546e55\" y=\"102.038784\"/>\r\n      </g>\r\n     </g>\r\n     <g id=\"text_11\">\r\n      <!-- 30000 -->\r\n      <g transform=\"translate(7.2 105.838003)scale(0.1 -0.1)\">\r\n       <defs>\r\n        <path d=\"M 2597 2516 \r\nQ 3050 2419 3304 2112 \r\nQ 3559 1806 3559 1356 \r\nQ 3559 666 3084 287 \r\nQ 2609 -91 1734 -91 \r\nQ 1441 -91 1130 -33 \r\nQ 819 25 488 141 \r\nL 488 750 \r\nQ 750 597 1062 519 \r\nQ 1375 441 1716 441 \r\nQ 2309 441 2620 675 \r\nQ 2931 909 2931 1356 \r\nQ 2931 1769 2642 2001 \r\nQ 2353 2234 1838 2234 \r\nL 1294 2234 \r\nL 1294 2753 \r\nL 1863 2753 \r\nQ 2328 2753 2575 2939 \r\nQ 2822 3125 2822 3475 \r\nQ 2822 3834 2567 4026 \r\nQ 2313 4219 1838 4219 \r\nQ 1578 4219 1281 4162 \r\nQ 984 4106 628 3988 \r\nL 628 4550 \r\nQ 988 4650 1302 4700 \r\nQ 1616 4750 1894 4750 \r\nQ 2613 4750 3031 4423 \r\nQ 3450 4097 3450 3541 \r\nQ 3450 3153 3228 2886 \r\nQ 3006 2619 2597 2516 \r\nz\r\n\" id=\"DejaVuSans-33\" transform=\"scale(0.015625)\"/>\r\n       </defs>\r\n       <use xlink:href=\"#DejaVuSans-33\"/>\r\n       <use x=\"63.623047\" xlink:href=\"#DejaVuSans-30\"/>\r\n       <use x=\"127.246094\" xlink:href=\"#DejaVuSans-30\"/>\r\n       <use x=\"190.869141\" xlink:href=\"#DejaVuSans-30\"/>\r\n       <use x=\"254.492188\" xlink:href=\"#DejaVuSans-30\"/>\r\n      </g>\r\n     </g>\r\n    </g>\r\n    <g id=\"ytick_5\">\r\n     <g id=\"line2d_12\">\r\n      <g>\r\n       <use style=\"stroke:#000000;stroke-width:0.8;\" x=\"46.0125\" xlink:href=\"#m8807546e55\" y=\"61.171712\"/>\r\n      </g>\r\n     </g>\r\n     <g id=\"text_12\">\r\n      <!-- 40000 -->\r\n      <g transform=\"translate(7.2 64.97093)scale(0.1 -0.1)\">\r\n       <defs>\r\n        <path d=\"M 2419 4116 \r\nL 825 1625 \r\nL 2419 1625 \r\nL 2419 4116 \r\nz\r\nM 2253 4666 \r\nL 3047 4666 \r\nL 3047 1625 \r\nL 3713 1625 \r\nL 3713 1100 \r\nL 3047 1100 \r\nL 3047 0 \r\nL 2419 0 \r\nL 2419 1100 \r\nL 313 1100 \r\nL 313 1709 \r\nL 2253 4666 \r\nz\r\n\" id=\"DejaVuSans-34\" transform=\"scale(0.015625)\"/>\r\n       </defs>\r\n       <use xlink:href=\"#DejaVuSans-34\"/>\r\n       <use x=\"63.623047\" xlink:href=\"#DejaVuSans-30\"/>\r\n       <use x=\"127.246094\" xlink:href=\"#DejaVuSans-30\"/>\r\n       <use x=\"190.869141\" xlink:href=\"#DejaVuSans-30\"/>\r\n       <use x=\"254.492188\" xlink:href=\"#DejaVuSans-30\"/>\r\n      </g>\r\n     </g>\r\n    </g>\r\n    <g id=\"ytick_6\">\r\n     <g id=\"line2d_13\">\r\n      <g>\r\n       <use style=\"stroke:#000000;stroke-width:0.8;\" x=\"46.0125\" xlink:href=\"#m8807546e55\" y=\"20.30464\"/>\r\n      </g>\r\n     </g>\r\n     <g id=\"text_13\">\r\n      <!-- 50000 -->\r\n      <g transform=\"translate(7.2 24.103858)scale(0.1 -0.1)\">\r\n       <defs>\r\n        <path d=\"M 691 4666 \r\nL 3169 4666 \r\nL 3169 4134 \r\nL 1269 4134 \r\nL 1269 2991 \r\nQ 1406 3038 1543 3061 \r\nQ 1681 3084 1819 3084 \r\nQ 2600 3084 3056 2656 \r\nQ 3513 2228 3513 1497 \r\nQ 3513 744 3044 326 \r\nQ 2575 -91 1722 -91 \r\nQ 1428 -91 1123 -41 \r\nQ 819 9 494 109 \r\nL 494 744 \r\nQ 775 591 1075 516 \r\nQ 1375 441 1709 441 \r\nQ 2250 441 2565 725 \r\nQ 2881 1009 2881 1497 \r\nQ 2881 1984 2565 2268 \r\nQ 2250 2553 1709 2553 \r\nQ 1456 2553 1204 2497 \r\nQ 953 2441 691 2322 \r\nL 691 4666 \r\nz\r\n\" id=\"DejaVuSans-35\" transform=\"scale(0.015625)\"/>\r\n       </defs>\r\n       <use xlink:href=\"#DejaVuSans-35\"/>\r\n       <use x=\"63.623047\" xlink:href=\"#DejaVuSans-30\"/>\r\n       <use x=\"127.246094\" xlink:href=\"#DejaVuSans-30\"/>\r\n       <use x=\"190.869141\" xlink:href=\"#DejaVuSans-30\"/>\r\n       <use x=\"254.492188\" xlink:href=\"#DejaVuSans-30\"/>\r\n      </g>\r\n     </g>\r\n    </g>\r\n   </g>\r\n   <g id=\"patch_10\">\r\n    <path d=\"M 46.0125 224.64 \r\nL 46.0125 7.2 \r\n\" style=\"fill:none;stroke:#000000;stroke-linecap:square;stroke-linejoin:miter;stroke-width:0.8;\"/>\r\n   </g>\r\n   <g id=\"patch_11\">\r\n    <path d=\"M 380.8125 224.64 \r\nL 380.8125 7.2 \r\n\" style=\"fill:none;stroke:#000000;stroke-linecap:square;stroke-linejoin:miter;stroke-width:0.8;\"/>\r\n   </g>\r\n   <g id=\"patch_12\">\r\n    <path d=\"M 46.0125 224.64 \r\nL 380.8125 224.64 \r\n\" style=\"fill:none;stroke:#000000;stroke-linecap:square;stroke-linejoin:miter;stroke-width:0.8;\"/>\r\n   </g>\r\n   <g id=\"patch_13\">\r\n    <path d=\"M 46.0125 7.2 \r\nL 380.8125 7.2 \r\n\" style=\"fill:none;stroke:#000000;stroke-linecap:square;stroke-linejoin:miter;stroke-width:0.8;\"/>\r\n   </g>\r\n  </g>\r\n </g>\r\n <defs>\r\n  <clipPath id=\"p93a4e1da1c\">\r\n   <rect height=\"217.44\" width=\"334.8\" x=\"46.0125\" y=\"7.2\"/>\r\n  </clipPath>\r\n </defs>\r\n</svg>\r\n",
      "image/png": "[encoded data removed]"
     },
     "metadata": {
      "needs_background": "light"
     }
    }
   ],
   "source": [
    "df.Emotion.value_counts().plot.bar()"
   ]
  },
  {
   "cell_type": "code",
   "execution_count": 22,
   "metadata": {},
   "outputs": [
    {
     "output_type": "execute_result",
     "data": {
      "text/plain": [
       "                                                Sentence    Emotion\n",
       "13628  방 청소 문제로 매번 싸우게 되니까 너무 스트레스를 받아. 따로 사는 게 방법인 거...      Angry\n",
       "8105                        퇴근한지 얼마나 됐다고 회사에서 또 오라고 그러네.      Angry\n",
       "16386                                   난 그래서 유치원 못 믿는다.      Angry\n",
       "32972  야. 너 또. 당분간 만나지 말자고 그랬냐?  5년 동안. 내가 하루 이틀 겪었나....    Neutral\n",
       "41519              저도 그렇게 알고 휴가증과 조퇴증을 끊어줬습니다만.. 결혼이라니..    Neutral\n",
       "19960  하지만 이곳 공장에서 일하던 사람들은 일자리를 잃게 되기 때문에 반드시 좋다고만은 ...    Neutral\n",
       "28071  명절, 부모님 생신, 처갓집 어른 생신, 어버이날에 당연하다는 듯 집에 가자고 하는...  Happiness\n",
       "32852                  삼성톡 좋아~ 삼성톡 좋아~ 하고 유재석 등장할듯 ㅋㅋㅋㅋㅋ  Happiness\n",
       "28666                   삼고초려 끝에 오케이해준 에릭 진짜ㅜㅜㅜㅜㅜ 완전 좋다!!  Happiness\n",
       "20589                             혼자피시방에 시간떼우러가는게맞는걸까요??    Sadness\n",
       "17252                               다른거는 다 괜찬은데 이게 고통이네요    Sadness\n",
       "9807                         그래. 운동도 중요하니까 시간 좀 내봐야 되겠어.    Sadness\n",
       "2958   미안 15년된 SM520은 그냥 20년 찍어보려구 위험하긴 개뿔 나온지 5년도안돼서...       Fear\n",
       "2384                                   급여는 어느정도 받고 계신가요?       Fear\n",
       "5182                                       도와주세요......!!       Fear\n",
       "7628                             이런 후진국에서 90세까지 노예로 살라고?   Surprise\n",
       "45515                                                뭐?    Surprise\n",
       "8653                                     와 갑자기 날씨까지 미쳤나.   Surprise\n",
       "36284                         어디서부터 잘못된것인지... 친일척결만이 답이다    Disgust\n",
       "36371                           역시 시골 사람들은 참 미개한 자들이야...    Disgust\n",
       "34116                       나는 티아라에 그 키작은 애만 좀 없었으면 좋겠다.    Disgust"
      ],
      "text/html": "<div>\n<style scoped>\n    .dataframe tbody tr th:only-of-type {\n        vertical-align: middle;\n    }\n\n    .dataframe tbody tr th {\n        vertical-align: top;\n    }\n\n    .dataframe thead th {\n        text-align: right;\n    }\n</style>\n<table border=\"1\" class=\"dataframe\">\n  <thead>\n    <tr style=\"text-align: right;\">\n      <th></th>\n      <th>Sentence</th>\n      <th>Emotion</th>\n    </tr>\n  </thead>\n  <tbody>\n    <tr>\n      <th>13628</th>\n      <td>방 청소 문제로 매번 싸우게 되니까 너무 스트레스를 받아. 따로 사는 게 방법인 거...</td>\n      <td>Angry</td>\n    </tr>\n    <tr>\n      <th>8105</th>\n      <td>퇴근한지 얼마나 됐다고 회사에서 또 오라고 그러네.</td>\n      <td>Angry</td>\n    </tr>\n    <tr>\n      <th>16386</th>\n      <td>난 그래서 유치원 못 믿는다.</td>\n      <td>Angry</td>\n    </tr>\n    <tr>\n      <th>32972</th>\n      <td>야. 너 또. 당분간 만나지 말자고 그랬냐?  5년 동안. 내가 하루 이틀 겪었나....</td>\n      <td>Neutral</td>\n    </tr>\n    <tr>\n      <th>41519</th>\n      <td>저도 그렇게 알고 휴가증과 조퇴증을 끊어줬습니다만.. 결혼이라니..</td>\n      <td>Neutral</td>\n    </tr>\n    <tr>\n      <th>19960</th>\n      <td>하지만 이곳 공장에서 일하던 사람들은 일자리를 잃게 되기 때문에 반드시 좋다고만은 ...</td>\n      <td>Neutral</td>\n    </tr>\n    <tr>\n      <th>28071</th>\n      <td>명절, 부모님 생신, 처갓집 어른 생신, 어버이날에 당연하다는 듯 집에 가자고 하는...</td>\n      <td>Happiness</td>\n    </tr>\n    <tr>\n      <th>32852</th>\n      <td>삼성톡 좋아~ 삼성톡 좋아~ 하고 유재석 등장할듯 ㅋㅋㅋㅋㅋ</td>\n      <td>Happiness</td>\n    </tr>\n    <tr>\n      <th>28666</th>\n      <td>삼고초려 끝에 오케이해준 에릭 진짜ㅜㅜㅜㅜㅜ 완전 좋다!!</td>\n      <td>Happiness</td>\n    </tr>\n    <tr>\n      <th>20589</th>\n      <td>혼자피시방에 시간떼우러가는게맞는걸까요??</td>\n      <td>Sadness</td>\n    </tr>\n    <tr>\n      <th>17252</th>\n      <td>다른거는 다 괜찬은데 이게 고통이네요</td>\n      <td>Sadness</td>\n    </tr>\n    <tr>\n      <th>9807</th>\n      <td>그래. 운동도 중요하니까 시간 좀 내봐야 되겠어.</td>\n      <td>Sadness</td>\n    </tr>\n    <tr>\n      <th>2958</th>\n      <td>미안 15년된 SM520은 그냥 20년 찍어보려구 위험하긴 개뿔 나온지 5년도안돼서...</td>\n      <td>Fear</td>\n    </tr>\n    <tr>\n      <th>2384</th>\n      <td>급여는 어느정도 받고 계신가요?</td>\n      <td>Fear</td>\n    </tr>\n    <tr>\n      <th>5182</th>\n      <td>도와주세요......!!</td>\n      <td>Fear</td>\n    </tr>\n    <tr>\n      <th>7628</th>\n      <td>이런 후진국에서 90세까지 노예로 살라고?</td>\n      <td>Surprise</td>\n    </tr>\n    <tr>\n      <th>45515</th>\n      <td>뭐?</td>\n      <td>Surprise</td>\n    </tr>\n    <tr>\n      <th>8653</th>\n      <td>와 갑자기 날씨까지 미쳤나.</td>\n      <td>Surprise</td>\n    </tr>\n    <tr>\n      <th>36284</th>\n      <td>어디서부터 잘못된것인지... 친일척결만이 답이다</td>\n      <td>Disgust</td>\n    </tr>\n    <tr>\n      <th>36371</th>\n      <td>역시 시골 사람들은 참 미개한 자들이야...</td>\n      <td>Disgust</td>\n    </tr>\n    <tr>\n      <th>34116</th>\n      <td>나는 티아라에 그 키작은 애만 좀 없었으면 좋겠다.</td>\n      <td>Disgust</td>\n    </tr>\n  </tbody>\n</table>\n</div>"
     },
     "metadata": {},
     "execution_count": 22
    }
   ],
   "source": [
    "# 각 감정에서 3개의 sample 추출 결과\n",
    "pd.concat([df[df.Emotion == emotion_].sample(3, random_state = 42) for emotion_ in df.Emotion.unique()])"
   ]
  },
  {
   "cell_type": "code",
   "execution_count": 23,
   "metadata": {},
   "outputs": [
    {
     "output_type": "execute_result",
     "data": {
      "text/plain": [
       "count    118811.000000\n",
       "mean          6.302640\n",
       "std           4.542957\n",
       "min           1.000000\n",
       "25%           3.000000\n",
       "50%           5.000000\n",
       "75%           8.000000\n",
       "max          75.000000\n",
       "dtype: float64"
      ]
     },
     "metadata": {},
     "execution_count": 23
    }
   ],
   "source": [
    "# 간단히 띄어쓰기를 기준으로 토큰화를 진행 하였을때 최대 75 최소 1, 평균 6 의 분포를 보임.\n",
    "pd.Series([len(i) for i in df['Sentence'].str.split(' ')]).describe()"
   ]
  },
  {
   "source": [
    "# 2. 부분 통합"
   ],
   "cell_type": "markdown",
   "metadata": {}
  },
  {
   "source": [
    "연속성 제외"
   ],
   "cell_type": "markdown",
   "metadata": {}
  },
  {
   "cell_type": "code",
   "execution_count": 25,
   "metadata": {},
   "outputs": [],
   "source": [
    "# 통합 진행\n",
    "df = pd.concat([df1,df4,df5])\n",
    "df = df.sample(frac=1,random_state=42)"
   ]
  },
  {
   "cell_type": "code",
   "execution_count": 26,
   "metadata": {},
   "outputs": [],
   "source": [
    "# 데이터 저장\n",
    "df.to_excel('./감정_분류_데이터셋(연속성_제외).xlsx')"
   ]
  },
  {
   "source": [
    "4차, 5차 통합"
   ],
   "cell_type": "markdown",
   "metadata": {}
  },
  {
   "cell_type": "code",
   "execution_count": 27,
   "metadata": {},
   "outputs": [],
   "source": [
    "df4 = pd.read_csv('./감정_분류를_위한_대화_음성_데이터셋_4차.csv',encoding='CP949')\n",
    "\n",
    "emo_loc = {key:val for val,key in enumerate(df4['1번 감정'].unique())}\n",
    "loc_emo = {val:key for val,key in enumerate(df4['1번 감정'].unique())}\n",
    "\n",
    "emo_score = np.zeros((len(df4),7))\n",
    "emo = df4['1번 감정\t1번 감정세기\t2번 감정\t2번 감정세기\t3번 감정\t3번 감정세기\t4번 감정\t4번감정세기\t5번 감정\t5번 감정세기'.split('\t')]\n",
    "for num,i in emo.iterrows():\n",
    "    emo_score[num,emo_loc[i[0]]] += 1\n",
    "    emo_score[num,emo_loc[i[2]]] += 1\n",
    "    emo_score[num,emo_loc[i[4]]] += 1\n",
    "    emo_score[num,emo_loc[i[6]]] += 1\n",
    "    emo_score[num,emo_loc[i[8]]] += 1\n",
    "\n",
    "df4 = pd.DataFrame(df4[['wav_id','발화문']])\n",
    "df4 ['emotion'] = [loc_emo[i] for i in emo_score.argmax(axis=1)]\n",
    "df4.columns = ['wav_id','Sentence',\t'Emotion']"
   ]
  },
  {
   "cell_type": "code",
   "execution_count": 28,
   "metadata": {},
   "outputs": [],
   "source": [
    "df5 = pd.read_csv('./감정_분류를_위한_대화_음성_데이터셋_5차.csv',encoding='CP949')\n",
    "\n",
    "emo_loc = {key:val for val,key in enumerate(df5['1번 감정'].unique())}\n",
    "loc_emo = {val:key for val,key in enumerate(df5['1번 감정'].unique())}\n",
    "\n",
    "emo_score = np.zeros((len(df5),7))\n",
    "emo = df5['1번 감정\t1번 감정세기\t2번 감정\t2번 감정세기\t3번 감정\t3번 감정세기\t4번 감정\t4번감정세기\t5번 감정\t5번 감정세기'.split('\t')]\n",
    "for num,i in emo.iterrows():\n",
    "    emo_score[num,emo_loc[i[0]]] += 1\n",
    "    emo_score[num,emo_loc[i[2]]] += 1\n",
    "    emo_score[num,emo_loc[i[4]]] += 1\n",
    "    emo_score[num,emo_loc[i[6]]] += 1\n",
    "    emo_score[num,emo_loc[i[8]]] += 1\n",
    "\n",
    "df5 = pd.DataFrame(df5[['wav_id','발화문']])\n",
    "df5 ['emotion'] = [loc_emo[i] for i in emo_score.argmax(axis=1)]\n",
    "df5.columns = ['wav_id','Sentence',\t'Emotion']"
   ]
  },
  {
   "cell_type": "code",
   "execution_count": 29,
   "metadata": {},
   "outputs": [],
   "source": [
    "df4.wav_id = '4차_wav/' + df4.wav_id\n",
    "df5.wav_id = '5차_wav/' + df5.wav_id"
   ]
  },
  {
   "cell_type": "code",
   "execution_count": 30,
   "metadata": {},
   "outputs": [],
   "source": [
    "# 통합 진행\n",
    "df = pd.concat([df4,df5])\n",
    "df = df.reset_index(drop=True)"
   ]
  },
  {
   "cell_type": "code",
   "execution_count": 31,
   "metadata": {},
   "outputs": [],
   "source": [
    "# 데이터 저장\n",
    "df.to_excel('./감정_분류를_위한_대화_음성_데이터셋_4-5.xlsx')"
   ]
  },
  {
   "cell_type": "code",
   "execution_count": 32,
   "metadata": {},
   "outputs": [
    {
     "output_type": "execute_result",
     "data": {
      "text/plain": [
       "                                wav_id  \\\n",
       "0      4차_wav/5e258fd1305bcf3ad153a6a4   \n",
       "1      4차_wav/5e258fe2305bcf3ad153a6a5   \n",
       "2      4차_wav/5e258ff5305bcf3ad153a6a6   \n",
       "3      4차_wav/5e25902f305bcf3ad153a6a9   \n",
       "4      4차_wav/5e27f90b5807b852d9e0157b   \n",
       "...                                ...   \n",
       "24612  5차_wav/5f05ffd5b140144dfcff01c7   \n",
       "24613  5차_wav/5ec53bf82880d70f28611de0   \n",
       "24614  5차_wav/5f0b2b5ab140144dfcff2759   \n",
       "24615  5차_wav/5f0b2b75b140144dfcff275a   \n",
       "24616  5차_wav/5f0527b3b140144dfcfef75e   \n",
       "\n",
       "                                                Sentence  Emotion  \n",
       "0                                       어, 청소 니가 대신 해 줘!  Neutral  \n",
       "1                                     둘 다 청소 하기 싫어. 귀찮아.  Neutral  \n",
       "2                                         둘 다 하기 싫어서 화내.    Angry  \n",
       "3                                            그럼 방세는 어떡해.  Sadness  \n",
       "4                              권태긴줄 알았는데 다른 사람이 생겼나보더라고.  Sadness  \n",
       "...                                                  ...      ...  \n",
       "24612  너의 말 대로 약속 장소를 옮겨 보는 것도 좋은 방법 같아. 나는 취소할 생각만 했...  Neutral  \n",
       "24613                     산책하는 게 나을 것 같아. 이제부터 산책 좀 해볼게.  Neutral  \n",
       "24614                너의 말을 듣고보니까 약속장소를 옮겨보는 것도 좋은 방법 같아.  Neutral  \n",
       "24615  오늘 친구한테 전화해서 안좋은 상황이니까 약속을 미룰지 약속 장소를 변경할지 상의해...  Neutral  \n",
       "24616        사람이 많이 다니는 강남역보다는 공원이 훨씬 더 낫겠지. 내가 한번 바꿔볼게!  Neutral  \n",
       "\n",
       "[24617 rows x 3 columns]"
      ],
      "text/html": "<div>\n<style scoped>\n    .dataframe tbody tr th:only-of-type {\n        vertical-align: middle;\n    }\n\n    .dataframe tbody tr th {\n        vertical-align: top;\n    }\n\n    .dataframe thead th {\n        text-align: right;\n    }\n</style>\n<table border=\"1\" class=\"dataframe\">\n  <thead>\n    <tr style=\"text-align: right;\">\n      <th></th>\n      <th>wav_id</th>\n      <th>Sentence</th>\n      <th>Emotion</th>\n    </tr>\n  </thead>\n  <tbody>\n    <tr>\n      <th>0</th>\n      <td>4차_wav/5e258fd1305bcf3ad153a6a4</td>\n      <td>어, 청소 니가 대신 해 줘!</td>\n      <td>Neutral</td>\n    </tr>\n    <tr>\n      <th>1</th>\n      <td>4차_wav/5e258fe2305bcf3ad153a6a5</td>\n      <td>둘 다 청소 하기 싫어. 귀찮아.</td>\n      <td>Neutral</td>\n    </tr>\n    <tr>\n      <th>2</th>\n      <td>4차_wav/5e258ff5305bcf3ad153a6a6</td>\n      <td>둘 다 하기 싫어서 화내.</td>\n      <td>Angry</td>\n    </tr>\n    <tr>\n      <th>3</th>\n      <td>4차_wav/5e25902f305bcf3ad153a6a9</td>\n      <td>그럼 방세는 어떡해.</td>\n      <td>Sadness</td>\n    </tr>\n    <tr>\n      <th>4</th>\n      <td>4차_wav/5e27f90b5807b852d9e0157b</td>\n      <td>권태긴줄 알았는데 다른 사람이 생겼나보더라고.</td>\n      <td>Sadness</td>\n    </tr>\n    <tr>\n      <th>...</th>\n      <td>...</td>\n      <td>...</td>\n      <td>...</td>\n    </tr>\n    <tr>\n      <th>24612</th>\n      <td>5차_wav/5f05ffd5b140144dfcff01c7</td>\n      <td>너의 말 대로 약속 장소를 옮겨 보는 것도 좋은 방법 같아. 나는 취소할 생각만 했...</td>\n      <td>Neutral</td>\n    </tr>\n    <tr>\n      <th>24613</th>\n      <td>5차_wav/5ec53bf82880d70f28611de0</td>\n      <td>산책하는 게 나을 것 같아. 이제부터 산책 좀 해볼게.</td>\n      <td>Neutral</td>\n    </tr>\n    <tr>\n      <th>24614</th>\n      <td>5차_wav/5f0b2b5ab140144dfcff2759</td>\n      <td>너의 말을 듣고보니까 약속장소를 옮겨보는 것도 좋은 방법 같아.</td>\n      <td>Neutral</td>\n    </tr>\n    <tr>\n      <th>24615</th>\n      <td>5차_wav/5f0b2b75b140144dfcff275a</td>\n      <td>오늘 친구한테 전화해서 안좋은 상황이니까 약속을 미룰지 약속 장소를 변경할지 상의해...</td>\n      <td>Neutral</td>\n    </tr>\n    <tr>\n      <th>24616</th>\n      <td>5차_wav/5f0527b3b140144dfcfef75e</td>\n      <td>사람이 많이 다니는 강남역보다는 공원이 훨씬 더 낫겠지. 내가 한번 바꿔볼게!</td>\n      <td>Neutral</td>\n    </tr>\n  </tbody>\n</table>\n<p>24617 rows × 3 columns</p>\n</div>"
     },
     "metadata": {},
     "execution_count": 32
    }
   ],
   "source": [
    "df"
   ]
  },
  {
   "source": [
    "# 3. 저장 파일 확인"
   ],
   "cell_type": "markdown",
   "metadata": {}
  },
  {
   "cell_type": "code",
   "execution_count": 29,
   "metadata": {},
   "outputs": [],
   "source": [
    "df = pd.read_excel('./감정_분류_데이터셋(연속성_제외).xlsx',index_col=0)"
   ]
  },
  {
   "cell_type": "code",
   "execution_count": 30,
   "metadata": {},
   "outputs": [
    {
     "output_type": "execute_result",
     "data": {
      "text/plain": [
       "Sentence    0\n",
       "Emotion     0\n",
       "dtype: int64"
      ]
     },
     "metadata": {},
     "execution_count": 30
    }
   ],
   "source": [
    "df.isnull().sum()"
   ]
  },
  {
   "cell_type": "code",
   "execution_count": 26,
   "metadata": {},
   "outputs": [],
   "source": [
    "df = df.dropna()"
   ]
  },
  {
   "cell_type": "code",
   "execution_count": 27,
   "metadata": {},
   "outputs": [
    {
     "output_type": "execute_result",
     "data": {
      "text/plain": [
       "Sentence    0\n",
       "Emotion     0\n",
       "dtype: int64"
      ]
     },
     "metadata": {},
     "execution_count": 27
    }
   ],
   "source": [
    "df.isnull().sum()"
   ]
  },
  {
   "cell_type": "code",
   "execution_count": 28,
   "metadata": {},
   "outputs": [],
   "source": [
    "# 데이터 저장\n",
    "df.to_excel('./감정_분류_데이터셋(연속성_제외).xlsx')"
   ]
  },
  {
   "cell_type": "code",
   "execution_count": null,
   "metadata": {},
   "outputs": [],
   "source": []
  }
 ]
}