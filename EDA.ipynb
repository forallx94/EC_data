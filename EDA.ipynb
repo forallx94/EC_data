{
 "metadata": {
  "language_info": {
   "codemirror_mode": {
    "name": "ipython",
    "version": 3
   },
   "file_extension": ".py",
   "mimetype": "text/x-python",
   "name": "python",
   "nbconvert_exporter": "python",
   "pygments_lexer": "ipython3",
   "version": "3.8.10"
  },
  "orig_nbformat": 2,
  "kernelspec": {
   "name": "python3810jvsc74a57bd06a20dc269b0a46d455aeec36556a714d68506684ae704a395dd325f9d89220b5",
   "display_name": "Python 3.8.10 64-bit ('chat': conda)"
  }
 },
 "nbformat": 4,
 "nbformat_minor": 2,
 "cells": [
  {
   "cell_type": "code",
   "execution_count": 1,
   "metadata": {},
   "outputs": [],
   "source": [
    "import pandas as pd\n",
    "import numpy as np\n",
    "import matplotlib.pyplot as plt"
   ]
  },
  {
   "source": [
    "# 1. 한국어 단발성 대화 데이터셋"
   ],
   "cell_type": "markdown",
   "metadata": {}
  },
  {
   "source": [
    "사전 정보 \n",
    "* SNS 글 및 온라인 댓글에 대한 웹 크롤링을 실시하여 문장을 선정함\n",
    "* 문장 단위 작업을 수행할 수 있도록 문장 분리 작업을 거침\n",
    "* 7개 감정(기쁨, 슬픔, 놀람, 분노, 공포, 혐오, 중립) 레이블링 수행\n",
    "* 총 데이터 개수: 38,594 문장\n",
    "* 글자 수 분포 : 23.7±13.6자"
   ],
   "cell_type": "markdown",
   "metadata": {}
  },
  {
   "source": [
    "EDA\n",
    "* 7개의 감정('공포', '놀람', '분노', '슬픔', '중립', '행복', '혐오')에 대하여 분류한 데이터셋.  \n",
    "* 전체 38,594에 약 1000개 정도의 데이터 불균형이 존재.  \n",
    "* 인터넷 채팅을 기반으로 하고 있어 오타가 많음.  \n",
    "* 간단히 띄어쓰기를 기준으로 토큰화를 진행 하였을때 최대 75 최소 5, 평균 5 의 분포를 보임."
   ],
   "cell_type": "markdown",
   "metadata": {}
  },
  {
   "cell_type": "code",
   "execution_count": 2,
   "metadata": {},
   "outputs": [],
   "source": [
    "df1 = pd.read_excel('./한국어_단발성_대화_데이터셋.xlsx')[['Sentence','Emotion']]"
   ]
  },
  {
   "cell_type": "code",
   "execution_count": 3,
   "metadata": {},
   "outputs": [
    {
     "output_type": "execute_result",
     "data": {
      "text/plain": [
       "(38594, 2)"
      ]
     },
     "metadata": {},
     "execution_count": 3
    }
   ],
   "source": [
    "# 3만 8천개 약 4만\n",
    "df1.shape"
   ]
  },
  {
   "cell_type": "code",
   "execution_count": 4,
   "metadata": {},
   "outputs": [
    {
     "output_type": "execute_result",
     "data": {
      "text/plain": [
       "                                             Sentence Emotion\n",
       "0                            언니 동생으로 부르는게 맞는 일인가요..??      공포\n",
       "1                                        그냥 내 느낌일뿐겠지?      공포\n",
       "2                                      아직너무초기라서 그런거죠?      공포\n",
       "3                                       유치원버스 사고 낫다던데      공포\n",
       "4                                         근데 원래이런거맞나요      공포\n",
       "5                                         남자친구가 떠날까봐요      공포\n",
       "6                             이거 했는데 허리가 아플수도 있나요? ;;      공포\n",
       "7                                        내가불안해서꾸는걸까..      공포\n",
       "8                                     일주일도 안 남았당...ㅠㅠ      공포\n",
       "9                          약은 최대한 안먹으려고 하는데좋은 음시있나요?0      공포\n",
       "10                        구직활동 하면서 남는시간은 뭘로 활용해야 되지..      공포\n",
       "11                               괜찮은분 같아서 괜히 조급해지네요 ㅜ      공포\n",
       "12                      제가 스타일을 바꾸면 더 어색하게만 변할것같아서 ㅠ0      공포\n",
       "13                     아내 있으면 여자 있는 술집가면 법 적으로 문제있나요?      공포\n",
       "14                                   한소리들을지.... 도와주세요      공포\n",
       "15                                        도와주실분 없나요..      공포\n",
       "16                      그냥 잡다한거말고학업에 관련된거 듣는게 더 좋은가요?      공포\n",
       "17                            가격은 반값....이거 질이 다른건가요??      공포\n",
       "18  마지막에 말씀 드렸던대로 글은 이제 내릴게요의도치않게 실시간베스트글에 올라가서 남친...      공포\n",
       "19                  화장품회사다보니, 젊은 여자들이 많은거 같은데 걱정이네요..      공포"
      ],
      "text/html": "<div>\n<style scoped>\n    .dataframe tbody tr th:only-of-type {\n        vertical-align: middle;\n    }\n\n    .dataframe tbody tr th {\n        vertical-align: top;\n    }\n\n    .dataframe thead th {\n        text-align: right;\n    }\n</style>\n<table border=\"1\" class=\"dataframe\">\n  <thead>\n    <tr style=\"text-align: right;\">\n      <th></th>\n      <th>Sentence</th>\n      <th>Emotion</th>\n    </tr>\n  </thead>\n  <tbody>\n    <tr>\n      <th>0</th>\n      <td>언니 동생으로 부르는게 맞는 일인가요..??</td>\n      <td>공포</td>\n    </tr>\n    <tr>\n      <th>1</th>\n      <td>그냥 내 느낌일뿐겠지?</td>\n      <td>공포</td>\n    </tr>\n    <tr>\n      <th>2</th>\n      <td>아직너무초기라서 그런거죠?</td>\n      <td>공포</td>\n    </tr>\n    <tr>\n      <th>3</th>\n      <td>유치원버스 사고 낫다던데</td>\n      <td>공포</td>\n    </tr>\n    <tr>\n      <th>4</th>\n      <td>근데 원래이런거맞나요</td>\n      <td>공포</td>\n    </tr>\n    <tr>\n      <th>5</th>\n      <td>남자친구가 떠날까봐요</td>\n      <td>공포</td>\n    </tr>\n    <tr>\n      <th>6</th>\n      <td>이거 했는데 허리가 아플수도 있나요? ;;</td>\n      <td>공포</td>\n    </tr>\n    <tr>\n      <th>7</th>\n      <td>내가불안해서꾸는걸까..</td>\n      <td>공포</td>\n    </tr>\n    <tr>\n      <th>8</th>\n      <td>일주일도 안 남았당...ㅠㅠ</td>\n      <td>공포</td>\n    </tr>\n    <tr>\n      <th>9</th>\n      <td>약은 최대한 안먹으려고 하는데좋은 음시있나요?0</td>\n      <td>공포</td>\n    </tr>\n    <tr>\n      <th>10</th>\n      <td>구직활동 하면서 남는시간은 뭘로 활용해야 되지..</td>\n      <td>공포</td>\n    </tr>\n    <tr>\n      <th>11</th>\n      <td>괜찮은분 같아서 괜히 조급해지네요 ㅜ</td>\n      <td>공포</td>\n    </tr>\n    <tr>\n      <th>12</th>\n      <td>제가 스타일을 바꾸면 더 어색하게만 변할것같아서 ㅠ0</td>\n      <td>공포</td>\n    </tr>\n    <tr>\n      <th>13</th>\n      <td>아내 있으면 여자 있는 술집가면 법 적으로 문제있나요?</td>\n      <td>공포</td>\n    </tr>\n    <tr>\n      <th>14</th>\n      <td>한소리들을지.... 도와주세요</td>\n      <td>공포</td>\n    </tr>\n    <tr>\n      <th>15</th>\n      <td>도와주실분 없나요..</td>\n      <td>공포</td>\n    </tr>\n    <tr>\n      <th>16</th>\n      <td>그냥 잡다한거말고학업에 관련된거 듣는게 더 좋은가요?</td>\n      <td>공포</td>\n    </tr>\n    <tr>\n      <th>17</th>\n      <td>가격은 반값....이거 질이 다른건가요??</td>\n      <td>공포</td>\n    </tr>\n    <tr>\n      <th>18</th>\n      <td>마지막에 말씀 드렸던대로 글은 이제 내릴게요의도치않게 실시간베스트글에 올라가서 남친...</td>\n      <td>공포</td>\n    </tr>\n    <tr>\n      <th>19</th>\n      <td>화장품회사다보니, 젊은 여자들이 많은거 같은데 걱정이네요..</td>\n      <td>공포</td>\n    </tr>\n  </tbody>\n</table>\n</div>"
     },
     "metadata": {},
     "execution_count": 4
    }
   ],
   "source": [
    "# 앞 20을 통해 suffle의 필요성 확인\n",
    "# 오타가 많음\n",
    "df1.head(20)"
   ]
  },
  {
   "cell_type": "code",
   "execution_count": 5,
   "metadata": {},
   "outputs": [
    {
     "output_type": "execute_result",
     "data": {
      "text/plain": [
       "array(['공포', '놀람', '분노', '슬픔', '중립', '행복', '혐오'], dtype=object)"
      ]
     },
     "metadata": {},
     "execution_count": 5
    }
   ],
   "source": [
    "# 7개의 감정\n",
    "df1.Emotion.unique()"
   ]
  },
  {
   "cell_type": "code",
   "execution_count": 6,
   "metadata": {},
   "outputs": [
    {
     "output_type": "execute_result",
     "data": {
      "text/plain": [
       "행복    6037\n",
       "놀람    5898\n",
       "분노    5665\n",
       "공포    5468\n",
       "혐오    5429\n",
       "슬픔    5267\n",
       "중립    4830\n",
       "Name: Emotion, dtype: int64"
      ]
     },
     "metadata": {},
     "execution_count": 6
    }
   ],
   "source": [
    "# 약간의 데이터 불균형 존재\n",
    "df1.Emotion.value_counts()"
   ]
  },
  {
   "cell_type": "code",
   "execution_count": 7,
   "metadata": {},
   "outputs": [
    {
     "output_type": "execute_result",
     "data": {
      "text/plain": [
       "                                                Sentence Emotion\n",
       "4434                                       이제 큰일났구나. 아고.      공포\n",
       "3809                   그 날도 만나는 남자가 있는걸 알긴했지만 ?휴 너무복잡하네요      공포\n",
       "4037                                          너무 긴장이됩니다.      공포\n",
       "11213                    근데 4231해도 2선에 시소코알리에릭센 나올 것 같은데      놀람\n",
       "7446                                   저렇게 바로 차단이면 가망없죠?      놀람\n",
       "7228                                           역시 천조국...      놀람\n",
       "11712            팔다리에 포승줄로 꽉꽉 소에다가 매달고 달리게 해서 팔다리를 찢어야한다      분노\n",
       "15064                              청와대 에어컨도 없애고 여성부도 없애자      분노\n",
       "11776   국가와 국민을 배신한 대통령 박근혜와 박근혜에 부역한 국가의 반역자들을 확실하게 ...      분노\n",
       "21870            고양이에 대해 지식도 없이 분양받은 벌인지 두마리 중한마리가 아파요..      슬픔\n",
       "21970                                        저는 바보인가봅니다ㅠ      슬픔\n",
       "17686                                     안갈 방법좀 알려주세요.0      슬픔\n",
       "23044                         그많은 닭 흙에 묻으면 그땅은 괜찮은건가요???      중립\n",
       "23848                                외국계 통신사애 국내주파수 개방하라      중립\n",
       "26826                                     아마 그시간에 약먹고 잘껄      중립\n",
       "32655                             그래도 당시에 잘했다고 생각하는데 ㅋㅋㅋ      행복\n",
       "27838                                     기아 타이거즈~!!!♡♡♡      행복\n",
       "32049                              오랜 창작의 고통 끝에 소설 출간 완료      행복\n",
       "33244                                    어느 나라나 극우는 노답..      혐오\n",
       "36326       박근혜는 욕해도 국가의 중흥을 이끈 민족영웅인 박정희 대통령까지 까는 이유는뭐지      혐오\n",
       "34808                                  언제부터 정상급3루수야 ㅋㅋㅋㅋ      혐오"
      ],
      "text/html": "<div>\n<style scoped>\n    .dataframe tbody tr th:only-of-type {\n        vertical-align: middle;\n    }\n\n    .dataframe tbody tr th {\n        vertical-align: top;\n    }\n\n    .dataframe thead th {\n        text-align: right;\n    }\n</style>\n<table border=\"1\" class=\"dataframe\">\n  <thead>\n    <tr style=\"text-align: right;\">\n      <th></th>\n      <th>Sentence</th>\n      <th>Emotion</th>\n    </tr>\n  </thead>\n  <tbody>\n    <tr>\n      <th>4434</th>\n      <td>이제 큰일났구나. 아고.</td>\n      <td>공포</td>\n    </tr>\n    <tr>\n      <th>3809</th>\n      <td>그 날도 만나는 남자가 있는걸 알긴했지만 ?휴 너무복잡하네요</td>\n      <td>공포</td>\n    </tr>\n    <tr>\n      <th>4037</th>\n      <td>너무 긴장이됩니다.</td>\n      <td>공포</td>\n    </tr>\n    <tr>\n      <th>11213</th>\n      <td>근데 4231해도 2선에 시소코알리에릭센 나올 것 같은데</td>\n      <td>놀람</td>\n    </tr>\n    <tr>\n      <th>7446</th>\n      <td>저렇게 바로 차단이면 가망없죠?</td>\n      <td>놀람</td>\n    </tr>\n    <tr>\n      <th>7228</th>\n      <td>역시 천조국...</td>\n      <td>놀람</td>\n    </tr>\n    <tr>\n      <th>11712</th>\n      <td>팔다리에 포승줄로 꽉꽉 소에다가 매달고 달리게 해서 팔다리를 찢어야한다</td>\n      <td>분노</td>\n    </tr>\n    <tr>\n      <th>15064</th>\n      <td>청와대 에어컨도 없애고 여성부도 없애자</td>\n      <td>분노</td>\n    </tr>\n    <tr>\n      <th>11776</th>\n      <td>국가와 국민을 배신한 대통령 박근혜와 박근혜에 부역한 국가의 반역자들을 확실하게 ...</td>\n      <td>분노</td>\n    </tr>\n    <tr>\n      <th>21870</th>\n      <td>고양이에 대해 지식도 없이 분양받은 벌인지 두마리 중한마리가 아파요..</td>\n      <td>슬픔</td>\n    </tr>\n    <tr>\n      <th>21970</th>\n      <td>저는 바보인가봅니다ㅠ</td>\n      <td>슬픔</td>\n    </tr>\n    <tr>\n      <th>17686</th>\n      <td>안갈 방법좀 알려주세요.0</td>\n      <td>슬픔</td>\n    </tr>\n    <tr>\n      <th>23044</th>\n      <td>그많은 닭 흙에 묻으면 그땅은 괜찮은건가요???</td>\n      <td>중립</td>\n    </tr>\n    <tr>\n      <th>23848</th>\n      <td>외국계 통신사애 국내주파수 개방하라</td>\n      <td>중립</td>\n    </tr>\n    <tr>\n      <th>26826</th>\n      <td>아마 그시간에 약먹고 잘껄</td>\n      <td>중립</td>\n    </tr>\n    <tr>\n      <th>32655</th>\n      <td>그래도 당시에 잘했다고 생각하는데 ㅋㅋㅋ</td>\n      <td>행복</td>\n    </tr>\n    <tr>\n      <th>27838</th>\n      <td>기아 타이거즈~!!!♡♡♡</td>\n      <td>행복</td>\n    </tr>\n    <tr>\n      <th>32049</th>\n      <td>오랜 창작의 고통 끝에 소설 출간 완료</td>\n      <td>행복</td>\n    </tr>\n    <tr>\n      <th>33244</th>\n      <td>어느 나라나 극우는 노답..</td>\n      <td>혐오</td>\n    </tr>\n    <tr>\n      <th>36326</th>\n      <td>박근혜는 욕해도 국가의 중흥을 이끈 민족영웅인 박정희 대통령까지 까는 이유는뭐지</td>\n      <td>혐오</td>\n    </tr>\n    <tr>\n      <th>34808</th>\n      <td>언제부터 정상급3루수야 ㅋㅋㅋㅋ</td>\n      <td>혐오</td>\n    </tr>\n  </tbody>\n</table>\n</div>"
     },
     "metadata": {},
     "execution_count": 7
    }
   ],
   "source": [
    "# 각 감정에서 3개의 sample 추출 결과\n",
    "pd.concat([df1[df1.Emotion == emotion_].sample(3, random_state = 42) for emotion_ in df1.Emotion.unique()])"
   ]
  },
  {
   "cell_type": "code",
   "execution_count": 8,
   "metadata": {},
   "outputs": [
    {
     "output_type": "execute_result",
     "data": {
      "text/plain": [
       "count    38594.000000\n",
       "mean         5.253278\n",
       "std          3.118669\n",
       "min          1.000000\n",
       "25%          3.000000\n",
       "50%          5.000000\n",
       "75%          7.000000\n",
       "max         75.000000\n",
       "dtype: float64"
      ]
     },
     "metadata": {},
     "execution_count": 8
    }
   ],
   "source": [
    "# 간단히 띄어쓰기를 기준으로 토큰화를 진행 하였을때 최대 75 최소 1, 평균 5 의 분포를 보임.\n",
    "pd.Series([len(i) for i in df1.Sentence.str.split(' ')]).describe()"
   ]
  },
  {
   "cell_type": "code",
   "execution_count": 10,
   "metadata": {},
   "outputs": [
    {
     "output_type": "execute_result",
     "data": {
      "text/plain": [
       "Sentence    0\n",
       "Emotion     0\n",
       "dtype: int64"
      ]
     },
     "metadata": {},
     "execution_count": 10
    }
   ],
   "source": [
    "# null 값 확인\n",
    "df1.isnull().sum()"
   ]
  },
  {
   "source": [
    "# 2. 한국어 연속성 대화 데이터셋"
   ],
   "cell_type": "markdown",
   "metadata": {}
  },
  {
   "source": [
    "사전 정보\n",
    "* 연속적  10,000개 대화 (단발성 55,627문장)\n",
    "* 딥러닝 기반의 챗봇 대화생성을 위해서는 일상적인 대화문이 필요하고, 단문/단답형이 아니라 멀티턴/긴 문장으로 다양한 상황에 대해 작성된 대화문이 필요하나, 한국어 기반으로는 이런 공개된 대화 데이터의 수집이 어려움\n",
    "* 웹 크롤링 등의 방법으로 대화를 수집하고, 적정 길이와 turn 수 및 주제를 가진 대화를 선정하였으며 감정 레이블링 수행\n",
    "* 챗봇이 말하기 부적절한 용어(지나치게 전문적인 용어, 비속어 등)을 가능한 범위에서 필터링 하였음\n",
    "* 연속적 10,000개 대화 세트, 단발성으로는 55,627 문장 존재: 1개 대화당 두 사람이 합쳐서 5.6개 정도의 발화를 주고받음\n",
    "* 모든 대화문은 두 사람의 대화 내용이며 행이 바뀌면 발화자가 바뀜"
   ],
   "cell_type": "markdown",
   "metadata": {}
  },
  {
   "source": [
    "EDA\n",
    "* 7개의 감정('공포', '놀람', '분노', '슬픔', '중립', '행복', '혐오')에 대하여 분류한 데이터셋.  \n",
    "* 라벨에 오류가 있음  \n",
    "* nan 값 존재  \n",
    "* 전체 55621 중 중립이 대다수 43786, 분노 98 데이터 불균형 심함  \n",
    "* 연속성에 의해 앞뒤의 문맥으로 감정이 보인 경우가 존재 ( 단문장 제거가 도움이 될수 있음)\n",
    "* 간단히 띄어쓰기를 기준으로 토큰화를 진행 하였을때 최대 67 최소 1, 평균 6의 분포를 보임. 문장이 짧아 생기는 문제가 많을 것으로 보임  "
   ],
   "cell_type": "markdown",
   "metadata": {}
  },
  {
   "cell_type": "code",
   "execution_count": 11,
   "metadata": {},
   "outputs": [],
   "source": [
    "df2 = pd.read_excel('./한국어_연속적_대화_데이터셋.xlsx')[['Unnamed: 0','Unnamed: 1','Unnamed: 2']]\n",
    "df2.columns = df2.iloc[0]\n",
    "df2 = df2.drop([0])\n",
    "df2['dialog #'] = df2['dialog #'].fillna(0)\n",
    "df2 = df2.dropna()"
   ]
  },
  {
   "cell_type": "code",
   "execution_count": 12,
   "metadata": {},
   "outputs": [
    {
     "output_type": "execute_result",
     "data": {
      "text/plain": [
       "(55621, 3)"
      ]
     },
     "metadata": {},
     "execution_count": 12
    }
   ],
   "source": [
    "# nan row 삭제시 5만 5천\n",
    "df2.shape"
   ]
  },
  {
   "cell_type": "code",
   "execution_count": 13,
   "metadata": {},
   "outputs": [
    {
     "output_type": "execute_result",
     "data": {
      "text/plain": [
       "0  dialog #                                            발화  감정\n",
       "1         S          아 진짜! 사무실에서 피지 말라니깐! 간접흡연이 얼마나 안좋은데!  분노\n",
       "2         0  그럼 직접흡연하는 난 얼마나 안좋겠니? 안그래? 보면 꼭... 지 생각만 하고.  혐오\n",
       "3         0                                       손님 왔어요.  중립\n",
       "4         0                                       손님? 누구?  중립\n",
       "5         0                                몰라요. 팀장님 친구래요.  중립\n",
       "6         0                                  내 친구? 친구 누구?  중립\n",
       "7         0                                그걸 내가 어떻게 알아요!  분노\n",
       "8         S                                그래서... 무슨 일 해?  중립\n",
       "9         0                                   그냥 방송일 조금.   중립\n",
       "10        0                                     방송? 방송 뭐?  중립"
      ],
      "text/html": "<div>\n<style scoped>\n    .dataframe tbody tr th:only-of-type {\n        vertical-align: middle;\n    }\n\n    .dataframe tbody tr th {\n        vertical-align: top;\n    }\n\n    .dataframe thead th {\n        text-align: right;\n    }\n</style>\n<table border=\"1\" class=\"dataframe\">\n  <thead>\n    <tr style=\"text-align: right;\">\n      <th></th>\n      <th>dialog #</th>\n      <th>발화</th>\n      <th>감정</th>\n    </tr>\n  </thead>\n  <tbody>\n    <tr>\n      <th>1</th>\n      <td>S</td>\n      <td>아 진짜! 사무실에서 피지 말라니깐! 간접흡연이 얼마나 안좋은데!</td>\n      <td>분노</td>\n    </tr>\n    <tr>\n      <th>2</th>\n      <td>0</td>\n      <td>그럼 직접흡연하는 난 얼마나 안좋겠니? 안그래? 보면 꼭... 지 생각만 하고.</td>\n      <td>혐오</td>\n    </tr>\n    <tr>\n      <th>3</th>\n      <td>0</td>\n      <td>손님 왔어요.</td>\n      <td>중립</td>\n    </tr>\n    <tr>\n      <th>4</th>\n      <td>0</td>\n      <td>손님? 누구?</td>\n      <td>중립</td>\n    </tr>\n    <tr>\n      <th>5</th>\n      <td>0</td>\n      <td>몰라요. 팀장님 친구래요.</td>\n      <td>중립</td>\n    </tr>\n    <tr>\n      <th>6</th>\n      <td>0</td>\n      <td>내 친구? 친구 누구?</td>\n      <td>중립</td>\n    </tr>\n    <tr>\n      <th>7</th>\n      <td>0</td>\n      <td>그걸 내가 어떻게 알아요!</td>\n      <td>분노</td>\n    </tr>\n    <tr>\n      <th>8</th>\n      <td>S</td>\n      <td>그래서... 무슨 일 해?</td>\n      <td>중립</td>\n    </tr>\n    <tr>\n      <th>9</th>\n      <td>0</td>\n      <td>그냥 방송일 조금.</td>\n      <td>중립</td>\n    </tr>\n    <tr>\n      <th>10</th>\n      <td>0</td>\n      <td>방송? 방송 뭐?</td>\n      <td>중립</td>\n    </tr>\n  </tbody>\n</table>\n</div>"
     },
     "metadata": {},
     "execution_count": 13
    }
   ],
   "source": [
    "# 대화의 시작을 S 를 이용하여 표현\n",
    "df2.head(10)"
   ]
  },
  {
   "cell_type": "code",
   "execution_count": 14,
   "metadata": {},
   "outputs": [
    {
     "output_type": "execute_result",
     "data": {
      "text/plain": [
       "array(['분노', '혐오', '중립', '놀람', '행복', '공포', '슬픔', 'ㅈ중립', '분ㄴ', '중림', 'ㅍ',\n",
       "       'ㄴ중립', '분', '줄'], dtype=object)"
      ]
     },
     "metadata": {},
     "execution_count": 14
    }
   ],
   "source": [
    "# 라벨링에 오타 존재 7개의 emotion classification\n",
    "df2.감정.unique()"
   ]
  },
  {
   "cell_type": "code",
   "execution_count": 15,
   "metadata": {},
   "outputs": [
    {
     "output_type": "execute_result",
     "data": {
      "text/plain": [
       "중립     43786\n",
       "놀람      4866\n",
       "분노      3628\n",
       "슬픔      1972\n",
       "행복      1030\n",
       "혐오       220\n",
       "공포        98\n",
       "ㅍ         12\n",
       "분          4\n",
       "중림         1\n",
       "분ㄴ         1\n",
       "ㄴ중립        1\n",
       "ㅈ중립        1\n",
       "줄          1\n",
       "Name: 감정, dtype: int64"
      ]
     },
     "metadata": {},
     "execution_count": 15
    }
   ],
   "source": [
    "# 데이터 불균형이 크게 보임\n",
    "df2.감정.value_counts()"
   ]
  },
  {
   "cell_type": "code",
   "execution_count": 16,
   "metadata": {},
   "outputs": [
    {
     "output_type": "execute_result",
     "data": {
      "text/plain": [
       "0     dialog #                                                 발화  감정\n",
       "5662         0                                             구급차는?!  분노\n",
       "23373        0                       가..가만 안있으면 뭐, 내가 겁먹고 못 때릴까봐?  분노\n",
       "29452        0  그 미친 놈이... 우리 아들을 저 모양으로 만들었어.. 그런데.. 무슨 벌을 더 ...  분노\n",
       "1574         0                                                  치  혐오\n",
       "2750         0                                 그럼 내가 널 왜 만나러 왔겠어?  혐오\n",
       "1193         0                                         잘 줘야 잘 받죠.  혐오\n",
       "40813        0                                           꼭 써야 돼요?  중립\n",
       "53909        S  오히려 혼자 있는 게 더 물어보기 쉬울 걸? 아마도. 걔도 너희들한테는 말하기 힘들...  중립\n",
       "29202        0                                               선무당?  중립\n",
       "23858        0                                       어머 언니가 어떻게..  놀람\n",
       "35875        S                                      어? 그 의사가 사줬어?  놀람\n",
       "27804        0                                                 뭘?  놀람\n",
       "1434         0              아주버니? 이거...갑자기 이런 말 들으니까 쑥스러운데요..허허허.  행복\n",
       "4754         0                                           응응, 좋다아.  행복\n",
       "6226         0                                             달달하죠..  행복\n",
       "5925         0                                      쏠 리가.. 없잖아요.   공포\n",
       "3355         0         뭐야. 그렇게 말하니까 무섭잖아. 됐고 오늘 물건 받은 것 중에 풀볼 있지?  공포\n",
       "53473        0  그래. 관람차를 흔든다든지, 롤러코스터에서 안전바를 쥐고 있던 내 손을 떼어 낸다든...  공포\n",
       "12965        0                          지금이라도 할 수 있으면 그렇게 해. 가져가.  슬픔\n",
       "13059        0                       무서운 거 다 잊고 너무너무 좋은 꿈으로 기억해줘.  슬픔\n",
       "42319        0  혼자 그렇게 욕실바닥에 쓰러져 있는거 보니까 남일같지 않드라. 나두 언제 그런 일을...  슬픔"
      ],
      "text/html": "<div>\n<style scoped>\n    .dataframe tbody tr th:only-of-type {\n        vertical-align: middle;\n    }\n\n    .dataframe tbody tr th {\n        vertical-align: top;\n    }\n\n    .dataframe thead th {\n        text-align: right;\n    }\n</style>\n<table border=\"1\" class=\"dataframe\">\n  <thead>\n    <tr style=\"text-align: right;\">\n      <th></th>\n      <th>dialog #</th>\n      <th>발화</th>\n      <th>감정</th>\n    </tr>\n  </thead>\n  <tbody>\n    <tr>\n      <th>5662</th>\n      <td>0</td>\n      <td>구급차는?!</td>\n      <td>분노</td>\n    </tr>\n    <tr>\n      <th>23373</th>\n      <td>0</td>\n      <td>가..가만 안있으면 뭐, 내가 겁먹고 못 때릴까봐?</td>\n      <td>분노</td>\n    </tr>\n    <tr>\n      <th>29452</th>\n      <td>0</td>\n      <td>그 미친 놈이... 우리 아들을 저 모양으로 만들었어.. 그런데.. 무슨 벌을 더 ...</td>\n      <td>분노</td>\n    </tr>\n    <tr>\n      <th>1574</th>\n      <td>0</td>\n      <td>치</td>\n      <td>혐오</td>\n    </tr>\n    <tr>\n      <th>2750</th>\n      <td>0</td>\n      <td>그럼 내가 널 왜 만나러 왔겠어?</td>\n      <td>혐오</td>\n    </tr>\n    <tr>\n      <th>1193</th>\n      <td>0</td>\n      <td>잘 줘야 잘 받죠.</td>\n      <td>혐오</td>\n    </tr>\n    <tr>\n      <th>40813</th>\n      <td>0</td>\n      <td>꼭 써야 돼요?</td>\n      <td>중립</td>\n    </tr>\n    <tr>\n      <th>53909</th>\n      <td>S</td>\n      <td>오히려 혼자 있는 게 더 물어보기 쉬울 걸? 아마도. 걔도 너희들한테는 말하기 힘들...</td>\n      <td>중립</td>\n    </tr>\n    <tr>\n      <th>29202</th>\n      <td>0</td>\n      <td>선무당?</td>\n      <td>중립</td>\n    </tr>\n    <tr>\n      <th>23858</th>\n      <td>0</td>\n      <td>어머 언니가 어떻게..</td>\n      <td>놀람</td>\n    </tr>\n    <tr>\n      <th>35875</th>\n      <td>S</td>\n      <td>어? 그 의사가 사줬어?</td>\n      <td>놀람</td>\n    </tr>\n    <tr>\n      <th>27804</th>\n      <td>0</td>\n      <td>뭘?</td>\n      <td>놀람</td>\n    </tr>\n    <tr>\n      <th>1434</th>\n      <td>0</td>\n      <td>아주버니? 이거...갑자기 이런 말 들으니까 쑥스러운데요..허허허.</td>\n      <td>행복</td>\n    </tr>\n    <tr>\n      <th>4754</th>\n      <td>0</td>\n      <td>응응, 좋다아.</td>\n      <td>행복</td>\n    </tr>\n    <tr>\n      <th>6226</th>\n      <td>0</td>\n      <td>달달하죠..</td>\n      <td>행복</td>\n    </tr>\n    <tr>\n      <th>5925</th>\n      <td>0</td>\n      <td>쏠 리가.. 없잖아요.</td>\n      <td>공포</td>\n    </tr>\n    <tr>\n      <th>3355</th>\n      <td>0</td>\n      <td>뭐야. 그렇게 말하니까 무섭잖아. 됐고 오늘 물건 받은 것 중에 풀볼 있지?</td>\n      <td>공포</td>\n    </tr>\n    <tr>\n      <th>53473</th>\n      <td>0</td>\n      <td>그래. 관람차를 흔든다든지, 롤러코스터에서 안전바를 쥐고 있던 내 손을 떼어 낸다든...</td>\n      <td>공포</td>\n    </tr>\n    <tr>\n      <th>12965</th>\n      <td>0</td>\n      <td>지금이라도 할 수 있으면 그렇게 해. 가져가.</td>\n      <td>슬픔</td>\n    </tr>\n    <tr>\n      <th>13059</th>\n      <td>0</td>\n      <td>무서운 거 다 잊고 너무너무 좋은 꿈으로 기억해줘.</td>\n      <td>슬픔</td>\n    </tr>\n    <tr>\n      <th>42319</th>\n      <td>0</td>\n      <td>혼자 그렇게 욕실바닥에 쓰러져 있는거 보니까 남일같지 않드라. 나두 언제 그런 일을...</td>\n      <td>슬픔</td>\n    </tr>\n  </tbody>\n</table>\n</div>"
     },
     "metadata": {},
     "execution_count": 16
    }
   ],
   "source": [
    "# 각 감정에서 3개의 sample 추출 결과\n",
    "# 연속성에 의해 앞뒤의 문맥으로 감정이 보인 경우가 존재 \n",
    "pd.concat([df2[df2.감정 == emotion_].sample(3, random_state = 42) for emotion_ in ['분노', '혐오', '중립', '놀람', '행복', '공포', '슬픔']])"
   ]
  },
  {
   "cell_type": "code",
   "execution_count": 17,
   "metadata": {},
   "outputs": [
    {
     "output_type": "execute_result",
     "data": {
      "text/plain": [
       "count    55621.000000\n",
       "mean         6.571025\n",
       "std          5.387256\n",
       "min          1.000000\n",
       "25%          3.000000\n",
       "50%          5.000000\n",
       "75%          9.000000\n",
       "max         67.000000\n",
       "dtype: float64"
      ]
     },
     "metadata": {},
     "execution_count": 17
    }
   ],
   "source": [
    "# 간단히 띄어쓰기를 기준으로 토큰화를 진행 하였을때 최대 67 최소 1, 평균 6의 분포를 보임.\n",
    "pd.Series([len(i) for i in df2.발화.str.split(' ')]).describe()"
   ]
  },
  {
   "cell_type": "code",
   "execution_count": 18,
   "metadata": {},
   "outputs": [
    {
     "output_type": "execute_result",
     "data": {
      "text/plain": [
       "0\n",
       "dialog #    0\n",
       "발화          0\n",
       "감정          0\n",
       "dtype: int64"
      ]
     },
     "metadata": {},
     "execution_count": 18
    }
   ],
   "source": [
    "# null 값 확인\n",
    "df2.isnull().sum()"
   ]
  },
  {
   "source": [
    "# 3. 악플 데이터셋"
   ],
   "cell_type": "markdown",
   "metadata": {}
  },
  {
   "source": [
    "사전정보\n",
    "* Korean Haste speech dataset 에서 hate ->0 none ->1 라벨링, offensive는 활용하지 않음 (0:1818 1:3364), 공격적이라고 악성댓글은 아니기 때문.\n",
    "* 욕설감지데이터셋 에서 욕설문장만 데이터셋으로 활용 (0:2032), 욕이 안들어갔다고 해서 악성댓글이 아닌 건 아니기 때문.\n",
    "* 본인이 직접 라벨링한 데이터셋 (0:1150 1:1636)\n",
    "* 라벨링 기준은 욕설이 들어갔거나, 강한 혐오표현, 비난이 들어갔을 경우 0으로 라벨링하였다."
   ],
   "cell_type": "markdown",
   "metadata": {}
  },
  {
   "source": [
    "EDA\n",
    "* 악플 여부를 binary 로 구분한 데이터 셋 ( 악플 0, 나머지 1)  \n",
    "* 새로운 단어가 많아 이에 대한 문제가 예상  \n",
    "* 다른 데이터에 비해 두 문장 이상인 경우가 존재함\n",
    "* 악플을 기준으로 삼아 화자의 감정이 없는 경우, 중복적인 경우 등 애매한 영역이 존재  \n",
    "* 간단히 띄어쓰기를 기준으로 토큰화를 진행 하였을때 최대 197 최소 1, 평균 9의 분포를 보임."
   ],
   "cell_type": "markdown",
   "metadata": {}
  },
  {
   "cell_type": "code",
   "execution_count": 19,
   "metadata": {},
   "outputs": [],
   "source": [
    "with open('./악플_데이터셋.csv','r', encoding='UTF8') as f:\n",
    "    df3 = f.read()"
   ]
  },
  {
   "cell_type": "code",
   "execution_count": 20,
   "metadata": {},
   "outputs": [],
   "source": [
    "df3 = [i.split('\\t') for i in df3.split('\\n')]\n",
    "df3 = pd.DataFrame(df3[1:-1],columns=['content','lable'])"
   ]
  },
  {
   "cell_type": "code",
   "execution_count": 21,
   "metadata": {},
   "outputs": [
    {
     "output_type": "execute_result",
     "data": {
      "text/plain": [
       "(10000, 2)"
      ]
     },
     "metadata": {},
     "execution_count": 21
    }
   ],
   "source": [
    "# 만개의 데이터 확인\n",
    "df3.shape"
   ]
  },
  {
   "cell_type": "code",
   "execution_count": 22,
   "metadata": {},
   "outputs": [
    {
     "output_type": "execute_result",
     "data": {
      "text/plain": [
       "                                             content lable\n",
       "0  이종석 한효주 나오는 드라마 이후로 드라마 안봤다. 2년전인가?? 좀 신선했었지. ...     0\n",
       "1                    씨바알..노무노무 술프노... 오늘 저녁은 꽂등심이다ㅠㅜ     0\n",
       "2                                           짱깨 꺼라ㅡ패쓰     0\n",
       "3  그들의 사생활 ~ 고인이된 설리를 위해서라도 모두 조용하길 지금 누굴 탓한다고 무슨...     1\n",
       "4  아무리 법이 뭣같아도 무슨 자격으로 개인의 신상정보를 불특정 다수에게 공개하는지 도...     1\n",
       "5  다음도 들어와라하고...다른 의견내는 유튜버 목 자르고....추아줌마 꺼 여기저기서...     0\n",
       "6               여자들도 아무한테나 자기야라고하는사람있는데 그것도성희롱인것같은데요     1\n",
       "7                          나경아 젖깐사진이나 인스타에 좀올려라 물좀빼게     0\n",
       "8                  어린시절 가정교육 못 받은 애들은 절대 그 본성을 숨길수없지     0\n",
       "9                                  지연이 얼굴은 더 배우같네...     1"
      ],
      "text/html": "<div>\n<style scoped>\n    .dataframe tbody tr th:only-of-type {\n        vertical-align: middle;\n    }\n\n    .dataframe tbody tr th {\n        vertical-align: top;\n    }\n\n    .dataframe thead th {\n        text-align: right;\n    }\n</style>\n<table border=\"1\" class=\"dataframe\">\n  <thead>\n    <tr style=\"text-align: right;\">\n      <th></th>\n      <th>content</th>\n      <th>lable</th>\n    </tr>\n  </thead>\n  <tbody>\n    <tr>\n      <th>0</th>\n      <td>이종석 한효주 나오는 드라마 이후로 드라마 안봤다. 2년전인가?? 좀 신선했었지. ...</td>\n      <td>0</td>\n    </tr>\n    <tr>\n      <th>1</th>\n      <td>씨바알..노무노무 술프노... 오늘 저녁은 꽂등심이다ㅠㅜ</td>\n      <td>0</td>\n    </tr>\n    <tr>\n      <th>2</th>\n      <td>짱깨 꺼라ㅡ패쓰</td>\n      <td>0</td>\n    </tr>\n    <tr>\n      <th>3</th>\n      <td>그들의 사생활 ~ 고인이된 설리를 위해서라도 모두 조용하길 지금 누굴 탓한다고 무슨...</td>\n      <td>1</td>\n    </tr>\n    <tr>\n      <th>4</th>\n      <td>아무리 법이 뭣같아도 무슨 자격으로 개인의 신상정보를 불특정 다수에게 공개하는지 도...</td>\n      <td>1</td>\n    </tr>\n    <tr>\n      <th>5</th>\n      <td>다음도 들어와라하고...다른 의견내는 유튜버 목 자르고....추아줌마 꺼 여기저기서...</td>\n      <td>0</td>\n    </tr>\n    <tr>\n      <th>6</th>\n      <td>여자들도 아무한테나 자기야라고하는사람있는데 그것도성희롱인것같은데요</td>\n      <td>1</td>\n    </tr>\n    <tr>\n      <th>7</th>\n      <td>나경아 젖깐사진이나 인스타에 좀올려라 물좀빼게</td>\n      <td>0</td>\n    </tr>\n    <tr>\n      <th>8</th>\n      <td>어린시절 가정교육 못 받은 애들은 절대 그 본성을 숨길수없지</td>\n      <td>0</td>\n    </tr>\n    <tr>\n      <th>9</th>\n      <td>지연이 얼굴은 더 배우같네...</td>\n      <td>1</td>\n    </tr>\n  </tbody>\n</table>\n</div>"
     },
     "metadata": {},
     "execution_count": 22
    }
   ],
   "source": [
    "# 새로운 단어가 많아 이에 대한 문제가 예상\n",
    "df3.head(10)"
   ]
  },
  {
   "cell_type": "code",
   "execution_count": 23,
   "metadata": {},
   "outputs": [
    {
     "output_type": "execute_result",
     "data": {
      "text/plain": [
       "array(['0', '1', '0\"', '1\"'], dtype=object)"
      ]
     },
     "metadata": {},
     "execution_count": 23
    }
   ],
   "source": [
    "# load 중 에러 발생\n",
    "df3['lable'].unique()"
   ]
  },
  {
   "cell_type": "code",
   "execution_count": 24,
   "metadata": {},
   "outputs": [],
   "source": [
    "temp = []\n",
    "for i in df3['lable']:\n",
    "    if i[-1] =='\"':\n",
    "        temp.append(i[:-1])\n",
    "    else:\n",
    "        temp.append(i)\n",
    "df3['lable'] = temp"
   ]
  },
  {
   "cell_type": "code",
   "execution_count": 25,
   "metadata": {},
   "outputs": [
    {
     "output_type": "execute_result",
     "data": {
      "text/plain": [
       "array(['0', '1'], dtype=object)"
      ]
     },
     "metadata": {},
     "execution_count": 25
    }
   ],
   "source": [
    "# hate ->0 none ->1\n",
    "df3['lable'].unique()"
   ]
  },
  {
   "cell_type": "code",
   "execution_count": 26,
   "metadata": {},
   "outputs": [
    {
     "output_type": "execute_result",
     "data": {
      "text/plain": [
       "0    5000\n",
       "1    5000\n",
       "Name: lable, dtype: int64"
      ]
     },
     "metadata": {},
     "execution_count": 26
    }
   ],
   "source": [
    "# 불균형 없음\n",
    "df3['lable'].value_counts()"
   ]
  },
  {
   "cell_type": "code",
   "execution_count": 27,
   "metadata": {},
   "outputs": [
    {
     "output_type": "execute_result",
     "data": {
      "text/plain": [
       "                                                content lable\n",
       "3031                                 애미고양이 반병신 만들어 놓을테니     0\n",
       "5178  벌받는 악플러 성별보면 죄다 남자ㅋㅋㅂㅅ들 왜그러고사냐? 한남들 걍 뒤져ㅋㅋㅋ 찌질...     0\n",
       "5321                                      대깨문들은 사람이 아니다     0\n",
       "2120  오늘도 우리회사 노가다 2명 집에감 힘들거같다고개새끼 노가다새끼들이 편한거 할 생각...     0\n",
       "1410  일베에서 틀딱거리는 새끼들 = 전라도 대깨문 평균나이 50대이상지들이 노인인 줄 모...     0\n",
       "200                                                개종자들     0\n",
       "1180            폭설와서 못가도 걸어서 복귀하라는데 저걸 믿는 새끼들 미필 대깨재앙이지     0\n",
       "4986             황교안이모지리라도재앙이같이 사악한 인간은아니다아주 끔찍한 인간 문재앙     0\n",
       "4875                                      턱 보정물 빼라 제발이다     0\n",
       "3240  난 그저께 파키스탄에서 접속시도 했다고 경고뜨던데 시발 ㅋㅋㅋ 대체 어디서 내 구글...     0\n",
       "2983  머리좋고 공부잘하면 다 의사하고 변호사하는 사회가 이상한거다. 그러니 명예로운 사다...     1\n",
       "5160                                       고지용 왜 자꾸 나올까     1\n",
       "5295                                      홍윤화살빼니까 더귀엽더라     1\n",
       "2106  난 첨부터 예원 응원했음~ 예원 응원하는 사람들 많으니까 화이팅!! (악플다는애들은...     1\n",
       "1411  남친보다 재미없나 시쳥률이 7%대 주말편성까지 좋은데 얘네는 남친 머리채 안잡으면 ...     1\n",
       "218   ㅋㅋㅋ 난 그냥 벤츠 탈런다 돈있음 뭐하러 현대타냐 걍 다 하는 소리야 요즘 사설 ...     1\n",
       "1177                                   게임기 저작권 불법인건 알지?     1\n",
       "4894  기대가 너무 컸나....생각보다 조금 별로였다...전투씬이 3시간 상영시간중에 너무...     1\n",
       "4782  다 방송 시청률 잘 나오고 평 좋으니까 시즌2 나오는 겁니다. 여기서 아무리 욕해봤...     1\n",
       "3167  손승연 가왕 이후에 계속 라인업 개폭망임 섭외할사람 떨어졌으면 그만하던가... 재미...     1"
      ],
      "text/html": "<div>\n<style scoped>\n    .dataframe tbody tr th:only-of-type {\n        vertical-align: middle;\n    }\n\n    .dataframe tbody tr th {\n        vertical-align: top;\n    }\n\n    .dataframe thead th {\n        text-align: right;\n    }\n</style>\n<table border=\"1\" class=\"dataframe\">\n  <thead>\n    <tr style=\"text-align: right;\">\n      <th></th>\n      <th>content</th>\n      <th>lable</th>\n    </tr>\n  </thead>\n  <tbody>\n    <tr>\n      <th>3031</th>\n      <td>애미고양이 반병신 만들어 놓을테니</td>\n      <td>0</td>\n    </tr>\n    <tr>\n      <th>5178</th>\n      <td>벌받는 악플러 성별보면 죄다 남자ㅋㅋㅂㅅ들 왜그러고사냐? 한남들 걍 뒤져ㅋㅋㅋ 찌질...</td>\n      <td>0</td>\n    </tr>\n    <tr>\n      <th>5321</th>\n      <td>대깨문들은 사람이 아니다</td>\n      <td>0</td>\n    </tr>\n    <tr>\n      <th>2120</th>\n      <td>오늘도 우리회사 노가다 2명 집에감 힘들거같다고개새끼 노가다새끼들이 편한거 할 생각...</td>\n      <td>0</td>\n    </tr>\n    <tr>\n      <th>1410</th>\n      <td>일베에서 틀딱거리는 새끼들 = 전라도 대깨문 평균나이 50대이상지들이 노인인 줄 모...</td>\n      <td>0</td>\n    </tr>\n    <tr>\n      <th>200</th>\n      <td>개종자들</td>\n      <td>0</td>\n    </tr>\n    <tr>\n      <th>1180</th>\n      <td>폭설와서 못가도 걸어서 복귀하라는데 저걸 믿는 새끼들 미필 대깨재앙이지</td>\n      <td>0</td>\n    </tr>\n    <tr>\n      <th>4986</th>\n      <td>황교안이모지리라도재앙이같이 사악한 인간은아니다아주 끔찍한 인간 문재앙</td>\n      <td>0</td>\n    </tr>\n    <tr>\n      <th>4875</th>\n      <td>턱 보정물 빼라 제발이다</td>\n      <td>0</td>\n    </tr>\n    <tr>\n      <th>3240</th>\n      <td>난 그저께 파키스탄에서 접속시도 했다고 경고뜨던데 시발 ㅋㅋㅋ 대체 어디서 내 구글...</td>\n      <td>0</td>\n    </tr>\n    <tr>\n      <th>2983</th>\n      <td>머리좋고 공부잘하면 다 의사하고 변호사하는 사회가 이상한거다. 그러니 명예로운 사다...</td>\n      <td>1</td>\n    </tr>\n    <tr>\n      <th>5160</th>\n      <td>고지용 왜 자꾸 나올까</td>\n      <td>1</td>\n    </tr>\n    <tr>\n      <th>5295</th>\n      <td>홍윤화살빼니까 더귀엽더라</td>\n      <td>1</td>\n    </tr>\n    <tr>\n      <th>2106</th>\n      <td>난 첨부터 예원 응원했음~ 예원 응원하는 사람들 많으니까 화이팅!! (악플다는애들은...</td>\n      <td>1</td>\n    </tr>\n    <tr>\n      <th>1411</th>\n      <td>남친보다 재미없나 시쳥률이 7%대 주말편성까지 좋은데 얘네는 남친 머리채 안잡으면 ...</td>\n      <td>1</td>\n    </tr>\n    <tr>\n      <th>218</th>\n      <td>ㅋㅋㅋ 난 그냥 벤츠 탈런다 돈있음 뭐하러 현대타냐 걍 다 하는 소리야 요즘 사설 ...</td>\n      <td>1</td>\n    </tr>\n    <tr>\n      <th>1177</th>\n      <td>게임기 저작권 불법인건 알지?</td>\n      <td>1</td>\n    </tr>\n    <tr>\n      <th>4894</th>\n      <td>기대가 너무 컸나....생각보다 조금 별로였다...전투씬이 3시간 상영시간중에 너무...</td>\n      <td>1</td>\n    </tr>\n    <tr>\n      <th>4782</th>\n      <td>다 방송 시청률 잘 나오고 평 좋으니까 시즌2 나오는 겁니다. 여기서 아무리 욕해봤...</td>\n      <td>1</td>\n    </tr>\n    <tr>\n      <th>3167</th>\n      <td>손승연 가왕 이후에 계속 라인업 개폭망임 섭외할사람 떨어졌으면 그만하던가... 재미...</td>\n      <td>1</td>\n    </tr>\n  </tbody>\n</table>\n</div>"
     },
     "metadata": {},
     "execution_count": 27
    }
   ],
   "source": [
    "# 5개의 sample 추출 결과\n",
    "# 0은 악플 여부 이에 감정이 들어간 경우도 있지만 없는 경우 또한 존재.\n",
    "pd.concat([df3[df3.lable == emotion_].sample(10, random_state = 42) for emotion_ in ['0', '1']])"
   ]
  },
  {
   "cell_type": "code",
   "execution_count": 28,
   "metadata": {},
   "outputs": [
    {
     "output_type": "execute_result",
     "data": {
      "text/plain": [
       "count    10000.000000\n",
       "mean         9.069500\n",
       "std          8.356091\n",
       "min          1.000000\n",
       "25%          4.000000\n",
       "50%          7.000000\n",
       "75%         12.000000\n",
       "max        197.000000\n",
       "dtype: float64"
      ]
     },
     "metadata": {},
     "execution_count": 28
    }
   ],
   "source": [
    "# 간단히 띄어쓰기를 기준으로 토큰화를 진행 하였을때 최대 197 최소 1, 평균 9의 분포를 보임.\n",
    "# 앞선 데이터에 비해 두 문장 이상인 경우가 존재함\n",
    "pd.Series([len(i) for i in df3.content.str.split(' ')]).describe()"
   ]
  },
  {
   "cell_type": "code",
   "execution_count": 29,
   "metadata": {},
   "outputs": [
    {
     "output_type": "execute_result",
     "data": {
      "text/plain": [
       "content    0\n",
       "lable      0\n",
       "dtype: int64"
      ]
     },
     "metadata": {},
     "execution_count": 29
    }
   ],
   "source": [
    "# null 값 확인\n",
    "df3.isnull().sum()"
   ]
  },
  {
   "source": [
    "# 4. 감정 분류를 위한 대화 음성 데이터셋 4차"
   ],
   "cell_type": "markdown",
   "metadata": {}
  },
  {
   "source": [
    "사전 정보\n",
    "* 감성대화 어플리케이션을 이용한 수집\n",
    "* 일정 기간동안 사용자들이 어플리케이션과 자연스럽게 대화하고, 수집된 데이터를 정제 작업을 거쳐 선별\n",
    "* 7가지 감정(happiness, angry, disgust, fear, neutral, sadness, surprise)에 대해 5명이 라벨링\n",
    "* csv 포맷 파일의 메타정보: 대화의 상황, 음성인식 결과, 감정 라벨링 정보, 사용자의 성별 나이 정보"
   ],
   "cell_type": "markdown",
   "metadata": {}
  },
  {
   "source": [
    "EDA\n",
    "* 5명의 라벨 데이터를 하나의 결과로 만드는 과정을 진행(가장 많은 투표 받은 라벨)\n",
    "* 데이터 불균형 존재 슬픔 7042 , 놀람 57\n",
    "* 오타는 거의 없음\n",
    "* 간단히 띄어쓰기를 기준으로 토큰화를 진행 하였을때 최대 32 최소 1, 평균 6 의 분포를 보임."
   ],
   "cell_type": "markdown",
   "metadata": {}
  },
  {
   "cell_type": "code",
   "execution_count": 30,
   "metadata": {},
   "outputs": [],
   "source": [
    "df4 = pd.read_csv('./감정_분류를_위한_대화_음성_데이터셋_4차.csv',encoding='cp949')"
   ]
  },
  {
   "cell_type": "code",
   "execution_count": 31,
   "metadata": {},
   "outputs": [
    {
     "output_type": "execute_result",
     "data": {
      "text/plain": [
       "(14606, 15)"
      ]
     },
     "metadata": {},
     "execution_count": 31
    }
   ],
   "source": [
    "df4.shape"
   ]
  },
  {
   "cell_type": "code",
   "execution_count": 32,
   "metadata": {},
   "outputs": [
    {
     "output_type": "execute_result",
     "data": {
      "text/plain": [
       "                     wav_id                            발화문     상황    1번 감정  \\\n",
       "0  5e258fd1305bcf3ad153a6a4               어, 청소 니가 대신 해 줘!  anger  Neutral   \n",
       "1  5e258fe2305bcf3ad153a6a5             둘 다 청소 하기 싫어. 귀찮아.  anger  Neutral   \n",
       "2  5e258ff5305bcf3ad153a6a6                 둘 다 하기 싫어서 화내.  anger    Angry   \n",
       "3  5e25902f305bcf3ad153a6a9                    그럼 방세는 어떡해.  anger  Sadness   \n",
       "4  5e27f90b5807b852d9e0157b      권태긴줄 알았는데 다른 사람이 생겼나보더라고.    sad  Sadness   \n",
       "5  5e27fa1c5807b852d9e01586                      그냥 걷고 있어.    sad  Neutral   \n",
       "6  5e27fb575807b852d9e01595   어. 고등학교 동창인데 이렇게 더럽게 쓸줄 몰랐어.  anger  Disgust   \n",
       "7  5e2840225807b852d9e01618  처음 학원에서 만났다가 서로 좋아해서 사귀게 되었지.    sad  Neutral   \n",
       "8  5e2840415807b852d9e01619     내가 애정 표현을 잘 못해서 자주 싸우긴 했어.    sad  Neutral   \n",
       "9  5e28405b5807b852d9e0161a                       오늘 헤어졌어.    sad  Sadness   \n",
       "\n",
       "   1번 감정세기    2번 감정  2번 감정세기      3번 감정  3번 감정세기    4번 감정  4번감정세기    5번 감정  \\\n",
       "0        0    Angry        1    Neutral        0  Neutral       0    Angry   \n",
       "1        0    Angry        1    Neutral        0  Neutral       0    Angry   \n",
       "2        1    Angry        1    Neutral        0    Angry       1    Angry   \n",
       "3        1  Sadness        1    Sadness        1  Sadness       1  Sadness   \n",
       "4        1  Sadness        1    Sadness        1  Sadness       2  Sadness   \n",
       "5        0  Neutral        0    Neutral        0  Sadness       2  Neutral   \n",
       "6        2  Disgust        1      Angry        1  Disgust       2    Angry   \n",
       "7        0  Neutral        0  Happiness        1  Neutral       0  Neutral   \n",
       "8        0  Sadness        1    Sadness        1  Sadness       1  Sadness   \n",
       "9        1  Neutral        0    Sadness        1  Sadness       1  Sadness   \n",
       "\n",
       "   5번 감정세기  나이    성별  \n",
       "0        1  27  male  \n",
       "1        1  27  male  \n",
       "2        1  27  male  \n",
       "3        1  27  male  \n",
       "4        1  32  male  \n",
       "5        0  32  male  \n",
       "6        1  32  male  \n",
       "7        0  28  male  \n",
       "8        2  28  male  \n",
       "9        1  28  male  "
      ],
      "text/html": "<div>\n<style scoped>\n    .dataframe tbody tr th:only-of-type {\n        vertical-align: middle;\n    }\n\n    .dataframe tbody tr th {\n        vertical-align: top;\n    }\n\n    .dataframe thead th {\n        text-align: right;\n    }\n</style>\n<table border=\"1\" class=\"dataframe\">\n  <thead>\n    <tr style=\"text-align: right;\">\n      <th></th>\n      <th>wav_id</th>\n      <th>발화문</th>\n      <th>상황</th>\n      <th>1번 감정</th>\n      <th>1번 감정세기</th>\n      <th>2번 감정</th>\n      <th>2번 감정세기</th>\n      <th>3번 감정</th>\n      <th>3번 감정세기</th>\n      <th>4번 감정</th>\n      <th>4번감정세기</th>\n      <th>5번 감정</th>\n      <th>5번 감정세기</th>\n      <th>나이</th>\n      <th>성별</th>\n    </tr>\n  </thead>\n  <tbody>\n    <tr>\n      <th>0</th>\n      <td>5e258fd1305bcf3ad153a6a4</td>\n      <td>어, 청소 니가 대신 해 줘!</td>\n      <td>anger</td>\n      <td>Neutral</td>\n      <td>0</td>\n      <td>Angry</td>\n      <td>1</td>\n      <td>Neutral</td>\n      <td>0</td>\n      <td>Neutral</td>\n      <td>0</td>\n      <td>Angry</td>\n      <td>1</td>\n      <td>27</td>\n      <td>male</td>\n    </tr>\n    <tr>\n      <th>1</th>\n      <td>5e258fe2305bcf3ad153a6a5</td>\n      <td>둘 다 청소 하기 싫어. 귀찮아.</td>\n      <td>anger</td>\n      <td>Neutral</td>\n      <td>0</td>\n      <td>Angry</td>\n      <td>1</td>\n      <td>Neutral</td>\n      <td>0</td>\n      <td>Neutral</td>\n      <td>0</td>\n      <td>Angry</td>\n      <td>1</td>\n      <td>27</td>\n      <td>male</td>\n    </tr>\n    <tr>\n      <th>2</th>\n      <td>5e258ff5305bcf3ad153a6a6</td>\n      <td>둘 다 하기 싫어서 화내.</td>\n      <td>anger</td>\n      <td>Angry</td>\n      <td>1</td>\n      <td>Angry</td>\n      <td>1</td>\n      <td>Neutral</td>\n      <td>0</td>\n      <td>Angry</td>\n      <td>1</td>\n      <td>Angry</td>\n      <td>1</td>\n      <td>27</td>\n      <td>male</td>\n    </tr>\n    <tr>\n      <th>3</th>\n      <td>5e25902f305bcf3ad153a6a9</td>\n      <td>그럼 방세는 어떡해.</td>\n      <td>anger</td>\n      <td>Sadness</td>\n      <td>1</td>\n      <td>Sadness</td>\n      <td>1</td>\n      <td>Sadness</td>\n      <td>1</td>\n      <td>Sadness</td>\n      <td>1</td>\n      <td>Sadness</td>\n      <td>1</td>\n      <td>27</td>\n      <td>male</td>\n    </tr>\n    <tr>\n      <th>4</th>\n      <td>5e27f90b5807b852d9e0157b</td>\n      <td>권태긴줄 알았는데 다른 사람이 생겼나보더라고.</td>\n      <td>sad</td>\n      <td>Sadness</td>\n      <td>1</td>\n      <td>Sadness</td>\n      <td>1</td>\n      <td>Sadness</td>\n      <td>1</td>\n      <td>Sadness</td>\n      <td>2</td>\n      <td>Sadness</td>\n      <td>1</td>\n      <td>32</td>\n      <td>male</td>\n    </tr>\n    <tr>\n      <th>5</th>\n      <td>5e27fa1c5807b852d9e01586</td>\n      <td>그냥 걷고 있어.</td>\n      <td>sad</td>\n      <td>Neutral</td>\n      <td>0</td>\n      <td>Neutral</td>\n      <td>0</td>\n      <td>Neutral</td>\n      <td>0</td>\n      <td>Sadness</td>\n      <td>2</td>\n      <td>Neutral</td>\n      <td>0</td>\n      <td>32</td>\n      <td>male</td>\n    </tr>\n    <tr>\n      <th>6</th>\n      <td>5e27fb575807b852d9e01595</td>\n      <td>어. 고등학교 동창인데 이렇게 더럽게 쓸줄 몰랐어.</td>\n      <td>anger</td>\n      <td>Disgust</td>\n      <td>2</td>\n      <td>Disgust</td>\n      <td>1</td>\n      <td>Angry</td>\n      <td>1</td>\n      <td>Disgust</td>\n      <td>2</td>\n      <td>Angry</td>\n      <td>1</td>\n      <td>32</td>\n      <td>male</td>\n    </tr>\n    <tr>\n      <th>7</th>\n      <td>5e2840225807b852d9e01618</td>\n      <td>처음 학원에서 만났다가 서로 좋아해서 사귀게 되었지.</td>\n      <td>sad</td>\n      <td>Neutral</td>\n      <td>0</td>\n      <td>Neutral</td>\n      <td>0</td>\n      <td>Happiness</td>\n      <td>1</td>\n      <td>Neutral</td>\n      <td>0</td>\n      <td>Neutral</td>\n      <td>0</td>\n      <td>28</td>\n      <td>male</td>\n    </tr>\n    <tr>\n      <th>8</th>\n      <td>5e2840415807b852d9e01619</td>\n      <td>내가 애정 표현을 잘 못해서 자주 싸우긴 했어.</td>\n      <td>sad</td>\n      <td>Neutral</td>\n      <td>0</td>\n      <td>Sadness</td>\n      <td>1</td>\n      <td>Sadness</td>\n      <td>1</td>\n      <td>Sadness</td>\n      <td>1</td>\n      <td>Sadness</td>\n      <td>2</td>\n      <td>28</td>\n      <td>male</td>\n    </tr>\n    <tr>\n      <th>9</th>\n      <td>5e28405b5807b852d9e0161a</td>\n      <td>오늘 헤어졌어.</td>\n      <td>sad</td>\n      <td>Sadness</td>\n      <td>1</td>\n      <td>Neutral</td>\n      <td>0</td>\n      <td>Sadness</td>\n      <td>1</td>\n      <td>Sadness</td>\n      <td>1</td>\n      <td>Sadness</td>\n      <td>1</td>\n      <td>28</td>\n      <td>male</td>\n    </tr>\n  </tbody>\n</table>\n</div>"
     },
     "metadata": {},
     "execution_count": 32
    }
   ],
   "source": [
    "# 5명의 감정 분류를 하나로 통합하는 과정이 필요\n",
    "df4.head(10)"
   ]
  },
  {
   "cell_type": "code",
   "execution_count": 33,
   "metadata": {},
   "outputs": [
    {
     "output_type": "stream",
     "name": "stdout",
     "text": [
      "{'Disgust', 'Fear', 'Neutral', 'Surprise', 'Angry', 'Happiness', 'Sadness'}\n{'Disgust', 'Fear', 'Neutral', 'Surprise', 'Angry', 'Happiness', 'Sadness'}\n{'Fear', 'Disgust', 'Neutral', 'Surprise', 'Happiness', 'Angry', 'Sadness'}\n{'Fear', 'Disgust', 'Neutral', 'Surprise', 'Angry', 'Happiness', 'Sadness'}\n{'Disgust', 'Fear', 'Neutral', 'Surprise', 'Angry', 'Happiness', 'Sadness'}\n"
     ]
    }
   ],
   "source": [
    "# 모두 7개의 감정을 사용하고 있음\n",
    "for i in range(1,6):\n",
    "    print(set(df4[f'{i}번 감정'].unique()))"
   ]
  },
  {
   "cell_type": "code",
   "execution_count": 34,
   "metadata": {},
   "outputs": [
    {
     "output_type": "execute_result",
     "data": {
      "text/plain": [
       "<AxesSubplot:>"
      ]
     },
     "metadata": {},
     "execution_count": 34
    },
    {
     "output_type": "stream",
     "name": "stderr",
     "text": [
      "C:\\Users\\USER\\anaconda3\\envs\\chat\\lib\\site-packages\\matplotlib\\textpath.py:65: RuntimeWarning: Glyph 48264 missing from current font.\n",
      "  font.set_text(s, 0.0, flags=LOAD_NO_HINTING)\n",
      "C:\\Users\\USER\\anaconda3\\envs\\chat\\lib\\site-packages\\matplotlib\\textpath.py:65: RuntimeWarning: Glyph 44048 missing from current font.\n",
      "  font.set_text(s, 0.0, flags=LOAD_NO_HINTING)\n",
      "C:\\Users\\USER\\anaconda3\\envs\\chat\\lib\\site-packages\\matplotlib\\textpath.py:65: RuntimeWarning: Glyph 51221 missing from current font.\n",
      "  font.set_text(s, 0.0, flags=LOAD_NO_HINTING)\n",
      "C:\\Users\\USER\\anaconda3\\envs\\chat\\lib\\site-packages\\matplotlib\\backends\\backend_agg.py:240: RuntimeWarning: Glyph 48264 missing from current font.\n",
      "  font.set_text(s, 0.0, flags=flags)\n",
      "C:\\Users\\USER\\anaconda3\\envs\\chat\\lib\\site-packages\\matplotlib\\backends\\backend_agg.py:240: RuntimeWarning: Glyph 44048 missing from current font.\n",
      "  font.set_text(s, 0.0, flags=flags)\n",
      "C:\\Users\\USER\\anaconda3\\envs\\chat\\lib\\site-packages\\matplotlib\\backends\\backend_agg.py:240: RuntimeWarning: Glyph 51221 missing from current font.\n",
      "  font.set_text(s, 0.0, flags=flags)\n",
      "C:\\Users\\USER\\anaconda3\\envs\\chat\\lib\\site-packages\\matplotlib\\backends\\backend_agg.py:203: RuntimeWarning: Glyph 48264 missing from current font.\n",
      "  font.set_text(s, 0, flags=flags)\n",
      "C:\\Users\\USER\\anaconda3\\envs\\chat\\lib\\site-packages\\matplotlib\\backends\\backend_agg.py:203: RuntimeWarning: Glyph 44048 missing from current font.\n",
      "  font.set_text(s, 0, flags=flags)\n",
      "C:\\Users\\USER\\anaconda3\\envs\\chat\\lib\\site-packages\\matplotlib\\backends\\backend_agg.py:203: RuntimeWarning: Glyph 51221 missing from current font.\n",
      "  font.set_text(s, 0, flags=flags)\n"
     ]
    },
    {
     "output_type": "display_data",
     "data": {
      "text/plain": "<Figure size 432x288 with 1 Axes>",
      "image/svg+xml": "<?xml version=\"1.0\" encoding=\"utf-8\" standalone=\"no\"?>\r\n<!DOCTYPE svg PUBLIC \"-//W3C//DTD SVG 1.1//EN\"\r\n  \"http://www.w3.org/Graphics/SVG/1.1/DTD/svg11.dtd\">\r\n<svg height=\"290.872812pt\" version=\"1.1\" viewBox=\"0 0 381.65 290.872812\" width=\"381.65pt\" xmlns=\"http://www.w3.org/2000/svg\" xmlns:xlink=\"http://www.w3.org/1999/xlink\">\r\n <metadata>\r\n  <rdf:RDF xmlns:cc=\"http://creativecommons.org/ns#\" xmlns:dc=\"http://purl.org/dc/elements/1.1/\" xmlns:rdf=\"http://www.w3.org/1999/02/22-rdf-syntax-ns#\">\r\n   <cc:Work>\r\n    <dc:type rdf:resource=\"http://purl.org/dc/dcmitype/StillImage\"/>\r\n    <dc:date>2021-06-04T13:33:32.020632</dc:date>\r\n    <dc:format>image/svg+xml</dc:format>\r\n    <dc:creator>\r\n     <cc:Agent>\r\n      <dc:title>Matplotlib v3.4.2, https://matplotlib.org/</dc:title>\r\n     </cc:Agent>\r\n    </dc:creator>\r\n   </cc:Work>\r\n  </rdf:RDF>\r\n </metadata>\r\n <defs>\r\n  <style type=\"text/css\">*{stroke-linecap:butt;stroke-linejoin:round;}</style>\r\n </defs>\r\n <g id=\"figure_1\">\r\n  <g id=\"patch_1\">\r\n   <path d=\"M -0 290.872812 \r\nL 381.65 290.872812 \r\nL 381.65 0 \r\nL -0 0 \r\nz\r\n\" style=\"fill:none;\"/>\r\n  </g>\r\n  <g id=\"axes_1\">\r\n   <g id=\"patch_2\">\r\n    <path d=\"M 39.65 224.64 \r\nL 374.45 224.64 \r\nL 374.45 7.2 \r\nL 39.65 7.2 \r\nz\r\n\" style=\"fill:#ffffff;\"/>\r\n   </g>\r\n   <g id=\"patch_3\">\r\n    <path clip-path=\"url(#p356859d7bf)\" d=\"M 51.607143 224.64 \r\nL 56.39 224.64 \r\nL 56.39 40.087943 \r\nL 51.607143 40.087943 \r\nz\r\n\" style=\"fill:#1f77b4;\"/>\r\n   </g>\r\n   <g id=\"patch_4\">\r\n    <path clip-path=\"url(#p356859d7bf)\" d=\"M 99.435714 224.64 \r\nL 104.218571 224.64 \r\nL 104.218571 130.194582 \r\nL 99.435714 130.194582 \r\nz\r\n\" style=\"fill:#1f77b4;\"/>\r\n   </g>\r\n   <g id=\"patch_5\">\r\n    <path clip-path=\"url(#p356859d7bf)\" d=\"M 147.264286 224.64 \r\nL 152.047143 224.64 \r\nL 152.047143 150.88076 \r\nL 147.264286 150.88076 \r\nz\r\n\" style=\"fill:#1f77b4;\"/>\r\n   </g>\r\n   <g id=\"patch_6\">\r\n    <path clip-path=\"url(#p356859d7bf)\" d=\"M 195.092857 224.64 \r\nL 199.875714 224.64 \r\nL 199.875714 199.083193 \r\nL 195.092857 199.083193 \r\nz\r\n\" style=\"fill:#1f77b4;\"/>\r\n   </g>\r\n   <g id=\"patch_7\">\r\n    <path clip-path=\"url(#p356859d7bf)\" d=\"M 242.921429 224.64 \r\nL 247.704286 224.64 \r\nL 247.704286 206.585082 \r\nL 242.921429 206.585082 \r\nz\r\n\" style=\"fill:#1f77b4;\"/>\r\n   </g>\r\n   <g id=\"patch_8\">\r\n    <path clip-path=\"url(#p356859d7bf)\" d=\"M 290.75 224.64 \r\nL 295.532857 224.64 \r\nL 295.532857 215.626537 \r\nL 290.75 215.626537 \r\nz\r\n\" style=\"fill:#1f77b4;\"/>\r\n   </g>\r\n   <g id=\"patch_9\">\r\n    <path clip-path=\"url(#p356859d7bf)\" d=\"M 338.578571 224.64 \r\nL 343.361429 224.64 \r\nL 343.361429 221.168977 \r\nL 338.578571 221.168977 \r\nz\r\n\" style=\"fill:#1f77b4;\"/>\r\n   </g>\r\n   <g id=\"patch_10\">\r\n    <path clip-path=\"url(#p356859d7bf)\" d=\"M 56.39 224.64 \r\nL 61.172857 224.64 \r\nL 61.172857 24.580308 \r\nL 56.39 24.580308 \r\nz\r\n\" style=\"fill:#ff7f0e;\"/>\r\n   </g>\r\n   <g id=\"patch_11\">\r\n    <path clip-path=\"url(#p356859d7bf)\" d=\"M 104.218571 224.64 \r\nL 109.001429 224.64 \r\nL 109.001429 120.453324 \r\nL 104.218571 120.453324 \r\nz\r\n\" style=\"fill:#ff7f0e;\"/>\r\n   </g>\r\n   <g id=\"patch_12\">\r\n    <path clip-path=\"url(#p356859d7bf)\" d=\"M 152.047143 224.64 \r\nL 156.83 224.64 \r\nL 156.83 185.115125 \r\nL 152.047143 185.115125 \r\nz\r\n\" style=\"fill:#ff7f0e;\"/>\r\n   </g>\r\n   <g id=\"patch_13\">\r\n    <path clip-path=\"url(#p356859d7bf)\" d=\"M 199.875714 224.64 \r\nL 204.658571 224.64 \r\nL 204.658571 196.088036 \r\nL 199.875714 196.088036 \r\nz\r\n\" style=\"fill:#ff7f0e;\"/>\r\n   </g>\r\n   <g id=\"patch_14\">\r\n    <path clip-path=\"url(#p356859d7bf)\" d=\"M 247.704286 224.64 \r\nL 252.487143 224.64 \r\nL 252.487143 202.47024 \r\nL 247.704286 202.47024 \r\nz\r\n\" style=\"fill:#ff7f0e;\"/>\r\n   </g>\r\n   <g id=\"patch_15\">\r\n    <path clip-path=\"url(#p356859d7bf)\" d=\"M 295.532857 224.64 \r\nL 300.315714 224.64 \r\nL 300.315714 213.639096 \r\nL 295.532857 213.639096 \r\nz\r\n\" style=\"fill:#ff7f0e;\"/>\r\n   </g>\r\n   <g id=\"patch_16\">\r\n    <path clip-path=\"url(#p356859d7bf)\" d=\"M 343.361429 224.64 \r\nL 348.144286 224.64 \r\nL 348.144286 221.280945 \r\nL 343.361429 221.280945 \r\nz\r\n\" style=\"fill:#ff7f0e;\"/>\r\n   </g>\r\n   <g id=\"patch_17\">\r\n    <path clip-path=\"url(#p356859d7bf)\" d=\"M 61.172857 224.64 \r\nL 65.955714 224.64 \r\nL 65.955714 26.987631 \r\nL 61.172857 26.987631 \r\nz\r\n\" style=\"fill:#2ca02c;\"/>\r\n   </g>\r\n   <g id=\"patch_18\">\r\n    <path clip-path=\"url(#p356859d7bf)\" d=\"M 109.001429 224.64 \r\nL 113.784286 224.64 \r\nL 113.784286 112.727499 \r\nL 109.001429 112.727499 \r\nz\r\n\" style=\"fill:#2ca02c;\"/>\r\n   </g>\r\n   <g id=\"patch_19\">\r\n    <path clip-path=\"url(#p356859d7bf)\" d=\"M 156.83 224.64 \r\nL 161.612857 224.64 \r\nL 161.612857 183.351621 \r\nL 156.83 183.351621 \r\nz\r\n\" style=\"fill:#2ca02c;\"/>\r\n   </g>\r\n   <g id=\"patch_20\">\r\n    <path clip-path=\"url(#p356859d7bf)\" d=\"M 204.658571 224.64 \r\nL 209.441429 224.64 \r\nL 209.441429 195.556186 \r\nL 204.658571 195.556186 \r\nz\r\n\" style=\"fill:#2ca02c;\"/>\r\n   </g>\r\n   <g id=\"patch_21\">\r\n    <path clip-path=\"url(#p356859d7bf)\" d=\"M 252.487143 224.64 \r\nL 257.27 224.64 \r\nL 257.27 199.447091 \r\nL 252.487143 199.447091 \r\nz\r\n\" style=\"fill:#2ca02c;\"/>\r\n   </g>\r\n   <g id=\"patch_22\">\r\n    <path clip-path=\"url(#p356859d7bf)\" d=\"M 300.315714 224.64 \r\nL 305.098571 224.64 \r\nL 305.098571 223.044449 \r\nL 300.315714 223.044449 \r\nz\r\n\" style=\"fill:#2ca02c;\"/>\r\n   </g>\r\n   <g id=\"patch_23\">\r\n    <path clip-path=\"url(#p356859d7bf)\" d=\"M 348.144286 224.64 \r\nL 352.927143 224.64 \r\nL 352.927143 222.512599 \r\nL 348.144286 222.512599 \r\nz\r\n\" style=\"fill:#2ca02c;\"/>\r\n   </g>\r\n   <g id=\"patch_24\">\r\n    <path clip-path=\"url(#p356859d7bf)\" d=\"M 65.955714 224.64 \r\nL 70.738571 224.64 \r\nL 70.738571 29.814835 \r\nL 65.955714 29.814835 \r\nz\r\n\" style=\"fill:#d62728;\"/>\r\n   </g>\r\n   <g id=\"patch_25\">\r\n    <path clip-path=\"url(#p356859d7bf)\" d=\"M 113.784286 224.64 \r\nL 118.567143 224.64 \r\nL 118.567143 110.180216 \r\nL 113.784286 110.180216 \r\nz\r\n\" style=\"fill:#d62728;\"/>\r\n   </g>\r\n   <g id=\"patch_26\">\r\n    <path clip-path=\"url(#p356859d7bf)\" d=\"M 161.612857 224.64 \r\nL 166.395714 224.64 \r\nL 166.395714 193.428785 \r\nL 161.612857 193.428785 \r\nz\r\n\" style=\"fill:#d62728;\"/>\r\n   </g>\r\n   <g id=\"patch_27\">\r\n    <path clip-path=\"url(#p356859d7bf)\" d=\"M 209.441429 224.64 \r\nL 214.224286 224.64 \r\nL 214.224286 190.06973 \r\nL 209.441429 190.06973 \r\nz\r\n\" style=\"fill:#d62728;\"/>\r\n   </g>\r\n   <g id=\"patch_28\">\r\n    <path clip-path=\"url(#p356859d7bf)\" d=\"M 257.27 224.64 \r\nL 262.052857 224.64 \r\nL 262.052857 193.428785 \r\nL 257.27 193.428785 \r\nz\r\n\" style=\"fill:#d62728;\"/>\r\n   </g>\r\n   <g id=\"patch_29\">\r\n    <path clip-path=\"url(#p356859d7bf)\" d=\"M 305.098571 224.64 \r\nL 309.881429 224.64 \r\nL 309.881429 223.436339 \r\nL 305.098571 223.436339 \r\nz\r\n\" style=\"fill:#d62728;\"/>\r\n   </g>\r\n   <g id=\"patch_30\">\r\n    <path clip-path=\"url(#p356859d7bf)\" d=\"M 352.927143 224.64 \r\nL 357.71 224.64 \r\nL 357.71 223.268386 \r\nL 352.927143 223.268386 \r\nz\r\n\" style=\"fill:#d62728;\"/>\r\n   </g>\r\n   <g id=\"patch_31\">\r\n    <path clip-path=\"url(#p356859d7bf)\" d=\"M 70.738571 224.64 \r\nL 75.521429 224.64 \r\nL 75.521429 17.554286 \r\nL 70.738571 17.554286 \r\nz\r\n\" style=\"fill:#9467bd;\"/>\r\n   </g>\r\n   <g id=\"patch_32\">\r\n    <path clip-path=\"url(#p356859d7bf)\" d=\"M 118.567143 224.64 \r\nL 123.35 224.64 \r\nL 123.35 139.655919 \r\nL 118.567143 139.655919 \r\nz\r\n\" style=\"fill:#9467bd;\"/>\r\n   </g>\r\n   <g id=\"patch_33\">\r\n    <path clip-path=\"url(#p356859d7bf)\" d=\"M 166.395714 224.64 \r\nL 171.178571 224.64 \r\nL 171.178571 165.968513 \r\nL 166.395714 165.968513 \r\nz\r\n\" style=\"fill:#9467bd;\"/>\r\n   </g>\r\n   <g id=\"patch_34\">\r\n    <path clip-path=\"url(#p356859d7bf)\" d=\"M 214.224286 224.64 \r\nL 219.007143 224.64 \r\nL 219.007143 203.086067 \r\nL 214.224286 203.086067 \r\nz\r\n\" style=\"fill:#9467bd;\"/>\r\n   </g>\r\n   <g id=\"patch_35\">\r\n    <path clip-path=\"url(#p356859d7bf)\" d=\"M 262.052857 224.64 \r\nL 266.835714 224.64 \r\nL 266.835714 197.627603 \r\nL 262.052857 197.627603 \r\nz\r\n\" style=\"fill:#9467bd;\"/>\r\n   </g>\r\n   <g id=\"patch_36\">\r\n    <path clip-path=\"url(#p356859d7bf)\" d=\"M 309.881429 224.64 \r\nL 314.664286 224.64 \r\nL 314.664286 221.504882 \r\nL 309.881429 221.504882 \r\nz\r\n\" style=\"fill:#9467bd;\"/>\r\n   </g>\r\n   <g id=\"patch_37\">\r\n    <path clip-path=\"url(#p356859d7bf)\" d=\"M 357.71 224.64 \r\nL 362.492857 224.64 \r\nL 362.492857 218.229804 \r\nL 357.71 218.229804 \r\nz\r\n\" style=\"fill:#9467bd;\"/>\r\n   </g>\r\n   <g id=\"matplotlib.axis_1\">\r\n    <g id=\"xtick_1\">\r\n     <g id=\"line2d_1\">\r\n      <defs>\r\n       <path d=\"M 0 0 \r\nL 0 3.5 \r\n\" id=\"m8d731c353a\" style=\"stroke:#000000;stroke-width:0.8;\"/>\r\n      </defs>\r\n      <g>\r\n       <use style=\"stroke:#000000;stroke-width:0.8;\" x=\"63.564286\" xlink:href=\"#m8d731c353a\" y=\"224.64\"/>\r\n      </g>\r\n     </g>\r\n     <g id=\"text_1\">\r\n      <!-- Sadness -->\r\n      <g transform=\"translate(66.323661 273.374375)rotate(-90)scale(0.1 -0.1)\">\r\n       <defs>\r\n        <path d=\"M 3425 4513 \r\nL 3425 3897 \r\nQ 3066 4069 2747 4153 \r\nQ 2428 4238 2131 4238 \r\nQ 1616 4238 1336 4038 \r\nQ 1056 3838 1056 3469 \r\nQ 1056 3159 1242 3001 \r\nQ 1428 2844 1947 2747 \r\nL 2328 2669 \r\nQ 3034 2534 3370 2195 \r\nQ 3706 1856 3706 1288 \r\nQ 3706 609 3251 259 \r\nQ 2797 -91 1919 -91 \r\nQ 1588 -91 1214 -16 \r\nQ 841 59 441 206 \r\nL 441 856 \r\nQ 825 641 1194 531 \r\nQ 1563 422 1919 422 \r\nQ 2459 422 2753 634 \r\nQ 3047 847 3047 1241 \r\nQ 3047 1584 2836 1778 \r\nQ 2625 1972 2144 2069 \r\nL 1759 2144 \r\nQ 1053 2284 737 2584 \r\nQ 422 2884 422 3419 \r\nQ 422 4038 858 4394 \r\nQ 1294 4750 2059 4750 \r\nQ 2388 4750 2728 4690 \r\nQ 3069 4631 3425 4513 \r\nz\r\n\" id=\"DejaVuSans-53\" transform=\"scale(0.015625)\"/>\r\n        <path d=\"M 2194 1759 \r\nQ 1497 1759 1228 1600 \r\nQ 959 1441 959 1056 \r\nQ 959 750 1161 570 \r\nQ 1363 391 1709 391 \r\nQ 2188 391 2477 730 \r\nQ 2766 1069 2766 1631 \r\nL 2766 1759 \r\nL 2194 1759 \r\nz\r\nM 3341 1997 \r\nL 3341 0 \r\nL 2766 0 \r\nL 2766 531 \r\nQ 2569 213 2275 61 \r\nQ 1981 -91 1556 -91 \r\nQ 1019 -91 701 211 \r\nQ 384 513 384 1019 \r\nQ 384 1609 779 1909 \r\nQ 1175 2209 1959 2209 \r\nL 2766 2209 \r\nL 2766 2266 \r\nQ 2766 2663 2505 2880 \r\nQ 2244 3097 1772 3097 \r\nQ 1472 3097 1187 3025 \r\nQ 903 2953 641 2809 \r\nL 641 3341 \r\nQ 956 3463 1253 3523 \r\nQ 1550 3584 1831 3584 \r\nQ 2591 3584 2966 3190 \r\nQ 3341 2797 3341 1997 \r\nz\r\n\" id=\"DejaVuSans-61\" transform=\"scale(0.015625)\"/>\r\n        <path d=\"M 2906 2969 \r\nL 2906 4863 \r\nL 3481 4863 \r\nL 3481 0 \r\nL 2906 0 \r\nL 2906 525 \r\nQ 2725 213 2448 61 \r\nQ 2172 -91 1784 -91 \r\nQ 1150 -91 751 415 \r\nQ 353 922 353 1747 \r\nQ 353 2572 751 3078 \r\nQ 1150 3584 1784 3584 \r\nQ 2172 3584 2448 3432 \r\nQ 2725 3281 2906 2969 \r\nz\r\nM 947 1747 \r\nQ 947 1113 1208 752 \r\nQ 1469 391 1925 391 \r\nQ 2381 391 2643 752 \r\nQ 2906 1113 2906 1747 \r\nQ 2906 2381 2643 2742 \r\nQ 2381 3103 1925 3103 \r\nQ 1469 3103 1208 2742 \r\nQ 947 2381 947 1747 \r\nz\r\n\" id=\"DejaVuSans-64\" transform=\"scale(0.015625)\"/>\r\n        <path d=\"M 3513 2113 \r\nL 3513 0 \r\nL 2938 0 \r\nL 2938 2094 \r\nQ 2938 2591 2744 2837 \r\nQ 2550 3084 2163 3084 \r\nQ 1697 3084 1428 2787 \r\nQ 1159 2491 1159 1978 \r\nL 1159 0 \r\nL 581 0 \r\nL 581 3500 \r\nL 1159 3500 \r\nL 1159 2956 \r\nQ 1366 3272 1645 3428 \r\nQ 1925 3584 2291 3584 \r\nQ 2894 3584 3203 3211 \r\nQ 3513 2838 3513 2113 \r\nz\r\n\" id=\"DejaVuSans-6e\" transform=\"scale(0.015625)\"/>\r\n        <path d=\"M 3597 1894 \r\nL 3597 1613 \r\nL 953 1613 \r\nQ 991 1019 1311 708 \r\nQ 1631 397 2203 397 \r\nQ 2534 397 2845 478 \r\nQ 3156 559 3463 722 \r\nL 3463 178 \r\nQ 3153 47 2828 -22 \r\nQ 2503 -91 2169 -91 \r\nQ 1331 -91 842 396 \r\nQ 353 884 353 1716 \r\nQ 353 2575 817 3079 \r\nQ 1281 3584 2069 3584 \r\nQ 2775 3584 3186 3129 \r\nQ 3597 2675 3597 1894 \r\nz\r\nM 3022 2063 \r\nQ 3016 2534 2758 2815 \r\nQ 2500 3097 2075 3097 \r\nQ 1594 3097 1305 2825 \r\nQ 1016 2553 972 2059 \r\nL 3022 2063 \r\nz\r\n\" id=\"DejaVuSans-65\" transform=\"scale(0.015625)\"/>\r\n        <path d=\"M 2834 3397 \r\nL 2834 2853 \r\nQ 2591 2978 2328 3040 \r\nQ 2066 3103 1784 3103 \r\nQ 1356 3103 1142 2972 \r\nQ 928 2841 928 2578 \r\nQ 928 2378 1081 2264 \r\nQ 1234 2150 1697 2047 \r\nL 1894 2003 \r\nQ 2506 1872 2764 1633 \r\nQ 3022 1394 3022 966 \r\nQ 3022 478 2636 193 \r\nQ 2250 -91 1575 -91 \r\nQ 1294 -91 989 -36 \r\nQ 684 19 347 128 \r\nL 347 722 \r\nQ 666 556 975 473 \r\nQ 1284 391 1588 391 \r\nQ 1994 391 2212 530 \r\nQ 2431 669 2431 922 \r\nQ 2431 1156 2273 1281 \r\nQ 2116 1406 1581 1522 \r\nL 1381 1569 \r\nQ 847 1681 609 1914 \r\nQ 372 2147 372 2553 \r\nQ 372 3047 722 3315 \r\nQ 1072 3584 1716 3584 \r\nQ 2034 3584 2315 3537 \r\nQ 2597 3491 2834 3397 \r\nz\r\n\" id=\"DejaVuSans-73\" transform=\"scale(0.015625)\"/>\r\n       </defs>\r\n       <use xlink:href=\"#DejaVuSans-53\"/>\r\n       <use x=\"63.476562\" xlink:href=\"#DejaVuSans-61\"/>\r\n       <use x=\"124.755859\" xlink:href=\"#DejaVuSans-64\"/>\r\n       <use x=\"188.232422\" xlink:href=\"#DejaVuSans-6e\"/>\r\n       <use x=\"251.611328\" xlink:href=\"#DejaVuSans-65\"/>\r\n       <use x=\"313.134766\" xlink:href=\"#DejaVuSans-73\"/>\r\n       <use x=\"365.234375\" xlink:href=\"#DejaVuSans-73\"/>\r\n      </g>\r\n     </g>\r\n    </g>\r\n    <g id=\"xtick_2\">\r\n     <g id=\"line2d_2\">\r\n      <g>\r\n       <use style=\"stroke:#000000;stroke-width:0.8;\" x=\"111.392857\" xlink:href=\"#m8d731c353a\" y=\"224.64\"/>\r\n      </g>\r\n     </g>\r\n     <g id=\"text_2\">\r\n      <!-- Angry -->\r\n      <g transform=\"translate(114.152232 261.19625)rotate(-90)scale(0.1 -0.1)\">\r\n       <defs>\r\n        <path d=\"M 2188 4044 \r\nL 1331 1722 \r\nL 3047 1722 \r\nL 2188 4044 \r\nz\r\nM 1831 4666 \r\nL 2547 4666 \r\nL 4325 0 \r\nL 3669 0 \r\nL 3244 1197 \r\nL 1141 1197 \r\nL 716 0 \r\nL 50 0 \r\nL 1831 4666 \r\nz\r\n\" id=\"DejaVuSans-41\" transform=\"scale(0.015625)\"/>\r\n        <path d=\"M 2906 1791 \r\nQ 2906 2416 2648 2759 \r\nQ 2391 3103 1925 3103 \r\nQ 1463 3103 1205 2759 \r\nQ 947 2416 947 1791 \r\nQ 947 1169 1205 825 \r\nQ 1463 481 1925 481 \r\nQ 2391 481 2648 825 \r\nQ 2906 1169 2906 1791 \r\nz\r\nM 3481 434 \r\nQ 3481 -459 3084 -895 \r\nQ 2688 -1331 1869 -1331 \r\nQ 1566 -1331 1297 -1286 \r\nQ 1028 -1241 775 -1147 \r\nL 775 -588 \r\nQ 1028 -725 1275 -790 \r\nQ 1522 -856 1778 -856 \r\nQ 2344 -856 2625 -561 \r\nQ 2906 -266 2906 331 \r\nL 2906 616 \r\nQ 2728 306 2450 153 \r\nQ 2172 0 1784 0 \r\nQ 1141 0 747 490 \r\nQ 353 981 353 1791 \r\nQ 353 2603 747 3093 \r\nQ 1141 3584 1784 3584 \r\nQ 2172 3584 2450 3431 \r\nQ 2728 3278 2906 2969 \r\nL 2906 3500 \r\nL 3481 3500 \r\nL 3481 434 \r\nz\r\n\" id=\"DejaVuSans-67\" transform=\"scale(0.015625)\"/>\r\n        <path d=\"M 2631 2963 \r\nQ 2534 3019 2420 3045 \r\nQ 2306 3072 2169 3072 \r\nQ 1681 3072 1420 2755 \r\nQ 1159 2438 1159 1844 \r\nL 1159 0 \r\nL 581 0 \r\nL 581 3500 \r\nL 1159 3500 \r\nL 1159 2956 \r\nQ 1341 3275 1631 3429 \r\nQ 1922 3584 2338 3584 \r\nQ 2397 3584 2469 3576 \r\nQ 2541 3569 2628 3553 \r\nL 2631 2963 \r\nz\r\n\" id=\"DejaVuSans-72\" transform=\"scale(0.015625)\"/>\r\n        <path d=\"M 2059 -325 \r\nQ 1816 -950 1584 -1140 \r\nQ 1353 -1331 966 -1331 \r\nL 506 -1331 \r\nL 506 -850 \r\nL 844 -850 \r\nQ 1081 -850 1212 -737 \r\nQ 1344 -625 1503 -206 \r\nL 1606 56 \r\nL 191 3500 \r\nL 800 3500 \r\nL 1894 763 \r\nL 2988 3500 \r\nL 3597 3500 \r\nL 2059 -325 \r\nz\r\n\" id=\"DejaVuSans-79\" transform=\"scale(0.015625)\"/>\r\n       </defs>\r\n       <use xlink:href=\"#DejaVuSans-41\"/>\r\n       <use x=\"68.408203\" xlink:href=\"#DejaVuSans-6e\"/>\r\n       <use x=\"131.787109\" xlink:href=\"#DejaVuSans-67\"/>\r\n       <use x=\"195.263672\" xlink:href=\"#DejaVuSans-72\"/>\r\n       <use x=\"236.376953\" xlink:href=\"#DejaVuSans-79\"/>\r\n      </g>\r\n     </g>\r\n    </g>\r\n    <g id=\"xtick_3\">\r\n     <g id=\"line2d_3\">\r\n      <g>\r\n       <use style=\"stroke:#000000;stroke-width:0.8;\" x=\"159.221429\" xlink:href=\"#m8d731c353a\" y=\"224.64\"/>\r\n      </g>\r\n     </g>\r\n     <g id=\"text_3\">\r\n      <!-- Neutral -->\r\n      <g transform=\"translate(161.980804 268.549375)rotate(-90)scale(0.1 -0.1)\">\r\n       <defs>\r\n        <path d=\"M 628 4666 \r\nL 1478 4666 \r\nL 3547 763 \r\nL 3547 4666 \r\nL 4159 4666 \r\nL 4159 0 \r\nL 3309 0 \r\nL 1241 3903 \r\nL 1241 0 \r\nL 628 0 \r\nL 628 4666 \r\nz\r\n\" id=\"DejaVuSans-4e\" transform=\"scale(0.015625)\"/>\r\n        <path d=\"M 544 1381 \r\nL 544 3500 \r\nL 1119 3500 \r\nL 1119 1403 \r\nQ 1119 906 1312 657 \r\nQ 1506 409 1894 409 \r\nQ 2359 409 2629 706 \r\nQ 2900 1003 2900 1516 \r\nL 2900 3500 \r\nL 3475 3500 \r\nL 3475 0 \r\nL 2900 0 \r\nL 2900 538 \r\nQ 2691 219 2414 64 \r\nQ 2138 -91 1772 -91 \r\nQ 1169 -91 856 284 \r\nQ 544 659 544 1381 \r\nz\r\nM 1991 3584 \r\nL 1991 3584 \r\nz\r\n\" id=\"DejaVuSans-75\" transform=\"scale(0.015625)\"/>\r\n        <path d=\"M 1172 4494 \r\nL 1172 3500 \r\nL 2356 3500 \r\nL 2356 3053 \r\nL 1172 3053 \r\nL 1172 1153 \r\nQ 1172 725 1289 603 \r\nQ 1406 481 1766 481 \r\nL 2356 481 \r\nL 2356 0 \r\nL 1766 0 \r\nQ 1100 0 847 248 \r\nQ 594 497 594 1153 \r\nL 594 3053 \r\nL 172 3053 \r\nL 172 3500 \r\nL 594 3500 \r\nL 594 4494 \r\nL 1172 4494 \r\nz\r\n\" id=\"DejaVuSans-74\" transform=\"scale(0.015625)\"/>\r\n        <path d=\"M 603 4863 \r\nL 1178 4863 \r\nL 1178 0 \r\nL 603 0 \r\nL 603 4863 \r\nz\r\n\" id=\"DejaVuSans-6c\" transform=\"scale(0.015625)\"/>\r\n       </defs>\r\n       <use xlink:href=\"#DejaVuSans-4e\"/>\r\n       <use x=\"74.804688\" xlink:href=\"#DejaVuSans-65\"/>\r\n       <use x=\"136.328125\" xlink:href=\"#DejaVuSans-75\"/>\r\n       <use x=\"199.707031\" xlink:href=\"#DejaVuSans-74\"/>\r\n       <use x=\"238.916016\" xlink:href=\"#DejaVuSans-72\"/>\r\n       <use x=\"280.029297\" xlink:href=\"#DejaVuSans-61\"/>\r\n       <use x=\"341.308594\" xlink:href=\"#DejaVuSans-6c\"/>\r\n      </g>\r\n     </g>\r\n    </g>\r\n    <g id=\"xtick_4\">\r\n     <g id=\"line2d_4\">\r\n      <g>\r\n       <use style=\"stroke:#000000;stroke-width:0.8;\" x=\"207.05\" xlink:href=\"#m8d731c353a\" y=\"224.64\"/>\r\n      </g>\r\n     </g>\r\n     <g id=\"text_4\">\r\n      <!-- Disgust -->\r\n      <g transform=\"translate(209.809375 269.143125)rotate(-90)scale(0.1 -0.1)\">\r\n       <defs>\r\n        <path d=\"M 1259 4147 \r\nL 1259 519 \r\nL 2022 519 \r\nQ 2988 519 3436 956 \r\nQ 3884 1394 3884 2338 \r\nQ 3884 3275 3436 3711 \r\nQ 2988 4147 2022 4147 \r\nL 1259 4147 \r\nz\r\nM 628 4666 \r\nL 1925 4666 \r\nQ 3281 4666 3915 4102 \r\nQ 4550 3538 4550 2338 \r\nQ 4550 1131 3912 565 \r\nQ 3275 0 1925 0 \r\nL 628 0 \r\nL 628 4666 \r\nz\r\n\" id=\"DejaVuSans-44\" transform=\"scale(0.015625)\"/>\r\n        <path d=\"M 603 3500 \r\nL 1178 3500 \r\nL 1178 0 \r\nL 603 0 \r\nL 603 3500 \r\nz\r\nM 603 4863 \r\nL 1178 4863 \r\nL 1178 4134 \r\nL 603 4134 \r\nL 603 4863 \r\nz\r\n\" id=\"DejaVuSans-69\" transform=\"scale(0.015625)\"/>\r\n       </defs>\r\n       <use xlink:href=\"#DejaVuSans-44\"/>\r\n       <use x=\"77.001953\" xlink:href=\"#DejaVuSans-69\"/>\r\n       <use x=\"104.785156\" xlink:href=\"#DejaVuSans-73\"/>\r\n       <use x=\"156.884766\" xlink:href=\"#DejaVuSans-67\"/>\r\n       <use x=\"220.361328\" xlink:href=\"#DejaVuSans-75\"/>\r\n       <use x=\"283.740234\" xlink:href=\"#DejaVuSans-73\"/>\r\n       <use x=\"335.839844\" xlink:href=\"#DejaVuSans-74\"/>\r\n      </g>\r\n     </g>\r\n    </g>\r\n    <g id=\"xtick_5\">\r\n     <g id=\"line2d_5\">\r\n      <g>\r\n       <use style=\"stroke:#000000;stroke-width:0.8;\" x=\"254.878571\" xlink:href=\"#m8d731c353a\" y=\"224.64\"/>\r\n      </g>\r\n     </g>\r\n     <g id=\"text_5\">\r\n      <!-- Fear -->\r\n      <g transform=\"translate(257.637946 253.23375)rotate(-90)scale(0.1 -0.1)\">\r\n       <defs>\r\n        <path d=\"M 628 4666 \r\nL 3309 4666 \r\nL 3309 4134 \r\nL 1259 4134 \r\nL 1259 2759 \r\nL 3109 2759 \r\nL 3109 2228 \r\nL 1259 2228 \r\nL 1259 0 \r\nL 628 0 \r\nL 628 4666 \r\nz\r\n\" id=\"DejaVuSans-46\" transform=\"scale(0.015625)\"/>\r\n       </defs>\r\n       <use xlink:href=\"#DejaVuSans-46\"/>\r\n       <use x=\"52.019531\" xlink:href=\"#DejaVuSans-65\"/>\r\n       <use x=\"113.542969\" xlink:href=\"#DejaVuSans-61\"/>\r\n       <use x=\"174.822266\" xlink:href=\"#DejaVuSans-72\"/>\r\n      </g>\r\n     </g>\r\n    </g>\r\n    <g id=\"xtick_6\">\r\n     <g id=\"line2d_6\">\r\n      <g>\r\n       <use style=\"stroke:#000000;stroke-width:0.8;\" x=\"302.707143\" xlink:href=\"#m8d731c353a\" y=\"224.64\"/>\r\n      </g>\r\n     </g>\r\n     <g id=\"text_6\">\r\n      <!-- Happiness -->\r\n      <g transform=\"translate(305.466518 283.672812)rotate(-90)scale(0.1 -0.1)\">\r\n       <defs>\r\n        <path d=\"M 628 4666 \r\nL 1259 4666 \r\nL 1259 2753 \r\nL 3553 2753 \r\nL 3553 4666 \r\nL 4184 4666 \r\nL 4184 0 \r\nL 3553 0 \r\nL 3553 2222 \r\nL 1259 2222 \r\nL 1259 0 \r\nL 628 0 \r\nL 628 4666 \r\nz\r\n\" id=\"DejaVuSans-48\" transform=\"scale(0.015625)\"/>\r\n        <path d=\"M 1159 525 \r\nL 1159 -1331 \r\nL 581 -1331 \r\nL 581 3500 \r\nL 1159 3500 \r\nL 1159 2969 \r\nQ 1341 3281 1617 3432 \r\nQ 1894 3584 2278 3584 \r\nQ 2916 3584 3314 3078 \r\nQ 3713 2572 3713 1747 \r\nQ 3713 922 3314 415 \r\nQ 2916 -91 2278 -91 \r\nQ 1894 -91 1617 61 \r\nQ 1341 213 1159 525 \r\nz\r\nM 3116 1747 \r\nQ 3116 2381 2855 2742 \r\nQ 2594 3103 2138 3103 \r\nQ 1681 3103 1420 2742 \r\nQ 1159 2381 1159 1747 \r\nQ 1159 1113 1420 752 \r\nQ 1681 391 2138 391 \r\nQ 2594 391 2855 752 \r\nQ 3116 1113 3116 1747 \r\nz\r\n\" id=\"DejaVuSans-70\" transform=\"scale(0.015625)\"/>\r\n       </defs>\r\n       <use xlink:href=\"#DejaVuSans-48\"/>\r\n       <use x=\"75.195312\" xlink:href=\"#DejaVuSans-61\"/>\r\n       <use x=\"136.474609\" xlink:href=\"#DejaVuSans-70\"/>\r\n       <use x=\"199.951172\" xlink:href=\"#DejaVuSans-70\"/>\r\n       <use x=\"263.427734\" xlink:href=\"#DejaVuSans-69\"/>\r\n       <use x=\"291.210938\" xlink:href=\"#DejaVuSans-6e\"/>\r\n       <use x=\"354.589844\" xlink:href=\"#DejaVuSans-65\"/>\r\n       <use x=\"416.113281\" xlink:href=\"#DejaVuSans-73\"/>\r\n       <use x=\"468.212891\" xlink:href=\"#DejaVuSans-73\"/>\r\n      </g>\r\n     </g>\r\n    </g>\r\n    <g id=\"xtick_7\">\r\n     <g id=\"line2d_7\">\r\n      <g>\r\n       <use style=\"stroke:#000000;stroke-width:0.8;\" x=\"350.535714\" xlink:href=\"#m8d731c353a\" y=\"224.64\"/>\r\n      </g>\r\n     </g>\r\n     <g id=\"text_7\">\r\n      <!-- Surprise -->\r\n      <g transform=\"translate(353.295089 273.036875)rotate(-90)scale(0.1 -0.1)\">\r\n       <use xlink:href=\"#DejaVuSans-53\"/>\r\n       <use x=\"63.476562\" xlink:href=\"#DejaVuSans-75\"/>\r\n       <use x=\"126.855469\" xlink:href=\"#DejaVuSans-72\"/>\r\n       <use x=\"167.96875\" xlink:href=\"#DejaVuSans-70\"/>\r\n       <use x=\"231.445312\" xlink:href=\"#DejaVuSans-72\"/>\r\n       <use x=\"272.558594\" xlink:href=\"#DejaVuSans-69\"/>\r\n       <use x=\"300.341797\" xlink:href=\"#DejaVuSans-73\"/>\r\n       <use x=\"352.441406\" xlink:href=\"#DejaVuSans-65\"/>\r\n      </g>\r\n     </g>\r\n    </g>\r\n   </g>\r\n   <g id=\"matplotlib.axis_2\">\r\n    <g id=\"ytick_1\">\r\n     <g id=\"line2d_8\">\r\n      <defs>\r\n       <path d=\"M 0 0 \r\nL -3.5 0 \r\n\" id=\"mf1b1a267e5\" style=\"stroke:#000000;stroke-width:0.8;\"/>\r\n      </defs>\r\n      <g>\r\n       <use style=\"stroke:#000000;stroke-width:0.8;\" x=\"39.65\" xlink:href=\"#mf1b1a267e5\" y=\"224.64\"/>\r\n      </g>\r\n     </g>\r\n     <g id=\"text_8\">\r\n      <!-- 0 -->\r\n      <g transform=\"translate(26.2875 228.439219)scale(0.1 -0.1)\">\r\n       <defs>\r\n        <path d=\"M 2034 4250 \r\nQ 1547 4250 1301 3770 \r\nQ 1056 3291 1056 2328 \r\nQ 1056 1369 1301 889 \r\nQ 1547 409 2034 409 \r\nQ 2525 409 2770 889 \r\nQ 3016 1369 3016 2328 \r\nQ 3016 3291 2770 3770 \r\nQ 2525 4250 2034 4250 \r\nz\r\nM 2034 4750 \r\nQ 2819 4750 3233 4129 \r\nQ 3647 3509 3647 2328 \r\nQ 3647 1150 3233 529 \r\nQ 2819 -91 2034 -91 \r\nQ 1250 -91 836 529 \r\nQ 422 1150 422 2328 \r\nQ 422 3509 836 4129 \r\nQ 1250 4750 2034 4750 \r\nz\r\n\" id=\"DejaVuSans-30\" transform=\"scale(0.015625)\"/>\r\n       </defs>\r\n       <use xlink:href=\"#DejaVuSans-30\"/>\r\n      </g>\r\n     </g>\r\n    </g>\r\n    <g id=\"ytick_2\">\r\n     <g id=\"line2d_9\">\r\n      <g>\r\n       <use style=\"stroke:#000000;stroke-width:0.8;\" x=\"39.65\" xlink:href=\"#mf1b1a267e5\" y=\"196.647879\"/>\r\n      </g>\r\n     </g>\r\n     <g id=\"text_9\">\r\n      <!-- 1000 -->\r\n      <g transform=\"translate(7.2 200.447097)scale(0.1 -0.1)\">\r\n       <defs>\r\n        <path d=\"M 794 531 \r\nL 1825 531 \r\nL 1825 4091 \r\nL 703 3866 \r\nL 703 4441 \r\nL 1819 4666 \r\nL 2450 4666 \r\nL 2450 531 \r\nL 3481 531 \r\nL 3481 0 \r\nL 794 0 \r\nL 794 531 \r\nz\r\n\" id=\"DejaVuSans-31\" transform=\"scale(0.015625)\"/>\r\n       </defs>\r\n       <use xlink:href=\"#DejaVuSans-31\"/>\r\n       <use x=\"63.623047\" xlink:href=\"#DejaVuSans-30\"/>\r\n       <use x=\"127.246094\" xlink:href=\"#DejaVuSans-30\"/>\r\n       <use x=\"190.869141\" xlink:href=\"#DejaVuSans-30\"/>\r\n      </g>\r\n     </g>\r\n    </g>\r\n    <g id=\"ytick_3\">\r\n     <g id=\"line2d_10\">\r\n      <g>\r\n       <use style=\"stroke:#000000;stroke-width:0.8;\" x=\"39.65\" xlink:href=\"#mf1b1a267e5\" y=\"168.655757\"/>\r\n      </g>\r\n     </g>\r\n     <g id=\"text_10\">\r\n      <!-- 2000 -->\r\n      <g transform=\"translate(7.2 172.454976)scale(0.1 -0.1)\">\r\n       <defs>\r\n        <path d=\"M 1228 531 \r\nL 3431 531 \r\nL 3431 0 \r\nL 469 0 \r\nL 469 531 \r\nQ 828 903 1448 1529 \r\nQ 2069 2156 2228 2338 \r\nQ 2531 2678 2651 2914 \r\nQ 2772 3150 2772 3378 \r\nQ 2772 3750 2511 3984 \r\nQ 2250 4219 1831 4219 \r\nQ 1534 4219 1204 4116 \r\nQ 875 4013 500 3803 \r\nL 500 4441 \r\nQ 881 4594 1212 4672 \r\nQ 1544 4750 1819 4750 \r\nQ 2544 4750 2975 4387 \r\nQ 3406 4025 3406 3419 \r\nQ 3406 3131 3298 2873 \r\nQ 3191 2616 2906 2266 \r\nQ 2828 2175 2409 1742 \r\nQ 1991 1309 1228 531 \r\nz\r\n\" id=\"DejaVuSans-32\" transform=\"scale(0.015625)\"/>\r\n       </defs>\r\n       <use xlink:href=\"#DejaVuSans-32\"/>\r\n       <use x=\"63.623047\" xlink:href=\"#DejaVuSans-30\"/>\r\n       <use x=\"127.246094\" xlink:href=\"#DejaVuSans-30\"/>\r\n       <use x=\"190.869141\" xlink:href=\"#DejaVuSans-30\"/>\r\n      </g>\r\n     </g>\r\n    </g>\r\n    <g id=\"ytick_4\">\r\n     <g id=\"line2d_11\">\r\n      <g>\r\n       <use style=\"stroke:#000000;stroke-width:0.8;\" x=\"39.65\" xlink:href=\"#mf1b1a267e5\" y=\"140.663636\"/>\r\n      </g>\r\n     </g>\r\n     <g id=\"text_11\">\r\n      <!-- 3000 -->\r\n      <g transform=\"translate(7.2 144.462854)scale(0.1 -0.1)\">\r\n       <defs>\r\n        <path d=\"M 2597 2516 \r\nQ 3050 2419 3304 2112 \r\nQ 3559 1806 3559 1356 \r\nQ 3559 666 3084 287 \r\nQ 2609 -91 1734 -91 \r\nQ 1441 -91 1130 -33 \r\nQ 819 25 488 141 \r\nL 488 750 \r\nQ 750 597 1062 519 \r\nQ 1375 441 1716 441 \r\nQ 2309 441 2620 675 \r\nQ 2931 909 2931 1356 \r\nQ 2931 1769 2642 2001 \r\nQ 2353 2234 1838 2234 \r\nL 1294 2234 \r\nL 1294 2753 \r\nL 1863 2753 \r\nQ 2328 2753 2575 2939 \r\nQ 2822 3125 2822 3475 \r\nQ 2822 3834 2567 4026 \r\nQ 2313 4219 1838 4219 \r\nQ 1578 4219 1281 4162 \r\nQ 984 4106 628 3988 \r\nL 628 4550 \r\nQ 988 4650 1302 4700 \r\nQ 1616 4750 1894 4750 \r\nQ 2613 4750 3031 4423 \r\nQ 3450 4097 3450 3541 \r\nQ 3450 3153 3228 2886 \r\nQ 3006 2619 2597 2516 \r\nz\r\n\" id=\"DejaVuSans-33\" transform=\"scale(0.015625)\"/>\r\n       </defs>\r\n       <use xlink:href=\"#DejaVuSans-33\"/>\r\n       <use x=\"63.623047\" xlink:href=\"#DejaVuSans-30\"/>\r\n       <use x=\"127.246094\" xlink:href=\"#DejaVuSans-30\"/>\r\n       <use x=\"190.869141\" xlink:href=\"#DejaVuSans-30\"/>\r\n      </g>\r\n     </g>\r\n    </g>\r\n    <g id=\"ytick_5\">\r\n     <g id=\"line2d_12\">\r\n      <g>\r\n       <use style=\"stroke:#000000;stroke-width:0.8;\" x=\"39.65\" xlink:href=\"#mf1b1a267e5\" y=\"112.671514\"/>\r\n      </g>\r\n     </g>\r\n     <g id=\"text_12\">\r\n      <!-- 4000 -->\r\n      <g transform=\"translate(7.2 116.470733)scale(0.1 -0.1)\">\r\n       <defs>\r\n        <path d=\"M 2419 4116 \r\nL 825 1625 \r\nL 2419 1625 \r\nL 2419 4116 \r\nz\r\nM 2253 4666 \r\nL 3047 4666 \r\nL 3047 1625 \r\nL 3713 1625 \r\nL 3713 1100 \r\nL 3047 1100 \r\nL 3047 0 \r\nL 2419 0 \r\nL 2419 1100 \r\nL 313 1100 \r\nL 313 1709 \r\nL 2253 4666 \r\nz\r\n\" id=\"DejaVuSans-34\" transform=\"scale(0.015625)\"/>\r\n       </defs>\r\n       <use xlink:href=\"#DejaVuSans-34\"/>\r\n       <use x=\"63.623047\" xlink:href=\"#DejaVuSans-30\"/>\r\n       <use x=\"127.246094\" xlink:href=\"#DejaVuSans-30\"/>\r\n       <use x=\"190.869141\" xlink:href=\"#DejaVuSans-30\"/>\r\n      </g>\r\n     </g>\r\n    </g>\r\n    <g id=\"ytick_6\">\r\n     <g id=\"line2d_13\">\r\n      <g>\r\n       <use style=\"stroke:#000000;stroke-width:0.8;\" x=\"39.65\" xlink:href=\"#mf1b1a267e5\" y=\"84.679393\"/>\r\n      </g>\r\n     </g>\r\n     <g id=\"text_13\">\r\n      <!-- 5000 -->\r\n      <g transform=\"translate(7.2 88.478612)scale(0.1 -0.1)\">\r\n       <defs>\r\n        <path d=\"M 691 4666 \r\nL 3169 4666 \r\nL 3169 4134 \r\nL 1269 4134 \r\nL 1269 2991 \r\nQ 1406 3038 1543 3061 \r\nQ 1681 3084 1819 3084 \r\nQ 2600 3084 3056 2656 \r\nQ 3513 2228 3513 1497 \r\nQ 3513 744 3044 326 \r\nQ 2575 -91 1722 -91 \r\nQ 1428 -91 1123 -41 \r\nQ 819 9 494 109 \r\nL 494 744 \r\nQ 775 591 1075 516 \r\nQ 1375 441 1709 441 \r\nQ 2250 441 2565 725 \r\nQ 2881 1009 2881 1497 \r\nQ 2881 1984 2565 2268 \r\nQ 2250 2553 1709 2553 \r\nQ 1456 2553 1204 2497 \r\nQ 953 2441 691 2322 \r\nL 691 4666 \r\nz\r\n\" id=\"DejaVuSans-35\" transform=\"scale(0.015625)\"/>\r\n       </defs>\r\n       <use xlink:href=\"#DejaVuSans-35\"/>\r\n       <use x=\"63.623047\" xlink:href=\"#DejaVuSans-30\"/>\r\n       <use x=\"127.246094\" xlink:href=\"#DejaVuSans-30\"/>\r\n       <use x=\"190.869141\" xlink:href=\"#DejaVuSans-30\"/>\r\n      </g>\r\n     </g>\r\n    </g>\r\n    <g id=\"ytick_7\">\r\n     <g id=\"line2d_14\">\r\n      <g>\r\n       <use style=\"stroke:#000000;stroke-width:0.8;\" x=\"39.65\" xlink:href=\"#mf1b1a267e5\" y=\"56.687271\"/>\r\n      </g>\r\n     </g>\r\n     <g id=\"text_14\">\r\n      <!-- 6000 -->\r\n      <g transform=\"translate(7.2 60.48649)scale(0.1 -0.1)\">\r\n       <defs>\r\n        <path d=\"M 2113 2584 \r\nQ 1688 2584 1439 2293 \r\nQ 1191 2003 1191 1497 \r\nQ 1191 994 1439 701 \r\nQ 1688 409 2113 409 \r\nQ 2538 409 2786 701 \r\nQ 3034 994 3034 1497 \r\nQ 3034 2003 2786 2293 \r\nQ 2538 2584 2113 2584 \r\nz\r\nM 3366 4563 \r\nL 3366 3988 \r\nQ 3128 4100 2886 4159 \r\nQ 2644 4219 2406 4219 \r\nQ 1781 4219 1451 3797 \r\nQ 1122 3375 1075 2522 \r\nQ 1259 2794 1537 2939 \r\nQ 1816 3084 2150 3084 \r\nQ 2853 3084 3261 2657 \r\nQ 3669 2231 3669 1497 \r\nQ 3669 778 3244 343 \r\nQ 2819 -91 2113 -91 \r\nQ 1303 -91 875 529 \r\nQ 447 1150 447 2328 \r\nQ 447 3434 972 4092 \r\nQ 1497 4750 2381 4750 \r\nQ 2619 4750 2861 4703 \r\nQ 3103 4656 3366 4563 \r\nz\r\n\" id=\"DejaVuSans-36\" transform=\"scale(0.015625)\"/>\r\n       </defs>\r\n       <use xlink:href=\"#DejaVuSans-36\"/>\r\n       <use x=\"63.623047\" xlink:href=\"#DejaVuSans-30\"/>\r\n       <use x=\"127.246094\" xlink:href=\"#DejaVuSans-30\"/>\r\n       <use x=\"190.869141\" xlink:href=\"#DejaVuSans-30\"/>\r\n      </g>\r\n     </g>\r\n    </g>\r\n    <g id=\"ytick_8\">\r\n     <g id=\"line2d_15\">\r\n      <g>\r\n       <use style=\"stroke:#000000;stroke-width:0.8;\" x=\"39.65\" xlink:href=\"#mf1b1a267e5\" y=\"28.69515\"/>\r\n      </g>\r\n     </g>\r\n     <g id=\"text_15\">\r\n      <!-- 7000 -->\r\n      <g transform=\"translate(7.2 32.494369)scale(0.1 -0.1)\">\r\n       <defs>\r\n        <path d=\"M 525 4666 \r\nL 3525 4666 \r\nL 3525 4397 \r\nL 1831 0 \r\nL 1172 0 \r\nL 2766 4134 \r\nL 525 4134 \r\nL 525 4666 \r\nz\r\n\" id=\"DejaVuSans-37\" transform=\"scale(0.015625)\"/>\r\n       </defs>\r\n       <use xlink:href=\"#DejaVuSans-37\"/>\r\n       <use x=\"63.623047\" xlink:href=\"#DejaVuSans-30\"/>\r\n       <use x=\"127.246094\" xlink:href=\"#DejaVuSans-30\"/>\r\n       <use x=\"190.869141\" xlink:href=\"#DejaVuSans-30\"/>\r\n      </g>\r\n     </g>\r\n    </g>\r\n   </g>\r\n   <g id=\"patch_38\">\r\n    <path d=\"M 39.65 224.64 \r\nL 39.65 7.2 \r\n\" style=\"fill:none;stroke:#000000;stroke-linecap:square;stroke-linejoin:miter;stroke-width:0.8;\"/>\r\n   </g>\r\n   <g id=\"patch_39\">\r\n    <path d=\"M 374.45 224.64 \r\nL 374.45 7.2 \r\n\" style=\"fill:none;stroke:#000000;stroke-linecap:square;stroke-linejoin:miter;stroke-width:0.8;\"/>\r\n   </g>\r\n   <g id=\"patch_40\">\r\n    <path d=\"M 39.65 224.64 \r\nL 374.45 224.64 \r\n\" style=\"fill:none;stroke:#000000;stroke-linecap:square;stroke-linejoin:miter;stroke-width:0.8;\"/>\r\n   </g>\r\n   <g id=\"patch_41\">\r\n    <path d=\"M 39.65 7.2 \r\nL 374.45 7.2 \r\n\" style=\"fill:none;stroke:#000000;stroke-linecap:square;stroke-linejoin:miter;stroke-width:0.8;\"/>\r\n   </g>\r\n   <g id=\"legend_1\">\r\n    <g id=\"patch_42\">\r\n     <path d=\"M 307.904688 88.590625 \r\nL 367.45 88.590625 \r\nQ 369.45 88.590625 369.45 86.590625 \r\nL 369.45 14.2 \r\nQ 369.45 12.2 367.45 12.2 \r\nL 307.904688 12.2 \r\nQ 305.904688 12.2 305.904688 14.2 \r\nL 305.904688 86.590625 \r\nQ 305.904688 88.590625 307.904688 88.590625 \r\nz\r\n\" style=\"fill:#ffffff;opacity:0.8;stroke:#cccccc;stroke-linejoin:miter;\"/>\r\n    </g>\r\n    <g id=\"patch_43\">\r\n     <path d=\"M 309.904688 23.798437 \r\nL 329.904688 23.798437 \r\nL 329.904688 16.798437 \r\nL 309.904688 16.798437 \r\nz\r\n\" style=\"fill:#1f77b4;\"/>\r\n    </g>\r\n    <g id=\"text_16\">\r\n     <!-- 1번 감정 -->\r\n     <g transform=\"translate(337.904688 23.798437)scale(0.1 -0.1)\">\r\n      <defs>\r\n       <path d=\"M 319 -1131 \r\nL 319 4513 \r\nL 3519 4513 \r\nL 3519 -1131 \r\nL 319 -1131 \r\nz\r\nM 678 -775 \r\nL 3163 -775 \r\nL 3163 4153 \r\nL 678 4153 \r\nL 678 -775 \r\nz\r\n\" id=\"DejaVuSans-bc88\" transform=\"scale(0.015625)\"/>\r\n       <path id=\"DejaVuSans-20\" transform=\"scale(0.015625)\"/>\r\n       <path d=\"M 319 -1131 \r\nL 319 4513 \r\nL 3519 4513 \r\nL 3519 -1131 \r\nL 319 -1131 \r\nz\r\nM 678 -775 \r\nL 3163 -775 \r\nL 3163 4153 \r\nL 678 4153 \r\nL 678 -775 \r\nz\r\n\" id=\"DejaVuSans-ac10\" transform=\"scale(0.015625)\"/>\r\n       <path d=\"M 319 -1131 \r\nL 319 4513 \r\nL 3519 4513 \r\nL 3519 -1131 \r\nL 319 -1131 \r\nz\r\nM 678 -775 \r\nL 3163 -775 \r\nL 3163 4153 \r\nL 678 4153 \r\nL 678 -775 \r\nz\r\n\" id=\"DejaVuSans-c815\" transform=\"scale(0.015625)\"/>\r\n      </defs>\r\n      <use xlink:href=\"#DejaVuSans-31\"/>\r\n      <use x=\"63.623047\" xlink:href=\"#DejaVuSans-bc88\"/>\r\n      <use x=\"123.632812\" xlink:href=\"#DejaVuSans-20\"/>\r\n      <use x=\"155.419922\" xlink:href=\"#DejaVuSans-ac10\"/>\r\n      <use x=\"215.429688\" xlink:href=\"#DejaVuSans-c815\"/>\r\n     </g>\r\n    </g>\r\n    <g id=\"patch_44\">\r\n     <path d=\"M 309.904688 38.476562 \r\nL 329.904688 38.476562 \r\nL 329.904688 31.476562 \r\nL 309.904688 31.476562 \r\nz\r\n\" style=\"fill:#ff7f0e;\"/>\r\n    </g>\r\n    <g id=\"text_17\">\r\n     <!-- 2번 감정 -->\r\n     <g transform=\"translate(337.904688 38.476562)scale(0.1 -0.1)\">\r\n      <use xlink:href=\"#DejaVuSans-32\"/>\r\n      <use x=\"63.623047\" xlink:href=\"#DejaVuSans-bc88\"/>\r\n      <use x=\"123.632812\" xlink:href=\"#DejaVuSans-20\"/>\r\n      <use x=\"155.419922\" xlink:href=\"#DejaVuSans-ac10\"/>\r\n      <use x=\"215.429688\" xlink:href=\"#DejaVuSans-c815\"/>\r\n     </g>\r\n    </g>\r\n    <g id=\"patch_45\">\r\n     <path d=\"M 309.904688 53.154687 \r\nL 329.904688 53.154687 \r\nL 329.904688 46.154687 \r\nL 309.904688 46.154687 \r\nz\r\n\" style=\"fill:#2ca02c;\"/>\r\n    </g>\r\n    <g id=\"text_18\">\r\n     <!-- 3번 감정 -->\r\n     <g transform=\"translate(337.904688 53.154687)scale(0.1 -0.1)\">\r\n      <use xlink:href=\"#DejaVuSans-33\"/>\r\n      <use x=\"63.623047\" xlink:href=\"#DejaVuSans-bc88\"/>\r\n      <use x=\"123.632812\" xlink:href=\"#DejaVuSans-20\"/>\r\n      <use x=\"155.419922\" xlink:href=\"#DejaVuSans-ac10\"/>\r\n      <use x=\"215.429688\" xlink:href=\"#DejaVuSans-c815\"/>\r\n     </g>\r\n    </g>\r\n    <g id=\"patch_46\">\r\n     <path d=\"M 309.904688 67.832812 \r\nL 329.904688 67.832812 \r\nL 329.904688 60.832812 \r\nL 309.904688 60.832812 \r\nz\r\n\" style=\"fill:#d62728;\"/>\r\n    </g>\r\n    <g id=\"text_19\">\r\n     <!-- 4번 감정 -->\r\n     <g transform=\"translate(337.904688 67.832812)scale(0.1 -0.1)\">\r\n      <use xlink:href=\"#DejaVuSans-34\"/>\r\n      <use x=\"63.623047\" xlink:href=\"#DejaVuSans-bc88\"/>\r\n      <use x=\"123.632812\" xlink:href=\"#DejaVuSans-20\"/>\r\n      <use x=\"155.419922\" xlink:href=\"#DejaVuSans-ac10\"/>\r\n      <use x=\"215.429688\" xlink:href=\"#DejaVuSans-c815\"/>\r\n     </g>\r\n    </g>\r\n    <g id=\"patch_47\">\r\n     <path d=\"M 309.904688 82.510937 \r\nL 329.904688 82.510937 \r\nL 329.904688 75.510937 \r\nL 309.904688 75.510937 \r\nz\r\n\" style=\"fill:#9467bd;\"/>\r\n    </g>\r\n    <g id=\"text_20\">\r\n     <!-- 5번 감정 -->\r\n     <g transform=\"translate(337.904688 82.510937)scale(0.1 -0.1)\">\r\n      <use xlink:href=\"#DejaVuSans-35\"/>\r\n      <use x=\"63.623047\" xlink:href=\"#DejaVuSans-bc88\"/>\r\n      <use x=\"123.632812\" xlink:href=\"#DejaVuSans-20\"/>\r\n      <use x=\"155.419922\" xlink:href=\"#DejaVuSans-ac10\"/>\r\n      <use x=\"215.429688\" xlink:href=\"#DejaVuSans-c815\"/>\r\n     </g>\r\n    </g>\r\n   </g>\r\n  </g>\r\n </g>\r\n <defs>\r\n  <clipPath id=\"p356859d7bf\">\r\n   <rect height=\"217.44\" width=\"334.8\" x=\"39.65\" y=\"7.2\"/>\r\n  </clipPath>\r\n </defs>\r\n</svg>\r\n",
      "image/png": "[encoded data removed]"
     },
     "metadata": {
      "needs_background": "light"
     }
    }
   ],
   "source": [
    "# 큰 비중으로 슬픔이 차지하고 있으며 다음은 분노 중립 순\n",
    "pd.DataFrame([df4[f'{i}번 감정'].value_counts() for i in range(1,6)]).T.plot.bar()"
   ]
  },
  {
   "source": [
    "1. 5명의 label 값을 투표로 생각하여 최대 투표 감정을 선택\n",
    "2. 감정세기를 가중치로 하여 가장 점수가 높은 감정을 선택  \n",
    "이중 2번 방안을 이용"
   ],
   "cell_type": "markdown",
   "metadata": {}
  },
  {
   "cell_type": "code",
   "execution_count": 35,
   "metadata": {},
   "outputs": [],
   "source": [
    "emo_loc = {key:val for val,key in enumerate(df4['1번 감정'].unique())}\n",
    "loc_emo = {val:key for val,key in enumerate(df4['1번 감정'].unique())}\n",
    "\n",
    "emo_score = np.zeros((len(df4),7))\n",
    "emo = df4['1번 감정\t1번 감정세기\t2번 감정\t2번 감정세기\t3번 감정\t3번 감정세기\t4번 감정\t4번감정세기\t5번 감정\t5번 감정세기'.split('\t')]\n",
    "for num,i in emo.iterrows():\n",
    "    emo_score[num,emo_loc[i[0]]] += i[1]\n",
    "    emo_score[num,emo_loc[i[2]]] += i[3]\n",
    "    emo_score[num,emo_loc[i[4]]] += i[5]\n",
    "    emo_score[num,emo_loc[i[6]]] += i[7]\n",
    "    emo_score[num,emo_loc[i[8]]] += i[9]\n",
    "\n",
    "df4_2 = pd.DataFrame(df4['발화문'])\n",
    "df4_2 ['emotion'] = [loc_emo[i] for i in emo_score.argmax(axis=1)]"
   ]
  },
  {
   "cell_type": "code",
   "execution_count": 36,
   "metadata": {},
   "outputs": [
    {
     "output_type": "execute_result",
     "data": {
      "text/plain": [
       "array(['Angry', 'Sadness', 'Disgust', 'Happiness', 'Neutral', 'Surprise',\n",
       "       'Fear'], dtype=object)"
      ]
     },
     "metadata": {},
     "execution_count": 36
    }
   ],
   "source": [
    "df4_2.emotion.unique()"
   ]
  },
  {
   "cell_type": "code",
   "execution_count": 37,
   "metadata": {},
   "outputs": [
    {
     "output_type": "execute_result",
     "data": {
      "text/plain": [
       "                             발화문    emotion\n",
       "0               어, 청소 니가 대신 해 줘!      Angry\n",
       "1             둘 다 청소 하기 싫어. 귀찮아.      Angry\n",
       "2                 둘 다 하기 싫어서 화내.      Angry\n",
       "3                    그럼 방세는 어떡해.    Sadness\n",
       "4      권태긴줄 알았는데 다른 사람이 생겼나보더라고.    Sadness\n",
       "5                      그냥 걷고 있어.    Sadness\n",
       "6   어. 고등학교 동창인데 이렇게 더럽게 쓸줄 몰랐어.    Disgust\n",
       "7  처음 학원에서 만났다가 서로 좋아해서 사귀게 되었지.  Happiness\n",
       "8     내가 애정 표현을 잘 못해서 자주 싸우긴 했어.    Sadness\n",
       "9                       오늘 헤어졌어.    Sadness"
      ],
      "text/html": "<div>\n<style scoped>\n    .dataframe tbody tr th:only-of-type {\n        vertical-align: middle;\n    }\n\n    .dataframe tbody tr th {\n        vertical-align: top;\n    }\n\n    .dataframe thead th {\n        text-align: right;\n    }\n</style>\n<table border=\"1\" class=\"dataframe\">\n  <thead>\n    <tr style=\"text-align: right;\">\n      <th></th>\n      <th>발화문</th>\n      <th>emotion</th>\n    </tr>\n  </thead>\n  <tbody>\n    <tr>\n      <th>0</th>\n      <td>어, 청소 니가 대신 해 줘!</td>\n      <td>Angry</td>\n    </tr>\n    <tr>\n      <th>1</th>\n      <td>둘 다 청소 하기 싫어. 귀찮아.</td>\n      <td>Angry</td>\n    </tr>\n    <tr>\n      <th>2</th>\n      <td>둘 다 하기 싫어서 화내.</td>\n      <td>Angry</td>\n    </tr>\n    <tr>\n      <th>3</th>\n      <td>그럼 방세는 어떡해.</td>\n      <td>Sadness</td>\n    </tr>\n    <tr>\n      <th>4</th>\n      <td>권태긴줄 알았는데 다른 사람이 생겼나보더라고.</td>\n      <td>Sadness</td>\n    </tr>\n    <tr>\n      <th>5</th>\n      <td>그냥 걷고 있어.</td>\n      <td>Sadness</td>\n    </tr>\n    <tr>\n      <th>6</th>\n      <td>어. 고등학교 동창인데 이렇게 더럽게 쓸줄 몰랐어.</td>\n      <td>Disgust</td>\n    </tr>\n    <tr>\n      <th>7</th>\n      <td>처음 학원에서 만났다가 서로 좋아해서 사귀게 되었지.</td>\n      <td>Happiness</td>\n    </tr>\n    <tr>\n      <th>8</th>\n      <td>내가 애정 표현을 잘 못해서 자주 싸우긴 했어.</td>\n      <td>Sadness</td>\n    </tr>\n    <tr>\n      <th>9</th>\n      <td>오늘 헤어졌어.</td>\n      <td>Sadness</td>\n    </tr>\n  </tbody>\n</table>\n</div>"
     },
     "metadata": {},
     "execution_count": 37
    }
   ],
   "source": [
    "df4_2.head(10)"
   ]
  },
  {
   "cell_type": "code",
   "execution_count": 38,
   "metadata": {},
   "outputs": [
    {
     "output_type": "execute_result",
     "data": {
      "text/plain": [
       "<AxesSubplot:>"
      ]
     },
     "metadata": {},
     "execution_count": 38
    },
    {
     "output_type": "display_data",
     "data": {
      "text/plain": "<Figure size 432x288 with 1 Axes>",
      "image/svg+xml": "<?xml version=\"1.0\" encoding=\"utf-8\" standalone=\"no\"?>\r\n<!DOCTYPE svg PUBLIC \"-//W3C//DTD SVG 1.1//EN\"\r\n  \"http://www.w3.org/Graphics/SVG/1.1/DTD/svg11.dtd\">\r\n<svg height=\"290.872812pt\" version=\"1.1\" viewBox=\"0 0 381.65 290.872812\" width=\"381.65pt\" xmlns=\"http://www.w3.org/2000/svg\" xmlns:xlink=\"http://www.w3.org/1999/xlink\">\r\n <metadata>\r\n  <rdf:RDF xmlns:cc=\"http://creativecommons.org/ns#\" xmlns:dc=\"http://purl.org/dc/elements/1.1/\" xmlns:rdf=\"http://www.w3.org/1999/02/22-rdf-syntax-ns#\">\r\n   <cc:Work>\r\n    <dc:type rdf:resource=\"http://purl.org/dc/dcmitype/StillImage\"/>\r\n    <dc:date>2021-06-04T13:33:38.421694</dc:date>\r\n    <dc:format>image/svg+xml</dc:format>\r\n    <dc:creator>\r\n     <cc:Agent>\r\n      <dc:title>Matplotlib v3.4.2, https://matplotlib.org/</dc:title>\r\n     </cc:Agent>\r\n    </dc:creator>\r\n   </cc:Work>\r\n  </rdf:RDF>\r\n </metadata>\r\n <defs>\r\n  <style type=\"text/css\">*{stroke-linecap:butt;stroke-linejoin:round;}</style>\r\n </defs>\r\n <g id=\"figure_1\">\r\n  <g id=\"patch_1\">\r\n   <path d=\"M -0 290.872812 \r\nL 381.65 290.872812 \r\nL 381.65 0 \r\nL -0 0 \r\nz\r\n\" style=\"fill:none;\"/>\r\n  </g>\r\n  <g id=\"axes_1\">\r\n   <g id=\"patch_2\">\r\n    <path d=\"M 39.65 224.64 \r\nL 374.45 224.64 \r\nL 374.45 7.2 \r\nL 39.65 7.2 \r\nz\r\n\" style=\"fill:#ffffff;\"/>\r\n   </g>\r\n   <g id=\"patch_3\">\r\n    <path clip-path=\"url(#p2f3740c767)\" d=\"M 51.607143 224.64 \r\nL 75.521429 224.64 \r\nL 75.521429 17.554286 \r\nL 51.607143 17.554286 \r\nz\r\n\" style=\"fill:#1f77b4;\"/>\r\n   </g>\r\n   <g id=\"patch_4\">\r\n    <path clip-path=\"url(#p2f3740c767)\" d=\"M 99.435714 224.64 \r\nL 123.35 224.64 \r\nL 123.35 114.589925 \r\nL 99.435714 114.589925 \r\nz\r\n\" style=\"fill:#1f77b4;\"/>\r\n   </g>\r\n   <g id=\"patch_5\">\r\n    <path clip-path=\"url(#p2f3740c767)\" d=\"M 147.264286 224.64 \r\nL 171.178571 224.64 \r\nL 171.178571 197.882318 \r\nL 147.264286 197.882318 \r\nz\r\n\" style=\"fill:#1f77b4;\"/>\r\n   </g>\r\n   <g id=\"patch_6\">\r\n    <path clip-path=\"url(#p2f3740c767)\" d=\"M 195.092857 224.64 \r\nL 219.007143 224.64 \r\nL 219.007143 199.47008 \r\nL 195.092857 199.47008 \r\nz\r\n\" style=\"fill:#1f77b4;\"/>\r\n   </g>\r\n   <g id=\"patch_7\">\r\n    <path clip-path=\"url(#p2f3740c767)\" d=\"M 242.921429 224.64 \r\nL 266.835714 224.64 \r\nL 266.835714 219.199966 \r\nL 242.921429 219.199966 \r\nz\r\n\" style=\"fill:#1f77b4;\"/>\r\n   </g>\r\n   <g id=\"patch_8\">\r\n    <path clip-path=\"url(#p2f3740c767)\" d=\"M 290.75 224.64 \r\nL 314.664286 224.64 \r\nL 314.664286 221.438449 \r\nL 290.75 221.438449 \r\nz\r\n\" style=\"fill:#1f77b4;\"/>\r\n   </g>\r\n   <g id=\"patch_9\">\r\n    <path clip-path=\"url(#p2f3740c767)\" d=\"M 338.578571 224.64 \r\nL 362.492857 224.64 \r\nL 362.492857 222.167257 \r\nL 338.578571 222.167257 \r\nz\r\n\" style=\"fill:#1f77b4;\"/>\r\n   </g>\r\n   <g id=\"matplotlib.axis_1\">\r\n    <g id=\"xtick_1\">\r\n     <g id=\"line2d_1\">\r\n      <defs>\r\n       <path d=\"M 0 0 \r\nL 0 3.5 \r\n\" id=\"md134f1f257\" style=\"stroke:#000000;stroke-width:0.8;\"/>\r\n      </defs>\r\n      <g>\r\n       <use style=\"stroke:#000000;stroke-width:0.8;\" x=\"63.564286\" xlink:href=\"#md134f1f257\" y=\"224.64\"/>\r\n      </g>\r\n     </g>\r\n     <g id=\"text_1\">\r\n      <!-- Sadness -->\r\n      <g transform=\"translate(66.323661 273.374375)rotate(-90)scale(0.1 -0.1)\">\r\n       <defs>\r\n        <path d=\"M 3425 4513 \r\nL 3425 3897 \r\nQ 3066 4069 2747 4153 \r\nQ 2428 4238 2131 4238 \r\nQ 1616 4238 1336 4038 \r\nQ 1056 3838 1056 3469 \r\nQ 1056 3159 1242 3001 \r\nQ 1428 2844 1947 2747 \r\nL 2328 2669 \r\nQ 3034 2534 3370 2195 \r\nQ 3706 1856 3706 1288 \r\nQ 3706 609 3251 259 \r\nQ 2797 -91 1919 -91 \r\nQ 1588 -91 1214 -16 \r\nQ 841 59 441 206 \r\nL 441 856 \r\nQ 825 641 1194 531 \r\nQ 1563 422 1919 422 \r\nQ 2459 422 2753 634 \r\nQ 3047 847 3047 1241 \r\nQ 3047 1584 2836 1778 \r\nQ 2625 1972 2144 2069 \r\nL 1759 2144 \r\nQ 1053 2284 737 2584 \r\nQ 422 2884 422 3419 \r\nQ 422 4038 858 4394 \r\nQ 1294 4750 2059 4750 \r\nQ 2388 4750 2728 4690 \r\nQ 3069 4631 3425 4513 \r\nz\r\n\" id=\"DejaVuSans-53\" transform=\"scale(0.015625)\"/>\r\n        <path d=\"M 2194 1759 \r\nQ 1497 1759 1228 1600 \r\nQ 959 1441 959 1056 \r\nQ 959 750 1161 570 \r\nQ 1363 391 1709 391 \r\nQ 2188 391 2477 730 \r\nQ 2766 1069 2766 1631 \r\nL 2766 1759 \r\nL 2194 1759 \r\nz\r\nM 3341 1997 \r\nL 3341 0 \r\nL 2766 0 \r\nL 2766 531 \r\nQ 2569 213 2275 61 \r\nQ 1981 -91 1556 -91 \r\nQ 1019 -91 701 211 \r\nQ 384 513 384 1019 \r\nQ 384 1609 779 1909 \r\nQ 1175 2209 1959 2209 \r\nL 2766 2209 \r\nL 2766 2266 \r\nQ 2766 2663 2505 2880 \r\nQ 2244 3097 1772 3097 \r\nQ 1472 3097 1187 3025 \r\nQ 903 2953 641 2809 \r\nL 641 3341 \r\nQ 956 3463 1253 3523 \r\nQ 1550 3584 1831 3584 \r\nQ 2591 3584 2966 3190 \r\nQ 3341 2797 3341 1997 \r\nz\r\n\" id=\"DejaVuSans-61\" transform=\"scale(0.015625)\"/>\r\n        <path d=\"M 2906 2969 \r\nL 2906 4863 \r\nL 3481 4863 \r\nL 3481 0 \r\nL 2906 0 \r\nL 2906 525 \r\nQ 2725 213 2448 61 \r\nQ 2172 -91 1784 -91 \r\nQ 1150 -91 751 415 \r\nQ 353 922 353 1747 \r\nQ 353 2572 751 3078 \r\nQ 1150 3584 1784 3584 \r\nQ 2172 3584 2448 3432 \r\nQ 2725 3281 2906 2969 \r\nz\r\nM 947 1747 \r\nQ 947 1113 1208 752 \r\nQ 1469 391 1925 391 \r\nQ 2381 391 2643 752 \r\nQ 2906 1113 2906 1747 \r\nQ 2906 2381 2643 2742 \r\nQ 2381 3103 1925 3103 \r\nQ 1469 3103 1208 2742 \r\nQ 947 2381 947 1747 \r\nz\r\n\" id=\"DejaVuSans-64\" transform=\"scale(0.015625)\"/>\r\n        <path d=\"M 3513 2113 \r\nL 3513 0 \r\nL 2938 0 \r\nL 2938 2094 \r\nQ 2938 2591 2744 2837 \r\nQ 2550 3084 2163 3084 \r\nQ 1697 3084 1428 2787 \r\nQ 1159 2491 1159 1978 \r\nL 1159 0 \r\nL 581 0 \r\nL 581 3500 \r\nL 1159 3500 \r\nL 1159 2956 \r\nQ 1366 3272 1645 3428 \r\nQ 1925 3584 2291 3584 \r\nQ 2894 3584 3203 3211 \r\nQ 3513 2838 3513 2113 \r\nz\r\n\" id=\"DejaVuSans-6e\" transform=\"scale(0.015625)\"/>\r\n        <path d=\"M 3597 1894 \r\nL 3597 1613 \r\nL 953 1613 \r\nQ 991 1019 1311 708 \r\nQ 1631 397 2203 397 \r\nQ 2534 397 2845 478 \r\nQ 3156 559 3463 722 \r\nL 3463 178 \r\nQ 3153 47 2828 -22 \r\nQ 2503 -91 2169 -91 \r\nQ 1331 -91 842 396 \r\nQ 353 884 353 1716 \r\nQ 353 2575 817 3079 \r\nQ 1281 3584 2069 3584 \r\nQ 2775 3584 3186 3129 \r\nQ 3597 2675 3597 1894 \r\nz\r\nM 3022 2063 \r\nQ 3016 2534 2758 2815 \r\nQ 2500 3097 2075 3097 \r\nQ 1594 3097 1305 2825 \r\nQ 1016 2553 972 2059 \r\nL 3022 2063 \r\nz\r\n\" id=\"DejaVuSans-65\" transform=\"scale(0.015625)\"/>\r\n        <path d=\"M 2834 3397 \r\nL 2834 2853 \r\nQ 2591 2978 2328 3040 \r\nQ 2066 3103 1784 3103 \r\nQ 1356 3103 1142 2972 \r\nQ 928 2841 928 2578 \r\nQ 928 2378 1081 2264 \r\nQ 1234 2150 1697 2047 \r\nL 1894 2003 \r\nQ 2506 1872 2764 1633 \r\nQ 3022 1394 3022 966 \r\nQ 3022 478 2636 193 \r\nQ 2250 -91 1575 -91 \r\nQ 1294 -91 989 -36 \r\nQ 684 19 347 128 \r\nL 347 722 \r\nQ 666 556 975 473 \r\nQ 1284 391 1588 391 \r\nQ 1994 391 2212 530 \r\nQ 2431 669 2431 922 \r\nQ 2431 1156 2273 1281 \r\nQ 2116 1406 1581 1522 \r\nL 1381 1569 \r\nQ 847 1681 609 1914 \r\nQ 372 2147 372 2553 \r\nQ 372 3047 722 3315 \r\nQ 1072 3584 1716 3584 \r\nQ 2034 3584 2315 3537 \r\nQ 2597 3491 2834 3397 \r\nz\r\n\" id=\"DejaVuSans-73\" transform=\"scale(0.015625)\"/>\r\n       </defs>\r\n       <use xlink:href=\"#DejaVuSans-53\"/>\r\n       <use x=\"63.476562\" xlink:href=\"#DejaVuSans-61\"/>\r\n       <use x=\"124.755859\" xlink:href=\"#DejaVuSans-64\"/>\r\n       <use x=\"188.232422\" xlink:href=\"#DejaVuSans-6e\"/>\r\n       <use x=\"251.611328\" xlink:href=\"#DejaVuSans-65\"/>\r\n       <use x=\"313.134766\" xlink:href=\"#DejaVuSans-73\"/>\r\n       <use x=\"365.234375\" xlink:href=\"#DejaVuSans-73\"/>\r\n      </g>\r\n     </g>\r\n    </g>\r\n    <g id=\"xtick_2\">\r\n     <g id=\"line2d_2\">\r\n      <g>\r\n       <use style=\"stroke:#000000;stroke-width:0.8;\" x=\"111.392857\" xlink:href=\"#md134f1f257\" y=\"224.64\"/>\r\n      </g>\r\n     </g>\r\n     <g id=\"text_2\">\r\n      <!-- Angry -->\r\n      <g transform=\"translate(114.152232 261.19625)rotate(-90)scale(0.1 -0.1)\">\r\n       <defs>\r\n        <path d=\"M 2188 4044 \r\nL 1331 1722 \r\nL 3047 1722 \r\nL 2188 4044 \r\nz\r\nM 1831 4666 \r\nL 2547 4666 \r\nL 4325 0 \r\nL 3669 0 \r\nL 3244 1197 \r\nL 1141 1197 \r\nL 716 0 \r\nL 50 0 \r\nL 1831 4666 \r\nz\r\n\" id=\"DejaVuSans-41\" transform=\"scale(0.015625)\"/>\r\n        <path d=\"M 2906 1791 \r\nQ 2906 2416 2648 2759 \r\nQ 2391 3103 1925 3103 \r\nQ 1463 3103 1205 2759 \r\nQ 947 2416 947 1791 \r\nQ 947 1169 1205 825 \r\nQ 1463 481 1925 481 \r\nQ 2391 481 2648 825 \r\nQ 2906 1169 2906 1791 \r\nz\r\nM 3481 434 \r\nQ 3481 -459 3084 -895 \r\nQ 2688 -1331 1869 -1331 \r\nQ 1566 -1331 1297 -1286 \r\nQ 1028 -1241 775 -1147 \r\nL 775 -588 \r\nQ 1028 -725 1275 -790 \r\nQ 1522 -856 1778 -856 \r\nQ 2344 -856 2625 -561 \r\nQ 2906 -266 2906 331 \r\nL 2906 616 \r\nQ 2728 306 2450 153 \r\nQ 2172 0 1784 0 \r\nQ 1141 0 747 490 \r\nQ 353 981 353 1791 \r\nQ 353 2603 747 3093 \r\nQ 1141 3584 1784 3584 \r\nQ 2172 3584 2450 3431 \r\nQ 2728 3278 2906 2969 \r\nL 2906 3500 \r\nL 3481 3500 \r\nL 3481 434 \r\nz\r\n\" id=\"DejaVuSans-67\" transform=\"scale(0.015625)\"/>\r\n        <path d=\"M 2631 2963 \r\nQ 2534 3019 2420 3045 \r\nQ 2306 3072 2169 3072 \r\nQ 1681 3072 1420 2755 \r\nQ 1159 2438 1159 1844 \r\nL 1159 0 \r\nL 581 0 \r\nL 581 3500 \r\nL 1159 3500 \r\nL 1159 2956 \r\nQ 1341 3275 1631 3429 \r\nQ 1922 3584 2338 3584 \r\nQ 2397 3584 2469 3576 \r\nQ 2541 3569 2628 3553 \r\nL 2631 2963 \r\nz\r\n\" id=\"DejaVuSans-72\" transform=\"scale(0.015625)\"/>\r\n        <path d=\"M 2059 -325 \r\nQ 1816 -950 1584 -1140 \r\nQ 1353 -1331 966 -1331 \r\nL 506 -1331 \r\nL 506 -850 \r\nL 844 -850 \r\nQ 1081 -850 1212 -737 \r\nQ 1344 -625 1503 -206 \r\nL 1606 56 \r\nL 191 3500 \r\nL 800 3500 \r\nL 1894 763 \r\nL 2988 3500 \r\nL 3597 3500 \r\nL 2059 -325 \r\nz\r\n\" id=\"DejaVuSans-79\" transform=\"scale(0.015625)\"/>\r\n       </defs>\r\n       <use xlink:href=\"#DejaVuSans-41\"/>\r\n       <use x=\"68.408203\" xlink:href=\"#DejaVuSans-6e\"/>\r\n       <use x=\"131.787109\" xlink:href=\"#DejaVuSans-67\"/>\r\n       <use x=\"195.263672\" xlink:href=\"#DejaVuSans-72\"/>\r\n       <use x=\"236.376953\" xlink:href=\"#DejaVuSans-79\"/>\r\n      </g>\r\n     </g>\r\n    </g>\r\n    <g id=\"xtick_3\">\r\n     <g id=\"line2d_3\">\r\n      <g>\r\n       <use style=\"stroke:#000000;stroke-width:0.8;\" x=\"159.221429\" xlink:href=\"#md134f1f257\" y=\"224.64\"/>\r\n      </g>\r\n     </g>\r\n     <g id=\"text_3\">\r\n      <!-- Disgust -->\r\n      <g transform=\"translate(161.980804 269.143125)rotate(-90)scale(0.1 -0.1)\">\r\n       <defs>\r\n        <path d=\"M 1259 4147 \r\nL 1259 519 \r\nL 2022 519 \r\nQ 2988 519 3436 956 \r\nQ 3884 1394 3884 2338 \r\nQ 3884 3275 3436 3711 \r\nQ 2988 4147 2022 4147 \r\nL 1259 4147 \r\nz\r\nM 628 4666 \r\nL 1925 4666 \r\nQ 3281 4666 3915 4102 \r\nQ 4550 3538 4550 2338 \r\nQ 4550 1131 3912 565 \r\nQ 3275 0 1925 0 \r\nL 628 0 \r\nL 628 4666 \r\nz\r\n\" id=\"DejaVuSans-44\" transform=\"scale(0.015625)\"/>\r\n        <path d=\"M 603 3500 \r\nL 1178 3500 \r\nL 1178 0 \r\nL 603 0 \r\nL 603 3500 \r\nz\r\nM 603 4863 \r\nL 1178 4863 \r\nL 1178 4134 \r\nL 603 4134 \r\nL 603 4863 \r\nz\r\n\" id=\"DejaVuSans-69\" transform=\"scale(0.015625)\"/>\r\n        <path d=\"M 544 1381 \r\nL 544 3500 \r\nL 1119 3500 \r\nL 1119 1403 \r\nQ 1119 906 1312 657 \r\nQ 1506 409 1894 409 \r\nQ 2359 409 2629 706 \r\nQ 2900 1003 2900 1516 \r\nL 2900 3500 \r\nL 3475 3500 \r\nL 3475 0 \r\nL 2900 0 \r\nL 2900 538 \r\nQ 2691 219 2414 64 \r\nQ 2138 -91 1772 -91 \r\nQ 1169 -91 856 284 \r\nQ 544 659 544 1381 \r\nz\r\nM 1991 3584 \r\nL 1991 3584 \r\nz\r\n\" id=\"DejaVuSans-75\" transform=\"scale(0.015625)\"/>\r\n        <path d=\"M 1172 4494 \r\nL 1172 3500 \r\nL 2356 3500 \r\nL 2356 3053 \r\nL 1172 3053 \r\nL 1172 1153 \r\nQ 1172 725 1289 603 \r\nQ 1406 481 1766 481 \r\nL 2356 481 \r\nL 2356 0 \r\nL 1766 0 \r\nQ 1100 0 847 248 \r\nQ 594 497 594 1153 \r\nL 594 3053 \r\nL 172 3053 \r\nL 172 3500 \r\nL 594 3500 \r\nL 594 4494 \r\nL 1172 4494 \r\nz\r\n\" id=\"DejaVuSans-74\" transform=\"scale(0.015625)\"/>\r\n       </defs>\r\n       <use xlink:href=\"#DejaVuSans-44\"/>\r\n       <use x=\"77.001953\" xlink:href=\"#DejaVuSans-69\"/>\r\n       <use x=\"104.785156\" xlink:href=\"#DejaVuSans-73\"/>\r\n       <use x=\"156.884766\" xlink:href=\"#DejaVuSans-67\"/>\r\n       <use x=\"220.361328\" xlink:href=\"#DejaVuSans-75\"/>\r\n       <use x=\"283.740234\" xlink:href=\"#DejaVuSans-73\"/>\r\n       <use x=\"335.839844\" xlink:href=\"#DejaVuSans-74\"/>\r\n      </g>\r\n     </g>\r\n    </g>\r\n    <g id=\"xtick_4\">\r\n     <g id=\"line2d_4\">\r\n      <g>\r\n       <use style=\"stroke:#000000;stroke-width:0.8;\" x=\"207.05\" xlink:href=\"#md134f1f257\" y=\"224.64\"/>\r\n      </g>\r\n     </g>\r\n     <g id=\"text_4\">\r\n      <!-- Fear -->\r\n      <g transform=\"translate(209.809375 253.23375)rotate(-90)scale(0.1 -0.1)\">\r\n       <defs>\r\n        <path d=\"M 628 4666 \r\nL 3309 4666 \r\nL 3309 4134 \r\nL 1259 4134 \r\nL 1259 2759 \r\nL 3109 2759 \r\nL 3109 2228 \r\nL 1259 2228 \r\nL 1259 0 \r\nL 628 0 \r\nL 628 4666 \r\nz\r\n\" id=\"DejaVuSans-46\" transform=\"scale(0.015625)\"/>\r\n       </defs>\r\n       <use xlink:href=\"#DejaVuSans-46\"/>\r\n       <use x=\"52.019531\" xlink:href=\"#DejaVuSans-65\"/>\r\n       <use x=\"113.542969\" xlink:href=\"#DejaVuSans-61\"/>\r\n       <use x=\"174.822266\" xlink:href=\"#DejaVuSans-72\"/>\r\n      </g>\r\n     </g>\r\n    </g>\r\n    <g id=\"xtick_5\">\r\n     <g id=\"line2d_5\">\r\n      <g>\r\n       <use style=\"stroke:#000000;stroke-width:0.8;\" x=\"254.878571\" xlink:href=\"#md134f1f257\" y=\"224.64\"/>\r\n      </g>\r\n     </g>\r\n     <g id=\"text_5\">\r\n      <!-- Happiness -->\r\n      <g transform=\"translate(257.637946 283.672812)rotate(-90)scale(0.1 -0.1)\">\r\n       <defs>\r\n        <path d=\"M 628 4666 \r\nL 1259 4666 \r\nL 1259 2753 \r\nL 3553 2753 \r\nL 3553 4666 \r\nL 4184 4666 \r\nL 4184 0 \r\nL 3553 0 \r\nL 3553 2222 \r\nL 1259 2222 \r\nL 1259 0 \r\nL 628 0 \r\nL 628 4666 \r\nz\r\n\" id=\"DejaVuSans-48\" transform=\"scale(0.015625)\"/>\r\n        <path d=\"M 1159 525 \r\nL 1159 -1331 \r\nL 581 -1331 \r\nL 581 3500 \r\nL 1159 3500 \r\nL 1159 2969 \r\nQ 1341 3281 1617 3432 \r\nQ 1894 3584 2278 3584 \r\nQ 2916 3584 3314 3078 \r\nQ 3713 2572 3713 1747 \r\nQ 3713 922 3314 415 \r\nQ 2916 -91 2278 -91 \r\nQ 1894 -91 1617 61 \r\nQ 1341 213 1159 525 \r\nz\r\nM 3116 1747 \r\nQ 3116 2381 2855 2742 \r\nQ 2594 3103 2138 3103 \r\nQ 1681 3103 1420 2742 \r\nQ 1159 2381 1159 1747 \r\nQ 1159 1113 1420 752 \r\nQ 1681 391 2138 391 \r\nQ 2594 391 2855 752 \r\nQ 3116 1113 3116 1747 \r\nz\r\n\" id=\"DejaVuSans-70\" transform=\"scale(0.015625)\"/>\r\n       </defs>\r\n       <use xlink:href=\"#DejaVuSans-48\"/>\r\n       <use x=\"75.195312\" xlink:href=\"#DejaVuSans-61\"/>\r\n       <use x=\"136.474609\" xlink:href=\"#DejaVuSans-70\"/>\r\n       <use x=\"199.951172\" xlink:href=\"#DejaVuSans-70\"/>\r\n       <use x=\"263.427734\" xlink:href=\"#DejaVuSans-69\"/>\r\n       <use x=\"291.210938\" xlink:href=\"#DejaVuSans-6e\"/>\r\n       <use x=\"354.589844\" xlink:href=\"#DejaVuSans-65\"/>\r\n       <use x=\"416.113281\" xlink:href=\"#DejaVuSans-73\"/>\r\n       <use x=\"468.212891\" xlink:href=\"#DejaVuSans-73\"/>\r\n      </g>\r\n     </g>\r\n    </g>\r\n    <g id=\"xtick_6\">\r\n     <g id=\"line2d_6\">\r\n      <g>\r\n       <use style=\"stroke:#000000;stroke-width:0.8;\" x=\"302.707143\" xlink:href=\"#md134f1f257\" y=\"224.64\"/>\r\n      </g>\r\n     </g>\r\n     <g id=\"text_6\">\r\n      <!-- Neutral -->\r\n      <g transform=\"translate(305.466518 268.549375)rotate(-90)scale(0.1 -0.1)\">\r\n       <defs>\r\n        <path d=\"M 628 4666 \r\nL 1478 4666 \r\nL 3547 763 \r\nL 3547 4666 \r\nL 4159 4666 \r\nL 4159 0 \r\nL 3309 0 \r\nL 1241 3903 \r\nL 1241 0 \r\nL 628 0 \r\nL 628 4666 \r\nz\r\n\" id=\"DejaVuSans-4e\" transform=\"scale(0.015625)\"/>\r\n        <path d=\"M 603 4863 \r\nL 1178 4863 \r\nL 1178 0 \r\nL 603 0 \r\nL 603 4863 \r\nz\r\n\" id=\"DejaVuSans-6c\" transform=\"scale(0.015625)\"/>\r\n       </defs>\r\n       <use xlink:href=\"#DejaVuSans-4e\"/>\r\n       <use x=\"74.804688\" xlink:href=\"#DejaVuSans-65\"/>\r\n       <use x=\"136.328125\" xlink:href=\"#DejaVuSans-75\"/>\r\n       <use x=\"199.707031\" xlink:href=\"#DejaVuSans-74\"/>\r\n       <use x=\"238.916016\" xlink:href=\"#DejaVuSans-72\"/>\r\n       <use x=\"280.029297\" xlink:href=\"#DejaVuSans-61\"/>\r\n       <use x=\"341.308594\" xlink:href=\"#DejaVuSans-6c\"/>\r\n      </g>\r\n     </g>\r\n    </g>\r\n    <g id=\"xtick_7\">\r\n     <g id=\"line2d_7\">\r\n      <g>\r\n       <use style=\"stroke:#000000;stroke-width:0.8;\" x=\"350.535714\" xlink:href=\"#md134f1f257\" y=\"224.64\"/>\r\n      </g>\r\n     </g>\r\n     <g id=\"text_7\">\r\n      <!-- Surprise -->\r\n      <g transform=\"translate(353.295089 273.036875)rotate(-90)scale(0.1 -0.1)\">\r\n       <use xlink:href=\"#DejaVuSans-53\"/>\r\n       <use x=\"63.476562\" xlink:href=\"#DejaVuSans-75\"/>\r\n       <use x=\"126.855469\" xlink:href=\"#DejaVuSans-72\"/>\r\n       <use x=\"167.96875\" xlink:href=\"#DejaVuSans-70\"/>\r\n       <use x=\"231.445312\" xlink:href=\"#DejaVuSans-72\"/>\r\n       <use x=\"272.558594\" xlink:href=\"#DejaVuSans-69\"/>\r\n       <use x=\"300.341797\" xlink:href=\"#DejaVuSans-73\"/>\r\n       <use x=\"352.441406\" xlink:href=\"#DejaVuSans-65\"/>\r\n      </g>\r\n     </g>\r\n    </g>\r\n   </g>\r\n   <g id=\"matplotlib.axis_2\">\r\n    <g id=\"ytick_1\">\r\n     <g id=\"line2d_8\">\r\n      <defs>\r\n       <path d=\"M 0 0 \r\nL -3.5 0 \r\n\" id=\"mde148194d8\" style=\"stroke:#000000;stroke-width:0.8;\"/>\r\n      </defs>\r\n      <g>\r\n       <use style=\"stroke:#000000;stroke-width:0.8;\" x=\"39.65\" xlink:href=\"#mde148194d8\" y=\"224.64\"/>\r\n      </g>\r\n     </g>\r\n     <g id=\"text_8\">\r\n      <!-- 0 -->\r\n      <g transform=\"translate(26.2875 228.439219)scale(0.1 -0.1)\">\r\n       <defs>\r\n        <path d=\"M 2034 4250 \r\nQ 1547 4250 1301 3770 \r\nQ 1056 3291 1056 2328 \r\nQ 1056 1369 1301 889 \r\nQ 1547 409 2034 409 \r\nQ 2525 409 2770 889 \r\nQ 3016 1369 3016 2328 \r\nQ 3016 3291 2770 3770 \r\nQ 2525 4250 2034 4250 \r\nz\r\nM 2034 4750 \r\nQ 2819 4750 3233 4129 \r\nQ 3647 3509 3647 2328 \r\nQ 3647 1150 3233 529 \r\nQ 2819 -91 2034 -91 \r\nQ 1250 -91 836 529 \r\nQ 422 1150 422 2328 \r\nQ 422 3509 836 4129 \r\nQ 1250 4750 2034 4750 \r\nz\r\n\" id=\"DejaVuSans-30\" transform=\"scale(0.015625)\"/>\r\n       </defs>\r\n       <use xlink:href=\"#DejaVuSans-30\"/>\r\n      </g>\r\n     </g>\r\n    </g>\r\n    <g id=\"ytick_2\">\r\n     <g id=\"line2d_9\">\r\n      <g>\r\n       <use style=\"stroke:#000000;stroke-width:0.8;\" x=\"39.65\" xlink:href=\"#mde148194d8\" y=\"198.611127\"/>\r\n      </g>\r\n     </g>\r\n     <g id=\"text_9\">\r\n      <!-- 1000 -->\r\n      <g transform=\"translate(7.2 202.410346)scale(0.1 -0.1)\">\r\n       <defs>\r\n        <path d=\"M 794 531 \r\nL 1825 531 \r\nL 1825 4091 \r\nL 703 3866 \r\nL 703 4441 \r\nL 1819 4666 \r\nL 2450 4666 \r\nL 2450 531 \r\nL 3481 531 \r\nL 3481 0 \r\nL 794 0 \r\nL 794 531 \r\nz\r\n\" id=\"DejaVuSans-31\" transform=\"scale(0.015625)\"/>\r\n       </defs>\r\n       <use xlink:href=\"#DejaVuSans-31\"/>\r\n       <use x=\"63.623047\" xlink:href=\"#DejaVuSans-30\"/>\r\n       <use x=\"127.246094\" xlink:href=\"#DejaVuSans-30\"/>\r\n       <use x=\"190.869141\" xlink:href=\"#DejaVuSans-30\"/>\r\n      </g>\r\n     </g>\r\n    </g>\r\n    <g id=\"ytick_3\">\r\n     <g id=\"line2d_10\">\r\n      <g>\r\n       <use style=\"stroke:#000000;stroke-width:0.8;\" x=\"39.65\" xlink:href=\"#mde148194d8\" y=\"172.582254\"/>\r\n      </g>\r\n     </g>\r\n     <g id=\"text_10\">\r\n      <!-- 2000 -->\r\n      <g transform=\"translate(7.2 176.381473)scale(0.1 -0.1)\">\r\n       <defs>\r\n        <path d=\"M 1228 531 \r\nL 3431 531 \r\nL 3431 0 \r\nL 469 0 \r\nL 469 531 \r\nQ 828 903 1448 1529 \r\nQ 2069 2156 2228 2338 \r\nQ 2531 2678 2651 2914 \r\nQ 2772 3150 2772 3378 \r\nQ 2772 3750 2511 3984 \r\nQ 2250 4219 1831 4219 \r\nQ 1534 4219 1204 4116 \r\nQ 875 4013 500 3803 \r\nL 500 4441 \r\nQ 881 4594 1212 4672 \r\nQ 1544 4750 1819 4750 \r\nQ 2544 4750 2975 4387 \r\nQ 3406 4025 3406 3419 \r\nQ 3406 3131 3298 2873 \r\nQ 3191 2616 2906 2266 \r\nQ 2828 2175 2409 1742 \r\nQ 1991 1309 1228 531 \r\nz\r\n\" id=\"DejaVuSans-32\" transform=\"scale(0.015625)\"/>\r\n       </defs>\r\n       <use xlink:href=\"#DejaVuSans-32\"/>\r\n       <use x=\"63.623047\" xlink:href=\"#DejaVuSans-30\"/>\r\n       <use x=\"127.246094\" xlink:href=\"#DejaVuSans-30\"/>\r\n       <use x=\"190.869141\" xlink:href=\"#DejaVuSans-30\"/>\r\n      </g>\r\n     </g>\r\n    </g>\r\n    <g id=\"ytick_4\">\r\n     <g id=\"line2d_11\">\r\n      <g>\r\n       <use style=\"stroke:#000000;stroke-width:0.8;\" x=\"39.65\" xlink:href=\"#mde148194d8\" y=\"146.553381\"/>\r\n      </g>\r\n     </g>\r\n     <g id=\"text_11\">\r\n      <!-- 3000 -->\r\n      <g transform=\"translate(7.2 150.352599)scale(0.1 -0.1)\">\r\n       <defs>\r\n        <path d=\"M 2597 2516 \r\nQ 3050 2419 3304 2112 \r\nQ 3559 1806 3559 1356 \r\nQ 3559 666 3084 287 \r\nQ 2609 -91 1734 -91 \r\nQ 1441 -91 1130 -33 \r\nQ 819 25 488 141 \r\nL 488 750 \r\nQ 750 597 1062 519 \r\nQ 1375 441 1716 441 \r\nQ 2309 441 2620 675 \r\nQ 2931 909 2931 1356 \r\nQ 2931 1769 2642 2001 \r\nQ 2353 2234 1838 2234 \r\nL 1294 2234 \r\nL 1294 2753 \r\nL 1863 2753 \r\nQ 2328 2753 2575 2939 \r\nQ 2822 3125 2822 3475 \r\nQ 2822 3834 2567 4026 \r\nQ 2313 4219 1838 4219 \r\nQ 1578 4219 1281 4162 \r\nQ 984 4106 628 3988 \r\nL 628 4550 \r\nQ 988 4650 1302 4700 \r\nQ 1616 4750 1894 4750 \r\nQ 2613 4750 3031 4423 \r\nQ 3450 4097 3450 3541 \r\nQ 3450 3153 3228 2886 \r\nQ 3006 2619 2597 2516 \r\nz\r\n\" id=\"DejaVuSans-33\" transform=\"scale(0.015625)\"/>\r\n       </defs>\r\n       <use xlink:href=\"#DejaVuSans-33\"/>\r\n       <use x=\"63.623047\" xlink:href=\"#DejaVuSans-30\"/>\r\n       <use x=\"127.246094\" xlink:href=\"#DejaVuSans-30\"/>\r\n       <use x=\"190.869141\" xlink:href=\"#DejaVuSans-30\"/>\r\n      </g>\r\n     </g>\r\n    </g>\r\n    <g id=\"ytick_5\">\r\n     <g id=\"line2d_12\">\r\n      <g>\r\n       <use style=\"stroke:#000000;stroke-width:0.8;\" x=\"39.65\" xlink:href=\"#mde148194d8\" y=\"120.524508\"/>\r\n      </g>\r\n     </g>\r\n     <g id=\"text_12\">\r\n      <!-- 4000 -->\r\n      <g transform=\"translate(7.2 124.323726)scale(0.1 -0.1)\">\r\n       <defs>\r\n        <path d=\"M 2419 4116 \r\nL 825 1625 \r\nL 2419 1625 \r\nL 2419 4116 \r\nz\r\nM 2253 4666 \r\nL 3047 4666 \r\nL 3047 1625 \r\nL 3713 1625 \r\nL 3713 1100 \r\nL 3047 1100 \r\nL 3047 0 \r\nL 2419 0 \r\nL 2419 1100 \r\nL 313 1100 \r\nL 313 1709 \r\nL 2253 4666 \r\nz\r\n\" id=\"DejaVuSans-34\" transform=\"scale(0.015625)\"/>\r\n       </defs>\r\n       <use xlink:href=\"#DejaVuSans-34\"/>\r\n       <use x=\"63.623047\" xlink:href=\"#DejaVuSans-30\"/>\r\n       <use x=\"127.246094\" xlink:href=\"#DejaVuSans-30\"/>\r\n       <use x=\"190.869141\" xlink:href=\"#DejaVuSans-30\"/>\r\n      </g>\r\n     </g>\r\n    </g>\r\n    <g id=\"ytick_6\">\r\n     <g id=\"line2d_13\">\r\n      <g>\r\n       <use style=\"stroke:#000000;stroke-width:0.8;\" x=\"39.65\" xlink:href=\"#mde148194d8\" y=\"94.495635\"/>\r\n      </g>\r\n     </g>\r\n     <g id=\"text_13\">\r\n      <!-- 5000 -->\r\n      <g transform=\"translate(7.2 98.294853)scale(0.1 -0.1)\">\r\n       <defs>\r\n        <path d=\"M 691 4666 \r\nL 3169 4666 \r\nL 3169 4134 \r\nL 1269 4134 \r\nL 1269 2991 \r\nQ 1406 3038 1543 3061 \r\nQ 1681 3084 1819 3084 \r\nQ 2600 3084 3056 2656 \r\nQ 3513 2228 3513 1497 \r\nQ 3513 744 3044 326 \r\nQ 2575 -91 1722 -91 \r\nQ 1428 -91 1123 -41 \r\nQ 819 9 494 109 \r\nL 494 744 \r\nQ 775 591 1075 516 \r\nQ 1375 441 1709 441 \r\nQ 2250 441 2565 725 \r\nQ 2881 1009 2881 1497 \r\nQ 2881 1984 2565 2268 \r\nQ 2250 2553 1709 2553 \r\nQ 1456 2553 1204 2497 \r\nQ 953 2441 691 2322 \r\nL 691 4666 \r\nz\r\n\" id=\"DejaVuSans-35\" transform=\"scale(0.015625)\"/>\r\n       </defs>\r\n       <use xlink:href=\"#DejaVuSans-35\"/>\r\n       <use x=\"63.623047\" xlink:href=\"#DejaVuSans-30\"/>\r\n       <use x=\"127.246094\" xlink:href=\"#DejaVuSans-30\"/>\r\n       <use x=\"190.869141\" xlink:href=\"#DejaVuSans-30\"/>\r\n      </g>\r\n     </g>\r\n    </g>\r\n    <g id=\"ytick_7\">\r\n     <g id=\"line2d_14\">\r\n      <g>\r\n       <use style=\"stroke:#000000;stroke-width:0.8;\" x=\"39.65\" xlink:href=\"#mde148194d8\" y=\"68.466761\"/>\r\n      </g>\r\n     </g>\r\n     <g id=\"text_14\">\r\n      <!-- 6000 -->\r\n      <g transform=\"translate(7.2 72.26598)scale(0.1 -0.1)\">\r\n       <defs>\r\n        <path d=\"M 2113 2584 \r\nQ 1688 2584 1439 2293 \r\nQ 1191 2003 1191 1497 \r\nQ 1191 994 1439 701 \r\nQ 1688 409 2113 409 \r\nQ 2538 409 2786 701 \r\nQ 3034 994 3034 1497 \r\nQ 3034 2003 2786 2293 \r\nQ 2538 2584 2113 2584 \r\nz\r\nM 3366 4563 \r\nL 3366 3988 \r\nQ 3128 4100 2886 4159 \r\nQ 2644 4219 2406 4219 \r\nQ 1781 4219 1451 3797 \r\nQ 1122 3375 1075 2522 \r\nQ 1259 2794 1537 2939 \r\nQ 1816 3084 2150 3084 \r\nQ 2853 3084 3261 2657 \r\nQ 3669 2231 3669 1497 \r\nQ 3669 778 3244 343 \r\nQ 2819 -91 2113 -91 \r\nQ 1303 -91 875 529 \r\nQ 447 1150 447 2328 \r\nQ 447 3434 972 4092 \r\nQ 1497 4750 2381 4750 \r\nQ 2619 4750 2861 4703 \r\nQ 3103 4656 3366 4563 \r\nz\r\n\" id=\"DejaVuSans-36\" transform=\"scale(0.015625)\"/>\r\n       </defs>\r\n       <use xlink:href=\"#DejaVuSans-36\"/>\r\n       <use x=\"63.623047\" xlink:href=\"#DejaVuSans-30\"/>\r\n       <use x=\"127.246094\" xlink:href=\"#DejaVuSans-30\"/>\r\n       <use x=\"190.869141\" xlink:href=\"#DejaVuSans-30\"/>\r\n      </g>\r\n     </g>\r\n    </g>\r\n    <g id=\"ytick_8\">\r\n     <g id=\"line2d_15\">\r\n      <g>\r\n       <use style=\"stroke:#000000;stroke-width:0.8;\" x=\"39.65\" xlink:href=\"#mde148194d8\" y=\"42.437888\"/>\r\n      </g>\r\n     </g>\r\n     <g id=\"text_15\">\r\n      <!-- 7000 -->\r\n      <g transform=\"translate(7.2 46.237107)scale(0.1 -0.1)\">\r\n       <defs>\r\n        <path d=\"M 525 4666 \r\nL 3525 4666 \r\nL 3525 4397 \r\nL 1831 0 \r\nL 1172 0 \r\nL 2766 4134 \r\nL 525 4134 \r\nL 525 4666 \r\nz\r\n\" id=\"DejaVuSans-37\" transform=\"scale(0.015625)\"/>\r\n       </defs>\r\n       <use xlink:href=\"#DejaVuSans-37\"/>\r\n       <use x=\"63.623047\" xlink:href=\"#DejaVuSans-30\"/>\r\n       <use x=\"127.246094\" xlink:href=\"#DejaVuSans-30\"/>\r\n       <use x=\"190.869141\" xlink:href=\"#DejaVuSans-30\"/>\r\n      </g>\r\n     </g>\r\n    </g>\r\n    <g id=\"ytick_9\">\r\n     <g id=\"line2d_16\">\r\n      <g>\r\n       <use style=\"stroke:#000000;stroke-width:0.8;\" x=\"39.65\" xlink:href=\"#mde148194d8\" y=\"16.409015\"/>\r\n      </g>\r\n     </g>\r\n     <g id=\"text_16\">\r\n      <!-- 8000 -->\r\n      <g transform=\"translate(7.2 20.208234)scale(0.1 -0.1)\">\r\n       <defs>\r\n        <path d=\"M 2034 2216 \r\nQ 1584 2216 1326 1975 \r\nQ 1069 1734 1069 1313 \r\nQ 1069 891 1326 650 \r\nQ 1584 409 2034 409 \r\nQ 2484 409 2743 651 \r\nQ 3003 894 3003 1313 \r\nQ 3003 1734 2745 1975 \r\nQ 2488 2216 2034 2216 \r\nz\r\nM 1403 2484 \r\nQ 997 2584 770 2862 \r\nQ 544 3141 544 3541 \r\nQ 544 4100 942 4425 \r\nQ 1341 4750 2034 4750 \r\nQ 2731 4750 3128 4425 \r\nQ 3525 4100 3525 3541 \r\nQ 3525 3141 3298 2862 \r\nQ 3072 2584 2669 2484 \r\nQ 3125 2378 3379 2068 \r\nQ 3634 1759 3634 1313 \r\nQ 3634 634 3220 271 \r\nQ 2806 -91 2034 -91 \r\nQ 1263 -91 848 271 \r\nQ 434 634 434 1313 \r\nQ 434 1759 690 2068 \r\nQ 947 2378 1403 2484 \r\nz\r\nM 1172 3481 \r\nQ 1172 3119 1398 2916 \r\nQ 1625 2713 2034 2713 \r\nQ 2441 2713 2670 2916 \r\nQ 2900 3119 2900 3481 \r\nQ 2900 3844 2670 4047 \r\nQ 2441 4250 2034 4250 \r\nQ 1625 4250 1398 4047 \r\nQ 1172 3844 1172 3481 \r\nz\r\n\" id=\"DejaVuSans-38\" transform=\"scale(0.015625)\"/>\r\n       </defs>\r\n       <use xlink:href=\"#DejaVuSans-38\"/>\r\n       <use x=\"63.623047\" xlink:href=\"#DejaVuSans-30\"/>\r\n       <use x=\"127.246094\" xlink:href=\"#DejaVuSans-30\"/>\r\n       <use x=\"190.869141\" xlink:href=\"#DejaVuSans-30\"/>\r\n      </g>\r\n     </g>\r\n    </g>\r\n   </g>\r\n   <g id=\"patch_10\">\r\n    <path d=\"M 39.65 224.64 \r\nL 39.65 7.2 \r\n\" style=\"fill:none;stroke:#000000;stroke-linecap:square;stroke-linejoin:miter;stroke-width:0.8;\"/>\r\n   </g>\r\n   <g id=\"patch_11\">\r\n    <path d=\"M 374.45 224.64 \r\nL 374.45 7.2 \r\n\" style=\"fill:none;stroke:#000000;stroke-linecap:square;stroke-linejoin:miter;stroke-width:0.8;\"/>\r\n   </g>\r\n   <g id=\"patch_12\">\r\n    <path d=\"M 39.65 224.64 \r\nL 374.45 224.64 \r\n\" style=\"fill:none;stroke:#000000;stroke-linecap:square;stroke-linejoin:miter;stroke-width:0.8;\"/>\r\n   </g>\r\n   <g id=\"patch_13\">\r\n    <path d=\"M 39.65 7.2 \r\nL 374.45 7.2 \r\n\" style=\"fill:none;stroke:#000000;stroke-linecap:square;stroke-linejoin:miter;stroke-width:0.8;\"/>\r\n   </g>\r\n  </g>\r\n </g>\r\n <defs>\r\n  <clipPath id=\"p2f3740c767\">\r\n   <rect height=\"217.44\" width=\"334.8\" x=\"39.65\" y=\"7.2\"/>\r\n  </clipPath>\r\n </defs>\r\n</svg>\r\n",
      "image/png": "[encoded data removed]"
     },
     "metadata": {
      "needs_background": "light"
     }
    }
   ],
   "source": [
    "df4_2.emotion.value_counts().plot.bar()"
   ]
  },
  {
   "source": [
    "문제점 발견  \n",
    "중립의 감정세기는 보통 0으로 감정의 세기가 없다.  \n",
    "슬픔과 분노와 같은 감정의 경우 기본 1 에서 2까지 분포도가 높아 슬픔과 분노가 더 늘어나는 문제 발생  \n",
    "이에 1번 방안으로 변경"
   ],
   "cell_type": "markdown",
   "metadata": {}
  },
  {
   "cell_type": "code",
   "execution_count": 39,
   "metadata": {},
   "outputs": [],
   "source": [
    "emo_loc = {key:val for val,key in enumerate(df4['1번 감정'].unique())}\n",
    "loc_emo = {val:key for val,key in enumerate(df4['1번 감정'].unique())}\n",
    "\n",
    "emo_score = np.zeros((len(df4),7))\n",
    "emo = df4['1번 감정\t1번 감정세기\t2번 감정\t2번 감정세기\t3번 감정\t3번 감정세기\t4번 감정\t4번감정세기\t5번 감정\t5번 감정세기'.split('\t')]\n",
    "for num,i in emo.iterrows():\n",
    "    emo_score[num,emo_loc[i[0]]] += 1\n",
    "    emo_score[num,emo_loc[i[2]]] += 1\n",
    "    emo_score[num,emo_loc[i[4]]] += 1\n",
    "    emo_score[num,emo_loc[i[6]]] += 1\n",
    "    emo_score[num,emo_loc[i[8]]] += 1\n",
    "\n",
    "df4_1 = pd.DataFrame(df4[['wav_id','발화문']])\n",
    "df4_1 ['emotion'] = [loc_emo[i] for i in emo_score.argmax(axis=1)]"
   ]
  },
  {
   "cell_type": "code",
   "execution_count": 40,
   "metadata": {},
   "outputs": [
    {
     "output_type": "execute_result",
     "data": {
      "text/plain": [
       "<AxesSubplot:>"
      ]
     },
     "metadata": {},
     "execution_count": 40
    },
    {
     "output_type": "display_data",
     "data": {
      "text/plain": "<Figure size 432x288 with 1 Axes>",
      "image/svg+xml": "<?xml version=\"1.0\" encoding=\"utf-8\" standalone=\"no\"?>\r\n<!DOCTYPE svg PUBLIC \"-//W3C//DTD SVG 1.1//EN\"\r\n  \"http://www.w3.org/Graphics/SVG/1.1/DTD/svg11.dtd\">\r\n<svg height=\"290.872812pt\" version=\"1.1\" viewBox=\"0 0 381.65 290.872812\" width=\"381.65pt\" xmlns=\"http://www.w3.org/2000/svg\" xmlns:xlink=\"http://www.w3.org/1999/xlink\">\r\n <metadata>\r\n  <rdf:RDF xmlns:cc=\"http://creativecommons.org/ns#\" xmlns:dc=\"http://purl.org/dc/elements/1.1/\" xmlns:rdf=\"http://www.w3.org/1999/02/22-rdf-syntax-ns#\">\r\n   <cc:Work>\r\n    <dc:type rdf:resource=\"http://purl.org/dc/dcmitype/StillImage\"/>\r\n    <dc:date>2021-06-04T13:33:41.490724</dc:date>\r\n    <dc:format>image/svg+xml</dc:format>\r\n    <dc:creator>\r\n     <cc:Agent>\r\n      <dc:title>Matplotlib v3.4.2, https://matplotlib.org/</dc:title>\r\n     </cc:Agent>\r\n    </dc:creator>\r\n   </cc:Work>\r\n  </rdf:RDF>\r\n </metadata>\r\n <defs>\r\n  <style type=\"text/css\">*{stroke-linecap:butt;stroke-linejoin:round;}</style>\r\n </defs>\r\n <g id=\"figure_1\">\r\n  <g id=\"patch_1\">\r\n   <path d=\"M -0 290.872812 \r\nL 381.65 290.872812 \r\nL 381.65 0 \r\nL -0 0 \r\nz\r\n\" style=\"fill:none;\"/>\r\n  </g>\r\n  <g id=\"axes_1\">\r\n   <g id=\"patch_2\">\r\n    <path d=\"M 39.65 224.64 \r\nL 374.45 224.64 \r\nL 374.45 7.2 \r\nL 39.65 7.2 \r\nz\r\n\" style=\"fill:#ffffff;\"/>\r\n   </g>\r\n   <g id=\"patch_3\">\r\n    <path clip-path=\"url(#pe1f00fe47c)\" d=\"M 51.607143 224.64 \r\nL 75.521429 224.64 \r\nL 75.521429 17.554286 \r\nL 51.607143 17.554286 \r\nz\r\n\" style=\"fill:#1f77b4;\"/>\r\n   </g>\r\n   <g id=\"patch_4\">\r\n    <path clip-path=\"url(#pe1f00fe47c)\" d=\"M 99.435714 224.64 \r\nL 123.35 224.64 \r\nL 123.35 105.83479 \r\nL 99.435714 105.83479 \r\nz\r\n\" style=\"fill:#1f77b4;\"/>\r\n   </g>\r\n   <g id=\"patch_5\">\r\n    <path clip-path=\"url(#pe1f00fe47c)\" d=\"M 147.264286 224.64 \r\nL 171.178571 224.64 \r\nL 171.178571 176.323921 \r\nL 147.264286 176.323921 \r\nz\r\n\" style=\"fill:#1f77b4;\"/>\r\n   </g>\r\n   <g id=\"patch_6\">\r\n    <path clip-path=\"url(#pe1f00fe47c)\" d=\"M 195.092857 224.64 \r\nL 219.007143 224.64 \r\nL 219.007143 197.291276 \r\nL 195.092857 197.291276 \r\nz\r\n\" style=\"fill:#1f77b4;\"/>\r\n   </g>\r\n   <g id=\"patch_7\">\r\n    <path clip-path=\"url(#pe1f00fe47c)\" d=\"M 242.921429 224.64 \r\nL 266.835714 224.64 \r\nL 266.835714 200.261406 \r\nL 242.921429 200.261406 \r\nz\r\n\" style=\"fill:#1f77b4;\"/>\r\n   </g>\r\n   <g id=\"patch_8\">\r\n    <path clip-path=\"url(#pe1f00fe47c)\" d=\"M 290.75 224.64 \r\nL 314.664286 224.64 \r\nL 314.664286 222.72853 \r\nL 290.75 222.72853 \r\nz\r\n\" style=\"fill:#1f77b4;\"/>\r\n   </g>\r\n   <g id=\"patch_9\">\r\n    <path clip-path=\"url(#pe1f00fe47c)\" d=\"M 338.578571 224.64 \r\nL 362.492857 224.64 \r\nL 362.492857 222.963788 \r\nL 338.578571 222.963788 \r\nz\r\n\" style=\"fill:#1f77b4;\"/>\r\n   </g>\r\n   <g id=\"matplotlib.axis_1\">\r\n    <g id=\"xtick_1\">\r\n     <g id=\"line2d_1\">\r\n      <defs>\r\n       <path d=\"M 0 0 \r\nL 0 3.5 \r\n\" id=\"mfd6ea34ea8\" style=\"stroke:#000000;stroke-width:0.8;\"/>\r\n      </defs>\r\n      <g>\r\n       <use style=\"stroke:#000000;stroke-width:0.8;\" x=\"63.564286\" xlink:href=\"#mfd6ea34ea8\" y=\"224.64\"/>\r\n      </g>\r\n     </g>\r\n     <g id=\"text_1\">\r\n      <!-- Sadness -->\r\n      <g transform=\"translate(66.323661 273.374375)rotate(-90)scale(0.1 -0.1)\">\r\n       <defs>\r\n        <path d=\"M 3425 4513 \r\nL 3425 3897 \r\nQ 3066 4069 2747 4153 \r\nQ 2428 4238 2131 4238 \r\nQ 1616 4238 1336 4038 \r\nQ 1056 3838 1056 3469 \r\nQ 1056 3159 1242 3001 \r\nQ 1428 2844 1947 2747 \r\nL 2328 2669 \r\nQ 3034 2534 3370 2195 \r\nQ 3706 1856 3706 1288 \r\nQ 3706 609 3251 259 \r\nQ 2797 -91 1919 -91 \r\nQ 1588 -91 1214 -16 \r\nQ 841 59 441 206 \r\nL 441 856 \r\nQ 825 641 1194 531 \r\nQ 1563 422 1919 422 \r\nQ 2459 422 2753 634 \r\nQ 3047 847 3047 1241 \r\nQ 3047 1584 2836 1778 \r\nQ 2625 1972 2144 2069 \r\nL 1759 2144 \r\nQ 1053 2284 737 2584 \r\nQ 422 2884 422 3419 \r\nQ 422 4038 858 4394 \r\nQ 1294 4750 2059 4750 \r\nQ 2388 4750 2728 4690 \r\nQ 3069 4631 3425 4513 \r\nz\r\n\" id=\"DejaVuSans-53\" transform=\"scale(0.015625)\"/>\r\n        <path d=\"M 2194 1759 \r\nQ 1497 1759 1228 1600 \r\nQ 959 1441 959 1056 \r\nQ 959 750 1161 570 \r\nQ 1363 391 1709 391 \r\nQ 2188 391 2477 730 \r\nQ 2766 1069 2766 1631 \r\nL 2766 1759 \r\nL 2194 1759 \r\nz\r\nM 3341 1997 \r\nL 3341 0 \r\nL 2766 0 \r\nL 2766 531 \r\nQ 2569 213 2275 61 \r\nQ 1981 -91 1556 -91 \r\nQ 1019 -91 701 211 \r\nQ 384 513 384 1019 \r\nQ 384 1609 779 1909 \r\nQ 1175 2209 1959 2209 \r\nL 2766 2209 \r\nL 2766 2266 \r\nQ 2766 2663 2505 2880 \r\nQ 2244 3097 1772 3097 \r\nQ 1472 3097 1187 3025 \r\nQ 903 2953 641 2809 \r\nL 641 3341 \r\nQ 956 3463 1253 3523 \r\nQ 1550 3584 1831 3584 \r\nQ 2591 3584 2966 3190 \r\nQ 3341 2797 3341 1997 \r\nz\r\n\" id=\"DejaVuSans-61\" transform=\"scale(0.015625)\"/>\r\n        <path d=\"M 2906 2969 \r\nL 2906 4863 \r\nL 3481 4863 \r\nL 3481 0 \r\nL 2906 0 \r\nL 2906 525 \r\nQ 2725 213 2448 61 \r\nQ 2172 -91 1784 -91 \r\nQ 1150 -91 751 415 \r\nQ 353 922 353 1747 \r\nQ 353 2572 751 3078 \r\nQ 1150 3584 1784 3584 \r\nQ 2172 3584 2448 3432 \r\nQ 2725 3281 2906 2969 \r\nz\r\nM 947 1747 \r\nQ 947 1113 1208 752 \r\nQ 1469 391 1925 391 \r\nQ 2381 391 2643 752 \r\nQ 2906 1113 2906 1747 \r\nQ 2906 2381 2643 2742 \r\nQ 2381 3103 1925 3103 \r\nQ 1469 3103 1208 2742 \r\nQ 947 2381 947 1747 \r\nz\r\n\" id=\"DejaVuSans-64\" transform=\"scale(0.015625)\"/>\r\n        <path d=\"M 3513 2113 \r\nL 3513 0 \r\nL 2938 0 \r\nL 2938 2094 \r\nQ 2938 2591 2744 2837 \r\nQ 2550 3084 2163 3084 \r\nQ 1697 3084 1428 2787 \r\nQ 1159 2491 1159 1978 \r\nL 1159 0 \r\nL 581 0 \r\nL 581 3500 \r\nL 1159 3500 \r\nL 1159 2956 \r\nQ 1366 3272 1645 3428 \r\nQ 1925 3584 2291 3584 \r\nQ 2894 3584 3203 3211 \r\nQ 3513 2838 3513 2113 \r\nz\r\n\" id=\"DejaVuSans-6e\" transform=\"scale(0.015625)\"/>\r\n        <path d=\"M 3597 1894 \r\nL 3597 1613 \r\nL 953 1613 \r\nQ 991 1019 1311 708 \r\nQ 1631 397 2203 397 \r\nQ 2534 397 2845 478 \r\nQ 3156 559 3463 722 \r\nL 3463 178 \r\nQ 3153 47 2828 -22 \r\nQ 2503 -91 2169 -91 \r\nQ 1331 -91 842 396 \r\nQ 353 884 353 1716 \r\nQ 353 2575 817 3079 \r\nQ 1281 3584 2069 3584 \r\nQ 2775 3584 3186 3129 \r\nQ 3597 2675 3597 1894 \r\nz\r\nM 3022 2063 \r\nQ 3016 2534 2758 2815 \r\nQ 2500 3097 2075 3097 \r\nQ 1594 3097 1305 2825 \r\nQ 1016 2553 972 2059 \r\nL 3022 2063 \r\nz\r\n\" id=\"DejaVuSans-65\" transform=\"scale(0.015625)\"/>\r\n        <path d=\"M 2834 3397 \r\nL 2834 2853 \r\nQ 2591 2978 2328 3040 \r\nQ 2066 3103 1784 3103 \r\nQ 1356 3103 1142 2972 \r\nQ 928 2841 928 2578 \r\nQ 928 2378 1081 2264 \r\nQ 1234 2150 1697 2047 \r\nL 1894 2003 \r\nQ 2506 1872 2764 1633 \r\nQ 3022 1394 3022 966 \r\nQ 3022 478 2636 193 \r\nQ 2250 -91 1575 -91 \r\nQ 1294 -91 989 -36 \r\nQ 684 19 347 128 \r\nL 347 722 \r\nQ 666 556 975 473 \r\nQ 1284 391 1588 391 \r\nQ 1994 391 2212 530 \r\nQ 2431 669 2431 922 \r\nQ 2431 1156 2273 1281 \r\nQ 2116 1406 1581 1522 \r\nL 1381 1569 \r\nQ 847 1681 609 1914 \r\nQ 372 2147 372 2553 \r\nQ 372 3047 722 3315 \r\nQ 1072 3584 1716 3584 \r\nQ 2034 3584 2315 3537 \r\nQ 2597 3491 2834 3397 \r\nz\r\n\" id=\"DejaVuSans-73\" transform=\"scale(0.015625)\"/>\r\n       </defs>\r\n       <use xlink:href=\"#DejaVuSans-53\"/>\r\n       <use x=\"63.476562\" xlink:href=\"#DejaVuSans-61\"/>\r\n       <use x=\"124.755859\" xlink:href=\"#DejaVuSans-64\"/>\r\n       <use x=\"188.232422\" xlink:href=\"#DejaVuSans-6e\"/>\r\n       <use x=\"251.611328\" xlink:href=\"#DejaVuSans-65\"/>\r\n       <use x=\"313.134766\" xlink:href=\"#DejaVuSans-73\"/>\r\n       <use x=\"365.234375\" xlink:href=\"#DejaVuSans-73\"/>\r\n      </g>\r\n     </g>\r\n    </g>\r\n    <g id=\"xtick_2\">\r\n     <g id=\"line2d_2\">\r\n      <g>\r\n       <use style=\"stroke:#000000;stroke-width:0.8;\" x=\"111.392857\" xlink:href=\"#mfd6ea34ea8\" y=\"224.64\"/>\r\n      </g>\r\n     </g>\r\n     <g id=\"text_2\">\r\n      <!-- Angry -->\r\n      <g transform=\"translate(114.152232 261.19625)rotate(-90)scale(0.1 -0.1)\">\r\n       <defs>\r\n        <path d=\"M 2188 4044 \r\nL 1331 1722 \r\nL 3047 1722 \r\nL 2188 4044 \r\nz\r\nM 1831 4666 \r\nL 2547 4666 \r\nL 4325 0 \r\nL 3669 0 \r\nL 3244 1197 \r\nL 1141 1197 \r\nL 716 0 \r\nL 50 0 \r\nL 1831 4666 \r\nz\r\n\" id=\"DejaVuSans-41\" transform=\"scale(0.015625)\"/>\r\n        <path d=\"M 2906 1791 \r\nQ 2906 2416 2648 2759 \r\nQ 2391 3103 1925 3103 \r\nQ 1463 3103 1205 2759 \r\nQ 947 2416 947 1791 \r\nQ 947 1169 1205 825 \r\nQ 1463 481 1925 481 \r\nQ 2391 481 2648 825 \r\nQ 2906 1169 2906 1791 \r\nz\r\nM 3481 434 \r\nQ 3481 -459 3084 -895 \r\nQ 2688 -1331 1869 -1331 \r\nQ 1566 -1331 1297 -1286 \r\nQ 1028 -1241 775 -1147 \r\nL 775 -588 \r\nQ 1028 -725 1275 -790 \r\nQ 1522 -856 1778 -856 \r\nQ 2344 -856 2625 -561 \r\nQ 2906 -266 2906 331 \r\nL 2906 616 \r\nQ 2728 306 2450 153 \r\nQ 2172 0 1784 0 \r\nQ 1141 0 747 490 \r\nQ 353 981 353 1791 \r\nQ 353 2603 747 3093 \r\nQ 1141 3584 1784 3584 \r\nQ 2172 3584 2450 3431 \r\nQ 2728 3278 2906 2969 \r\nL 2906 3500 \r\nL 3481 3500 \r\nL 3481 434 \r\nz\r\n\" id=\"DejaVuSans-67\" transform=\"scale(0.015625)\"/>\r\n        <path d=\"M 2631 2963 \r\nQ 2534 3019 2420 3045 \r\nQ 2306 3072 2169 3072 \r\nQ 1681 3072 1420 2755 \r\nQ 1159 2438 1159 1844 \r\nL 1159 0 \r\nL 581 0 \r\nL 581 3500 \r\nL 1159 3500 \r\nL 1159 2956 \r\nQ 1341 3275 1631 3429 \r\nQ 1922 3584 2338 3584 \r\nQ 2397 3584 2469 3576 \r\nQ 2541 3569 2628 3553 \r\nL 2631 2963 \r\nz\r\n\" id=\"DejaVuSans-72\" transform=\"scale(0.015625)\"/>\r\n        <path d=\"M 2059 -325 \r\nQ 1816 -950 1584 -1140 \r\nQ 1353 -1331 966 -1331 \r\nL 506 -1331 \r\nL 506 -850 \r\nL 844 -850 \r\nQ 1081 -850 1212 -737 \r\nQ 1344 -625 1503 -206 \r\nL 1606 56 \r\nL 191 3500 \r\nL 800 3500 \r\nL 1894 763 \r\nL 2988 3500 \r\nL 3597 3500 \r\nL 2059 -325 \r\nz\r\n\" id=\"DejaVuSans-79\" transform=\"scale(0.015625)\"/>\r\n       </defs>\r\n       <use xlink:href=\"#DejaVuSans-41\"/>\r\n       <use x=\"68.408203\" xlink:href=\"#DejaVuSans-6e\"/>\r\n       <use x=\"131.787109\" xlink:href=\"#DejaVuSans-67\"/>\r\n       <use x=\"195.263672\" xlink:href=\"#DejaVuSans-72\"/>\r\n       <use x=\"236.376953\" xlink:href=\"#DejaVuSans-79\"/>\r\n      </g>\r\n     </g>\r\n    </g>\r\n    <g id=\"xtick_3\">\r\n     <g id=\"line2d_3\">\r\n      <g>\r\n       <use style=\"stroke:#000000;stroke-width:0.8;\" x=\"159.221429\" xlink:href=\"#mfd6ea34ea8\" y=\"224.64\"/>\r\n      </g>\r\n     </g>\r\n     <g id=\"text_3\">\r\n      <!-- Neutral -->\r\n      <g transform=\"translate(161.980804 268.549375)rotate(-90)scale(0.1 -0.1)\">\r\n       <defs>\r\n        <path d=\"M 628 4666 \r\nL 1478 4666 \r\nL 3547 763 \r\nL 3547 4666 \r\nL 4159 4666 \r\nL 4159 0 \r\nL 3309 0 \r\nL 1241 3903 \r\nL 1241 0 \r\nL 628 0 \r\nL 628 4666 \r\nz\r\n\" id=\"DejaVuSans-4e\" transform=\"scale(0.015625)\"/>\r\n        <path d=\"M 544 1381 \r\nL 544 3500 \r\nL 1119 3500 \r\nL 1119 1403 \r\nQ 1119 906 1312 657 \r\nQ 1506 409 1894 409 \r\nQ 2359 409 2629 706 \r\nQ 2900 1003 2900 1516 \r\nL 2900 3500 \r\nL 3475 3500 \r\nL 3475 0 \r\nL 2900 0 \r\nL 2900 538 \r\nQ 2691 219 2414 64 \r\nQ 2138 -91 1772 -91 \r\nQ 1169 -91 856 284 \r\nQ 544 659 544 1381 \r\nz\r\nM 1991 3584 \r\nL 1991 3584 \r\nz\r\n\" id=\"DejaVuSans-75\" transform=\"scale(0.015625)\"/>\r\n        <path d=\"M 1172 4494 \r\nL 1172 3500 \r\nL 2356 3500 \r\nL 2356 3053 \r\nL 1172 3053 \r\nL 1172 1153 \r\nQ 1172 725 1289 603 \r\nQ 1406 481 1766 481 \r\nL 2356 481 \r\nL 2356 0 \r\nL 1766 0 \r\nQ 1100 0 847 248 \r\nQ 594 497 594 1153 \r\nL 594 3053 \r\nL 172 3053 \r\nL 172 3500 \r\nL 594 3500 \r\nL 594 4494 \r\nL 1172 4494 \r\nz\r\n\" id=\"DejaVuSans-74\" transform=\"scale(0.015625)\"/>\r\n        <path d=\"M 603 4863 \r\nL 1178 4863 \r\nL 1178 0 \r\nL 603 0 \r\nL 603 4863 \r\nz\r\n\" id=\"DejaVuSans-6c\" transform=\"scale(0.015625)\"/>\r\n       </defs>\r\n       <use xlink:href=\"#DejaVuSans-4e\"/>\r\n       <use x=\"74.804688\" xlink:href=\"#DejaVuSans-65\"/>\r\n       <use x=\"136.328125\" xlink:href=\"#DejaVuSans-75\"/>\r\n       <use x=\"199.707031\" xlink:href=\"#DejaVuSans-74\"/>\r\n       <use x=\"238.916016\" xlink:href=\"#DejaVuSans-72\"/>\r\n       <use x=\"280.029297\" xlink:href=\"#DejaVuSans-61\"/>\r\n       <use x=\"341.308594\" xlink:href=\"#DejaVuSans-6c\"/>\r\n      </g>\r\n     </g>\r\n    </g>\r\n    <g id=\"xtick_4\">\r\n     <g id=\"line2d_4\">\r\n      <g>\r\n       <use style=\"stroke:#000000;stroke-width:0.8;\" x=\"207.05\" xlink:href=\"#mfd6ea34ea8\" y=\"224.64\"/>\r\n      </g>\r\n     </g>\r\n     <g id=\"text_4\">\r\n      <!-- Disgust -->\r\n      <g transform=\"translate(209.809375 269.143125)rotate(-90)scale(0.1 -0.1)\">\r\n       <defs>\r\n        <path d=\"M 1259 4147 \r\nL 1259 519 \r\nL 2022 519 \r\nQ 2988 519 3436 956 \r\nQ 3884 1394 3884 2338 \r\nQ 3884 3275 3436 3711 \r\nQ 2988 4147 2022 4147 \r\nL 1259 4147 \r\nz\r\nM 628 4666 \r\nL 1925 4666 \r\nQ 3281 4666 3915 4102 \r\nQ 4550 3538 4550 2338 \r\nQ 4550 1131 3912 565 \r\nQ 3275 0 1925 0 \r\nL 628 0 \r\nL 628 4666 \r\nz\r\n\" id=\"DejaVuSans-44\" transform=\"scale(0.015625)\"/>\r\n        <path d=\"M 603 3500 \r\nL 1178 3500 \r\nL 1178 0 \r\nL 603 0 \r\nL 603 3500 \r\nz\r\nM 603 4863 \r\nL 1178 4863 \r\nL 1178 4134 \r\nL 603 4134 \r\nL 603 4863 \r\nz\r\n\" id=\"DejaVuSans-69\" transform=\"scale(0.015625)\"/>\r\n       </defs>\r\n       <use xlink:href=\"#DejaVuSans-44\"/>\r\n       <use x=\"77.001953\" xlink:href=\"#DejaVuSans-69\"/>\r\n       <use x=\"104.785156\" xlink:href=\"#DejaVuSans-73\"/>\r\n       <use x=\"156.884766\" xlink:href=\"#DejaVuSans-67\"/>\r\n       <use x=\"220.361328\" xlink:href=\"#DejaVuSans-75\"/>\r\n       <use x=\"283.740234\" xlink:href=\"#DejaVuSans-73\"/>\r\n       <use x=\"335.839844\" xlink:href=\"#DejaVuSans-74\"/>\r\n      </g>\r\n     </g>\r\n    </g>\r\n    <g id=\"xtick_5\">\r\n     <g id=\"line2d_5\">\r\n      <g>\r\n       <use style=\"stroke:#000000;stroke-width:0.8;\" x=\"254.878571\" xlink:href=\"#mfd6ea34ea8\" y=\"224.64\"/>\r\n      </g>\r\n     </g>\r\n     <g id=\"text_5\">\r\n      <!-- Fear -->\r\n      <g transform=\"translate(257.637946 253.23375)rotate(-90)scale(0.1 -0.1)\">\r\n       <defs>\r\n        <path d=\"M 628 4666 \r\nL 3309 4666 \r\nL 3309 4134 \r\nL 1259 4134 \r\nL 1259 2759 \r\nL 3109 2759 \r\nL 3109 2228 \r\nL 1259 2228 \r\nL 1259 0 \r\nL 628 0 \r\nL 628 4666 \r\nz\r\n\" id=\"DejaVuSans-46\" transform=\"scale(0.015625)\"/>\r\n       </defs>\r\n       <use xlink:href=\"#DejaVuSans-46\"/>\r\n       <use x=\"52.019531\" xlink:href=\"#DejaVuSans-65\"/>\r\n       <use x=\"113.542969\" xlink:href=\"#DejaVuSans-61\"/>\r\n       <use x=\"174.822266\" xlink:href=\"#DejaVuSans-72\"/>\r\n      </g>\r\n     </g>\r\n    </g>\r\n    <g id=\"xtick_6\">\r\n     <g id=\"line2d_6\">\r\n      <g>\r\n       <use style=\"stroke:#000000;stroke-width:0.8;\" x=\"302.707143\" xlink:href=\"#mfd6ea34ea8\" y=\"224.64\"/>\r\n      </g>\r\n     </g>\r\n     <g id=\"text_6\">\r\n      <!-- Happiness -->\r\n      <g transform=\"translate(305.466518 283.672812)rotate(-90)scale(0.1 -0.1)\">\r\n       <defs>\r\n        <path d=\"M 628 4666 \r\nL 1259 4666 \r\nL 1259 2753 \r\nL 3553 2753 \r\nL 3553 4666 \r\nL 4184 4666 \r\nL 4184 0 \r\nL 3553 0 \r\nL 3553 2222 \r\nL 1259 2222 \r\nL 1259 0 \r\nL 628 0 \r\nL 628 4666 \r\nz\r\n\" id=\"DejaVuSans-48\" transform=\"scale(0.015625)\"/>\r\n        <path d=\"M 1159 525 \r\nL 1159 -1331 \r\nL 581 -1331 \r\nL 581 3500 \r\nL 1159 3500 \r\nL 1159 2969 \r\nQ 1341 3281 1617 3432 \r\nQ 1894 3584 2278 3584 \r\nQ 2916 3584 3314 3078 \r\nQ 3713 2572 3713 1747 \r\nQ 3713 922 3314 415 \r\nQ 2916 -91 2278 -91 \r\nQ 1894 -91 1617 61 \r\nQ 1341 213 1159 525 \r\nz\r\nM 3116 1747 \r\nQ 3116 2381 2855 2742 \r\nQ 2594 3103 2138 3103 \r\nQ 1681 3103 1420 2742 \r\nQ 1159 2381 1159 1747 \r\nQ 1159 1113 1420 752 \r\nQ 1681 391 2138 391 \r\nQ 2594 391 2855 752 \r\nQ 3116 1113 3116 1747 \r\nz\r\n\" id=\"DejaVuSans-70\" transform=\"scale(0.015625)\"/>\r\n       </defs>\r\n       <use xlink:href=\"#DejaVuSans-48\"/>\r\n       <use x=\"75.195312\" xlink:href=\"#DejaVuSans-61\"/>\r\n       <use x=\"136.474609\" xlink:href=\"#DejaVuSans-70\"/>\r\n       <use x=\"199.951172\" xlink:href=\"#DejaVuSans-70\"/>\r\n       <use x=\"263.427734\" xlink:href=\"#DejaVuSans-69\"/>\r\n       <use x=\"291.210938\" xlink:href=\"#DejaVuSans-6e\"/>\r\n       <use x=\"354.589844\" xlink:href=\"#DejaVuSans-65\"/>\r\n       <use x=\"416.113281\" xlink:href=\"#DejaVuSans-73\"/>\r\n       <use x=\"468.212891\" xlink:href=\"#DejaVuSans-73\"/>\r\n      </g>\r\n     </g>\r\n    </g>\r\n    <g id=\"xtick_7\">\r\n     <g id=\"line2d_7\">\r\n      <g>\r\n       <use style=\"stroke:#000000;stroke-width:0.8;\" x=\"350.535714\" xlink:href=\"#mfd6ea34ea8\" y=\"224.64\"/>\r\n      </g>\r\n     </g>\r\n     <g id=\"text_7\">\r\n      <!-- Surprise -->\r\n      <g transform=\"translate(353.295089 273.036875)rotate(-90)scale(0.1 -0.1)\">\r\n       <use xlink:href=\"#DejaVuSans-53\"/>\r\n       <use x=\"63.476562\" xlink:href=\"#DejaVuSans-75\"/>\r\n       <use x=\"126.855469\" xlink:href=\"#DejaVuSans-72\"/>\r\n       <use x=\"167.96875\" xlink:href=\"#DejaVuSans-70\"/>\r\n       <use x=\"231.445312\" xlink:href=\"#DejaVuSans-72\"/>\r\n       <use x=\"272.558594\" xlink:href=\"#DejaVuSans-69\"/>\r\n       <use x=\"300.341797\" xlink:href=\"#DejaVuSans-73\"/>\r\n       <use x=\"352.441406\" xlink:href=\"#DejaVuSans-65\"/>\r\n      </g>\r\n     </g>\r\n    </g>\r\n   </g>\r\n   <g id=\"matplotlib.axis_2\">\r\n    <g id=\"ytick_1\">\r\n     <g id=\"line2d_8\">\r\n      <defs>\r\n       <path d=\"M 0 0 \r\nL -3.5 0 \r\n\" id=\"m2245f6cbf6\" style=\"stroke:#000000;stroke-width:0.8;\"/>\r\n      </defs>\r\n      <g>\r\n       <use style=\"stroke:#000000;stroke-width:0.8;\" x=\"39.65\" xlink:href=\"#m2245f6cbf6\" y=\"224.64\"/>\r\n      </g>\r\n     </g>\r\n     <g id=\"text_8\">\r\n      <!-- 0 -->\r\n      <g transform=\"translate(26.2875 228.439219)scale(0.1 -0.1)\">\r\n       <defs>\r\n        <path d=\"M 2034 4250 \r\nQ 1547 4250 1301 3770 \r\nQ 1056 3291 1056 2328 \r\nQ 1056 1369 1301 889 \r\nQ 1547 409 2034 409 \r\nQ 2525 409 2770 889 \r\nQ 3016 1369 3016 2328 \r\nQ 3016 3291 2770 3770 \r\nQ 2525 4250 2034 4250 \r\nz\r\nM 2034 4750 \r\nQ 2819 4750 3233 4129 \r\nQ 3647 3509 3647 2328 \r\nQ 3647 1150 3233 529 \r\nQ 2819 -91 2034 -91 \r\nQ 1250 -91 836 529 \r\nQ 422 1150 422 2328 \r\nQ 422 3509 836 4129 \r\nQ 1250 4750 2034 4750 \r\nz\r\n\" id=\"DejaVuSans-30\" transform=\"scale(0.015625)\"/>\r\n       </defs>\r\n       <use xlink:href=\"#DejaVuSans-30\"/>\r\n      </g>\r\n     </g>\r\n    </g>\r\n    <g id=\"ytick_2\">\r\n     <g id=\"line2d_9\">\r\n      <g>\r\n       <use style=\"stroke:#000000;stroke-width:0.8;\" x=\"39.65\" xlink:href=\"#m2245f6cbf6\" y=\"195.23277\"/>\r\n      </g>\r\n     </g>\r\n     <g id=\"text_9\">\r\n      <!-- 1000 -->\r\n      <g transform=\"translate(7.2 199.031989)scale(0.1 -0.1)\">\r\n       <defs>\r\n        <path d=\"M 794 531 \r\nL 1825 531 \r\nL 1825 4091 \r\nL 703 3866 \r\nL 703 4441 \r\nL 1819 4666 \r\nL 2450 4666 \r\nL 2450 531 \r\nL 3481 531 \r\nL 3481 0 \r\nL 794 0 \r\nL 794 531 \r\nz\r\n\" id=\"DejaVuSans-31\" transform=\"scale(0.015625)\"/>\r\n       </defs>\r\n       <use xlink:href=\"#DejaVuSans-31\"/>\r\n       <use x=\"63.623047\" xlink:href=\"#DejaVuSans-30\"/>\r\n       <use x=\"127.246094\" xlink:href=\"#DejaVuSans-30\"/>\r\n       <use x=\"190.869141\" xlink:href=\"#DejaVuSans-30\"/>\r\n      </g>\r\n     </g>\r\n    </g>\r\n    <g id=\"ytick_3\">\r\n     <g id=\"line2d_10\">\r\n      <g>\r\n       <use style=\"stroke:#000000;stroke-width:0.8;\" x=\"39.65\" xlink:href=\"#m2245f6cbf6\" y=\"165.82554\"/>\r\n      </g>\r\n     </g>\r\n     <g id=\"text_10\">\r\n      <!-- 2000 -->\r\n      <g transform=\"translate(7.2 169.624759)scale(0.1 -0.1)\">\r\n       <defs>\r\n        <path d=\"M 1228 531 \r\nL 3431 531 \r\nL 3431 0 \r\nL 469 0 \r\nL 469 531 \r\nQ 828 903 1448 1529 \r\nQ 2069 2156 2228 2338 \r\nQ 2531 2678 2651 2914 \r\nQ 2772 3150 2772 3378 \r\nQ 2772 3750 2511 3984 \r\nQ 2250 4219 1831 4219 \r\nQ 1534 4219 1204 4116 \r\nQ 875 4013 500 3803 \r\nL 500 4441 \r\nQ 881 4594 1212 4672 \r\nQ 1544 4750 1819 4750 \r\nQ 2544 4750 2975 4387 \r\nQ 3406 4025 3406 3419 \r\nQ 3406 3131 3298 2873 \r\nQ 3191 2616 2906 2266 \r\nQ 2828 2175 2409 1742 \r\nQ 1991 1309 1228 531 \r\nz\r\n\" id=\"DejaVuSans-32\" transform=\"scale(0.015625)\"/>\r\n       </defs>\r\n       <use xlink:href=\"#DejaVuSans-32\"/>\r\n       <use x=\"63.623047\" xlink:href=\"#DejaVuSans-30\"/>\r\n       <use x=\"127.246094\" xlink:href=\"#DejaVuSans-30\"/>\r\n       <use x=\"190.869141\" xlink:href=\"#DejaVuSans-30\"/>\r\n      </g>\r\n     </g>\r\n    </g>\r\n    <g id=\"ytick_4\">\r\n     <g id=\"line2d_11\">\r\n      <g>\r\n       <use style=\"stroke:#000000;stroke-width:0.8;\" x=\"39.65\" xlink:href=\"#m2245f6cbf6\" y=\"136.41831\"/>\r\n      </g>\r\n     </g>\r\n     <g id=\"text_11\">\r\n      <!-- 3000 -->\r\n      <g transform=\"translate(7.2 140.217528)scale(0.1 -0.1)\">\r\n       <defs>\r\n        <path d=\"M 2597 2516 \r\nQ 3050 2419 3304 2112 \r\nQ 3559 1806 3559 1356 \r\nQ 3559 666 3084 287 \r\nQ 2609 -91 1734 -91 \r\nQ 1441 -91 1130 -33 \r\nQ 819 25 488 141 \r\nL 488 750 \r\nQ 750 597 1062 519 \r\nQ 1375 441 1716 441 \r\nQ 2309 441 2620 675 \r\nQ 2931 909 2931 1356 \r\nQ 2931 1769 2642 2001 \r\nQ 2353 2234 1838 2234 \r\nL 1294 2234 \r\nL 1294 2753 \r\nL 1863 2753 \r\nQ 2328 2753 2575 2939 \r\nQ 2822 3125 2822 3475 \r\nQ 2822 3834 2567 4026 \r\nQ 2313 4219 1838 4219 \r\nQ 1578 4219 1281 4162 \r\nQ 984 4106 628 3988 \r\nL 628 4550 \r\nQ 988 4650 1302 4700 \r\nQ 1616 4750 1894 4750 \r\nQ 2613 4750 3031 4423 \r\nQ 3450 4097 3450 3541 \r\nQ 3450 3153 3228 2886 \r\nQ 3006 2619 2597 2516 \r\nz\r\n\" id=\"DejaVuSans-33\" transform=\"scale(0.015625)\"/>\r\n       </defs>\r\n       <use xlink:href=\"#DejaVuSans-33\"/>\r\n       <use x=\"63.623047\" xlink:href=\"#DejaVuSans-30\"/>\r\n       <use x=\"127.246094\" xlink:href=\"#DejaVuSans-30\"/>\r\n       <use x=\"190.869141\" xlink:href=\"#DejaVuSans-30\"/>\r\n      </g>\r\n     </g>\r\n    </g>\r\n    <g id=\"ytick_5\">\r\n     <g id=\"line2d_12\">\r\n      <g>\r\n       <use style=\"stroke:#000000;stroke-width:0.8;\" x=\"39.65\" xlink:href=\"#m2245f6cbf6\" y=\"107.01108\"/>\r\n      </g>\r\n     </g>\r\n     <g id=\"text_12\">\r\n      <!-- 4000 -->\r\n      <g transform=\"translate(7.2 110.810298)scale(0.1 -0.1)\">\r\n       <defs>\r\n        <path d=\"M 2419 4116 \r\nL 825 1625 \r\nL 2419 1625 \r\nL 2419 4116 \r\nz\r\nM 2253 4666 \r\nL 3047 4666 \r\nL 3047 1625 \r\nL 3713 1625 \r\nL 3713 1100 \r\nL 3047 1100 \r\nL 3047 0 \r\nL 2419 0 \r\nL 2419 1100 \r\nL 313 1100 \r\nL 313 1709 \r\nL 2253 4666 \r\nz\r\n\" id=\"DejaVuSans-34\" transform=\"scale(0.015625)\"/>\r\n       </defs>\r\n       <use xlink:href=\"#DejaVuSans-34\"/>\r\n       <use x=\"63.623047\" xlink:href=\"#DejaVuSans-30\"/>\r\n       <use x=\"127.246094\" xlink:href=\"#DejaVuSans-30\"/>\r\n       <use x=\"190.869141\" xlink:href=\"#DejaVuSans-30\"/>\r\n      </g>\r\n     </g>\r\n    </g>\r\n    <g id=\"ytick_6\">\r\n     <g id=\"line2d_13\">\r\n      <g>\r\n       <use style=\"stroke:#000000;stroke-width:0.8;\" x=\"39.65\" xlink:href=\"#m2245f6cbf6\" y=\"77.60385\"/>\r\n      </g>\r\n     </g>\r\n     <g id=\"text_13\">\r\n      <!-- 5000 -->\r\n      <g transform=\"translate(7.2 81.403068)scale(0.1 -0.1)\">\r\n       <defs>\r\n        <path d=\"M 691 4666 \r\nL 3169 4666 \r\nL 3169 4134 \r\nL 1269 4134 \r\nL 1269 2991 \r\nQ 1406 3038 1543 3061 \r\nQ 1681 3084 1819 3084 \r\nQ 2600 3084 3056 2656 \r\nQ 3513 2228 3513 1497 \r\nQ 3513 744 3044 326 \r\nQ 2575 -91 1722 -91 \r\nQ 1428 -91 1123 -41 \r\nQ 819 9 494 109 \r\nL 494 744 \r\nQ 775 591 1075 516 \r\nQ 1375 441 1709 441 \r\nQ 2250 441 2565 725 \r\nQ 2881 1009 2881 1497 \r\nQ 2881 1984 2565 2268 \r\nQ 2250 2553 1709 2553 \r\nQ 1456 2553 1204 2497 \r\nQ 953 2441 691 2322 \r\nL 691 4666 \r\nz\r\n\" id=\"DejaVuSans-35\" transform=\"scale(0.015625)\"/>\r\n       </defs>\r\n       <use xlink:href=\"#DejaVuSans-35\"/>\r\n       <use x=\"63.623047\" xlink:href=\"#DejaVuSans-30\"/>\r\n       <use x=\"127.246094\" xlink:href=\"#DejaVuSans-30\"/>\r\n       <use x=\"190.869141\" xlink:href=\"#DejaVuSans-30\"/>\r\n      </g>\r\n     </g>\r\n    </g>\r\n    <g id=\"ytick_7\">\r\n     <g id=\"line2d_14\">\r\n      <g>\r\n       <use style=\"stroke:#000000;stroke-width:0.8;\" x=\"39.65\" xlink:href=\"#m2245f6cbf6\" y=\"48.196619\"/>\r\n      </g>\r\n     </g>\r\n     <g id=\"text_14\">\r\n      <!-- 6000 -->\r\n      <g transform=\"translate(7.2 51.995838)scale(0.1 -0.1)\">\r\n       <defs>\r\n        <path d=\"M 2113 2584 \r\nQ 1688 2584 1439 2293 \r\nQ 1191 2003 1191 1497 \r\nQ 1191 994 1439 701 \r\nQ 1688 409 2113 409 \r\nQ 2538 409 2786 701 \r\nQ 3034 994 3034 1497 \r\nQ 3034 2003 2786 2293 \r\nQ 2538 2584 2113 2584 \r\nz\r\nM 3366 4563 \r\nL 3366 3988 \r\nQ 3128 4100 2886 4159 \r\nQ 2644 4219 2406 4219 \r\nQ 1781 4219 1451 3797 \r\nQ 1122 3375 1075 2522 \r\nQ 1259 2794 1537 2939 \r\nQ 1816 3084 2150 3084 \r\nQ 2853 3084 3261 2657 \r\nQ 3669 2231 3669 1497 \r\nQ 3669 778 3244 343 \r\nQ 2819 -91 2113 -91 \r\nQ 1303 -91 875 529 \r\nQ 447 1150 447 2328 \r\nQ 447 3434 972 4092 \r\nQ 1497 4750 2381 4750 \r\nQ 2619 4750 2861 4703 \r\nQ 3103 4656 3366 4563 \r\nz\r\n\" id=\"DejaVuSans-36\" transform=\"scale(0.015625)\"/>\r\n       </defs>\r\n       <use xlink:href=\"#DejaVuSans-36\"/>\r\n       <use x=\"63.623047\" xlink:href=\"#DejaVuSans-30\"/>\r\n       <use x=\"127.246094\" xlink:href=\"#DejaVuSans-30\"/>\r\n       <use x=\"190.869141\" xlink:href=\"#DejaVuSans-30\"/>\r\n      </g>\r\n     </g>\r\n    </g>\r\n    <g id=\"ytick_8\">\r\n     <g id=\"line2d_15\">\r\n      <g>\r\n       <use style=\"stroke:#000000;stroke-width:0.8;\" x=\"39.65\" xlink:href=\"#m2245f6cbf6\" y=\"18.789389\"/>\r\n      </g>\r\n     </g>\r\n     <g id=\"text_15\">\r\n      <!-- 7000 -->\r\n      <g transform=\"translate(7.2 22.588608)scale(0.1 -0.1)\">\r\n       <defs>\r\n        <path d=\"M 525 4666 \r\nL 3525 4666 \r\nL 3525 4397 \r\nL 1831 0 \r\nL 1172 0 \r\nL 2766 4134 \r\nL 525 4134 \r\nL 525 4666 \r\nz\r\n\" id=\"DejaVuSans-37\" transform=\"scale(0.015625)\"/>\r\n       </defs>\r\n       <use xlink:href=\"#DejaVuSans-37\"/>\r\n       <use x=\"63.623047\" xlink:href=\"#DejaVuSans-30\"/>\r\n       <use x=\"127.246094\" xlink:href=\"#DejaVuSans-30\"/>\r\n       <use x=\"190.869141\" xlink:href=\"#DejaVuSans-30\"/>\r\n      </g>\r\n     </g>\r\n    </g>\r\n   </g>\r\n   <g id=\"patch_10\">\r\n    <path d=\"M 39.65 224.64 \r\nL 39.65 7.2 \r\n\" style=\"fill:none;stroke:#000000;stroke-linecap:square;stroke-linejoin:miter;stroke-width:0.8;\"/>\r\n   </g>\r\n   <g id=\"patch_11\">\r\n    <path d=\"M 374.45 224.64 \r\nL 374.45 7.2 \r\n\" style=\"fill:none;stroke:#000000;stroke-linecap:square;stroke-linejoin:miter;stroke-width:0.8;\"/>\r\n   </g>\r\n   <g id=\"patch_12\">\r\n    <path d=\"M 39.65 224.64 \r\nL 374.45 224.64 \r\n\" style=\"fill:none;stroke:#000000;stroke-linecap:square;stroke-linejoin:miter;stroke-width:0.8;\"/>\r\n   </g>\r\n   <g id=\"patch_13\">\r\n    <path d=\"M 39.65 7.2 \r\nL 374.45 7.2 \r\n\" style=\"fill:none;stroke:#000000;stroke-linecap:square;stroke-linejoin:miter;stroke-width:0.8;\"/>\r\n   </g>\r\n  </g>\r\n </g>\r\n <defs>\r\n  <clipPath id=\"pe1f00fe47c\">\r\n   <rect height=\"217.44\" width=\"334.8\" x=\"39.65\" y=\"7.2\"/>\r\n  </clipPath>\r\n </defs>\r\n</svg>\r\n",
      "image/png": "[encoded data removed]"
     },
     "metadata": {
      "needs_background": "light"
     }
    }
   ],
   "source": [
    "df4_1.emotion.value_counts().plot.bar()"
   ]
  },
  {
   "cell_type": "code",
   "execution_count": 41,
   "metadata": {},
   "outputs": [
    {
     "output_type": "execute_result",
     "data": {
      "text/plain": [
       "(14606, 3)"
      ]
     },
     "metadata": {},
     "execution_count": 41
    }
   ],
   "source": [
    "#만 4천여개\n",
    "df4_1.shape"
   ]
  },
  {
   "cell_type": "code",
   "execution_count": 42,
   "metadata": {},
   "outputs": [
    {
     "output_type": "execute_result",
     "data": {
      "text/plain": [
       "                     wav_id                            발화문  emotion\n",
       "0  5e258fd1305bcf3ad153a6a4               어, 청소 니가 대신 해 줘!  Neutral\n",
       "1  5e258fe2305bcf3ad153a6a5             둘 다 청소 하기 싫어. 귀찮아.  Neutral\n",
       "2  5e258ff5305bcf3ad153a6a6                 둘 다 하기 싫어서 화내.    Angry\n",
       "3  5e25902f305bcf3ad153a6a9                    그럼 방세는 어떡해.  Sadness\n",
       "4  5e27f90b5807b852d9e0157b      권태긴줄 알았는데 다른 사람이 생겼나보더라고.  Sadness\n",
       "5  5e27fa1c5807b852d9e01586                      그냥 걷고 있어.  Neutral\n",
       "6  5e27fb575807b852d9e01595   어. 고등학교 동창인데 이렇게 더럽게 쓸줄 몰랐어.  Disgust\n",
       "7  5e2840225807b852d9e01618  처음 학원에서 만났다가 서로 좋아해서 사귀게 되었지.  Neutral\n",
       "8  5e2840415807b852d9e01619     내가 애정 표현을 잘 못해서 자주 싸우긴 했어.  Sadness\n",
       "9  5e28405b5807b852d9e0161a                       오늘 헤어졌어.  Sadness"
      ],
      "text/html": "<div>\n<style scoped>\n    .dataframe tbody tr th:only-of-type {\n        vertical-align: middle;\n    }\n\n    .dataframe tbody tr th {\n        vertical-align: top;\n    }\n\n    .dataframe thead th {\n        text-align: right;\n    }\n</style>\n<table border=\"1\" class=\"dataframe\">\n  <thead>\n    <tr style=\"text-align: right;\">\n      <th></th>\n      <th>wav_id</th>\n      <th>발화문</th>\n      <th>emotion</th>\n    </tr>\n  </thead>\n  <tbody>\n    <tr>\n      <th>0</th>\n      <td>5e258fd1305bcf3ad153a6a4</td>\n      <td>어, 청소 니가 대신 해 줘!</td>\n      <td>Neutral</td>\n    </tr>\n    <tr>\n      <th>1</th>\n      <td>5e258fe2305bcf3ad153a6a5</td>\n      <td>둘 다 청소 하기 싫어. 귀찮아.</td>\n      <td>Neutral</td>\n    </tr>\n    <tr>\n      <th>2</th>\n      <td>5e258ff5305bcf3ad153a6a6</td>\n      <td>둘 다 하기 싫어서 화내.</td>\n      <td>Angry</td>\n    </tr>\n    <tr>\n      <th>3</th>\n      <td>5e25902f305bcf3ad153a6a9</td>\n      <td>그럼 방세는 어떡해.</td>\n      <td>Sadness</td>\n    </tr>\n    <tr>\n      <th>4</th>\n      <td>5e27f90b5807b852d9e0157b</td>\n      <td>권태긴줄 알았는데 다른 사람이 생겼나보더라고.</td>\n      <td>Sadness</td>\n    </tr>\n    <tr>\n      <th>5</th>\n      <td>5e27fa1c5807b852d9e01586</td>\n      <td>그냥 걷고 있어.</td>\n      <td>Neutral</td>\n    </tr>\n    <tr>\n      <th>6</th>\n      <td>5e27fb575807b852d9e01595</td>\n      <td>어. 고등학교 동창인데 이렇게 더럽게 쓸줄 몰랐어.</td>\n      <td>Disgust</td>\n    </tr>\n    <tr>\n      <th>7</th>\n      <td>5e2840225807b852d9e01618</td>\n      <td>처음 학원에서 만났다가 서로 좋아해서 사귀게 되었지.</td>\n      <td>Neutral</td>\n    </tr>\n    <tr>\n      <th>8</th>\n      <td>5e2840415807b852d9e01619</td>\n      <td>내가 애정 표현을 잘 못해서 자주 싸우긴 했어.</td>\n      <td>Sadness</td>\n    </tr>\n    <tr>\n      <th>9</th>\n      <td>5e28405b5807b852d9e0161a</td>\n      <td>오늘 헤어졌어.</td>\n      <td>Sadness</td>\n    </tr>\n  </tbody>\n</table>\n</div>"
     },
     "metadata": {},
     "execution_count": 42
    }
   ],
   "source": [
    "df4_1.head(10)"
   ]
  },
  {
   "cell_type": "code",
   "execution_count": 43,
   "metadata": {},
   "outputs": [
    {
     "output_type": "execute_result",
     "data": {
      "text/plain": [
       "Sadness      7042\n",
       "Angry        4040\n",
       "Neutral      1643\n",
       "Disgust       930\n",
       "Fear          829\n",
       "Happiness      65\n",
       "Surprise       57\n",
       "Name: emotion, dtype: int64"
      ]
     },
     "metadata": {},
     "execution_count": 43
    }
   ],
   "source": [
    "# 데이터 불균형 존재 놀람 행복이 거의 없음\n",
    "df4_1.emotion.value_counts()"
   ]
  },
  {
   "cell_type": "code",
   "execution_count": 44,
   "metadata": {},
   "outputs": [
    {
     "output_type": "execute_result",
     "data": {
      "text/plain": [
       "                         wav_id  \\\n",
       "2811   5e362fb08661d6073410fb9b   \n",
       "4698   5e36f45933e9ad176cc9ac55   \n",
       "6175   5e37be91dbc4b7182a6a9c73   \n",
       "11833  5e451ba17bef803b4851d60b   \n",
       "562    5e315d5c5807b852d9e0326b   \n",
       "8278   5e3cea2cdbc4b7182a6aa8c6   \n",
       "4030   5e3690e3dbc4b7182a6a9438   \n",
       "1122   5e3378a05807b852d9e04c24   \n",
       "434    5e2987fe5807b852d9e019c8   \n",
       "12772  5e48090a2a2d173b73a02c33   \n",
       "11691  5e44e4f7c38c123b9ec6d30b   \n",
       "523    5e310cf05807b852d9e03028   \n",
       "11134  5e44857b189842034d9f7920   \n",
       "9006   5e41066448600202f726faf0   \n",
       "6096   5e37b9b87995ef170fc0f26d   \n",
       "172    5e2c06045807b852d9e0243e   \n",
       "520    5e310c035807b852d9e0301d   \n",
       "3832   5e36892005fef317e874b62f   \n",
       "7213   5e37fbe8dbc4b7182a6aa02b   \n",
       "14339  5e5284daf2fe7a3b1d5450b2   \n",
       "537    5e3115e55807b852d9e030aa   \n",
       "\n",
       "                                                  발화문    emotion  \n",
       "2811                        보기 힘든 사람이라서 이번에 봐야될 것 같애.    Neutral  \n",
       "4698                               그렇게 할까? 친구랑 연락해볼게.    Neutral  \n",
       "6175                              그래야겠어. 우선 진정 좀 해야지.    Neutral  \n",
       "11833                              한, 한 시간은 기다린 것 같애.      Angry  \n",
       "562                                  벌써 왔죠! 기대도 안합니다.      Angry  \n",
       "8278                       퇴근한지 얼마나 됐다고 회사에서 연락 또 왔어.      Angry  \n",
       "4030              어디가 막 아픈건 아니고, 그냥 꽤 오래 살아서 죽은 거 같애.    Sadness  \n",
       "1122                               집에 와서 그냥 멍하니 앉아있어.    Sadness  \n",
       "434                         그런 건 없었는데, 다른 여자 생긴 거 같아.    Sadness  \n",
       "12772     화장실에 갔다가 토를 보고 깜짝 놀랐어. 지금도 토를 생각하면 속이 안 좋아.    Disgust  \n",
       "11691  응. 아직도 그대로 있어. 누가 어젯밤에 술 먹고 아침에 토한 것 같어. 최악이지?    Disgust  \n",
       "523                                추웠다 저거. 하. 누가 저랬지.    Disgust  \n",
       "11134     저녁에 친구랑 식당에서 식사를 하는데 갑자기 지진일어났어. 난 다치진 않았어.       Fear  \n",
       "9006                                  어제 저녁에 진짜 무서웠어.       Fear  \n",
       "6096                                지금은 괜찮은데 많이 무서웠어.       Fear  \n",
       "172                               지금은 괜찮은데 어제 완전 놀랬어.   Surprise  \n",
       "520                                   어제 지진 못 느꼈나, 니.   Surprise  \n",
       "3832                                       응. 많이 놀랐어.   Surprise  \n",
       "7213                                       거 같애. 고마워.  Happiness  \n",
       "14339                             고마워. 다시 힘내서 열심히 할게.  Happiness  \n",
       "537                         고마워. 다행히 다치진 않아서 정말 다행이야.  Happiness  "
      ],
      "text/html": "<div>\n<style scoped>\n    .dataframe tbody tr th:only-of-type {\n        vertical-align: middle;\n    }\n\n    .dataframe tbody tr th {\n        vertical-align: top;\n    }\n\n    .dataframe thead th {\n        text-align: right;\n    }\n</style>\n<table border=\"1\" class=\"dataframe\">\n  <thead>\n    <tr style=\"text-align: right;\">\n      <th></th>\n      <th>wav_id</th>\n      <th>발화문</th>\n      <th>emotion</th>\n    </tr>\n  </thead>\n  <tbody>\n    <tr>\n      <th>2811</th>\n      <td>5e362fb08661d6073410fb9b</td>\n      <td>보기 힘든 사람이라서 이번에 봐야될 것 같애.</td>\n      <td>Neutral</td>\n    </tr>\n    <tr>\n      <th>4698</th>\n      <td>5e36f45933e9ad176cc9ac55</td>\n      <td>그렇게 할까? 친구랑 연락해볼게.</td>\n      <td>Neutral</td>\n    </tr>\n    <tr>\n      <th>6175</th>\n      <td>5e37be91dbc4b7182a6a9c73</td>\n      <td>그래야겠어. 우선 진정 좀 해야지.</td>\n      <td>Neutral</td>\n    </tr>\n    <tr>\n      <th>11833</th>\n      <td>5e451ba17bef803b4851d60b</td>\n      <td>한, 한 시간은 기다린 것 같애.</td>\n      <td>Angry</td>\n    </tr>\n    <tr>\n      <th>562</th>\n      <td>5e315d5c5807b852d9e0326b</td>\n      <td>벌써 왔죠! 기대도 안합니다.</td>\n      <td>Angry</td>\n    </tr>\n    <tr>\n      <th>8278</th>\n      <td>5e3cea2cdbc4b7182a6aa8c6</td>\n      <td>퇴근한지 얼마나 됐다고 회사에서 연락 또 왔어.</td>\n      <td>Angry</td>\n    </tr>\n    <tr>\n      <th>4030</th>\n      <td>5e3690e3dbc4b7182a6a9438</td>\n      <td>어디가 막 아픈건 아니고, 그냥 꽤 오래 살아서 죽은 거 같애.</td>\n      <td>Sadness</td>\n    </tr>\n    <tr>\n      <th>1122</th>\n      <td>5e3378a05807b852d9e04c24</td>\n      <td>집에 와서 그냥 멍하니 앉아있어.</td>\n      <td>Sadness</td>\n    </tr>\n    <tr>\n      <th>434</th>\n      <td>5e2987fe5807b852d9e019c8</td>\n      <td>그런 건 없었는데, 다른 여자 생긴 거 같아.</td>\n      <td>Sadness</td>\n    </tr>\n    <tr>\n      <th>12772</th>\n      <td>5e48090a2a2d173b73a02c33</td>\n      <td>화장실에 갔다가 토를 보고 깜짝 놀랐어. 지금도 토를 생각하면 속이 안 좋아.</td>\n      <td>Disgust</td>\n    </tr>\n    <tr>\n      <th>11691</th>\n      <td>5e44e4f7c38c123b9ec6d30b</td>\n      <td>응. 아직도 그대로 있어. 누가 어젯밤에 술 먹고 아침에 토한 것 같어. 최악이지?</td>\n      <td>Disgust</td>\n    </tr>\n    <tr>\n      <th>523</th>\n      <td>5e310cf05807b852d9e03028</td>\n      <td>추웠다 저거. 하. 누가 저랬지.</td>\n      <td>Disgust</td>\n    </tr>\n    <tr>\n      <th>11134</th>\n      <td>5e44857b189842034d9f7920</td>\n      <td>저녁에 친구랑 식당에서 식사를 하는데 갑자기 지진일어났어. 난 다치진 않았어.</td>\n      <td>Fear</td>\n    </tr>\n    <tr>\n      <th>9006</th>\n      <td>5e41066448600202f726faf0</td>\n      <td>어제 저녁에 진짜 무서웠어.</td>\n      <td>Fear</td>\n    </tr>\n    <tr>\n      <th>6096</th>\n      <td>5e37b9b87995ef170fc0f26d</td>\n      <td>지금은 괜찮은데 많이 무서웠어.</td>\n      <td>Fear</td>\n    </tr>\n    <tr>\n      <th>172</th>\n      <td>5e2c06045807b852d9e0243e</td>\n      <td>지금은 괜찮은데 어제 완전 놀랬어.</td>\n      <td>Surprise</td>\n    </tr>\n    <tr>\n      <th>520</th>\n      <td>5e310c035807b852d9e0301d</td>\n      <td>어제 지진 못 느꼈나, 니.</td>\n      <td>Surprise</td>\n    </tr>\n    <tr>\n      <th>3832</th>\n      <td>5e36892005fef317e874b62f</td>\n      <td>응. 많이 놀랐어.</td>\n      <td>Surprise</td>\n    </tr>\n    <tr>\n      <th>7213</th>\n      <td>5e37fbe8dbc4b7182a6aa02b</td>\n      <td>거 같애. 고마워.</td>\n      <td>Happiness</td>\n    </tr>\n    <tr>\n      <th>14339</th>\n      <td>5e5284daf2fe7a3b1d5450b2</td>\n      <td>고마워. 다시 힘내서 열심히 할게.</td>\n      <td>Happiness</td>\n    </tr>\n    <tr>\n      <th>537</th>\n      <td>5e3115e55807b852d9e030aa</td>\n      <td>고마워. 다행히 다치진 않아서 정말 다행이야.</td>\n      <td>Happiness</td>\n    </tr>\n  </tbody>\n</table>\n</div>"
     },
     "metadata": {},
     "execution_count": 44
    }
   ],
   "source": [
    "# 각 감정에서 3개의 sample 추출 결과\n",
    "pd.concat([df4_1[df4_1.emotion == emotion_].sample(3, random_state = 42) for emotion_ in df4_1.emotion.unique()])"
   ]
  },
  {
   "cell_type": "code",
   "execution_count": 45,
   "metadata": {},
   "outputs": [
    {
     "output_type": "execute_result",
     "data": {
      "text/plain": [
       "count    14606.000000\n",
       "mean         6.537177\n",
       "std          3.567372\n",
       "min          1.000000\n",
       "25%          4.000000\n",
       "50%          6.000000\n",
       "75%          8.000000\n",
       "max         32.000000\n",
       "dtype: float64"
      ]
     },
     "metadata": {},
     "execution_count": 45
    }
   ],
   "source": [
    "# 간단히 띄어쓰기를 기준으로 토큰화를 진행 하였을때 최대 32 최소 1, 평균 6 의 분포를 보임.\n",
    "pd.Series([len(i) for i in df4_1['발화문'].str.split(' ')]).describe()"
   ]
  },
  {
   "cell_type": "code",
   "execution_count": 46,
   "metadata": {},
   "outputs": [
    {
     "output_type": "execute_result",
     "data": {
      "text/plain": [
       "wav_id     0\n",
       "발화문        0\n",
       "상황         0\n",
       "1번 감정      0\n",
       "1번 감정세기    0\n",
       "2번 감정      0\n",
       "2번 감정세기    0\n",
       "3번 감정      0\n",
       "3번 감정세기    0\n",
       "4번 감정      0\n",
       "4번감정세기     0\n",
       "5번 감정      0\n",
       "5번 감정세기    0\n",
       "나이         0\n",
       "성별         0\n",
       "dtype: int64"
      ]
     },
     "metadata": {},
     "execution_count": 46
    }
   ],
   "source": [
    "# null 값 확인\n",
    "df4.isnull().sum()"
   ]
  },
  {
   "source": [
    "# 5. 감정 분류를 위한 대화 음성 데이터셋 5차"
   ],
   "cell_type": "markdown",
   "metadata": {}
  },
  {
   "source": [
    "EDA\n",
    "* 5명의 라벨 데이터를 하나의 결과로 만드는 과정을 진행(가장 많은 투표 받은 라벨)\n",
    "* 데이터 불균형 존재 슬픔 6112 , 놀람 11\n",
    "* 오타는 거의 없음\n",
    "* 간단히 띄어쓰기를 기준으로 토큰화를 진행 하였을때 최대 38 최소 1, 평균 8 의 분포를 보임."
   ],
   "cell_type": "markdown",
   "metadata": {}
  },
  {
   "cell_type": "code",
   "execution_count": 50,
   "metadata": {},
   "outputs": [],
   "source": [
    "df5 = pd.read_csv('./감정_분류를_위한_대화_음성_데이터셋_5차.csv',encoding='cp949')"
   ]
  },
  {
   "cell_type": "code",
   "execution_count": 51,
   "metadata": {},
   "outputs": [
    {
     "output_type": "stream",
     "name": "stdout",
     "text": [
      "{'Fear', 'Disgust', 'Neutral', 'Surprise', 'Happiness', 'Angry', 'Sadness'}\n{'Fear', 'Disgust', 'Neutral', 'Surprise', 'Happiness', 'Angry', 'Sadness'}\n{'Fear', 'Disgust', 'Neutral', 'Surprise', 'Angry', 'Happiness', 'Sadness'}\n{'Fear', 'Disgust', 'Neutral', 'Surprise', 'Angry', 'Happiness', 'Sadness'}\n{'Fear', 'Disgust', 'Neutral', 'Surprise', 'Angry', 'Happiness', 'Sadness'}\n"
     ]
    }
   ],
   "source": [
    "# 모두 7개의 감정을 사용하고 있음\n",
    "for i in range(1,6):\n",
    "    print(set(df5[f'{i}번 감정'].unique()))"
   ]
  },
  {
   "cell_type": "code",
   "execution_count": 52,
   "metadata": {},
   "outputs": [
    {
     "output_type": "execute_result",
     "data": {
      "text/plain": [
       "<AxesSubplot:>"
      ]
     },
     "metadata": {},
     "execution_count": 52
    },
    {
     "output_type": "stream",
     "name": "stderr",
     "text": [
      "C:\\Users\\USER\\anaconda3\\envs\\chat\\lib\\site-packages\\matplotlib\\textpath.py:65: RuntimeWarning: Glyph 48264 missing from current font.\n",
      "  font.set_text(s, 0.0, flags=LOAD_NO_HINTING)\n",
      "C:\\Users\\USER\\anaconda3\\envs\\chat\\lib\\site-packages\\matplotlib\\textpath.py:65: RuntimeWarning: Glyph 44048 missing from current font.\n",
      "  font.set_text(s, 0.0, flags=LOAD_NO_HINTING)\n",
      "C:\\Users\\USER\\anaconda3\\envs\\chat\\lib\\site-packages\\matplotlib\\textpath.py:65: RuntimeWarning: Glyph 51221 missing from current font.\n",
      "  font.set_text(s, 0.0, flags=LOAD_NO_HINTING)\n",
      "C:\\Users\\USER\\anaconda3\\envs\\chat\\lib\\site-packages\\matplotlib\\backends\\backend_agg.py:240: RuntimeWarning: Glyph 48264 missing from current font.\n",
      "  font.set_text(s, 0.0, flags=flags)\n",
      "C:\\Users\\USER\\anaconda3\\envs\\chat\\lib\\site-packages\\matplotlib\\backends\\backend_agg.py:240: RuntimeWarning: Glyph 44048 missing from current font.\n",
      "  font.set_text(s, 0.0, flags=flags)\n",
      "C:\\Users\\USER\\anaconda3\\envs\\chat\\lib\\site-packages\\matplotlib\\backends\\backend_agg.py:240: RuntimeWarning: Glyph 51221 missing from current font.\n",
      "  font.set_text(s, 0.0, flags=flags)\n",
      "C:\\Users\\USER\\anaconda3\\envs\\chat\\lib\\site-packages\\matplotlib\\backends\\backend_agg.py:203: RuntimeWarning: Glyph 48264 missing from current font.\n",
      "  font.set_text(s, 0, flags=flags)\n",
      "C:\\Users\\USER\\anaconda3\\envs\\chat\\lib\\site-packages\\matplotlib\\backends\\backend_agg.py:203: RuntimeWarning: Glyph 44048 missing from current font.\n",
      "  font.set_text(s, 0, flags=flags)\n",
      "C:\\Users\\USER\\anaconda3\\envs\\chat\\lib\\site-packages\\matplotlib\\backends\\backend_agg.py:203: RuntimeWarning: Glyph 51221 missing from current font.\n",
      "  font.set_text(s, 0, flags=flags)\n"
     ]
    },
    {
     "output_type": "display_data",
     "data": {
      "text/plain": "<Figure size 432x288 with 1 Axes>",
      "image/svg+xml": "<?xml version=\"1.0\" encoding=\"utf-8\" standalone=\"no\"?>\r\n<!DOCTYPE svg PUBLIC \"-//W3C//DTD SVG 1.1//EN\"\r\n  \"http://www.w3.org/Graphics/SVG/1.1/DTD/svg11.dtd\">\r\n<svg height=\"290.872813pt\" version=\"1.1\" viewBox=\"0 0 381.65 290.872813\" width=\"381.65pt\" xmlns=\"http://www.w3.org/2000/svg\" xmlns:xlink=\"http://www.w3.org/1999/xlink\">\r\n <metadata>\r\n  <rdf:RDF xmlns:cc=\"http://creativecommons.org/ns#\" xmlns:dc=\"http://purl.org/dc/elements/1.1/\" xmlns:rdf=\"http://www.w3.org/1999/02/22-rdf-syntax-ns#\">\r\n   <cc:Work>\r\n    <dc:type rdf:resource=\"http://purl.org/dc/dcmitype/StillImage\"/>\r\n    <dc:date>2021-06-04T13:34:20.159019</dc:date>\r\n    <dc:format>image/svg+xml</dc:format>\r\n    <dc:creator>\r\n     <cc:Agent>\r\n      <dc:title>Matplotlib v3.4.2, https://matplotlib.org/</dc:title>\r\n     </cc:Agent>\r\n    </dc:creator>\r\n   </cc:Work>\r\n  </rdf:RDF>\r\n </metadata>\r\n <defs>\r\n  <style type=\"text/css\">*{stroke-linecap:butt;stroke-linejoin:round;}</style>\r\n </defs>\r\n <g id=\"figure_1\">\r\n  <g id=\"patch_1\">\r\n   <path d=\"M -0 290.872813 \r\nL 381.65 290.872813 \r\nL 381.65 0 \r\nL -0 0 \r\nz\r\n\" style=\"fill:none;\"/>\r\n  </g>\r\n  <g id=\"axes_1\">\r\n   <g id=\"patch_2\">\r\n    <path d=\"M 39.65 224.64 \r\nL 374.45 224.64 \r\nL 374.45 7.2 \r\nL 39.65 7.2 \r\nz\r\n\" style=\"fill:#ffffff;\"/>\r\n   </g>\r\n   <g id=\"patch_3\">\r\n    <path clip-path=\"url(#pdbf53888fd)\" d=\"M 51.607143 224.64 \r\nL 56.39 224.64 \r\nL 56.39 117.98939 \r\nL 51.607143 117.98939 \r\nz\r\n\" style=\"fill:#1f77b4;\"/>\r\n   </g>\r\n   <g id=\"patch_4\">\r\n    <path clip-path=\"url(#pdbf53888fd)\" d=\"M 99.435714 224.64 \r\nL 104.218571 224.64 \r\nL 104.218571 158.003376 \r\nL 99.435714 158.003376 \r\nz\r\n\" style=\"fill:#1f77b4;\"/>\r\n   </g>\r\n   <g id=\"patch_5\">\r\n    <path clip-path=\"url(#pdbf53888fd)\" d=\"M 147.264286 224.64 \r\nL 152.047143 224.64 \r\nL 152.047143 192.3087 \r\nL 147.264286 192.3087 \r\nz\r\n\" style=\"fill:#1f77b4;\"/>\r\n   </g>\r\n   <g id=\"patch_6\">\r\n    <path clip-path=\"url(#pdbf53888fd)\" d=\"M 195.092857 224.64 \r\nL 199.875714 224.64 \r\nL 199.875714 194.922947 \r\nL 195.092857 194.922947 \r\nz\r\n\" style=\"fill:#1f77b4;\"/>\r\n   </g>\r\n   <g id=\"patch_7\">\r\n    <path clip-path=\"url(#pdbf53888fd)\" d=\"M 242.921429 224.64 \r\nL 247.704286 224.64 \r\nL 247.704286 197.643898 \r\nL 242.921429 197.643898 \r\nz\r\n\" style=\"fill:#1f77b4;\"/>\r\n   </g>\r\n   <g id=\"patch_8\">\r\n    <path clip-path=\"url(#pdbf53888fd)\" d=\"M 290.75 224.64 \r\nL 295.532857 224.64 \r\nL 295.532857 221.412205 \r\nL 290.75 221.412205 \r\nz\r\n\" style=\"fill:#1f77b4;\"/>\r\n   </g>\r\n   <g id=\"patch_9\">\r\n    <path clip-path=\"url(#pdbf53888fd)\" d=\"M 338.578571 224.64 \r\nL 343.361429 224.64 \r\nL 343.361429 223.146145 \r\nL 338.578571 223.146145 \r\nz\r\n\" style=\"fill:#1f77b4;\"/>\r\n   </g>\r\n   <g id=\"patch_10\">\r\n    <path clip-path=\"url(#pdbf53888fd)\" d=\"M 56.39 224.64 \r\nL 61.172857 224.64 \r\nL 61.172857 76.321493 \r\nL 56.39 76.321493 \r\nz\r\n\" style=\"fill:#ff7f0e;\"/>\r\n   </g>\r\n   <g id=\"patch_11\">\r\n    <path clip-path=\"url(#pdbf53888fd)\" d=\"M 104.218571 224.64 \r\nL 109.001429 224.64 \r\nL 109.001429 215.676867 \r\nL 104.218571 215.676867 \r\nz\r\n\" style=\"fill:#ff7f0e;\"/>\r\n   </g>\r\n   <g id=\"patch_12\">\r\n    <path clip-path=\"url(#pdbf53888fd)\" d=\"M 152.047143 224.64 \r\nL 156.83 224.64 \r\nL 156.83 215.676867 \r\nL 152.047143 215.676867 \r\nz\r\n\" style=\"fill:#ff7f0e;\"/>\r\n   </g>\r\n   <g id=\"patch_13\">\r\n    <path clip-path=\"url(#pdbf53888fd)\" d=\"M 199.875714 224.64 \r\nL 204.658571 224.64 \r\nL 204.658571 203.005772 \r\nL 199.875714 203.005772 \r\nz\r\n\" style=\"fill:#ff7f0e;\"/>\r\n   </g>\r\n   <g id=\"patch_14\">\r\n    <path clip-path=\"url(#pdbf53888fd)\" d=\"M 247.704286 224.64 \r\nL 252.487143 224.64 \r\nL 252.487143 157.256448 \r\nL 247.704286 157.256448 \r\nz\r\n\" style=\"fill:#ff7f0e;\"/>\r\n   </g>\r\n   <g id=\"patch_15\">\r\n    <path clip-path=\"url(#pdbf53888fd)\" d=\"M 295.532857 224.64 \r\nL 300.315714 224.64 \r\nL 300.315714 213.436084 \r\nL 295.532857 213.436084 \r\nz\r\n\" style=\"fill:#ff7f0e;\"/>\r\n   </g>\r\n   <g id=\"patch_16\">\r\n    <path clip-path=\"url(#pdbf53888fd)\" d=\"M 343.361429 224.64 \r\nL 348.144286 224.64 \r\nL 348.144286 224.053128 \r\nL 343.361429 224.053128 \r\nz\r\n\" style=\"fill:#ff7f0e;\"/>\r\n   </g>\r\n   <g id=\"patch_17\">\r\n    <path clip-path=\"url(#pdbf53888fd)\" d=\"M 61.172857 224.64 \r\nL 65.955714 224.64 \r\nL 65.955714 17.554286 \r\nL 61.172857 17.554286 \r\nz\r\n\" style=\"fill:#2ca02c;\"/>\r\n   </g>\r\n   <g id=\"patch_18\">\r\n    <path clip-path=\"url(#pdbf53888fd)\" d=\"M 109.001429 224.64 \r\nL 113.784286 224.64 \r\nL 113.784286 221.999077 \r\nL 109.001429 221.999077 \r\nz\r\n\" style=\"fill:#2ca02c;\"/>\r\n   </g>\r\n   <g id=\"patch_19\">\r\n    <path clip-path=\"url(#pdbf53888fd)\" d=\"M 156.83 224.64 \r\nL 161.612857 224.64 \r\nL 161.612857 219.571562 \r\nL 156.83 219.571562 \r\nz\r\n\" style=\"fill:#2ca02c;\"/>\r\n   </g>\r\n   <g id=\"patch_20\">\r\n    <path clip-path=\"url(#pdbf53888fd)\" d=\"M 204.658571 224.64 \r\nL 209.441429 224.64 \r\nL 209.441429 219.544886 \r\nL 204.658571 219.544886 \r\nz\r\n\" style=\"fill:#2ca02c;\"/>\r\n   </g>\r\n   <g id=\"patch_21\">\r\n    <path clip-path=\"url(#pdbf53888fd)\" d=\"M 252.487143 224.64 \r\nL 257.27 224.64 \r\nL 257.27 188.360653 \r\nL 252.487143 188.360653 \r\nz\r\n\" style=\"fill:#2ca02c;\"/>\r\n   </g>\r\n   <g id=\"patch_22\">\r\n    <path clip-path=\"url(#pdbf53888fd)\" d=\"M 300.315714 224.64 \r\nL 305.098571 224.64 \r\nL 305.098571 214.79656 \r\nL 300.315714 214.79656 \r\nz\r\n\" style=\"fill:#2ca02c;\"/>\r\n   </g>\r\n   <g id=\"patch_23\">\r\n    <path clip-path=\"url(#pdbf53888fd)\" d=\"M 348.144286 224.64 \r\nL 352.927143 224.64 \r\nL 352.927143 223.599636 \r\nL 348.144286 223.599636 \r\nz\r\n\" style=\"fill:#2ca02c;\"/>\r\n   </g>\r\n   <g id=\"patch_24\">\r\n    <path clip-path=\"url(#pdbf53888fd)\" d=\"M 65.955714 224.64 \r\nL 70.738571 224.64 \r\nL 70.738571 73.333782 \r\nL 65.955714 73.333782 \r\nz\r\n\" style=\"fill:#d62728;\"/>\r\n   </g>\r\n   <g id=\"patch_25\">\r\n    <path clip-path=\"url(#pdbf53888fd)\" d=\"M 113.784286 224.64 \r\nL 118.567143 224.64 \r\nL 118.567143 217.597539 \r\nL 113.784286 217.597539 \r\nz\r\n\" style=\"fill:#d62728;\"/>\r\n   </g>\r\n   <g id=\"patch_26\">\r\n    <path clip-path=\"url(#pdbf53888fd)\" d=\"M 161.612857 224.64 \r\nL 166.395714 224.64 \r\nL 166.395714 217.570863 \r\nL 161.612857 217.570863 \r\nz\r\n\" style=\"fill:#d62728;\"/>\r\n   </g>\r\n   <g id=\"patch_27\">\r\n    <path clip-path=\"url(#pdbf53888fd)\" d=\"M 209.441429 224.64 \r\nL 214.224286 224.64 \r\nL 214.224286 199.297809 \r\nL 209.441429 199.297809 \r\nz\r\n\" style=\"fill:#d62728;\"/>\r\n   </g>\r\n   <g id=\"patch_28\">\r\n    <path clip-path=\"url(#pdbf53888fd)\" d=\"M 257.27 224.64 \r\nL 262.052857 224.64 \r\nL 262.052857 149.093595 \r\nL 257.27 149.093595 \r\nz\r\n\" style=\"fill:#d62728;\"/>\r\n   </g>\r\n   <g id=\"patch_29\">\r\n    <path clip-path=\"url(#pdbf53888fd)\" d=\"M 305.098571 224.64 \r\nL 309.881429 224.64 \r\nL 309.881429 224.533296 \r\nL 305.098571 224.533296 \r\nz\r\n\" style=\"fill:#d62728;\"/>\r\n   </g>\r\n   <g id=\"patch_30\">\r\n    <path clip-path=\"url(#pdbf53888fd)\" d=\"M 352.927143 224.64 \r\nL 357.71 224.64 \r\nL 357.71 223.999776 \r\nL 352.927143 223.999776 \r\nz\r\n\" style=\"fill:#d62728;\"/>\r\n   </g>\r\n   <g id=\"patch_31\">\r\n    <path clip-path=\"url(#pdbf53888fd)\" d=\"M 70.738571 224.64 \r\nL 75.521429 224.64 \r\nL 75.521429 78.348868 \r\nL 70.738571 78.348868 \r\nz\r\n\" style=\"fill:#9467bd;\"/>\r\n   </g>\r\n   <g id=\"patch_32\">\r\n    <path clip-path=\"url(#pdbf53888fd)\" d=\"M 118.567143 224.64 \r\nL 123.35 224.64 \r\nL 123.35 220.025054 \r\nL 118.567143 220.025054 \r\nz\r\n\" style=\"fill:#9467bd;\"/>\r\n   </g>\r\n   <g id=\"patch_33\">\r\n    <path clip-path=\"url(#pdbf53888fd)\" d=\"M 166.395714 224.64 \r\nL 171.178571 224.64 \r\nL 171.178571 219.411506 \r\nL 166.395714 219.411506 \r\nz\r\n\" style=\"fill:#9467bd;\"/>\r\n   </g>\r\n   <g id=\"patch_34\">\r\n    <path clip-path=\"url(#pdbf53888fd)\" d=\"M 214.224286 224.64 \r\nL 219.007143 224.64 \r\nL 219.007143 165.899469 \r\nL 214.224286 165.899469 \r\nz\r\n\" style=\"fill:#9467bd;\"/>\r\n   </g>\r\n   <g id=\"patch_35\">\r\n    <path clip-path=\"url(#pdbf53888fd)\" d=\"M 262.052857 224.64 \r\nL 266.835714 224.64 \r\nL 266.835714 173.368746 \r\nL 262.052857 173.368746 \r\nz\r\n\" style=\"fill:#9467bd;\"/>\r\n   </g>\r\n   <g id=\"patch_36\">\r\n    <path clip-path=\"url(#pdbf53888fd)\" d=\"M 309.881429 224.64 \r\nL 314.664286 224.64 \r\nL 314.664286 224.613324 \r\nL 309.881429 224.613324 \r\nz\r\n\" style=\"fill:#9467bd;\"/>\r\n   </g>\r\n   <g id=\"patch_37\">\r\n    <path clip-path=\"url(#pdbf53888fd)\" d=\"M 357.71 224.64 \r\nL 362.492857 224.64 \r\nL 362.492857 223.759692 \r\nL 357.71 223.759692 \r\nz\r\n\" style=\"fill:#9467bd;\"/>\r\n   </g>\r\n   <g id=\"matplotlib.axis_1\">\r\n    <g id=\"xtick_1\">\r\n     <g id=\"line2d_1\">\r\n      <defs>\r\n       <path d=\"M 0 0 \r\nL 0 3.5 \r\n\" id=\"m755c3c5a3d\" style=\"stroke:#000000;stroke-width:0.8;\"/>\r\n      </defs>\r\n      <g>\r\n       <use style=\"stroke:#000000;stroke-width:0.8;\" x=\"63.564286\" xlink:href=\"#m755c3c5a3d\" y=\"224.64\"/>\r\n      </g>\r\n     </g>\r\n     <g id=\"text_1\">\r\n      <!-- Sadness -->\r\n      <g transform=\"translate(66.323661 273.374375)rotate(-90)scale(0.1 -0.1)\">\r\n       <defs>\r\n        <path d=\"M 3425 4513 \r\nL 3425 3897 \r\nQ 3066 4069 2747 4153 \r\nQ 2428 4238 2131 4238 \r\nQ 1616 4238 1336 4038 \r\nQ 1056 3838 1056 3469 \r\nQ 1056 3159 1242 3001 \r\nQ 1428 2844 1947 2747 \r\nL 2328 2669 \r\nQ 3034 2534 3370 2195 \r\nQ 3706 1856 3706 1288 \r\nQ 3706 609 3251 259 \r\nQ 2797 -91 1919 -91 \r\nQ 1588 -91 1214 -16 \r\nQ 841 59 441 206 \r\nL 441 856 \r\nQ 825 641 1194 531 \r\nQ 1563 422 1919 422 \r\nQ 2459 422 2753 634 \r\nQ 3047 847 3047 1241 \r\nQ 3047 1584 2836 1778 \r\nQ 2625 1972 2144 2069 \r\nL 1759 2144 \r\nQ 1053 2284 737 2584 \r\nQ 422 2884 422 3419 \r\nQ 422 4038 858 4394 \r\nQ 1294 4750 2059 4750 \r\nQ 2388 4750 2728 4690 \r\nQ 3069 4631 3425 4513 \r\nz\r\n\" id=\"DejaVuSans-53\" transform=\"scale(0.015625)\"/>\r\n        <path d=\"M 2194 1759 \r\nQ 1497 1759 1228 1600 \r\nQ 959 1441 959 1056 \r\nQ 959 750 1161 570 \r\nQ 1363 391 1709 391 \r\nQ 2188 391 2477 730 \r\nQ 2766 1069 2766 1631 \r\nL 2766 1759 \r\nL 2194 1759 \r\nz\r\nM 3341 1997 \r\nL 3341 0 \r\nL 2766 0 \r\nL 2766 531 \r\nQ 2569 213 2275 61 \r\nQ 1981 -91 1556 -91 \r\nQ 1019 -91 701 211 \r\nQ 384 513 384 1019 \r\nQ 384 1609 779 1909 \r\nQ 1175 2209 1959 2209 \r\nL 2766 2209 \r\nL 2766 2266 \r\nQ 2766 2663 2505 2880 \r\nQ 2244 3097 1772 3097 \r\nQ 1472 3097 1187 3025 \r\nQ 903 2953 641 2809 \r\nL 641 3341 \r\nQ 956 3463 1253 3523 \r\nQ 1550 3584 1831 3584 \r\nQ 2591 3584 2966 3190 \r\nQ 3341 2797 3341 1997 \r\nz\r\n\" id=\"DejaVuSans-61\" transform=\"scale(0.015625)\"/>\r\n        <path d=\"M 2906 2969 \r\nL 2906 4863 \r\nL 3481 4863 \r\nL 3481 0 \r\nL 2906 0 \r\nL 2906 525 \r\nQ 2725 213 2448 61 \r\nQ 2172 -91 1784 -91 \r\nQ 1150 -91 751 415 \r\nQ 353 922 353 1747 \r\nQ 353 2572 751 3078 \r\nQ 1150 3584 1784 3584 \r\nQ 2172 3584 2448 3432 \r\nQ 2725 3281 2906 2969 \r\nz\r\nM 947 1747 \r\nQ 947 1113 1208 752 \r\nQ 1469 391 1925 391 \r\nQ 2381 391 2643 752 \r\nQ 2906 1113 2906 1747 \r\nQ 2906 2381 2643 2742 \r\nQ 2381 3103 1925 3103 \r\nQ 1469 3103 1208 2742 \r\nQ 947 2381 947 1747 \r\nz\r\n\" id=\"DejaVuSans-64\" transform=\"scale(0.015625)\"/>\r\n        <path d=\"M 3513 2113 \r\nL 3513 0 \r\nL 2938 0 \r\nL 2938 2094 \r\nQ 2938 2591 2744 2837 \r\nQ 2550 3084 2163 3084 \r\nQ 1697 3084 1428 2787 \r\nQ 1159 2491 1159 1978 \r\nL 1159 0 \r\nL 581 0 \r\nL 581 3500 \r\nL 1159 3500 \r\nL 1159 2956 \r\nQ 1366 3272 1645 3428 \r\nQ 1925 3584 2291 3584 \r\nQ 2894 3584 3203 3211 \r\nQ 3513 2838 3513 2113 \r\nz\r\n\" id=\"DejaVuSans-6e\" transform=\"scale(0.015625)\"/>\r\n        <path d=\"M 3597 1894 \r\nL 3597 1613 \r\nL 953 1613 \r\nQ 991 1019 1311 708 \r\nQ 1631 397 2203 397 \r\nQ 2534 397 2845 478 \r\nQ 3156 559 3463 722 \r\nL 3463 178 \r\nQ 3153 47 2828 -22 \r\nQ 2503 -91 2169 -91 \r\nQ 1331 -91 842 396 \r\nQ 353 884 353 1716 \r\nQ 353 2575 817 3079 \r\nQ 1281 3584 2069 3584 \r\nQ 2775 3584 3186 3129 \r\nQ 3597 2675 3597 1894 \r\nz\r\nM 3022 2063 \r\nQ 3016 2534 2758 2815 \r\nQ 2500 3097 2075 3097 \r\nQ 1594 3097 1305 2825 \r\nQ 1016 2553 972 2059 \r\nL 3022 2063 \r\nz\r\n\" id=\"DejaVuSans-65\" transform=\"scale(0.015625)\"/>\r\n        <path d=\"M 2834 3397 \r\nL 2834 2853 \r\nQ 2591 2978 2328 3040 \r\nQ 2066 3103 1784 3103 \r\nQ 1356 3103 1142 2972 \r\nQ 928 2841 928 2578 \r\nQ 928 2378 1081 2264 \r\nQ 1234 2150 1697 2047 \r\nL 1894 2003 \r\nQ 2506 1872 2764 1633 \r\nQ 3022 1394 3022 966 \r\nQ 3022 478 2636 193 \r\nQ 2250 -91 1575 -91 \r\nQ 1294 -91 989 -36 \r\nQ 684 19 347 128 \r\nL 347 722 \r\nQ 666 556 975 473 \r\nQ 1284 391 1588 391 \r\nQ 1994 391 2212 530 \r\nQ 2431 669 2431 922 \r\nQ 2431 1156 2273 1281 \r\nQ 2116 1406 1581 1522 \r\nL 1381 1569 \r\nQ 847 1681 609 1914 \r\nQ 372 2147 372 2553 \r\nQ 372 3047 722 3315 \r\nQ 1072 3584 1716 3584 \r\nQ 2034 3584 2315 3537 \r\nQ 2597 3491 2834 3397 \r\nz\r\n\" id=\"DejaVuSans-73\" transform=\"scale(0.015625)\"/>\r\n       </defs>\r\n       <use xlink:href=\"#DejaVuSans-53\"/>\r\n       <use x=\"63.476562\" xlink:href=\"#DejaVuSans-61\"/>\r\n       <use x=\"124.755859\" xlink:href=\"#DejaVuSans-64\"/>\r\n       <use x=\"188.232422\" xlink:href=\"#DejaVuSans-6e\"/>\r\n       <use x=\"251.611328\" xlink:href=\"#DejaVuSans-65\"/>\r\n       <use x=\"313.134766\" xlink:href=\"#DejaVuSans-73\"/>\r\n       <use x=\"365.234375\" xlink:href=\"#DejaVuSans-73\"/>\r\n      </g>\r\n     </g>\r\n    </g>\r\n    <g id=\"xtick_2\">\r\n     <g id=\"line2d_2\">\r\n      <g>\r\n       <use style=\"stroke:#000000;stroke-width:0.8;\" x=\"111.392857\" xlink:href=\"#m755c3c5a3d\" y=\"224.64\"/>\r\n      </g>\r\n     </g>\r\n     <g id=\"text_2\">\r\n      <!-- Neutral -->\r\n      <g transform=\"translate(114.152232 268.549375)rotate(-90)scale(0.1 -0.1)\">\r\n       <defs>\r\n        <path d=\"M 628 4666 \r\nL 1478 4666 \r\nL 3547 763 \r\nL 3547 4666 \r\nL 4159 4666 \r\nL 4159 0 \r\nL 3309 0 \r\nL 1241 3903 \r\nL 1241 0 \r\nL 628 0 \r\nL 628 4666 \r\nz\r\n\" id=\"DejaVuSans-4e\" transform=\"scale(0.015625)\"/>\r\n        <path d=\"M 544 1381 \r\nL 544 3500 \r\nL 1119 3500 \r\nL 1119 1403 \r\nQ 1119 906 1312 657 \r\nQ 1506 409 1894 409 \r\nQ 2359 409 2629 706 \r\nQ 2900 1003 2900 1516 \r\nL 2900 3500 \r\nL 3475 3500 \r\nL 3475 0 \r\nL 2900 0 \r\nL 2900 538 \r\nQ 2691 219 2414 64 \r\nQ 2138 -91 1772 -91 \r\nQ 1169 -91 856 284 \r\nQ 544 659 544 1381 \r\nz\r\nM 1991 3584 \r\nL 1991 3584 \r\nz\r\n\" id=\"DejaVuSans-75\" transform=\"scale(0.015625)\"/>\r\n        <path d=\"M 1172 4494 \r\nL 1172 3500 \r\nL 2356 3500 \r\nL 2356 3053 \r\nL 1172 3053 \r\nL 1172 1153 \r\nQ 1172 725 1289 603 \r\nQ 1406 481 1766 481 \r\nL 2356 481 \r\nL 2356 0 \r\nL 1766 0 \r\nQ 1100 0 847 248 \r\nQ 594 497 594 1153 \r\nL 594 3053 \r\nL 172 3053 \r\nL 172 3500 \r\nL 594 3500 \r\nL 594 4494 \r\nL 1172 4494 \r\nz\r\n\" id=\"DejaVuSans-74\" transform=\"scale(0.015625)\"/>\r\n        <path d=\"M 2631 2963 \r\nQ 2534 3019 2420 3045 \r\nQ 2306 3072 2169 3072 \r\nQ 1681 3072 1420 2755 \r\nQ 1159 2438 1159 1844 \r\nL 1159 0 \r\nL 581 0 \r\nL 581 3500 \r\nL 1159 3500 \r\nL 1159 2956 \r\nQ 1341 3275 1631 3429 \r\nQ 1922 3584 2338 3584 \r\nQ 2397 3584 2469 3576 \r\nQ 2541 3569 2628 3553 \r\nL 2631 2963 \r\nz\r\n\" id=\"DejaVuSans-72\" transform=\"scale(0.015625)\"/>\r\n        <path d=\"M 603 4863 \r\nL 1178 4863 \r\nL 1178 0 \r\nL 603 0 \r\nL 603 4863 \r\nz\r\n\" id=\"DejaVuSans-6c\" transform=\"scale(0.015625)\"/>\r\n       </defs>\r\n       <use xlink:href=\"#DejaVuSans-4e\"/>\r\n       <use x=\"74.804688\" xlink:href=\"#DejaVuSans-65\"/>\r\n       <use x=\"136.328125\" xlink:href=\"#DejaVuSans-75\"/>\r\n       <use x=\"199.707031\" xlink:href=\"#DejaVuSans-74\"/>\r\n       <use x=\"238.916016\" xlink:href=\"#DejaVuSans-72\"/>\r\n       <use x=\"280.029297\" xlink:href=\"#DejaVuSans-61\"/>\r\n       <use x=\"341.308594\" xlink:href=\"#DejaVuSans-6c\"/>\r\n      </g>\r\n     </g>\r\n    </g>\r\n    <g id=\"xtick_3\">\r\n     <g id=\"line2d_3\">\r\n      <g>\r\n       <use style=\"stroke:#000000;stroke-width:0.8;\" x=\"159.221429\" xlink:href=\"#m755c3c5a3d\" y=\"224.64\"/>\r\n      </g>\r\n     </g>\r\n     <g id=\"text_3\">\r\n      <!-- Disgust -->\r\n      <g transform=\"translate(161.980804 269.143125)rotate(-90)scale(0.1 -0.1)\">\r\n       <defs>\r\n        <path d=\"M 1259 4147 \r\nL 1259 519 \r\nL 2022 519 \r\nQ 2988 519 3436 956 \r\nQ 3884 1394 3884 2338 \r\nQ 3884 3275 3436 3711 \r\nQ 2988 4147 2022 4147 \r\nL 1259 4147 \r\nz\r\nM 628 4666 \r\nL 1925 4666 \r\nQ 3281 4666 3915 4102 \r\nQ 4550 3538 4550 2338 \r\nQ 4550 1131 3912 565 \r\nQ 3275 0 1925 0 \r\nL 628 0 \r\nL 628 4666 \r\nz\r\n\" id=\"DejaVuSans-44\" transform=\"scale(0.015625)\"/>\r\n        <path d=\"M 603 3500 \r\nL 1178 3500 \r\nL 1178 0 \r\nL 603 0 \r\nL 603 3500 \r\nz\r\nM 603 4863 \r\nL 1178 4863 \r\nL 1178 4134 \r\nL 603 4134 \r\nL 603 4863 \r\nz\r\n\" id=\"DejaVuSans-69\" transform=\"scale(0.015625)\"/>\r\n        <path d=\"M 2906 1791 \r\nQ 2906 2416 2648 2759 \r\nQ 2391 3103 1925 3103 \r\nQ 1463 3103 1205 2759 \r\nQ 947 2416 947 1791 \r\nQ 947 1169 1205 825 \r\nQ 1463 481 1925 481 \r\nQ 2391 481 2648 825 \r\nQ 2906 1169 2906 1791 \r\nz\r\nM 3481 434 \r\nQ 3481 -459 3084 -895 \r\nQ 2688 -1331 1869 -1331 \r\nQ 1566 -1331 1297 -1286 \r\nQ 1028 -1241 775 -1147 \r\nL 775 -588 \r\nQ 1028 -725 1275 -790 \r\nQ 1522 -856 1778 -856 \r\nQ 2344 -856 2625 -561 \r\nQ 2906 -266 2906 331 \r\nL 2906 616 \r\nQ 2728 306 2450 153 \r\nQ 2172 0 1784 0 \r\nQ 1141 0 747 490 \r\nQ 353 981 353 1791 \r\nQ 353 2603 747 3093 \r\nQ 1141 3584 1784 3584 \r\nQ 2172 3584 2450 3431 \r\nQ 2728 3278 2906 2969 \r\nL 2906 3500 \r\nL 3481 3500 \r\nL 3481 434 \r\nz\r\n\" id=\"DejaVuSans-67\" transform=\"scale(0.015625)\"/>\r\n       </defs>\r\n       <use xlink:href=\"#DejaVuSans-44\"/>\r\n       <use x=\"77.001953\" xlink:href=\"#DejaVuSans-69\"/>\r\n       <use x=\"104.785156\" xlink:href=\"#DejaVuSans-73\"/>\r\n       <use x=\"156.884766\" xlink:href=\"#DejaVuSans-67\"/>\r\n       <use x=\"220.361328\" xlink:href=\"#DejaVuSans-75\"/>\r\n       <use x=\"283.740234\" xlink:href=\"#DejaVuSans-73\"/>\r\n       <use x=\"335.839844\" xlink:href=\"#DejaVuSans-74\"/>\r\n      </g>\r\n     </g>\r\n    </g>\r\n    <g id=\"xtick_4\">\r\n     <g id=\"line2d_4\">\r\n      <g>\r\n       <use style=\"stroke:#000000;stroke-width:0.8;\" x=\"207.05\" xlink:href=\"#m755c3c5a3d\" y=\"224.64\"/>\r\n      </g>\r\n     </g>\r\n     <g id=\"text_4\">\r\n      <!-- Fear -->\r\n      <g transform=\"translate(209.809375 253.23375)rotate(-90)scale(0.1 -0.1)\">\r\n       <defs>\r\n        <path d=\"M 628 4666 \r\nL 3309 4666 \r\nL 3309 4134 \r\nL 1259 4134 \r\nL 1259 2759 \r\nL 3109 2759 \r\nL 3109 2228 \r\nL 1259 2228 \r\nL 1259 0 \r\nL 628 0 \r\nL 628 4666 \r\nz\r\n\" id=\"DejaVuSans-46\" transform=\"scale(0.015625)\"/>\r\n       </defs>\r\n       <use xlink:href=\"#DejaVuSans-46\"/>\r\n       <use x=\"52.019531\" xlink:href=\"#DejaVuSans-65\"/>\r\n       <use x=\"113.542969\" xlink:href=\"#DejaVuSans-61\"/>\r\n       <use x=\"174.822266\" xlink:href=\"#DejaVuSans-72\"/>\r\n      </g>\r\n     </g>\r\n    </g>\r\n    <g id=\"xtick_5\">\r\n     <g id=\"line2d_5\">\r\n      <g>\r\n       <use style=\"stroke:#000000;stroke-width:0.8;\" x=\"254.878571\" xlink:href=\"#m755c3c5a3d\" y=\"224.64\"/>\r\n      </g>\r\n     </g>\r\n     <g id=\"text_5\">\r\n      <!-- Angry -->\r\n      <g transform=\"translate(257.637946 261.19625)rotate(-90)scale(0.1 -0.1)\">\r\n       <defs>\r\n        <path d=\"M 2188 4044 \r\nL 1331 1722 \r\nL 3047 1722 \r\nL 2188 4044 \r\nz\r\nM 1831 4666 \r\nL 2547 4666 \r\nL 4325 0 \r\nL 3669 0 \r\nL 3244 1197 \r\nL 1141 1197 \r\nL 716 0 \r\nL 50 0 \r\nL 1831 4666 \r\nz\r\n\" id=\"DejaVuSans-41\" transform=\"scale(0.015625)\"/>\r\n        <path d=\"M 2059 -325 \r\nQ 1816 -950 1584 -1140 \r\nQ 1353 -1331 966 -1331 \r\nL 506 -1331 \r\nL 506 -850 \r\nL 844 -850 \r\nQ 1081 -850 1212 -737 \r\nQ 1344 -625 1503 -206 \r\nL 1606 56 \r\nL 191 3500 \r\nL 800 3500 \r\nL 1894 763 \r\nL 2988 3500 \r\nL 3597 3500 \r\nL 2059 -325 \r\nz\r\n\" id=\"DejaVuSans-79\" transform=\"scale(0.015625)\"/>\r\n       </defs>\r\n       <use xlink:href=\"#DejaVuSans-41\"/>\r\n       <use x=\"68.408203\" xlink:href=\"#DejaVuSans-6e\"/>\r\n       <use x=\"131.787109\" xlink:href=\"#DejaVuSans-67\"/>\r\n       <use x=\"195.263672\" xlink:href=\"#DejaVuSans-72\"/>\r\n       <use x=\"236.376953\" xlink:href=\"#DejaVuSans-79\"/>\r\n      </g>\r\n     </g>\r\n    </g>\r\n    <g id=\"xtick_6\">\r\n     <g id=\"line2d_6\">\r\n      <g>\r\n       <use style=\"stroke:#000000;stroke-width:0.8;\" x=\"302.707143\" xlink:href=\"#m755c3c5a3d\" y=\"224.64\"/>\r\n      </g>\r\n     </g>\r\n     <g id=\"text_6\">\r\n      <!-- Happiness -->\r\n      <g transform=\"translate(305.466518 283.672813)rotate(-90)scale(0.1 -0.1)\">\r\n       <defs>\r\n        <path d=\"M 628 4666 \r\nL 1259 4666 \r\nL 1259 2753 \r\nL 3553 2753 \r\nL 3553 4666 \r\nL 4184 4666 \r\nL 4184 0 \r\nL 3553 0 \r\nL 3553 2222 \r\nL 1259 2222 \r\nL 1259 0 \r\nL 628 0 \r\nL 628 4666 \r\nz\r\n\" id=\"DejaVuSans-48\" transform=\"scale(0.015625)\"/>\r\n        <path d=\"M 1159 525 \r\nL 1159 -1331 \r\nL 581 -1331 \r\nL 581 3500 \r\nL 1159 3500 \r\nL 1159 2969 \r\nQ 1341 3281 1617 3432 \r\nQ 1894 3584 2278 3584 \r\nQ 2916 3584 3314 3078 \r\nQ 3713 2572 3713 1747 \r\nQ 3713 922 3314 415 \r\nQ 2916 -91 2278 -91 \r\nQ 1894 -91 1617 61 \r\nQ 1341 213 1159 525 \r\nz\r\nM 3116 1747 \r\nQ 3116 2381 2855 2742 \r\nQ 2594 3103 2138 3103 \r\nQ 1681 3103 1420 2742 \r\nQ 1159 2381 1159 1747 \r\nQ 1159 1113 1420 752 \r\nQ 1681 391 2138 391 \r\nQ 2594 391 2855 752 \r\nQ 3116 1113 3116 1747 \r\nz\r\n\" id=\"DejaVuSans-70\" transform=\"scale(0.015625)\"/>\r\n       </defs>\r\n       <use xlink:href=\"#DejaVuSans-48\"/>\r\n       <use x=\"75.195312\" xlink:href=\"#DejaVuSans-61\"/>\r\n       <use x=\"136.474609\" xlink:href=\"#DejaVuSans-70\"/>\r\n       <use x=\"199.951172\" xlink:href=\"#DejaVuSans-70\"/>\r\n       <use x=\"263.427734\" xlink:href=\"#DejaVuSans-69\"/>\r\n       <use x=\"291.210938\" xlink:href=\"#DejaVuSans-6e\"/>\r\n       <use x=\"354.589844\" xlink:href=\"#DejaVuSans-65\"/>\r\n       <use x=\"416.113281\" xlink:href=\"#DejaVuSans-73\"/>\r\n       <use x=\"468.212891\" xlink:href=\"#DejaVuSans-73\"/>\r\n      </g>\r\n     </g>\r\n    </g>\r\n    <g id=\"xtick_7\">\r\n     <g id=\"line2d_7\">\r\n      <g>\r\n       <use style=\"stroke:#000000;stroke-width:0.8;\" x=\"350.535714\" xlink:href=\"#m755c3c5a3d\" y=\"224.64\"/>\r\n      </g>\r\n     </g>\r\n     <g id=\"text_7\">\r\n      <!-- Surprise -->\r\n      <g transform=\"translate(353.295089 273.036875)rotate(-90)scale(0.1 -0.1)\">\r\n       <use xlink:href=\"#DejaVuSans-53\"/>\r\n       <use x=\"63.476562\" xlink:href=\"#DejaVuSans-75\"/>\r\n       <use x=\"126.855469\" xlink:href=\"#DejaVuSans-72\"/>\r\n       <use x=\"167.96875\" xlink:href=\"#DejaVuSans-70\"/>\r\n       <use x=\"231.445312\" xlink:href=\"#DejaVuSans-72\"/>\r\n       <use x=\"272.558594\" xlink:href=\"#DejaVuSans-69\"/>\r\n       <use x=\"300.341797\" xlink:href=\"#DejaVuSans-73\"/>\r\n       <use x=\"352.441406\" xlink:href=\"#DejaVuSans-65\"/>\r\n      </g>\r\n     </g>\r\n    </g>\r\n   </g>\r\n   <g id=\"matplotlib.axis_2\">\r\n    <g id=\"ytick_1\">\r\n     <g id=\"line2d_8\">\r\n      <defs>\r\n       <path d=\"M 0 0 \r\nL -3.5 0 \r\n\" id=\"m124d1f9748\" style=\"stroke:#000000;stroke-width:0.8;\"/>\r\n      </defs>\r\n      <g>\r\n       <use style=\"stroke:#000000;stroke-width:0.8;\" x=\"39.65\" xlink:href=\"#m124d1f9748\" y=\"224.64\"/>\r\n      </g>\r\n     </g>\r\n     <g id=\"text_8\">\r\n      <!-- 0 -->\r\n      <g transform=\"translate(26.2875 228.439219)scale(0.1 -0.1)\">\r\n       <defs>\r\n        <path d=\"M 2034 4250 \r\nQ 1547 4250 1301 3770 \r\nQ 1056 3291 1056 2328 \r\nQ 1056 1369 1301 889 \r\nQ 1547 409 2034 409 \r\nQ 2525 409 2770 889 \r\nQ 3016 1369 3016 2328 \r\nQ 3016 3291 2770 3770 \r\nQ 2525 4250 2034 4250 \r\nz\r\nM 2034 4750 \r\nQ 2819 4750 3233 4129 \r\nQ 3647 3509 3647 2328 \r\nQ 3647 1150 3233 529 \r\nQ 2819 -91 2034 -91 \r\nQ 1250 -91 836 529 \r\nQ 422 1150 422 2328 \r\nQ 422 3509 836 4129 \r\nQ 1250 4750 2034 4750 \r\nz\r\n\" id=\"DejaVuSans-30\" transform=\"scale(0.015625)\"/>\r\n       </defs>\r\n       <use xlink:href=\"#DejaVuSans-30\"/>\r\n      </g>\r\n     </g>\r\n    </g>\r\n    <g id=\"ytick_2\">\r\n     <g id=\"line2d_9\">\r\n      <g>\r\n       <use style=\"stroke:#000000;stroke-width:0.8;\" x=\"39.65\" xlink:href=\"#m124d1f9748\" y=\"197.964009\"/>\r\n      </g>\r\n     </g>\r\n     <g id=\"text_9\">\r\n      <!-- 1000 -->\r\n      <g transform=\"translate(7.2 201.763228)scale(0.1 -0.1)\">\r\n       <defs>\r\n        <path d=\"M 794 531 \r\nL 1825 531 \r\nL 1825 4091 \r\nL 703 3866 \r\nL 703 4441 \r\nL 1819 4666 \r\nL 2450 4666 \r\nL 2450 531 \r\nL 3481 531 \r\nL 3481 0 \r\nL 794 0 \r\nL 794 531 \r\nz\r\n\" id=\"DejaVuSans-31\" transform=\"scale(0.015625)\"/>\r\n       </defs>\r\n       <use xlink:href=\"#DejaVuSans-31\"/>\r\n       <use x=\"63.623047\" xlink:href=\"#DejaVuSans-30\"/>\r\n       <use x=\"127.246094\" xlink:href=\"#DejaVuSans-30\"/>\r\n       <use x=\"190.869141\" xlink:href=\"#DejaVuSans-30\"/>\r\n      </g>\r\n     </g>\r\n    </g>\r\n    <g id=\"ytick_3\">\r\n     <g id=\"line2d_10\">\r\n      <g>\r\n       <use style=\"stroke:#000000;stroke-width:0.8;\" x=\"39.65\" xlink:href=\"#m124d1f9748\" y=\"171.288019\"/>\r\n      </g>\r\n     </g>\r\n     <g id=\"text_10\">\r\n      <!-- 2000 -->\r\n      <g transform=\"translate(7.2 175.087238)scale(0.1 -0.1)\">\r\n       <defs>\r\n        <path d=\"M 1228 531 \r\nL 3431 531 \r\nL 3431 0 \r\nL 469 0 \r\nL 469 531 \r\nQ 828 903 1448 1529 \r\nQ 2069 2156 2228 2338 \r\nQ 2531 2678 2651 2914 \r\nQ 2772 3150 2772 3378 \r\nQ 2772 3750 2511 3984 \r\nQ 2250 4219 1831 4219 \r\nQ 1534 4219 1204 4116 \r\nQ 875 4013 500 3803 \r\nL 500 4441 \r\nQ 881 4594 1212 4672 \r\nQ 1544 4750 1819 4750 \r\nQ 2544 4750 2975 4387 \r\nQ 3406 4025 3406 3419 \r\nQ 3406 3131 3298 2873 \r\nQ 3191 2616 2906 2266 \r\nQ 2828 2175 2409 1742 \r\nQ 1991 1309 1228 531 \r\nz\r\n\" id=\"DejaVuSans-32\" transform=\"scale(0.015625)\"/>\r\n       </defs>\r\n       <use xlink:href=\"#DejaVuSans-32\"/>\r\n       <use x=\"63.623047\" xlink:href=\"#DejaVuSans-30\"/>\r\n       <use x=\"127.246094\" xlink:href=\"#DejaVuSans-30\"/>\r\n       <use x=\"190.869141\" xlink:href=\"#DejaVuSans-30\"/>\r\n      </g>\r\n     </g>\r\n    </g>\r\n    <g id=\"ytick_4\">\r\n     <g id=\"line2d_11\">\r\n      <g>\r\n       <use style=\"stroke:#000000;stroke-width:0.8;\" x=\"39.65\" xlink:href=\"#m124d1f9748\" y=\"144.612028\"/>\r\n      </g>\r\n     </g>\r\n     <g id=\"text_11\">\r\n      <!-- 3000 -->\r\n      <g transform=\"translate(7.2 148.411247)scale(0.1 -0.1)\">\r\n       <defs>\r\n        <path d=\"M 2597 2516 \r\nQ 3050 2419 3304 2112 \r\nQ 3559 1806 3559 1356 \r\nQ 3559 666 3084 287 \r\nQ 2609 -91 1734 -91 \r\nQ 1441 -91 1130 -33 \r\nQ 819 25 488 141 \r\nL 488 750 \r\nQ 750 597 1062 519 \r\nQ 1375 441 1716 441 \r\nQ 2309 441 2620 675 \r\nQ 2931 909 2931 1356 \r\nQ 2931 1769 2642 2001 \r\nQ 2353 2234 1838 2234 \r\nL 1294 2234 \r\nL 1294 2753 \r\nL 1863 2753 \r\nQ 2328 2753 2575 2939 \r\nQ 2822 3125 2822 3475 \r\nQ 2822 3834 2567 4026 \r\nQ 2313 4219 1838 4219 \r\nQ 1578 4219 1281 4162 \r\nQ 984 4106 628 3988 \r\nL 628 4550 \r\nQ 988 4650 1302 4700 \r\nQ 1616 4750 1894 4750 \r\nQ 2613 4750 3031 4423 \r\nQ 3450 4097 3450 3541 \r\nQ 3450 3153 3228 2886 \r\nQ 3006 2619 2597 2516 \r\nz\r\n\" id=\"DejaVuSans-33\" transform=\"scale(0.015625)\"/>\r\n       </defs>\r\n       <use xlink:href=\"#DejaVuSans-33\"/>\r\n       <use x=\"63.623047\" xlink:href=\"#DejaVuSans-30\"/>\r\n       <use x=\"127.246094\" xlink:href=\"#DejaVuSans-30\"/>\r\n       <use x=\"190.869141\" xlink:href=\"#DejaVuSans-30\"/>\r\n      </g>\r\n     </g>\r\n    </g>\r\n    <g id=\"ytick_5\">\r\n     <g id=\"line2d_12\">\r\n      <g>\r\n       <use style=\"stroke:#000000;stroke-width:0.8;\" x=\"39.65\" xlink:href=\"#m124d1f9748\" y=\"117.936038\"/>\r\n      </g>\r\n     </g>\r\n     <g id=\"text_12\">\r\n      <!-- 4000 -->\r\n      <g transform=\"translate(7.2 121.735257)scale(0.1 -0.1)\">\r\n       <defs>\r\n        <path d=\"M 2419 4116 \r\nL 825 1625 \r\nL 2419 1625 \r\nL 2419 4116 \r\nz\r\nM 2253 4666 \r\nL 3047 4666 \r\nL 3047 1625 \r\nL 3713 1625 \r\nL 3713 1100 \r\nL 3047 1100 \r\nL 3047 0 \r\nL 2419 0 \r\nL 2419 1100 \r\nL 313 1100 \r\nL 313 1709 \r\nL 2253 4666 \r\nz\r\n\" id=\"DejaVuSans-34\" transform=\"scale(0.015625)\"/>\r\n       </defs>\r\n       <use xlink:href=\"#DejaVuSans-34\"/>\r\n       <use x=\"63.623047\" xlink:href=\"#DejaVuSans-30\"/>\r\n       <use x=\"127.246094\" xlink:href=\"#DejaVuSans-30\"/>\r\n       <use x=\"190.869141\" xlink:href=\"#DejaVuSans-30\"/>\r\n      </g>\r\n     </g>\r\n    </g>\r\n    <g id=\"ytick_6\">\r\n     <g id=\"line2d_13\">\r\n      <g>\r\n       <use style=\"stroke:#000000;stroke-width:0.8;\" x=\"39.65\" xlink:href=\"#m124d1f9748\" y=\"91.260047\"/>\r\n      </g>\r\n     </g>\r\n     <g id=\"text_13\">\r\n      <!-- 5000 -->\r\n      <g transform=\"translate(7.2 95.059266)scale(0.1 -0.1)\">\r\n       <defs>\r\n        <path d=\"M 691 4666 \r\nL 3169 4666 \r\nL 3169 4134 \r\nL 1269 4134 \r\nL 1269 2991 \r\nQ 1406 3038 1543 3061 \r\nQ 1681 3084 1819 3084 \r\nQ 2600 3084 3056 2656 \r\nQ 3513 2228 3513 1497 \r\nQ 3513 744 3044 326 \r\nQ 2575 -91 1722 -91 \r\nQ 1428 -91 1123 -41 \r\nQ 819 9 494 109 \r\nL 494 744 \r\nQ 775 591 1075 516 \r\nQ 1375 441 1709 441 \r\nQ 2250 441 2565 725 \r\nQ 2881 1009 2881 1497 \r\nQ 2881 1984 2565 2268 \r\nQ 2250 2553 1709 2553 \r\nQ 1456 2553 1204 2497 \r\nQ 953 2441 691 2322 \r\nL 691 4666 \r\nz\r\n\" id=\"DejaVuSans-35\" transform=\"scale(0.015625)\"/>\r\n       </defs>\r\n       <use xlink:href=\"#DejaVuSans-35\"/>\r\n       <use x=\"63.623047\" xlink:href=\"#DejaVuSans-30\"/>\r\n       <use x=\"127.246094\" xlink:href=\"#DejaVuSans-30\"/>\r\n       <use x=\"190.869141\" xlink:href=\"#DejaVuSans-30\"/>\r\n      </g>\r\n     </g>\r\n    </g>\r\n    <g id=\"ytick_7\">\r\n     <g id=\"line2d_14\">\r\n      <g>\r\n       <use style=\"stroke:#000000;stroke-width:0.8;\" x=\"39.65\" xlink:href=\"#m124d1f9748\" y=\"64.584057\"/>\r\n      </g>\r\n     </g>\r\n     <g id=\"text_14\">\r\n      <!-- 6000 -->\r\n      <g transform=\"translate(7.2 68.383276)scale(0.1 -0.1)\">\r\n       <defs>\r\n        <path d=\"M 2113 2584 \r\nQ 1688 2584 1439 2293 \r\nQ 1191 2003 1191 1497 \r\nQ 1191 994 1439 701 \r\nQ 1688 409 2113 409 \r\nQ 2538 409 2786 701 \r\nQ 3034 994 3034 1497 \r\nQ 3034 2003 2786 2293 \r\nQ 2538 2584 2113 2584 \r\nz\r\nM 3366 4563 \r\nL 3366 3988 \r\nQ 3128 4100 2886 4159 \r\nQ 2644 4219 2406 4219 \r\nQ 1781 4219 1451 3797 \r\nQ 1122 3375 1075 2522 \r\nQ 1259 2794 1537 2939 \r\nQ 1816 3084 2150 3084 \r\nQ 2853 3084 3261 2657 \r\nQ 3669 2231 3669 1497 \r\nQ 3669 778 3244 343 \r\nQ 2819 -91 2113 -91 \r\nQ 1303 -91 875 529 \r\nQ 447 1150 447 2328 \r\nQ 447 3434 972 4092 \r\nQ 1497 4750 2381 4750 \r\nQ 2619 4750 2861 4703 \r\nQ 3103 4656 3366 4563 \r\nz\r\n\" id=\"DejaVuSans-36\" transform=\"scale(0.015625)\"/>\r\n       </defs>\r\n       <use xlink:href=\"#DejaVuSans-36\"/>\r\n       <use x=\"63.623047\" xlink:href=\"#DejaVuSans-30\"/>\r\n       <use x=\"127.246094\" xlink:href=\"#DejaVuSans-30\"/>\r\n       <use x=\"190.869141\" xlink:href=\"#DejaVuSans-30\"/>\r\n      </g>\r\n     </g>\r\n    </g>\r\n    <g id=\"ytick_8\">\r\n     <g id=\"line2d_15\">\r\n      <g>\r\n       <use style=\"stroke:#000000;stroke-width:0.8;\" x=\"39.65\" xlink:href=\"#m124d1f9748\" y=\"37.908066\"/>\r\n      </g>\r\n     </g>\r\n     <g id=\"text_15\">\r\n      <!-- 7000 -->\r\n      <g transform=\"translate(7.2 41.707285)scale(0.1 -0.1)\">\r\n       <defs>\r\n        <path d=\"M 525 4666 \r\nL 3525 4666 \r\nL 3525 4397 \r\nL 1831 0 \r\nL 1172 0 \r\nL 2766 4134 \r\nL 525 4134 \r\nL 525 4666 \r\nz\r\n\" id=\"DejaVuSans-37\" transform=\"scale(0.015625)\"/>\r\n       </defs>\r\n       <use xlink:href=\"#DejaVuSans-37\"/>\r\n       <use x=\"63.623047\" xlink:href=\"#DejaVuSans-30\"/>\r\n       <use x=\"127.246094\" xlink:href=\"#DejaVuSans-30\"/>\r\n       <use x=\"190.869141\" xlink:href=\"#DejaVuSans-30\"/>\r\n      </g>\r\n     </g>\r\n    </g>\r\n    <g id=\"ytick_9\">\r\n     <g id=\"line2d_16\">\r\n      <g>\r\n       <use style=\"stroke:#000000;stroke-width:0.8;\" x=\"39.65\" xlink:href=\"#m124d1f9748\" y=\"11.232076\"/>\r\n      </g>\r\n     </g>\r\n     <g id=\"text_16\">\r\n      <!-- 8000 -->\r\n      <g transform=\"translate(7.2 15.031295)scale(0.1 -0.1)\">\r\n       <defs>\r\n        <path d=\"M 2034 2216 \r\nQ 1584 2216 1326 1975 \r\nQ 1069 1734 1069 1313 \r\nQ 1069 891 1326 650 \r\nQ 1584 409 2034 409 \r\nQ 2484 409 2743 651 \r\nQ 3003 894 3003 1313 \r\nQ 3003 1734 2745 1975 \r\nQ 2488 2216 2034 2216 \r\nz\r\nM 1403 2484 \r\nQ 997 2584 770 2862 \r\nQ 544 3141 544 3541 \r\nQ 544 4100 942 4425 \r\nQ 1341 4750 2034 4750 \r\nQ 2731 4750 3128 4425 \r\nQ 3525 4100 3525 3541 \r\nQ 3525 3141 3298 2862 \r\nQ 3072 2584 2669 2484 \r\nQ 3125 2378 3379 2068 \r\nQ 3634 1759 3634 1313 \r\nQ 3634 634 3220 271 \r\nQ 2806 -91 2034 -91 \r\nQ 1263 -91 848 271 \r\nQ 434 634 434 1313 \r\nQ 434 1759 690 2068 \r\nQ 947 2378 1403 2484 \r\nz\r\nM 1172 3481 \r\nQ 1172 3119 1398 2916 \r\nQ 1625 2713 2034 2713 \r\nQ 2441 2713 2670 2916 \r\nQ 2900 3119 2900 3481 \r\nQ 2900 3844 2670 4047 \r\nQ 2441 4250 2034 4250 \r\nQ 1625 4250 1398 4047 \r\nQ 1172 3844 1172 3481 \r\nz\r\n\" id=\"DejaVuSans-38\" transform=\"scale(0.015625)\"/>\r\n       </defs>\r\n       <use xlink:href=\"#DejaVuSans-38\"/>\r\n       <use x=\"63.623047\" xlink:href=\"#DejaVuSans-30\"/>\r\n       <use x=\"127.246094\" xlink:href=\"#DejaVuSans-30\"/>\r\n       <use x=\"190.869141\" xlink:href=\"#DejaVuSans-30\"/>\r\n      </g>\r\n     </g>\r\n    </g>\r\n   </g>\r\n   <g id=\"patch_38\">\r\n    <path d=\"M 39.65 224.64 \r\nL 39.65 7.2 \r\n\" style=\"fill:none;stroke:#000000;stroke-linecap:square;stroke-linejoin:miter;stroke-width:0.8;\"/>\r\n   </g>\r\n   <g id=\"patch_39\">\r\n    <path d=\"M 374.45 224.64 \r\nL 374.45 7.2 \r\n\" style=\"fill:none;stroke:#000000;stroke-linecap:square;stroke-linejoin:miter;stroke-width:0.8;\"/>\r\n   </g>\r\n   <g id=\"patch_40\">\r\n    <path d=\"M 39.65 224.64 \r\nL 374.45 224.64 \r\n\" style=\"fill:none;stroke:#000000;stroke-linecap:square;stroke-linejoin:miter;stroke-width:0.8;\"/>\r\n   </g>\r\n   <g id=\"patch_41\">\r\n    <path d=\"M 39.65 7.2 \r\nL 374.45 7.2 \r\n\" style=\"fill:none;stroke:#000000;stroke-linecap:square;stroke-linejoin:miter;stroke-width:0.8;\"/>\r\n   </g>\r\n   <g id=\"legend_1\">\r\n    <g id=\"patch_42\">\r\n     <path d=\"M 307.904688 88.590625 \r\nL 367.45 88.590625 \r\nQ 369.45 88.590625 369.45 86.590625 \r\nL 369.45 14.2 \r\nQ 369.45 12.2 367.45 12.2 \r\nL 307.904688 12.2 \r\nQ 305.904688 12.2 305.904688 14.2 \r\nL 305.904688 86.590625 \r\nQ 305.904688 88.590625 307.904688 88.590625 \r\nz\r\n\" style=\"fill:#ffffff;opacity:0.8;stroke:#cccccc;stroke-linejoin:miter;\"/>\r\n    </g>\r\n    <g id=\"patch_43\">\r\n     <path d=\"M 309.904688 23.798437 \r\nL 329.904688 23.798437 \r\nL 329.904688 16.798437 \r\nL 309.904688 16.798437 \r\nz\r\n\" style=\"fill:#1f77b4;\"/>\r\n    </g>\r\n    <g id=\"text_17\">\r\n     <!-- 1번 감정 -->\r\n     <g transform=\"translate(337.904688 23.798437)scale(0.1 -0.1)\">\r\n      <defs>\r\n       <path d=\"M 319 -1131 \r\nL 319 4513 \r\nL 3519 4513 \r\nL 3519 -1131 \r\nL 319 -1131 \r\nz\r\nM 678 -775 \r\nL 3163 -775 \r\nL 3163 4153 \r\nL 678 4153 \r\nL 678 -775 \r\nz\r\n\" id=\"DejaVuSans-bc88\" transform=\"scale(0.015625)\"/>\r\n       <path id=\"DejaVuSans-20\" transform=\"scale(0.015625)\"/>\r\n       <path d=\"M 319 -1131 \r\nL 319 4513 \r\nL 3519 4513 \r\nL 3519 -1131 \r\nL 319 -1131 \r\nz\r\nM 678 -775 \r\nL 3163 -775 \r\nL 3163 4153 \r\nL 678 4153 \r\nL 678 -775 \r\nz\r\n\" id=\"DejaVuSans-ac10\" transform=\"scale(0.015625)\"/>\r\n       <path d=\"M 319 -1131 \r\nL 319 4513 \r\nL 3519 4513 \r\nL 3519 -1131 \r\nL 319 -1131 \r\nz\r\nM 678 -775 \r\nL 3163 -775 \r\nL 3163 4153 \r\nL 678 4153 \r\nL 678 -775 \r\nz\r\n\" id=\"DejaVuSans-c815\" transform=\"scale(0.015625)\"/>\r\n      </defs>\r\n      <use xlink:href=\"#DejaVuSans-31\"/>\r\n      <use x=\"63.623047\" xlink:href=\"#DejaVuSans-bc88\"/>\r\n      <use x=\"123.632812\" xlink:href=\"#DejaVuSans-20\"/>\r\n      <use x=\"155.419922\" xlink:href=\"#DejaVuSans-ac10\"/>\r\n      <use x=\"215.429688\" xlink:href=\"#DejaVuSans-c815\"/>\r\n     </g>\r\n    </g>\r\n    <g id=\"patch_44\">\r\n     <path d=\"M 309.904688 38.476562 \r\nL 329.904688 38.476562 \r\nL 329.904688 31.476562 \r\nL 309.904688 31.476562 \r\nz\r\n\" style=\"fill:#ff7f0e;\"/>\r\n    </g>\r\n    <g id=\"text_18\">\r\n     <!-- 2번 감정 -->\r\n     <g transform=\"translate(337.904688 38.476562)scale(0.1 -0.1)\">\r\n      <use xlink:href=\"#DejaVuSans-32\"/>\r\n      <use x=\"63.623047\" xlink:href=\"#DejaVuSans-bc88\"/>\r\n      <use x=\"123.632812\" xlink:href=\"#DejaVuSans-20\"/>\r\n      <use x=\"155.419922\" xlink:href=\"#DejaVuSans-ac10\"/>\r\n      <use x=\"215.429688\" xlink:href=\"#DejaVuSans-c815\"/>\r\n     </g>\r\n    </g>\r\n    <g id=\"patch_45\">\r\n     <path d=\"M 309.904688 53.154687 \r\nL 329.904688 53.154687 \r\nL 329.904688 46.154687 \r\nL 309.904688 46.154687 \r\nz\r\n\" style=\"fill:#2ca02c;\"/>\r\n    </g>\r\n    <g id=\"text_19\">\r\n     <!-- 3번 감정 -->\r\n     <g transform=\"translate(337.904688 53.154687)scale(0.1 -0.1)\">\r\n      <use xlink:href=\"#DejaVuSans-33\"/>\r\n      <use x=\"63.623047\" xlink:href=\"#DejaVuSans-bc88\"/>\r\n      <use x=\"123.632812\" xlink:href=\"#DejaVuSans-20\"/>\r\n      <use x=\"155.419922\" xlink:href=\"#DejaVuSans-ac10\"/>\r\n      <use x=\"215.429688\" xlink:href=\"#DejaVuSans-c815\"/>\r\n     </g>\r\n    </g>\r\n    <g id=\"patch_46\">\r\n     <path d=\"M 309.904688 67.832812 \r\nL 329.904688 67.832812 \r\nL 329.904688 60.832812 \r\nL 309.904688 60.832812 \r\nz\r\n\" style=\"fill:#d62728;\"/>\r\n    </g>\r\n    <g id=\"text_20\">\r\n     <!-- 4번 감정 -->\r\n     <g transform=\"translate(337.904688 67.832812)scale(0.1 -0.1)\">\r\n      <use xlink:href=\"#DejaVuSans-34\"/>\r\n      <use x=\"63.623047\" xlink:href=\"#DejaVuSans-bc88\"/>\r\n      <use x=\"123.632812\" xlink:href=\"#DejaVuSans-20\"/>\r\n      <use x=\"155.419922\" xlink:href=\"#DejaVuSans-ac10\"/>\r\n      <use x=\"215.429688\" xlink:href=\"#DejaVuSans-c815\"/>\r\n     </g>\r\n    </g>\r\n    <g id=\"patch_47\">\r\n     <path d=\"M 309.904688 82.510937 \r\nL 329.904688 82.510937 \r\nL 329.904688 75.510937 \r\nL 309.904688 75.510937 \r\nz\r\n\" style=\"fill:#9467bd;\"/>\r\n    </g>\r\n    <g id=\"text_21\">\r\n     <!-- 5번 감정 -->\r\n     <g transform=\"translate(337.904688 82.510937)scale(0.1 -0.1)\">\r\n      <use xlink:href=\"#DejaVuSans-35\"/>\r\n      <use x=\"63.623047\" xlink:href=\"#DejaVuSans-bc88\"/>\r\n      <use x=\"123.632812\" xlink:href=\"#DejaVuSans-20\"/>\r\n      <use x=\"155.419922\" xlink:href=\"#DejaVuSans-ac10\"/>\r\n      <use x=\"215.429688\" xlink:href=\"#DejaVuSans-c815\"/>\r\n     </g>\r\n    </g>\r\n   </g>\r\n  </g>\r\n </g>\r\n <defs>\r\n  <clipPath id=\"pdbf53888fd\">\r\n   <rect height=\"217.44\" width=\"334.8\" x=\"39.65\" y=\"7.2\"/>\r\n  </clipPath>\r\n </defs>\r\n</svg>\r\n",
      "image/png": "[encoded data removed]"
     },
     "metadata": {
      "needs_background": "light"
     }
    }
   ],
   "source": [
    "# 의견이 다른 경우가 많은것으로 보임\n",
    "pd.DataFrame([df5[f'{i}번 감정'].value_counts() for i in range(1,6)]).T.plot.bar()"
   ]
  },
  {
   "cell_type": "code",
   "execution_count": 53,
   "metadata": {},
   "outputs": [],
   "source": [
    "emo_loc = {key:val for val,key in enumerate(df5['1번 감정'].unique())}\n",
    "loc_emo = {val:key for val,key in enumerate(df5['1번 감정'].unique())}\n",
    "\n",
    "emo_score = np.zeros((len(df5),7))\n",
    "emo = df5['1번 감정\t1번 감정세기\t2번 감정\t2번 감정세기\t3번 감정\t3번 감정세기\t4번 감정\t4번감정세기\t5번 감정\t5번 감정세기'.split('\t')]\n",
    "for num,i in emo.iterrows():\n",
    "    emo_score[num,emo_loc[i[0]]] += 1\n",
    "    emo_score[num,emo_loc[i[2]]] += 1\n",
    "    emo_score[num,emo_loc[i[4]]] += 1\n",
    "    emo_score[num,emo_loc[i[6]]] += 1\n",
    "    emo_score[num,emo_loc[i[8]]] += 1\n",
    "\n",
    "df5_1 = pd.DataFrame(df5['발화문'])\n",
    "df5_1 ['emotion'] = [loc_emo[i] for i in emo_score.argmax(axis=1)]"
   ]
  },
  {
   "cell_type": "code",
   "execution_count": 54,
   "metadata": {},
   "outputs": [
    {
     "output_type": "execute_result",
     "data": {
      "text/plain": [
       "                                                 발화문  emotion\n",
       "0          개를 예쁘다고 사놓고 끝까지 키우지도 않고 버리는 사람들이 엄청 많아졌대.    Angry\n",
       "1                            지금도 그대로 있어. 치우는 사람이 없어.  Disgust\n",
       "2                      맞아. 무기력증인 것 같아. 한동안 정말 바빴었거든.  Sadness\n",
       "3        오늘이 발표날인데 연락이 없더라고. 그래서 알아봤더니 명단에 내 이름이 없대.  Sadness\n",
       "4           그치. 개 키우는 사람이 늘어나니까 그만큼 버리는 사람도 늘어나는 거야!    Angry\n",
       "5              공채로 볼 수 있는 마지막 회사였어. 그래서 정말 많이 노력했거든.  Sadness\n",
       "6    버려진 개가 워낙 많으니까 시설이 부족할 수 밖에 없고 당연히 상황이 너무 열악하지.    Angry\n",
       "7                                       나 면접 또 떨어졌어.  Sadness\n",
       "8             부모님께서 기대가 너무 크셔서 실망도 크실까봐 아직 말씀 못 드렸어.  Sadness\n",
       "9  그렇지! 아 나 진짜 너무 싫어 그런 사람들. 대체 생명이 있는 개를 뭐라고 생각하...    Angry"
      ],
      "text/html": "<div>\n<style scoped>\n    .dataframe tbody tr th:only-of-type {\n        vertical-align: middle;\n    }\n\n    .dataframe tbody tr th {\n        vertical-align: top;\n    }\n\n    .dataframe thead th {\n        text-align: right;\n    }\n</style>\n<table border=\"1\" class=\"dataframe\">\n  <thead>\n    <tr style=\"text-align: right;\">\n      <th></th>\n      <th>발화문</th>\n      <th>emotion</th>\n    </tr>\n  </thead>\n  <tbody>\n    <tr>\n      <th>0</th>\n      <td>개를 예쁘다고 사놓고 끝까지 키우지도 않고 버리는 사람들이 엄청 많아졌대.</td>\n      <td>Angry</td>\n    </tr>\n    <tr>\n      <th>1</th>\n      <td>지금도 그대로 있어. 치우는 사람이 없어.</td>\n      <td>Disgust</td>\n    </tr>\n    <tr>\n      <th>2</th>\n      <td>맞아. 무기력증인 것 같아. 한동안 정말 바빴었거든.</td>\n      <td>Sadness</td>\n    </tr>\n    <tr>\n      <th>3</th>\n      <td>오늘이 발표날인데 연락이 없더라고. 그래서 알아봤더니 명단에 내 이름이 없대.</td>\n      <td>Sadness</td>\n    </tr>\n    <tr>\n      <th>4</th>\n      <td>그치. 개 키우는 사람이 늘어나니까 그만큼 버리는 사람도 늘어나는 거야!</td>\n      <td>Angry</td>\n    </tr>\n    <tr>\n      <th>5</th>\n      <td>공채로 볼 수 있는 마지막 회사였어. 그래서 정말 많이 노력했거든.</td>\n      <td>Sadness</td>\n    </tr>\n    <tr>\n      <th>6</th>\n      <td>버려진 개가 워낙 많으니까 시설이 부족할 수 밖에 없고 당연히 상황이 너무 열악하지.</td>\n      <td>Angry</td>\n    </tr>\n    <tr>\n      <th>7</th>\n      <td>나 면접 또 떨어졌어.</td>\n      <td>Sadness</td>\n    </tr>\n    <tr>\n      <th>8</th>\n      <td>부모님께서 기대가 너무 크셔서 실망도 크실까봐 아직 말씀 못 드렸어.</td>\n      <td>Sadness</td>\n    </tr>\n    <tr>\n      <th>9</th>\n      <td>그렇지! 아 나 진짜 너무 싫어 그런 사람들. 대체 생명이 있는 개를 뭐라고 생각하...</td>\n      <td>Angry</td>\n    </tr>\n  </tbody>\n</table>\n</div>"
     },
     "metadata": {},
     "execution_count": 54
    }
   ],
   "source": [
    "df5_1.head(10)"
   ]
  },
  {
   "cell_type": "code",
   "execution_count": 55,
   "metadata": {},
   "outputs": [
    {
     "output_type": "execute_result",
     "data": {
      "text/plain": [
       "(10011, 2)"
      ]
     },
     "metadata": {},
     "execution_count": 55
    }
   ],
   "source": [
    "#만 여개\n",
    "df5_1.shape"
   ]
  },
  {
   "cell_type": "code",
   "execution_count": 56,
   "metadata": {},
   "outputs": [
    {
     "output_type": "execute_result",
     "data": {
      "text/plain": [
       "<AxesSubplot:>"
      ]
     },
     "metadata": {},
     "execution_count": 56
    },
    {
     "output_type": "display_data",
     "data": {
      "text/plain": "<Figure size 432x288 with 1 Axes>",
      "image/svg+xml": "<?xml version=\"1.0\" encoding=\"utf-8\" standalone=\"no\"?>\r\n<!DOCTYPE svg PUBLIC \"-//W3C//DTD SVG 1.1//EN\"\r\n  \"http://www.w3.org/Graphics/SVG/1.1/DTD/svg11.dtd\">\r\n<svg height=\"290.872812pt\" version=\"1.1\" viewBox=\"0 0 381.65 290.872812\" width=\"381.65pt\" xmlns=\"http://www.w3.org/2000/svg\" xmlns:xlink=\"http://www.w3.org/1999/xlink\">\r\n <metadata>\r\n  <rdf:RDF xmlns:cc=\"http://creativecommons.org/ns#\" xmlns:dc=\"http://purl.org/dc/elements/1.1/\" xmlns:rdf=\"http://www.w3.org/1999/02/22-rdf-syntax-ns#\">\r\n   <cc:Work>\r\n    <dc:type rdf:resource=\"http://purl.org/dc/dcmitype/StillImage\"/>\r\n    <dc:date>2021-06-04T13:34:25.763344</dc:date>\r\n    <dc:format>image/svg+xml</dc:format>\r\n    <dc:creator>\r\n     <cc:Agent>\r\n      <dc:title>Matplotlib v3.4.2, https://matplotlib.org/</dc:title>\r\n     </cc:Agent>\r\n    </dc:creator>\r\n   </cc:Work>\r\n  </rdf:RDF>\r\n </metadata>\r\n <defs>\r\n  <style type=\"text/css\">*{stroke-linecap:butt;stroke-linejoin:round;}</style>\r\n </defs>\r\n <g id=\"figure_1\">\r\n  <g id=\"patch_1\">\r\n   <path d=\"M -0 290.872812 \r\nL 381.65 290.872812 \r\nL 381.65 0 \r\nL -0 0 \r\nz\r\n\" style=\"fill:none;\"/>\r\n  </g>\r\n  <g id=\"axes_1\">\r\n   <g id=\"patch_2\">\r\n    <path d=\"M 39.65 224.64 \r\nL 374.45 224.64 \r\nL 374.45 7.2 \r\nL 39.65 7.2 \r\nz\r\n\" style=\"fill:#ffffff;\"/>\r\n   </g>\r\n   <g id=\"patch_3\">\r\n    <path clip-path=\"url(#p8a389cc862)\" d=\"M 51.607143 224.64 \r\nL 75.521429 224.64 \r\nL 75.521429 17.554286 \r\nL 51.607143 17.554286 \r\nz\r\n\" style=\"fill:#1f77b4;\"/>\r\n   </g>\r\n   <g id=\"patch_4\">\r\n    <path clip-path=\"url(#p8a389cc862)\" d=\"M 99.435714 224.64 \r\nL 123.35 224.64 \r\nL 123.35 146.10193 \r\nL 99.435714 146.10193 \r\nz\r\n\" style=\"fill:#1f77b4;\"/>\r\n   </g>\r\n   <g id=\"patch_5\">\r\n    <path clip-path=\"url(#p8a389cc862)\" d=\"M 147.264286 224.64 \r\nL 171.178571 224.64 \r\nL 171.178571 196.551967 \r\nL 147.264286 196.551967 \r\nz\r\n\" style=\"fill:#1f77b4;\"/>\r\n   </g>\r\n   <g id=\"patch_6\">\r\n    <path clip-path=\"url(#p8a389cc862)\" d=\"M 195.092857 224.64 \r\nL 219.007143 224.64 \r\nL 219.007143 210.612924 \r\nL 195.092857 210.612924 \r\nz\r\n\" style=\"fill:#1f77b4;\"/>\r\n   </g>\r\n   <g id=\"patch_7\">\r\n    <path clip-path=\"url(#p8a389cc862)\" d=\"M 242.921429 224.64 \r\nL 266.835714 224.64 \r\nL 266.835714 215.796844 \r\nL 242.921429 215.796844 \r\nz\r\n\" style=\"fill:#1f77b4;\"/>\r\n   </g>\r\n   <g id=\"patch_8\">\r\n    <path clip-path=\"url(#p8a389cc862)\" d=\"M 290.75 224.64 \r\nL 314.664286 224.64 \r\nL 314.664286 222.4038 \r\nL 290.75 222.4038 \r\nz\r\n\" style=\"fill:#1f77b4;\"/>\r\n   </g>\r\n   <g id=\"patch_9\">\r\n    <path clip-path=\"url(#p8a389cc862)\" d=\"M 338.578571 224.64 \r\nL 362.492857 224.64 \r\nL 362.492857 224.2673 \r\nL 338.578571 224.2673 \r\nz\r\n\" style=\"fill:#1f77b4;\"/>\r\n   </g>\r\n   <g id=\"matplotlib.axis_1\">\r\n    <g id=\"xtick_1\">\r\n     <g id=\"line2d_1\">\r\n      <defs>\r\n       <path d=\"M 0 0 \r\nL 0 3.5 \r\n\" id=\"m8b87dc0ae9\" style=\"stroke:#000000;stroke-width:0.8;\"/>\r\n      </defs>\r\n      <g>\r\n       <use style=\"stroke:#000000;stroke-width:0.8;\" x=\"63.564286\" xlink:href=\"#m8b87dc0ae9\" y=\"224.64\"/>\r\n      </g>\r\n     </g>\r\n     <g id=\"text_1\">\r\n      <!-- Sadness -->\r\n      <g transform=\"translate(66.323661 273.374375)rotate(-90)scale(0.1 -0.1)\">\r\n       <defs>\r\n        <path d=\"M 3425 4513 \r\nL 3425 3897 \r\nQ 3066 4069 2747 4153 \r\nQ 2428 4238 2131 4238 \r\nQ 1616 4238 1336 4038 \r\nQ 1056 3838 1056 3469 \r\nQ 1056 3159 1242 3001 \r\nQ 1428 2844 1947 2747 \r\nL 2328 2669 \r\nQ 3034 2534 3370 2195 \r\nQ 3706 1856 3706 1288 \r\nQ 3706 609 3251 259 \r\nQ 2797 -91 1919 -91 \r\nQ 1588 -91 1214 -16 \r\nQ 841 59 441 206 \r\nL 441 856 \r\nQ 825 641 1194 531 \r\nQ 1563 422 1919 422 \r\nQ 2459 422 2753 634 \r\nQ 3047 847 3047 1241 \r\nQ 3047 1584 2836 1778 \r\nQ 2625 1972 2144 2069 \r\nL 1759 2144 \r\nQ 1053 2284 737 2584 \r\nQ 422 2884 422 3419 \r\nQ 422 4038 858 4394 \r\nQ 1294 4750 2059 4750 \r\nQ 2388 4750 2728 4690 \r\nQ 3069 4631 3425 4513 \r\nz\r\n\" id=\"DejaVuSans-53\" transform=\"scale(0.015625)\"/>\r\n        <path d=\"M 2194 1759 \r\nQ 1497 1759 1228 1600 \r\nQ 959 1441 959 1056 \r\nQ 959 750 1161 570 \r\nQ 1363 391 1709 391 \r\nQ 2188 391 2477 730 \r\nQ 2766 1069 2766 1631 \r\nL 2766 1759 \r\nL 2194 1759 \r\nz\r\nM 3341 1997 \r\nL 3341 0 \r\nL 2766 0 \r\nL 2766 531 \r\nQ 2569 213 2275 61 \r\nQ 1981 -91 1556 -91 \r\nQ 1019 -91 701 211 \r\nQ 384 513 384 1019 \r\nQ 384 1609 779 1909 \r\nQ 1175 2209 1959 2209 \r\nL 2766 2209 \r\nL 2766 2266 \r\nQ 2766 2663 2505 2880 \r\nQ 2244 3097 1772 3097 \r\nQ 1472 3097 1187 3025 \r\nQ 903 2953 641 2809 \r\nL 641 3341 \r\nQ 956 3463 1253 3523 \r\nQ 1550 3584 1831 3584 \r\nQ 2591 3584 2966 3190 \r\nQ 3341 2797 3341 1997 \r\nz\r\n\" id=\"DejaVuSans-61\" transform=\"scale(0.015625)\"/>\r\n        <path d=\"M 2906 2969 \r\nL 2906 4863 \r\nL 3481 4863 \r\nL 3481 0 \r\nL 2906 0 \r\nL 2906 525 \r\nQ 2725 213 2448 61 \r\nQ 2172 -91 1784 -91 \r\nQ 1150 -91 751 415 \r\nQ 353 922 353 1747 \r\nQ 353 2572 751 3078 \r\nQ 1150 3584 1784 3584 \r\nQ 2172 3584 2448 3432 \r\nQ 2725 3281 2906 2969 \r\nz\r\nM 947 1747 \r\nQ 947 1113 1208 752 \r\nQ 1469 391 1925 391 \r\nQ 2381 391 2643 752 \r\nQ 2906 1113 2906 1747 \r\nQ 2906 2381 2643 2742 \r\nQ 2381 3103 1925 3103 \r\nQ 1469 3103 1208 2742 \r\nQ 947 2381 947 1747 \r\nz\r\n\" id=\"DejaVuSans-64\" transform=\"scale(0.015625)\"/>\r\n        <path d=\"M 3513 2113 \r\nL 3513 0 \r\nL 2938 0 \r\nL 2938 2094 \r\nQ 2938 2591 2744 2837 \r\nQ 2550 3084 2163 3084 \r\nQ 1697 3084 1428 2787 \r\nQ 1159 2491 1159 1978 \r\nL 1159 0 \r\nL 581 0 \r\nL 581 3500 \r\nL 1159 3500 \r\nL 1159 2956 \r\nQ 1366 3272 1645 3428 \r\nQ 1925 3584 2291 3584 \r\nQ 2894 3584 3203 3211 \r\nQ 3513 2838 3513 2113 \r\nz\r\n\" id=\"DejaVuSans-6e\" transform=\"scale(0.015625)\"/>\r\n        <path d=\"M 3597 1894 \r\nL 3597 1613 \r\nL 953 1613 \r\nQ 991 1019 1311 708 \r\nQ 1631 397 2203 397 \r\nQ 2534 397 2845 478 \r\nQ 3156 559 3463 722 \r\nL 3463 178 \r\nQ 3153 47 2828 -22 \r\nQ 2503 -91 2169 -91 \r\nQ 1331 -91 842 396 \r\nQ 353 884 353 1716 \r\nQ 353 2575 817 3079 \r\nQ 1281 3584 2069 3584 \r\nQ 2775 3584 3186 3129 \r\nQ 3597 2675 3597 1894 \r\nz\r\nM 3022 2063 \r\nQ 3016 2534 2758 2815 \r\nQ 2500 3097 2075 3097 \r\nQ 1594 3097 1305 2825 \r\nQ 1016 2553 972 2059 \r\nL 3022 2063 \r\nz\r\n\" id=\"DejaVuSans-65\" transform=\"scale(0.015625)\"/>\r\n        <path d=\"M 2834 3397 \r\nL 2834 2853 \r\nQ 2591 2978 2328 3040 \r\nQ 2066 3103 1784 3103 \r\nQ 1356 3103 1142 2972 \r\nQ 928 2841 928 2578 \r\nQ 928 2378 1081 2264 \r\nQ 1234 2150 1697 2047 \r\nL 1894 2003 \r\nQ 2506 1872 2764 1633 \r\nQ 3022 1394 3022 966 \r\nQ 3022 478 2636 193 \r\nQ 2250 -91 1575 -91 \r\nQ 1294 -91 989 -36 \r\nQ 684 19 347 128 \r\nL 347 722 \r\nQ 666 556 975 473 \r\nQ 1284 391 1588 391 \r\nQ 1994 391 2212 530 \r\nQ 2431 669 2431 922 \r\nQ 2431 1156 2273 1281 \r\nQ 2116 1406 1581 1522 \r\nL 1381 1569 \r\nQ 847 1681 609 1914 \r\nQ 372 2147 372 2553 \r\nQ 372 3047 722 3315 \r\nQ 1072 3584 1716 3584 \r\nQ 2034 3584 2315 3537 \r\nQ 2597 3491 2834 3397 \r\nz\r\n\" id=\"DejaVuSans-73\" transform=\"scale(0.015625)\"/>\r\n       </defs>\r\n       <use xlink:href=\"#DejaVuSans-53\"/>\r\n       <use x=\"63.476562\" xlink:href=\"#DejaVuSans-61\"/>\r\n       <use x=\"124.755859\" xlink:href=\"#DejaVuSans-64\"/>\r\n       <use x=\"188.232422\" xlink:href=\"#DejaVuSans-6e\"/>\r\n       <use x=\"251.611328\" xlink:href=\"#DejaVuSans-65\"/>\r\n       <use x=\"313.134766\" xlink:href=\"#DejaVuSans-73\"/>\r\n       <use x=\"365.234375\" xlink:href=\"#DejaVuSans-73\"/>\r\n      </g>\r\n     </g>\r\n    </g>\r\n    <g id=\"xtick_2\">\r\n     <g id=\"line2d_2\">\r\n      <g>\r\n       <use style=\"stroke:#000000;stroke-width:0.8;\" x=\"111.392857\" xlink:href=\"#m8b87dc0ae9\" y=\"224.64\"/>\r\n      </g>\r\n     </g>\r\n     <g id=\"text_2\">\r\n      <!-- Angry -->\r\n      <g transform=\"translate(114.152232 261.19625)rotate(-90)scale(0.1 -0.1)\">\r\n       <defs>\r\n        <path d=\"M 2188 4044 \r\nL 1331 1722 \r\nL 3047 1722 \r\nL 2188 4044 \r\nz\r\nM 1831 4666 \r\nL 2547 4666 \r\nL 4325 0 \r\nL 3669 0 \r\nL 3244 1197 \r\nL 1141 1197 \r\nL 716 0 \r\nL 50 0 \r\nL 1831 4666 \r\nz\r\n\" id=\"DejaVuSans-41\" transform=\"scale(0.015625)\"/>\r\n        <path d=\"M 2906 1791 \r\nQ 2906 2416 2648 2759 \r\nQ 2391 3103 1925 3103 \r\nQ 1463 3103 1205 2759 \r\nQ 947 2416 947 1791 \r\nQ 947 1169 1205 825 \r\nQ 1463 481 1925 481 \r\nQ 2391 481 2648 825 \r\nQ 2906 1169 2906 1791 \r\nz\r\nM 3481 434 \r\nQ 3481 -459 3084 -895 \r\nQ 2688 -1331 1869 -1331 \r\nQ 1566 -1331 1297 -1286 \r\nQ 1028 -1241 775 -1147 \r\nL 775 -588 \r\nQ 1028 -725 1275 -790 \r\nQ 1522 -856 1778 -856 \r\nQ 2344 -856 2625 -561 \r\nQ 2906 -266 2906 331 \r\nL 2906 616 \r\nQ 2728 306 2450 153 \r\nQ 2172 0 1784 0 \r\nQ 1141 0 747 490 \r\nQ 353 981 353 1791 \r\nQ 353 2603 747 3093 \r\nQ 1141 3584 1784 3584 \r\nQ 2172 3584 2450 3431 \r\nQ 2728 3278 2906 2969 \r\nL 2906 3500 \r\nL 3481 3500 \r\nL 3481 434 \r\nz\r\n\" id=\"DejaVuSans-67\" transform=\"scale(0.015625)\"/>\r\n        <path d=\"M 2631 2963 \r\nQ 2534 3019 2420 3045 \r\nQ 2306 3072 2169 3072 \r\nQ 1681 3072 1420 2755 \r\nQ 1159 2438 1159 1844 \r\nL 1159 0 \r\nL 581 0 \r\nL 581 3500 \r\nL 1159 3500 \r\nL 1159 2956 \r\nQ 1341 3275 1631 3429 \r\nQ 1922 3584 2338 3584 \r\nQ 2397 3584 2469 3576 \r\nQ 2541 3569 2628 3553 \r\nL 2631 2963 \r\nz\r\n\" id=\"DejaVuSans-72\" transform=\"scale(0.015625)\"/>\r\n        <path d=\"M 2059 -325 \r\nQ 1816 -950 1584 -1140 \r\nQ 1353 -1331 966 -1331 \r\nL 506 -1331 \r\nL 506 -850 \r\nL 844 -850 \r\nQ 1081 -850 1212 -737 \r\nQ 1344 -625 1503 -206 \r\nL 1606 56 \r\nL 191 3500 \r\nL 800 3500 \r\nL 1894 763 \r\nL 2988 3500 \r\nL 3597 3500 \r\nL 2059 -325 \r\nz\r\n\" id=\"DejaVuSans-79\" transform=\"scale(0.015625)\"/>\r\n       </defs>\r\n       <use xlink:href=\"#DejaVuSans-41\"/>\r\n       <use x=\"68.408203\" xlink:href=\"#DejaVuSans-6e\"/>\r\n       <use x=\"131.787109\" xlink:href=\"#DejaVuSans-67\"/>\r\n       <use x=\"195.263672\" xlink:href=\"#DejaVuSans-72\"/>\r\n       <use x=\"236.376953\" xlink:href=\"#DejaVuSans-79\"/>\r\n      </g>\r\n     </g>\r\n    </g>\r\n    <g id=\"xtick_3\">\r\n     <g id=\"line2d_3\">\r\n      <g>\r\n       <use style=\"stroke:#000000;stroke-width:0.8;\" x=\"159.221429\" xlink:href=\"#m8b87dc0ae9\" y=\"224.64\"/>\r\n      </g>\r\n     </g>\r\n     <g id=\"text_3\">\r\n      <!-- Fear -->\r\n      <g transform=\"translate(161.980804 253.23375)rotate(-90)scale(0.1 -0.1)\">\r\n       <defs>\r\n        <path d=\"M 628 4666 \r\nL 3309 4666 \r\nL 3309 4134 \r\nL 1259 4134 \r\nL 1259 2759 \r\nL 3109 2759 \r\nL 3109 2228 \r\nL 1259 2228 \r\nL 1259 0 \r\nL 628 0 \r\nL 628 4666 \r\nz\r\n\" id=\"DejaVuSans-46\" transform=\"scale(0.015625)\"/>\r\n       </defs>\r\n       <use xlink:href=\"#DejaVuSans-46\"/>\r\n       <use x=\"52.019531\" xlink:href=\"#DejaVuSans-65\"/>\r\n       <use x=\"113.542969\" xlink:href=\"#DejaVuSans-61\"/>\r\n       <use x=\"174.822266\" xlink:href=\"#DejaVuSans-72\"/>\r\n      </g>\r\n     </g>\r\n    </g>\r\n    <g id=\"xtick_4\">\r\n     <g id=\"line2d_4\">\r\n      <g>\r\n       <use style=\"stroke:#000000;stroke-width:0.8;\" x=\"207.05\" xlink:href=\"#m8b87dc0ae9\" y=\"224.64\"/>\r\n      </g>\r\n     </g>\r\n     <g id=\"text_4\">\r\n      <!-- Neutral -->\r\n      <g transform=\"translate(209.809375 268.549375)rotate(-90)scale(0.1 -0.1)\">\r\n       <defs>\r\n        <path d=\"M 628 4666 \r\nL 1478 4666 \r\nL 3547 763 \r\nL 3547 4666 \r\nL 4159 4666 \r\nL 4159 0 \r\nL 3309 0 \r\nL 1241 3903 \r\nL 1241 0 \r\nL 628 0 \r\nL 628 4666 \r\nz\r\n\" id=\"DejaVuSans-4e\" transform=\"scale(0.015625)\"/>\r\n        <path d=\"M 544 1381 \r\nL 544 3500 \r\nL 1119 3500 \r\nL 1119 1403 \r\nQ 1119 906 1312 657 \r\nQ 1506 409 1894 409 \r\nQ 2359 409 2629 706 \r\nQ 2900 1003 2900 1516 \r\nL 2900 3500 \r\nL 3475 3500 \r\nL 3475 0 \r\nL 2900 0 \r\nL 2900 538 \r\nQ 2691 219 2414 64 \r\nQ 2138 -91 1772 -91 \r\nQ 1169 -91 856 284 \r\nQ 544 659 544 1381 \r\nz\r\nM 1991 3584 \r\nL 1991 3584 \r\nz\r\n\" id=\"DejaVuSans-75\" transform=\"scale(0.015625)\"/>\r\n        <path d=\"M 1172 4494 \r\nL 1172 3500 \r\nL 2356 3500 \r\nL 2356 3053 \r\nL 1172 3053 \r\nL 1172 1153 \r\nQ 1172 725 1289 603 \r\nQ 1406 481 1766 481 \r\nL 2356 481 \r\nL 2356 0 \r\nL 1766 0 \r\nQ 1100 0 847 248 \r\nQ 594 497 594 1153 \r\nL 594 3053 \r\nL 172 3053 \r\nL 172 3500 \r\nL 594 3500 \r\nL 594 4494 \r\nL 1172 4494 \r\nz\r\n\" id=\"DejaVuSans-74\" transform=\"scale(0.015625)\"/>\r\n        <path d=\"M 603 4863 \r\nL 1178 4863 \r\nL 1178 0 \r\nL 603 0 \r\nL 603 4863 \r\nz\r\n\" id=\"DejaVuSans-6c\" transform=\"scale(0.015625)\"/>\r\n       </defs>\r\n       <use xlink:href=\"#DejaVuSans-4e\"/>\r\n       <use x=\"74.804688\" xlink:href=\"#DejaVuSans-65\"/>\r\n       <use x=\"136.328125\" xlink:href=\"#DejaVuSans-75\"/>\r\n       <use x=\"199.707031\" xlink:href=\"#DejaVuSans-74\"/>\r\n       <use x=\"238.916016\" xlink:href=\"#DejaVuSans-72\"/>\r\n       <use x=\"280.029297\" xlink:href=\"#DejaVuSans-61\"/>\r\n       <use x=\"341.308594\" xlink:href=\"#DejaVuSans-6c\"/>\r\n      </g>\r\n     </g>\r\n    </g>\r\n    <g id=\"xtick_5\">\r\n     <g id=\"line2d_5\">\r\n      <g>\r\n       <use style=\"stroke:#000000;stroke-width:0.8;\" x=\"254.878571\" xlink:href=\"#m8b87dc0ae9\" y=\"224.64\"/>\r\n      </g>\r\n     </g>\r\n     <g id=\"text_5\">\r\n      <!-- Disgust -->\r\n      <g transform=\"translate(257.637946 269.143125)rotate(-90)scale(0.1 -0.1)\">\r\n       <defs>\r\n        <path d=\"M 1259 4147 \r\nL 1259 519 \r\nL 2022 519 \r\nQ 2988 519 3436 956 \r\nQ 3884 1394 3884 2338 \r\nQ 3884 3275 3436 3711 \r\nQ 2988 4147 2022 4147 \r\nL 1259 4147 \r\nz\r\nM 628 4666 \r\nL 1925 4666 \r\nQ 3281 4666 3915 4102 \r\nQ 4550 3538 4550 2338 \r\nQ 4550 1131 3912 565 \r\nQ 3275 0 1925 0 \r\nL 628 0 \r\nL 628 4666 \r\nz\r\n\" id=\"DejaVuSans-44\" transform=\"scale(0.015625)\"/>\r\n        <path d=\"M 603 3500 \r\nL 1178 3500 \r\nL 1178 0 \r\nL 603 0 \r\nL 603 3500 \r\nz\r\nM 603 4863 \r\nL 1178 4863 \r\nL 1178 4134 \r\nL 603 4134 \r\nL 603 4863 \r\nz\r\n\" id=\"DejaVuSans-69\" transform=\"scale(0.015625)\"/>\r\n       </defs>\r\n       <use xlink:href=\"#DejaVuSans-44\"/>\r\n       <use x=\"77.001953\" xlink:href=\"#DejaVuSans-69\"/>\r\n       <use x=\"104.785156\" xlink:href=\"#DejaVuSans-73\"/>\r\n       <use x=\"156.884766\" xlink:href=\"#DejaVuSans-67\"/>\r\n       <use x=\"220.361328\" xlink:href=\"#DejaVuSans-75\"/>\r\n       <use x=\"283.740234\" xlink:href=\"#DejaVuSans-73\"/>\r\n       <use x=\"335.839844\" xlink:href=\"#DejaVuSans-74\"/>\r\n      </g>\r\n     </g>\r\n    </g>\r\n    <g id=\"xtick_6\">\r\n     <g id=\"line2d_6\">\r\n      <g>\r\n       <use style=\"stroke:#000000;stroke-width:0.8;\" x=\"302.707143\" xlink:href=\"#m8b87dc0ae9\" y=\"224.64\"/>\r\n      </g>\r\n     </g>\r\n     <g id=\"text_6\">\r\n      <!-- Happiness -->\r\n      <g transform=\"translate(305.466518 283.672812)rotate(-90)scale(0.1 -0.1)\">\r\n       <defs>\r\n        <path d=\"M 628 4666 \r\nL 1259 4666 \r\nL 1259 2753 \r\nL 3553 2753 \r\nL 3553 4666 \r\nL 4184 4666 \r\nL 4184 0 \r\nL 3553 0 \r\nL 3553 2222 \r\nL 1259 2222 \r\nL 1259 0 \r\nL 628 0 \r\nL 628 4666 \r\nz\r\n\" id=\"DejaVuSans-48\" transform=\"scale(0.015625)\"/>\r\n        <path d=\"M 1159 525 \r\nL 1159 -1331 \r\nL 581 -1331 \r\nL 581 3500 \r\nL 1159 3500 \r\nL 1159 2969 \r\nQ 1341 3281 1617 3432 \r\nQ 1894 3584 2278 3584 \r\nQ 2916 3584 3314 3078 \r\nQ 3713 2572 3713 1747 \r\nQ 3713 922 3314 415 \r\nQ 2916 -91 2278 -91 \r\nQ 1894 -91 1617 61 \r\nQ 1341 213 1159 525 \r\nz\r\nM 3116 1747 \r\nQ 3116 2381 2855 2742 \r\nQ 2594 3103 2138 3103 \r\nQ 1681 3103 1420 2742 \r\nQ 1159 2381 1159 1747 \r\nQ 1159 1113 1420 752 \r\nQ 1681 391 2138 391 \r\nQ 2594 391 2855 752 \r\nQ 3116 1113 3116 1747 \r\nz\r\n\" id=\"DejaVuSans-70\" transform=\"scale(0.015625)\"/>\r\n       </defs>\r\n       <use xlink:href=\"#DejaVuSans-48\"/>\r\n       <use x=\"75.195312\" xlink:href=\"#DejaVuSans-61\"/>\r\n       <use x=\"136.474609\" xlink:href=\"#DejaVuSans-70\"/>\r\n       <use x=\"199.951172\" xlink:href=\"#DejaVuSans-70\"/>\r\n       <use x=\"263.427734\" xlink:href=\"#DejaVuSans-69\"/>\r\n       <use x=\"291.210938\" xlink:href=\"#DejaVuSans-6e\"/>\r\n       <use x=\"354.589844\" xlink:href=\"#DejaVuSans-65\"/>\r\n       <use x=\"416.113281\" xlink:href=\"#DejaVuSans-73\"/>\r\n       <use x=\"468.212891\" xlink:href=\"#DejaVuSans-73\"/>\r\n      </g>\r\n     </g>\r\n    </g>\r\n    <g id=\"xtick_7\">\r\n     <g id=\"line2d_7\">\r\n      <g>\r\n       <use style=\"stroke:#000000;stroke-width:0.8;\" x=\"350.535714\" xlink:href=\"#m8b87dc0ae9\" y=\"224.64\"/>\r\n      </g>\r\n     </g>\r\n     <g id=\"text_7\">\r\n      <!-- Surprise -->\r\n      <g transform=\"translate(353.295089 273.036875)rotate(-90)scale(0.1 -0.1)\">\r\n       <use xlink:href=\"#DejaVuSans-53\"/>\r\n       <use x=\"63.476562\" xlink:href=\"#DejaVuSans-75\"/>\r\n       <use x=\"126.855469\" xlink:href=\"#DejaVuSans-72\"/>\r\n       <use x=\"167.96875\" xlink:href=\"#DejaVuSans-70\"/>\r\n       <use x=\"231.445312\" xlink:href=\"#DejaVuSans-72\"/>\r\n       <use x=\"272.558594\" xlink:href=\"#DejaVuSans-69\"/>\r\n       <use x=\"300.341797\" xlink:href=\"#DejaVuSans-73\"/>\r\n       <use x=\"352.441406\" xlink:href=\"#DejaVuSans-65\"/>\r\n      </g>\r\n     </g>\r\n    </g>\r\n   </g>\r\n   <g id=\"matplotlib.axis_2\">\r\n    <g id=\"ytick_1\">\r\n     <g id=\"line2d_8\">\r\n      <defs>\r\n       <path d=\"M 0 0 \r\nL -3.5 0 \r\n\" id=\"m6b3ecb4fea\" style=\"stroke:#000000;stroke-width:0.8;\"/>\r\n      </defs>\r\n      <g>\r\n       <use style=\"stroke:#000000;stroke-width:0.8;\" x=\"39.65\" xlink:href=\"#m6b3ecb4fea\" y=\"224.64\"/>\r\n      </g>\r\n     </g>\r\n     <g id=\"text_8\">\r\n      <!-- 0 -->\r\n      <g transform=\"translate(26.2875 228.439219)scale(0.1 -0.1)\">\r\n       <defs>\r\n        <path d=\"M 2034 4250 \r\nQ 1547 4250 1301 3770 \r\nQ 1056 3291 1056 2328 \r\nQ 1056 1369 1301 889 \r\nQ 1547 409 2034 409 \r\nQ 2525 409 2770 889 \r\nQ 3016 1369 3016 2328 \r\nQ 3016 3291 2770 3770 \r\nQ 2525 4250 2034 4250 \r\nz\r\nM 2034 4750 \r\nQ 2819 4750 3233 4129 \r\nQ 3647 3509 3647 2328 \r\nQ 3647 1150 3233 529 \r\nQ 2819 -91 2034 -91 \r\nQ 1250 -91 836 529 \r\nQ 422 1150 422 2328 \r\nQ 422 3509 836 4129 \r\nQ 1250 4750 2034 4750 \r\nz\r\n\" id=\"DejaVuSans-30\" transform=\"scale(0.015625)\"/>\r\n       </defs>\r\n       <use xlink:href=\"#DejaVuSans-30\"/>\r\n      </g>\r\n     </g>\r\n    </g>\r\n    <g id=\"ytick_2\">\r\n     <g id=\"line2d_9\">\r\n      <g>\r\n       <use style=\"stroke:#000000;stroke-width:0.8;\" x=\"39.65\" xlink:href=\"#m6b3ecb4fea\" y=\"190.758175\"/>\r\n      </g>\r\n     </g>\r\n     <g id=\"text_9\">\r\n      <!-- 1000 -->\r\n      <g transform=\"translate(7.2 194.557394)scale(0.1 -0.1)\">\r\n       <defs>\r\n        <path d=\"M 794 531 \r\nL 1825 531 \r\nL 1825 4091 \r\nL 703 3866 \r\nL 703 4441 \r\nL 1819 4666 \r\nL 2450 4666 \r\nL 2450 531 \r\nL 3481 531 \r\nL 3481 0 \r\nL 794 0 \r\nL 794 531 \r\nz\r\n\" id=\"DejaVuSans-31\" transform=\"scale(0.015625)\"/>\r\n       </defs>\r\n       <use xlink:href=\"#DejaVuSans-31\"/>\r\n       <use x=\"63.623047\" xlink:href=\"#DejaVuSans-30\"/>\r\n       <use x=\"127.246094\" xlink:href=\"#DejaVuSans-30\"/>\r\n       <use x=\"190.869141\" xlink:href=\"#DejaVuSans-30\"/>\r\n      </g>\r\n     </g>\r\n    </g>\r\n    <g id=\"ytick_3\">\r\n     <g id=\"line2d_10\">\r\n      <g>\r\n       <use style=\"stroke:#000000;stroke-width:0.8;\" x=\"39.65\" xlink:href=\"#m6b3ecb4fea\" y=\"156.87635\"/>\r\n      </g>\r\n     </g>\r\n     <g id=\"text_10\">\r\n      <!-- 2000 -->\r\n      <g transform=\"translate(7.2 160.675569)scale(0.1 -0.1)\">\r\n       <defs>\r\n        <path d=\"M 1228 531 \r\nL 3431 531 \r\nL 3431 0 \r\nL 469 0 \r\nL 469 531 \r\nQ 828 903 1448 1529 \r\nQ 2069 2156 2228 2338 \r\nQ 2531 2678 2651 2914 \r\nQ 2772 3150 2772 3378 \r\nQ 2772 3750 2511 3984 \r\nQ 2250 4219 1831 4219 \r\nQ 1534 4219 1204 4116 \r\nQ 875 4013 500 3803 \r\nL 500 4441 \r\nQ 881 4594 1212 4672 \r\nQ 1544 4750 1819 4750 \r\nQ 2544 4750 2975 4387 \r\nQ 3406 4025 3406 3419 \r\nQ 3406 3131 3298 2873 \r\nQ 3191 2616 2906 2266 \r\nQ 2828 2175 2409 1742 \r\nQ 1991 1309 1228 531 \r\nz\r\n\" id=\"DejaVuSans-32\" transform=\"scale(0.015625)\"/>\r\n       </defs>\r\n       <use xlink:href=\"#DejaVuSans-32\"/>\r\n       <use x=\"63.623047\" xlink:href=\"#DejaVuSans-30\"/>\r\n       <use x=\"127.246094\" xlink:href=\"#DejaVuSans-30\"/>\r\n       <use x=\"190.869141\" xlink:href=\"#DejaVuSans-30\"/>\r\n      </g>\r\n     </g>\r\n    </g>\r\n    <g id=\"ytick_4\">\r\n     <g id=\"line2d_11\">\r\n      <g>\r\n       <use style=\"stroke:#000000;stroke-width:0.8;\" x=\"39.65\" xlink:href=\"#m6b3ecb4fea\" y=\"122.994525\"/>\r\n      </g>\r\n     </g>\r\n     <g id=\"text_11\">\r\n      <!-- 3000 -->\r\n      <g transform=\"translate(7.2 126.793744)scale(0.1 -0.1)\">\r\n       <defs>\r\n        <path d=\"M 2597 2516 \r\nQ 3050 2419 3304 2112 \r\nQ 3559 1806 3559 1356 \r\nQ 3559 666 3084 287 \r\nQ 2609 -91 1734 -91 \r\nQ 1441 -91 1130 -33 \r\nQ 819 25 488 141 \r\nL 488 750 \r\nQ 750 597 1062 519 \r\nQ 1375 441 1716 441 \r\nQ 2309 441 2620 675 \r\nQ 2931 909 2931 1356 \r\nQ 2931 1769 2642 2001 \r\nQ 2353 2234 1838 2234 \r\nL 1294 2234 \r\nL 1294 2753 \r\nL 1863 2753 \r\nQ 2328 2753 2575 2939 \r\nQ 2822 3125 2822 3475 \r\nQ 2822 3834 2567 4026 \r\nQ 2313 4219 1838 4219 \r\nQ 1578 4219 1281 4162 \r\nQ 984 4106 628 3988 \r\nL 628 4550 \r\nQ 988 4650 1302 4700 \r\nQ 1616 4750 1894 4750 \r\nQ 2613 4750 3031 4423 \r\nQ 3450 4097 3450 3541 \r\nQ 3450 3153 3228 2886 \r\nQ 3006 2619 2597 2516 \r\nz\r\n\" id=\"DejaVuSans-33\" transform=\"scale(0.015625)\"/>\r\n       </defs>\r\n       <use xlink:href=\"#DejaVuSans-33\"/>\r\n       <use x=\"63.623047\" xlink:href=\"#DejaVuSans-30\"/>\r\n       <use x=\"127.246094\" xlink:href=\"#DejaVuSans-30\"/>\r\n       <use x=\"190.869141\" xlink:href=\"#DejaVuSans-30\"/>\r\n      </g>\r\n     </g>\r\n    </g>\r\n    <g id=\"ytick_5\">\r\n     <g id=\"line2d_12\">\r\n      <g>\r\n       <use style=\"stroke:#000000;stroke-width:0.8;\" x=\"39.65\" xlink:href=\"#m6b3ecb4fea\" y=\"89.1127\"/>\r\n      </g>\r\n     </g>\r\n     <g id=\"text_12\">\r\n      <!-- 4000 -->\r\n      <g transform=\"translate(7.2 92.911919)scale(0.1 -0.1)\">\r\n       <defs>\r\n        <path d=\"M 2419 4116 \r\nL 825 1625 \r\nL 2419 1625 \r\nL 2419 4116 \r\nz\r\nM 2253 4666 \r\nL 3047 4666 \r\nL 3047 1625 \r\nL 3713 1625 \r\nL 3713 1100 \r\nL 3047 1100 \r\nL 3047 0 \r\nL 2419 0 \r\nL 2419 1100 \r\nL 313 1100 \r\nL 313 1709 \r\nL 2253 4666 \r\nz\r\n\" id=\"DejaVuSans-34\" transform=\"scale(0.015625)\"/>\r\n       </defs>\r\n       <use xlink:href=\"#DejaVuSans-34\"/>\r\n       <use x=\"63.623047\" xlink:href=\"#DejaVuSans-30\"/>\r\n       <use x=\"127.246094\" xlink:href=\"#DejaVuSans-30\"/>\r\n       <use x=\"190.869141\" xlink:href=\"#DejaVuSans-30\"/>\r\n      </g>\r\n     </g>\r\n    </g>\r\n    <g id=\"ytick_6\">\r\n     <g id=\"line2d_13\">\r\n      <g>\r\n       <use style=\"stroke:#000000;stroke-width:0.8;\" x=\"39.65\" xlink:href=\"#m6b3ecb4fea\" y=\"55.230875\"/>\r\n      </g>\r\n     </g>\r\n     <g id=\"text_13\">\r\n      <!-- 5000 -->\r\n      <g transform=\"translate(7.2 59.030094)scale(0.1 -0.1)\">\r\n       <defs>\r\n        <path d=\"M 691 4666 \r\nL 3169 4666 \r\nL 3169 4134 \r\nL 1269 4134 \r\nL 1269 2991 \r\nQ 1406 3038 1543 3061 \r\nQ 1681 3084 1819 3084 \r\nQ 2600 3084 3056 2656 \r\nQ 3513 2228 3513 1497 \r\nQ 3513 744 3044 326 \r\nQ 2575 -91 1722 -91 \r\nQ 1428 -91 1123 -41 \r\nQ 819 9 494 109 \r\nL 494 744 \r\nQ 775 591 1075 516 \r\nQ 1375 441 1709 441 \r\nQ 2250 441 2565 725 \r\nQ 2881 1009 2881 1497 \r\nQ 2881 1984 2565 2268 \r\nQ 2250 2553 1709 2553 \r\nQ 1456 2553 1204 2497 \r\nQ 953 2441 691 2322 \r\nL 691 4666 \r\nz\r\n\" id=\"DejaVuSans-35\" transform=\"scale(0.015625)\"/>\r\n       </defs>\r\n       <use xlink:href=\"#DejaVuSans-35\"/>\r\n       <use x=\"63.623047\" xlink:href=\"#DejaVuSans-30\"/>\r\n       <use x=\"127.246094\" xlink:href=\"#DejaVuSans-30\"/>\r\n       <use x=\"190.869141\" xlink:href=\"#DejaVuSans-30\"/>\r\n      </g>\r\n     </g>\r\n    </g>\r\n    <g id=\"ytick_7\">\r\n     <g id=\"line2d_14\">\r\n      <g>\r\n       <use style=\"stroke:#000000;stroke-width:0.8;\" x=\"39.65\" xlink:href=\"#m6b3ecb4fea\" y=\"21.34905\"/>\r\n      </g>\r\n     </g>\r\n     <g id=\"text_14\">\r\n      <!-- 6000 -->\r\n      <g transform=\"translate(7.2 25.148269)scale(0.1 -0.1)\">\r\n       <defs>\r\n        <path d=\"M 2113 2584 \r\nQ 1688 2584 1439 2293 \r\nQ 1191 2003 1191 1497 \r\nQ 1191 994 1439 701 \r\nQ 1688 409 2113 409 \r\nQ 2538 409 2786 701 \r\nQ 3034 994 3034 1497 \r\nQ 3034 2003 2786 2293 \r\nQ 2538 2584 2113 2584 \r\nz\r\nM 3366 4563 \r\nL 3366 3988 \r\nQ 3128 4100 2886 4159 \r\nQ 2644 4219 2406 4219 \r\nQ 1781 4219 1451 3797 \r\nQ 1122 3375 1075 2522 \r\nQ 1259 2794 1537 2939 \r\nQ 1816 3084 2150 3084 \r\nQ 2853 3084 3261 2657 \r\nQ 3669 2231 3669 1497 \r\nQ 3669 778 3244 343 \r\nQ 2819 -91 2113 -91 \r\nQ 1303 -91 875 529 \r\nQ 447 1150 447 2328 \r\nQ 447 3434 972 4092 \r\nQ 1497 4750 2381 4750 \r\nQ 2619 4750 2861 4703 \r\nQ 3103 4656 3366 4563 \r\nz\r\n\" id=\"DejaVuSans-36\" transform=\"scale(0.015625)\"/>\r\n       </defs>\r\n       <use xlink:href=\"#DejaVuSans-36\"/>\r\n       <use x=\"63.623047\" xlink:href=\"#DejaVuSans-30\"/>\r\n       <use x=\"127.246094\" xlink:href=\"#DejaVuSans-30\"/>\r\n       <use x=\"190.869141\" xlink:href=\"#DejaVuSans-30\"/>\r\n      </g>\r\n     </g>\r\n    </g>\r\n   </g>\r\n   <g id=\"patch_10\">\r\n    <path d=\"M 39.65 224.64 \r\nL 39.65 7.2 \r\n\" style=\"fill:none;stroke:#000000;stroke-linecap:square;stroke-linejoin:miter;stroke-width:0.8;\"/>\r\n   </g>\r\n   <g id=\"patch_11\">\r\n    <path d=\"M 374.45 224.64 \r\nL 374.45 7.2 \r\n\" style=\"fill:none;stroke:#000000;stroke-linecap:square;stroke-linejoin:miter;stroke-width:0.8;\"/>\r\n   </g>\r\n   <g id=\"patch_12\">\r\n    <path d=\"M 39.65 224.64 \r\nL 374.45 224.64 \r\n\" style=\"fill:none;stroke:#000000;stroke-linecap:square;stroke-linejoin:miter;stroke-width:0.8;\"/>\r\n   </g>\r\n   <g id=\"patch_13\">\r\n    <path d=\"M 39.65 7.2 \r\nL 374.45 7.2 \r\n\" style=\"fill:none;stroke:#000000;stroke-linecap:square;stroke-linejoin:miter;stroke-width:0.8;\"/>\r\n   </g>\r\n  </g>\r\n </g>\r\n <defs>\r\n  <clipPath id=\"p8a389cc862\">\r\n   <rect height=\"217.44\" width=\"334.8\" x=\"39.65\" y=\"7.2\"/>\r\n  </clipPath>\r\n </defs>\r\n</svg>\r\n",
      "image/png": "[encoded data removed]"
     },
     "metadata": {
      "needs_background": "light"
     }
    }
   ],
   "source": [
    "df5_1.emotion.value_counts().plot.bar()"
   ]
  },
  {
   "cell_type": "code",
   "execution_count": 57,
   "metadata": {},
   "outputs": [
    {
     "output_type": "execute_result",
     "data": {
      "text/plain": [
       "Sadness      6112\n",
       "Angry        2318\n",
       "Fear          829\n",
       "Neutral       414\n",
       "Disgust       261\n",
       "Happiness      66\n",
       "Surprise       11\n",
       "Name: emotion, dtype: int64"
      ]
     },
     "metadata": {},
     "execution_count": 57
    }
   ],
   "source": [
    "# 데이터 불균형 존재 놀람 행복이 거의 없음\n",
    "df5_1.emotion.value_counts()"
   ]
  },
  {
   "cell_type": "code",
   "execution_count": 58,
   "metadata": {},
   "outputs": [
    {
     "output_type": "execute_result",
     "data": {
      "text/plain": [
       "                                                    발화문    emotion\n",
       "4516                           5일 이상은 드시는 것 같애. 정말 답답해!      Angry\n",
       "2522  다른 사람들에 비해 업무량이 너무 많아서 나도 지치고 힘들어서 직장을 옮기고 싶어 ...      Angry\n",
       "528               진짜 기절하는 줄 알았다니까! 대학교 기숙사도 아니고 무슨 일이야?      Angry\n",
       "520                               화장실을 누가 토 해 놓고 안 치웠어.    Disgust\n",
       "4896            지금 당장 가서 관리하시는 분한테 화장실 좀 치워달라고 말씀드려야겠어.    Disgust\n",
       "5658  아침에 일어나서 씻으러 화장실에 갔는데 화장실 바닥이랑 세면대에 토가 있어서 깜짝 ...    Disgust\n",
       "4546                         먹을 게 어딨어? 냉장고를 먹던 반찬 조금?\\t    Sadness\n",
       "449                       먹을 거 없어. 반찬도 먹던 거 조금밖에 안남았는데.    Sadness\n",
       "5707                         산책 좋지. 바람이나 쐬러 좀 나갔다 와야겠다.    Sadness\n",
       "7548  갑자기 일어난 지진 때문에 엄청 놀라고 무서워서 어제 저녁에 잠도 못 잤어. 아직도...       Fear\n",
       "5475  친구도 지금 상황에 대해서 잘 알고 있으니까 내가 말하는 것을 충분히 이해할 거야....       Fear\n",
       "3601  강남에서 만났다가 괜히 병에 감염되면 안되니까 친구한테 전화해서 약속장소를 변경할지...       Fear\n",
       "9940                             내가 한 번 총대매고 이야기 꺼내 볼게.    Neutral\n",
       "9929        지금 친구한테 전화해서 약속 장소를 변경할지 약속을 미룰지 이야기 해봐야겠어.    Neutral\n",
       "9958                                    그래 그것도 좋은 생각이야.    Neutral\n",
       "9913                           그래. 고마워. 한번 해보고 이야기 해줄게.  Happiness\n",
       "9975  응 그래야겠다. 지금 바로 연락해 봐야겠다 너 종훈이 되게 큰 도움이 됐어 고마워 ...  Happiness\n",
       "1299                       얘기를 들어줄 사람이 있어서 너무 행복해. 고마워.  Happiness\n",
       "6355                        친구랑 저녁을 먹는데 갑자기 지진이 일어났어.\\t   Surprise\n",
       "1887                         응. 엄청 많이 놀랐지. 아침부터 무슨 일이람.   Surprise\n",
       "8792                             모두 무사하긴 한데. 다들 깜짝 놀랐어.   Surprise"
      ],
      "text/html": "<div>\n<style scoped>\n    .dataframe tbody tr th:only-of-type {\n        vertical-align: middle;\n    }\n\n    .dataframe tbody tr th {\n        vertical-align: top;\n    }\n\n    .dataframe thead th {\n        text-align: right;\n    }\n</style>\n<table border=\"1\" class=\"dataframe\">\n  <thead>\n    <tr style=\"text-align: right;\">\n      <th></th>\n      <th>발화문</th>\n      <th>emotion</th>\n    </tr>\n  </thead>\n  <tbody>\n    <tr>\n      <th>4516</th>\n      <td>5일 이상은 드시는 것 같애. 정말 답답해!</td>\n      <td>Angry</td>\n    </tr>\n    <tr>\n      <th>2522</th>\n      <td>다른 사람들에 비해 업무량이 너무 많아서 나도 지치고 힘들어서 직장을 옮기고 싶어 ...</td>\n      <td>Angry</td>\n    </tr>\n    <tr>\n      <th>528</th>\n      <td>진짜 기절하는 줄 알았다니까! 대학교 기숙사도 아니고 무슨 일이야?</td>\n      <td>Angry</td>\n    </tr>\n    <tr>\n      <th>520</th>\n      <td>화장실을 누가 토 해 놓고 안 치웠어.</td>\n      <td>Disgust</td>\n    </tr>\n    <tr>\n      <th>4896</th>\n      <td>지금 당장 가서 관리하시는 분한테 화장실 좀 치워달라고 말씀드려야겠어.</td>\n      <td>Disgust</td>\n    </tr>\n    <tr>\n      <th>5658</th>\n      <td>아침에 일어나서 씻으러 화장실에 갔는데 화장실 바닥이랑 세면대에 토가 있어서 깜짝 ...</td>\n      <td>Disgust</td>\n    </tr>\n    <tr>\n      <th>4546</th>\n      <td>먹을 게 어딨어? 냉장고를 먹던 반찬 조금?\\t</td>\n      <td>Sadness</td>\n    </tr>\n    <tr>\n      <th>449</th>\n      <td>먹을 거 없어. 반찬도 먹던 거 조금밖에 안남았는데.</td>\n      <td>Sadness</td>\n    </tr>\n    <tr>\n      <th>5707</th>\n      <td>산책 좋지. 바람이나 쐬러 좀 나갔다 와야겠다.</td>\n      <td>Sadness</td>\n    </tr>\n    <tr>\n      <th>7548</th>\n      <td>갑자기 일어난 지진 때문에 엄청 놀라고 무서워서 어제 저녁에 잠도 못 잤어. 아직도...</td>\n      <td>Fear</td>\n    </tr>\n    <tr>\n      <th>5475</th>\n      <td>친구도 지금 상황에 대해서 잘 알고 있으니까 내가 말하는 것을 충분히 이해할 거야....</td>\n      <td>Fear</td>\n    </tr>\n    <tr>\n      <th>3601</th>\n      <td>강남에서 만났다가 괜히 병에 감염되면 안되니까 친구한테 전화해서 약속장소를 변경할지...</td>\n      <td>Fear</td>\n    </tr>\n    <tr>\n      <th>9940</th>\n      <td>내가 한 번 총대매고 이야기 꺼내 볼게.</td>\n      <td>Neutral</td>\n    </tr>\n    <tr>\n      <th>9929</th>\n      <td>지금 친구한테 전화해서 약속 장소를 변경할지 약속을 미룰지 이야기 해봐야겠어.</td>\n      <td>Neutral</td>\n    </tr>\n    <tr>\n      <th>9958</th>\n      <td>그래 그것도 좋은 생각이야.</td>\n      <td>Neutral</td>\n    </tr>\n    <tr>\n      <th>9913</th>\n      <td>그래. 고마워. 한번 해보고 이야기 해줄게.</td>\n      <td>Happiness</td>\n    </tr>\n    <tr>\n      <th>9975</th>\n      <td>응 그래야겠다. 지금 바로 연락해 봐야겠다 너 종훈이 되게 큰 도움이 됐어 고마워 ...</td>\n      <td>Happiness</td>\n    </tr>\n    <tr>\n      <th>1299</th>\n      <td>얘기를 들어줄 사람이 있어서 너무 행복해. 고마워.</td>\n      <td>Happiness</td>\n    </tr>\n    <tr>\n      <th>6355</th>\n      <td>친구랑 저녁을 먹는데 갑자기 지진이 일어났어.\\t</td>\n      <td>Surprise</td>\n    </tr>\n    <tr>\n      <th>1887</th>\n      <td>응. 엄청 많이 놀랐지. 아침부터 무슨 일이람.</td>\n      <td>Surprise</td>\n    </tr>\n    <tr>\n      <th>8792</th>\n      <td>모두 무사하긴 한데. 다들 깜짝 놀랐어.</td>\n      <td>Surprise</td>\n    </tr>\n  </tbody>\n</table>\n</div>"
     },
     "metadata": {},
     "execution_count": 58
    }
   ],
   "source": [
    "# 각 감정에서 3개의 sample 추출 결과\n",
    "pd.concat([df5_1[df5_1.emotion == emotion_].sample(3, random_state = 42) for emotion_ in df5_1.emotion.unique()])"
   ]
  },
  {
   "cell_type": "code",
   "execution_count": 59,
   "metadata": {},
   "outputs": [
    {
     "output_type": "execute_result",
     "data": {
      "text/plain": [
       "count    10011.000000\n",
       "mean         8.515333\n",
       "std          4.248175\n",
       "min          1.000000\n",
       "25%          5.000000\n",
       "50%          8.000000\n",
       "75%         10.000000\n",
       "max         38.000000\n",
       "dtype: float64"
      ]
     },
     "metadata": {},
     "execution_count": 59
    }
   ],
   "source": [
    "# 간단히 띄어쓰기를 기준으로 토큰화를 진행 하였을때 최대 38 최소 1, 평균 8 의 분포를 보임.\n",
    "pd.Series([len(i) for i in df5_1['발화문'].str.split(' ')]).describe()"
   ]
  },
  {
   "cell_type": "code",
   "execution_count": 60,
   "metadata": {},
   "outputs": [
    {
     "output_type": "execute_result",
     "data": {
      "text/plain": [
       "wav_id     0\n",
       "발화문        0\n",
       "상황         0\n",
       "1번 감정      0\n",
       "1번 감정세기    0\n",
       "2번 감정      0\n",
       "2번 감정세기    0\n",
       "3번 감정      0\n",
       "3번 감정세기    0\n",
       "4번 감정      0\n",
       "4번감정세기     0\n",
       "5번 감정      0\n",
       "5번 감정세기    0\n",
       "나이         0\n",
       "성별         0\n",
       "dtype: int64"
      ]
     },
     "metadata": {},
     "execution_count": 60
    }
   ],
   "source": [
    "# null 값 확인\n",
    "df5.isnull().sum()"
   ]
  },
  {
   "cell_type": "code",
   "execution_count": null,
   "metadata": {},
   "outputs": [],
   "source": []
  }
 ]
}